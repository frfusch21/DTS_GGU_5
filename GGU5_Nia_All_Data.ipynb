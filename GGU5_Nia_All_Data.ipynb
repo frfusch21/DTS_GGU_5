{
  "nbformat": 4,
  "nbformat_minor": 0,
  "metadata": {
    "colab": {
      "name": "GGU5_Nia_All_Data.ipynb",
      "provenance": [],
      "mount_file_id": "17nwJ4lFD0a7nrA4Yn-r7j5d2_nyhmmoV",
      "authorship_tag": "ABX9TyMC9oAmSxwQiQQkTjxabAcP",
      "include_colab_link": true
    },
    "kernelspec": {
      "name": "python3",
      "display_name": "Python 3"
    },
    "language_info": {
      "name": "python"
    }
  },
  "cells": [
    {
      "cell_type": "markdown",
      "metadata": {
        "id": "view-in-github",
        "colab_type": "text"
      },
      "source": [
        "<a href=\"https://colab.research.google.com/github/frfusch21/DTS_GGU_5/blob/Hartantya-AT/GGU5_Nia_All_Data.ipynb\" target=\"_parent\"><img src=\"https://colab.research.google.com/assets/colab-badge.svg\" alt=\"Open In Colab\"/></a>"
      ]
    },
    {
      "cell_type": "markdown",
      "source": [
        "# **Import Library**"
      ],
      "metadata": {
        "id": "hyR1u1meQoZe"
      }
    },
    {
      "cell_type": "code",
      "source": [
        "import pandas as pd\n",
        "import matplotlib.pyplot as plt\n",
        "import seaborn as sns\n",
        "import numpy as np\n",
        "from scipy import stats\n",
        "from sklearn import preprocessing\n",
        "from sklearn.cluster import KMeans\n",
        "from sklearn.model_selection import train_test_split\n",
        "from sklearn.preprocessing import StandardScaler\n",
        "\n",
        "import tensorflow as tf\n",
        "\n",
        "from tensorflow import keras\n",
        "from tensorflow.keras import layers\n",
        "from tensorflow.keras import Sequential\n",
        "from tensorflow.keras import optimizers"
      ],
      "metadata": {
        "id": "ktLCrnOkbVXI"
      },
      "execution_count": 1,
      "outputs": []
    },
    {
      "cell_type": "code",
      "source": [
        "from google.colab import drive\n",
        "drive.mount('/content/drive')"
      ],
      "metadata": {
        "id": "7ATe5DwFPk8T",
        "colab": {
          "base_uri": "https://localhost:8080/"
        },
        "outputId": "c881ed9f-f76c-4d1c-9d33-209588f4a30b"
      },
      "execution_count": 2,
      "outputs": [
        {
          "output_type": "stream",
          "name": "stdout",
          "text": [
            "Mounted at /content/drive\n"
          ]
        }
      ]
    },
    {
      "cell_type": "markdown",
      "source": [
        "## **Import Data**"
      ],
      "metadata": {
        "id": "E_Im6xwuUWMu"
      }
    },
    {
      "cell_type": "code",
      "execution_count": 3,
      "metadata": {
        "colab": {
          "base_uri": "https://localhost:8080/",
          "height": 337
        },
        "id": "wEjxuRj7a3Gl",
        "outputId": "51e62646-5e6e-4365-9d4f-bcf507db9d10"
      },
      "outputs": [
        {
          "output_type": "execute_result",
          "data": {
            "text/plain": [
              "   id              vendor_id      pickup_datetime     dropoff_datetime  \\\n",
              "0   1                  Quito  2016-09-17 09:32:06  2016-09-17 10:05:51   \n",
              "1   2  Guadalajara Easy Taxi  2016-09-17 09:59:54  2016-09-17 10:06:23   \n",
              "2   3              Monterrey  2016-09-17 10:06:52  2016-09-17 10:09:40   \n",
              "3   4              Monterrey  2016-09-17 09:45:56  2016-09-17 10:13:34   \n",
              "4   5              Monterrey  2016-09-17 10:12:00  2016-09-17 10:16:31   \n",
              "\n",
              "   pickup_longitude  pickup_latitude  dropoff_longitude  dropoff_latitude  \\\n",
              "0          0.632055         0.528947         -78.549447         -0.361363   \n",
              "1          0.327804         0.391950        -103.366600         20.686971   \n",
              "2          0.140910         0.563280        -100.165737         25.619387   \n",
              "3          0.207565         0.590416        -100.491721         25.676294   \n",
              "4          0.128881         0.580419        -100.104166         25.643862   \n",
              "\n",
              "  store_and_fwd_flag  trip_duration  dist_meters  wait_sec  \n",
              "0                  N           2025        24228       346  \n",
              "1                  N            389         2962      3675  \n",
              "2                  N            168          951         0  \n",
              "3                  N           1659        11082       358  \n",
              "4                  N            272         2021      3614  "
            ],
            "text/html": [
              "\n",
              "  <div id=\"df-da267303-87f7-412b-aaf1-9a50e9a1050e\">\n",
              "    <div class=\"colab-df-container\">\n",
              "      <div>\n",
              "<style scoped>\n",
              "    .dataframe tbody tr th:only-of-type {\n",
              "        vertical-align: middle;\n",
              "    }\n",
              "\n",
              "    .dataframe tbody tr th {\n",
              "        vertical-align: top;\n",
              "    }\n",
              "\n",
              "    .dataframe thead th {\n",
              "        text-align: right;\n",
              "    }\n",
              "</style>\n",
              "<table border=\"1\" class=\"dataframe\">\n",
              "  <thead>\n",
              "    <tr style=\"text-align: right;\">\n",
              "      <th></th>\n",
              "      <th>id</th>\n",
              "      <th>vendor_id</th>\n",
              "      <th>pickup_datetime</th>\n",
              "      <th>dropoff_datetime</th>\n",
              "      <th>pickup_longitude</th>\n",
              "      <th>pickup_latitude</th>\n",
              "      <th>dropoff_longitude</th>\n",
              "      <th>dropoff_latitude</th>\n",
              "      <th>store_and_fwd_flag</th>\n",
              "      <th>trip_duration</th>\n",
              "      <th>dist_meters</th>\n",
              "      <th>wait_sec</th>\n",
              "    </tr>\n",
              "  </thead>\n",
              "  <tbody>\n",
              "    <tr>\n",
              "      <th>0</th>\n",
              "      <td>1</td>\n",
              "      <td>Quito</td>\n",
              "      <td>2016-09-17 09:32:06</td>\n",
              "      <td>2016-09-17 10:05:51</td>\n",
              "      <td>0.632055</td>\n",
              "      <td>0.528947</td>\n",
              "      <td>-78.549447</td>\n",
              "      <td>-0.361363</td>\n",
              "      <td>N</td>\n",
              "      <td>2025</td>\n",
              "      <td>24228</td>\n",
              "      <td>346</td>\n",
              "    </tr>\n",
              "    <tr>\n",
              "      <th>1</th>\n",
              "      <td>2</td>\n",
              "      <td>Guadalajara Easy Taxi</td>\n",
              "      <td>2016-09-17 09:59:54</td>\n",
              "      <td>2016-09-17 10:06:23</td>\n",
              "      <td>0.327804</td>\n",
              "      <td>0.391950</td>\n",
              "      <td>-103.366600</td>\n",
              "      <td>20.686971</td>\n",
              "      <td>N</td>\n",
              "      <td>389</td>\n",
              "      <td>2962</td>\n",
              "      <td>3675</td>\n",
              "    </tr>\n",
              "    <tr>\n",
              "      <th>2</th>\n",
              "      <td>3</td>\n",
              "      <td>Monterrey</td>\n",
              "      <td>2016-09-17 10:06:52</td>\n",
              "      <td>2016-09-17 10:09:40</td>\n",
              "      <td>0.140910</td>\n",
              "      <td>0.563280</td>\n",
              "      <td>-100.165737</td>\n",
              "      <td>25.619387</td>\n",
              "      <td>N</td>\n",
              "      <td>168</td>\n",
              "      <td>951</td>\n",
              "      <td>0</td>\n",
              "    </tr>\n",
              "    <tr>\n",
              "      <th>3</th>\n",
              "      <td>4</td>\n",
              "      <td>Monterrey</td>\n",
              "      <td>2016-09-17 09:45:56</td>\n",
              "      <td>2016-09-17 10:13:34</td>\n",
              "      <td>0.207565</td>\n",
              "      <td>0.590416</td>\n",
              "      <td>-100.491721</td>\n",
              "      <td>25.676294</td>\n",
              "      <td>N</td>\n",
              "      <td>1659</td>\n",
              "      <td>11082</td>\n",
              "      <td>358</td>\n",
              "    </tr>\n",
              "    <tr>\n",
              "      <th>4</th>\n",
              "      <td>5</td>\n",
              "      <td>Monterrey</td>\n",
              "      <td>2016-09-17 10:12:00</td>\n",
              "      <td>2016-09-17 10:16:31</td>\n",
              "      <td>0.128881</td>\n",
              "      <td>0.580419</td>\n",
              "      <td>-100.104166</td>\n",
              "      <td>25.643862</td>\n",
              "      <td>N</td>\n",
              "      <td>272</td>\n",
              "      <td>2021</td>\n",
              "      <td>3614</td>\n",
              "    </tr>\n",
              "  </tbody>\n",
              "</table>\n",
              "</div>\n",
              "      <button class=\"colab-df-convert\" onclick=\"convertToInteractive('df-da267303-87f7-412b-aaf1-9a50e9a1050e')\"\n",
              "              title=\"Convert this dataframe to an interactive table.\"\n",
              "              style=\"display:none;\">\n",
              "        \n",
              "  <svg xmlns=\"http://www.w3.org/2000/svg\" height=\"24px\"viewBox=\"0 0 24 24\"\n",
              "       width=\"24px\">\n",
              "    <path d=\"M0 0h24v24H0V0z\" fill=\"none\"/>\n",
              "    <path d=\"M18.56 5.44l.94 2.06.94-2.06 2.06-.94-2.06-.94-.94-2.06-.94 2.06-2.06.94zm-11 1L8.5 8.5l.94-2.06 2.06-.94-2.06-.94L8.5 2.5l-.94 2.06-2.06.94zm10 10l.94 2.06.94-2.06 2.06-.94-2.06-.94-.94-2.06-.94 2.06-2.06.94z\"/><path d=\"M17.41 7.96l-1.37-1.37c-.4-.4-.92-.59-1.43-.59-.52 0-1.04.2-1.43.59L10.3 9.45l-7.72 7.72c-.78.78-.78 2.05 0 2.83L4 21.41c.39.39.9.59 1.41.59.51 0 1.02-.2 1.41-.59l7.78-7.78 2.81-2.81c.8-.78.8-2.07 0-2.86zM5.41 20L4 18.59l7.72-7.72 1.47 1.35L5.41 20z\"/>\n",
              "  </svg>\n",
              "      </button>\n",
              "      \n",
              "  <style>\n",
              "    .colab-df-container {\n",
              "      display:flex;\n",
              "      flex-wrap:wrap;\n",
              "      gap: 12px;\n",
              "    }\n",
              "\n",
              "    .colab-df-convert {\n",
              "      background-color: #E8F0FE;\n",
              "      border: none;\n",
              "      border-radius: 50%;\n",
              "      cursor: pointer;\n",
              "      display: none;\n",
              "      fill: #1967D2;\n",
              "      height: 32px;\n",
              "      padding: 0 0 0 0;\n",
              "      width: 32px;\n",
              "    }\n",
              "\n",
              "    .colab-df-convert:hover {\n",
              "      background-color: #E2EBFA;\n",
              "      box-shadow: 0px 1px 2px rgba(60, 64, 67, 0.3), 0px 1px 3px 1px rgba(60, 64, 67, 0.15);\n",
              "      fill: #174EA6;\n",
              "    }\n",
              "\n",
              "    [theme=dark] .colab-df-convert {\n",
              "      background-color: #3B4455;\n",
              "      fill: #D2E3FC;\n",
              "    }\n",
              "\n",
              "    [theme=dark] .colab-df-convert:hover {\n",
              "      background-color: #434B5C;\n",
              "      box-shadow: 0px 1px 3px 1px rgba(0, 0, 0, 0.15);\n",
              "      filter: drop-shadow(0px 1px 2px rgba(0, 0, 0, 0.3));\n",
              "      fill: #FFFFFF;\n",
              "    }\n",
              "  </style>\n",
              "\n",
              "      <script>\n",
              "        const buttonEl =\n",
              "          document.querySelector('#df-da267303-87f7-412b-aaf1-9a50e9a1050e button.colab-df-convert');\n",
              "        buttonEl.style.display =\n",
              "          google.colab.kernel.accessAllowed ? 'block' : 'none';\n",
              "\n",
              "        async function convertToInteractive(key) {\n",
              "          const element = document.querySelector('#df-da267303-87f7-412b-aaf1-9a50e9a1050e');\n",
              "          const dataTable =\n",
              "            await google.colab.kernel.invokeFunction('convertToInteractive',\n",
              "                                                     [key], {});\n",
              "          if (!dataTable) return;\n",
              "\n",
              "          const docLinkHtml = 'Like what you see? Visit the ' +\n",
              "            '<a target=\"_blank\" href=https://colab.research.google.com/notebooks/data_table.ipynb>data table notebook</a>'\n",
              "            + ' to learn more about interactive tables.';\n",
              "          element.innerHTML = '';\n",
              "          dataTable['output_type'] = 'display_data';\n",
              "          await google.colab.output.renderOutput(dataTable, element);\n",
              "          const docLink = document.createElement('div');\n",
              "          docLink.innerHTML = docLinkHtml;\n",
              "          element.appendChild(docLink);\n",
              "        }\n",
              "      </script>\n",
              "    </div>\n",
              "  </div>\n",
              "  "
            ]
          },
          "metadata": {},
          "execution_count": 3
        }
      ],
      "source": [
        "uio = pd.read_csv('/content/drive/MyDrive/Belajar/all-data_clean.csv', header=0, sep=',', encoding=\"Latin1\")\n",
        "uio.head()"
      ]
    },
    {
      "cell_type": "code",
      "source": [
        "uio.describe()"
      ],
      "metadata": {
        "colab": {
          "base_uri": "https://localhost:8080/",
          "height": 300
        },
        "id": "JI2ww9habeoB",
        "outputId": "eb000849-168c-45fb-e578-1c4ea66d6941"
      },
      "execution_count": 4,
      "outputs": [
        {
          "output_type": "execute_result",
          "data": {
            "text/plain": [
              "                 id  pickup_longitude  pickup_latitude  dropoff_longitude  \\\n",
              "count  90287.000000      90287.000000     90287.000000       90287.000000   \n",
              "mean   45144.000000          0.400130         0.399127         -87.114696   \n",
              "std    26063.756214          0.230801         0.230811          12.752674   \n",
              "min        1.000000          0.000009         0.000009        -123.341828   \n",
              "25%    22572.500000          0.200113         0.199008        -100.162537   \n",
              "50%    45144.000000          0.400801         0.398292         -79.023126   \n",
              "75%    67715.500000          0.600672         0.599134         -78.484563   \n",
              "max    90287.000000          0.799438         0.799223         174.811881   \n",
              "\n",
              "       dropoff_latitude  trip_duration   dist_meters      wait_sec  \n",
              "count      90287.000000   9.028700e+04  9.028700e+04  9.028700e+04  \n",
              "mean           9.000339   3.505614e+04  1.751764e+05  9.637481e+06  \n",
              "std           12.547121   8.947615e+05  2.370332e+07  4.497338e+08  \n",
              "min          -53.158163  -2.207486e+08 -2.147484e+09  0.000000e+00  \n",
              "25%           -0.203951   4.930000e+02  2.278000e+03  8.800000e+01  \n",
              "50%            4.562602   9.330000e+02  4.668000e+03  2.140000e+02  \n",
              "75%           21.839787   1.924500e+03  8.872000e+03  4.840000e+02  \n",
              "max           60.321647   7.696342e+07  2.147484e+09  9.516306e+10  "
            ],
            "text/html": [
              "\n",
              "  <div id=\"df-736cd059-a762-4289-af5d-e13e468d079a\">\n",
              "    <div class=\"colab-df-container\">\n",
              "      <div>\n",
              "<style scoped>\n",
              "    .dataframe tbody tr th:only-of-type {\n",
              "        vertical-align: middle;\n",
              "    }\n",
              "\n",
              "    .dataframe tbody tr th {\n",
              "        vertical-align: top;\n",
              "    }\n",
              "\n",
              "    .dataframe thead th {\n",
              "        text-align: right;\n",
              "    }\n",
              "</style>\n",
              "<table border=\"1\" class=\"dataframe\">\n",
              "  <thead>\n",
              "    <tr style=\"text-align: right;\">\n",
              "      <th></th>\n",
              "      <th>id</th>\n",
              "      <th>pickup_longitude</th>\n",
              "      <th>pickup_latitude</th>\n",
              "      <th>dropoff_longitude</th>\n",
              "      <th>dropoff_latitude</th>\n",
              "      <th>trip_duration</th>\n",
              "      <th>dist_meters</th>\n",
              "      <th>wait_sec</th>\n",
              "    </tr>\n",
              "  </thead>\n",
              "  <tbody>\n",
              "    <tr>\n",
              "      <th>count</th>\n",
              "      <td>90287.000000</td>\n",
              "      <td>90287.000000</td>\n",
              "      <td>90287.000000</td>\n",
              "      <td>90287.000000</td>\n",
              "      <td>90287.000000</td>\n",
              "      <td>9.028700e+04</td>\n",
              "      <td>9.028700e+04</td>\n",
              "      <td>9.028700e+04</td>\n",
              "    </tr>\n",
              "    <tr>\n",
              "      <th>mean</th>\n",
              "      <td>45144.000000</td>\n",
              "      <td>0.400130</td>\n",
              "      <td>0.399127</td>\n",
              "      <td>-87.114696</td>\n",
              "      <td>9.000339</td>\n",
              "      <td>3.505614e+04</td>\n",
              "      <td>1.751764e+05</td>\n",
              "      <td>9.637481e+06</td>\n",
              "    </tr>\n",
              "    <tr>\n",
              "      <th>std</th>\n",
              "      <td>26063.756214</td>\n",
              "      <td>0.230801</td>\n",
              "      <td>0.230811</td>\n",
              "      <td>12.752674</td>\n",
              "      <td>12.547121</td>\n",
              "      <td>8.947615e+05</td>\n",
              "      <td>2.370332e+07</td>\n",
              "      <td>4.497338e+08</td>\n",
              "    </tr>\n",
              "    <tr>\n",
              "      <th>min</th>\n",
              "      <td>1.000000</td>\n",
              "      <td>0.000009</td>\n",
              "      <td>0.000009</td>\n",
              "      <td>-123.341828</td>\n",
              "      <td>-53.158163</td>\n",
              "      <td>-2.207486e+08</td>\n",
              "      <td>-2.147484e+09</td>\n",
              "      <td>0.000000e+00</td>\n",
              "    </tr>\n",
              "    <tr>\n",
              "      <th>25%</th>\n",
              "      <td>22572.500000</td>\n",
              "      <td>0.200113</td>\n",
              "      <td>0.199008</td>\n",
              "      <td>-100.162537</td>\n",
              "      <td>-0.203951</td>\n",
              "      <td>4.930000e+02</td>\n",
              "      <td>2.278000e+03</td>\n",
              "      <td>8.800000e+01</td>\n",
              "    </tr>\n",
              "    <tr>\n",
              "      <th>50%</th>\n",
              "      <td>45144.000000</td>\n",
              "      <td>0.400801</td>\n",
              "      <td>0.398292</td>\n",
              "      <td>-79.023126</td>\n",
              "      <td>4.562602</td>\n",
              "      <td>9.330000e+02</td>\n",
              "      <td>4.668000e+03</td>\n",
              "      <td>2.140000e+02</td>\n",
              "    </tr>\n",
              "    <tr>\n",
              "      <th>75%</th>\n",
              "      <td>67715.500000</td>\n",
              "      <td>0.600672</td>\n",
              "      <td>0.599134</td>\n",
              "      <td>-78.484563</td>\n",
              "      <td>21.839787</td>\n",
              "      <td>1.924500e+03</td>\n",
              "      <td>8.872000e+03</td>\n",
              "      <td>4.840000e+02</td>\n",
              "    </tr>\n",
              "    <tr>\n",
              "      <th>max</th>\n",
              "      <td>90287.000000</td>\n",
              "      <td>0.799438</td>\n",
              "      <td>0.799223</td>\n",
              "      <td>174.811881</td>\n",
              "      <td>60.321647</td>\n",
              "      <td>7.696342e+07</td>\n",
              "      <td>2.147484e+09</td>\n",
              "      <td>9.516306e+10</td>\n",
              "    </tr>\n",
              "  </tbody>\n",
              "</table>\n",
              "</div>\n",
              "      <button class=\"colab-df-convert\" onclick=\"convertToInteractive('df-736cd059-a762-4289-af5d-e13e468d079a')\"\n",
              "              title=\"Convert this dataframe to an interactive table.\"\n",
              "              style=\"display:none;\">\n",
              "        \n",
              "  <svg xmlns=\"http://www.w3.org/2000/svg\" height=\"24px\"viewBox=\"0 0 24 24\"\n",
              "       width=\"24px\">\n",
              "    <path d=\"M0 0h24v24H0V0z\" fill=\"none\"/>\n",
              "    <path d=\"M18.56 5.44l.94 2.06.94-2.06 2.06-.94-2.06-.94-.94-2.06-.94 2.06-2.06.94zm-11 1L8.5 8.5l.94-2.06 2.06-.94-2.06-.94L8.5 2.5l-.94 2.06-2.06.94zm10 10l.94 2.06.94-2.06 2.06-.94-2.06-.94-.94-2.06-.94 2.06-2.06.94z\"/><path d=\"M17.41 7.96l-1.37-1.37c-.4-.4-.92-.59-1.43-.59-.52 0-1.04.2-1.43.59L10.3 9.45l-7.72 7.72c-.78.78-.78 2.05 0 2.83L4 21.41c.39.39.9.59 1.41.59.51 0 1.02-.2 1.41-.59l7.78-7.78 2.81-2.81c.8-.78.8-2.07 0-2.86zM5.41 20L4 18.59l7.72-7.72 1.47 1.35L5.41 20z\"/>\n",
              "  </svg>\n",
              "      </button>\n",
              "      \n",
              "  <style>\n",
              "    .colab-df-container {\n",
              "      display:flex;\n",
              "      flex-wrap:wrap;\n",
              "      gap: 12px;\n",
              "    }\n",
              "\n",
              "    .colab-df-convert {\n",
              "      background-color: #E8F0FE;\n",
              "      border: none;\n",
              "      border-radius: 50%;\n",
              "      cursor: pointer;\n",
              "      display: none;\n",
              "      fill: #1967D2;\n",
              "      height: 32px;\n",
              "      padding: 0 0 0 0;\n",
              "      width: 32px;\n",
              "    }\n",
              "\n",
              "    .colab-df-convert:hover {\n",
              "      background-color: #E2EBFA;\n",
              "      box-shadow: 0px 1px 2px rgba(60, 64, 67, 0.3), 0px 1px 3px 1px rgba(60, 64, 67, 0.15);\n",
              "      fill: #174EA6;\n",
              "    }\n",
              "\n",
              "    [theme=dark] .colab-df-convert {\n",
              "      background-color: #3B4455;\n",
              "      fill: #D2E3FC;\n",
              "    }\n",
              "\n",
              "    [theme=dark] .colab-df-convert:hover {\n",
              "      background-color: #434B5C;\n",
              "      box-shadow: 0px 1px 3px 1px rgba(0, 0, 0, 0.15);\n",
              "      filter: drop-shadow(0px 1px 2px rgba(0, 0, 0, 0.3));\n",
              "      fill: #FFFFFF;\n",
              "    }\n",
              "  </style>\n",
              "\n",
              "      <script>\n",
              "        const buttonEl =\n",
              "          document.querySelector('#df-736cd059-a762-4289-af5d-e13e468d079a button.colab-df-convert');\n",
              "        buttonEl.style.display =\n",
              "          google.colab.kernel.accessAllowed ? 'block' : 'none';\n",
              "\n",
              "        async function convertToInteractive(key) {\n",
              "          const element = document.querySelector('#df-736cd059-a762-4289-af5d-e13e468d079a');\n",
              "          const dataTable =\n",
              "            await google.colab.kernel.invokeFunction('convertToInteractive',\n",
              "                                                     [key], {});\n",
              "          if (!dataTable) return;\n",
              "\n",
              "          const docLinkHtml = 'Like what you see? Visit the ' +\n",
              "            '<a target=\"_blank\" href=https://colab.research.google.com/notebooks/data_table.ipynb>data table notebook</a>'\n",
              "            + ' to learn more about interactive tables.';\n",
              "          element.innerHTML = '';\n",
              "          dataTable['output_type'] = 'display_data';\n",
              "          await google.colab.output.renderOutput(dataTable, element);\n",
              "          const docLink = document.createElement('div');\n",
              "          docLink.innerHTML = docLinkHtml;\n",
              "          element.appendChild(docLink);\n",
              "        }\n",
              "      </script>\n",
              "    </div>\n",
              "  </div>\n",
              "  "
            ]
          },
          "metadata": {},
          "execution_count": 4
        }
      ]
    },
    {
      "cell_type": "code",
      "source": [
        "uio.shape"
      ],
      "metadata": {
        "colab": {
          "base_uri": "https://localhost:8080/"
        },
        "id": "2MxZ1arEmXGk",
        "outputId": "88fadeb6-b956-4970-9be3-e7694b998043"
      },
      "execution_count": 5,
      "outputs": [
        {
          "output_type": "execute_result",
          "data": {
            "text/plain": [
              "(90287, 12)"
            ]
          },
          "metadata": {},
          "execution_count": 5
        }
      ]
    },
    {
      "cell_type": "code",
      "source": [
        "uio.info()"
      ],
      "metadata": {
        "colab": {
          "base_uri": "https://localhost:8080/"
        },
        "id": "lN_eBfuQKznE",
        "outputId": "e57183b4-faf3-45b2-b5d6-ed3510b2eafa"
      },
      "execution_count": 6,
      "outputs": [
        {
          "output_type": "stream",
          "name": "stdout",
          "text": [
            "<class 'pandas.core.frame.DataFrame'>\n",
            "RangeIndex: 90287 entries, 0 to 90286\n",
            "Data columns (total 12 columns):\n",
            " #   Column              Non-Null Count  Dtype  \n",
            "---  ------              --------------  -----  \n",
            " 0   id                  90287 non-null  int64  \n",
            " 1   vendor_id           90287 non-null  object \n",
            " 2   pickup_datetime     90287 non-null  object \n",
            " 3   dropoff_datetime    90287 non-null  object \n",
            " 4   pickup_longitude    90287 non-null  float64\n",
            " 5   pickup_latitude     90287 non-null  float64\n",
            " 6   dropoff_longitude   90287 non-null  float64\n",
            " 7   dropoff_latitude    90287 non-null  float64\n",
            " 8   store_and_fwd_flag  90287 non-null  object \n",
            " 9   trip_duration       90287 non-null  int64  \n",
            " 10  dist_meters         90287 non-null  int64  \n",
            " 11  wait_sec            90287 non-null  int64  \n",
            "dtypes: float64(4), int64(4), object(4)\n",
            "memory usage: 8.3+ MB\n"
          ]
        }
      ]
    },
    {
      "cell_type": "markdown",
      "source": [
        "# **Analisis Secara Umum**"
      ],
      "metadata": {
        "id": "NiENW5QwUbmN"
      }
    },
    {
      "cell_type": "code",
      "source": [
        "print(uio['vendor_id'].unique())"
      ],
      "metadata": {
        "colab": {
          "base_uri": "https://localhost:8080/"
        },
        "id": "eW74D09Qbn4Q",
        "outputId": "a77abd14-fe28-43e4-e023-15a45435bad6"
      },
      "execution_count": 7,
      "outputs": [
        {
          "output_type": "stream",
          "name": "stdout",
          "text": [
            "['Quito' 'Guadalajara Easy Taxi' 'Monterrey' 'Manta' 'Aguascalientes'\n",
            " 'Guadalajara' 'Cali' 'Ecuador' 'BogotÃ¡' 'MedellÃ\\xadn'\n",
            " 'MÃ©xico DF Taxi de Sitio' 'MÃ©xico DF Taxi Libre' 'Default Fare'\n",
            " 'PanamÃ¡ UberX' 'PanamÃ¡ UberSUV' 'Puebla Easy Taxi'\n",
            " 'MÃ©xico DF Radio Taxi' 'Cuenca' 'RumiÃ±ahui' 'PanamÃ¡ Uber'\n",
            " 'Guadalajara UberXL' 'MÃ©xico DF UberX' 'Uruguay' 'Ibarra'\n",
            " 'Guadalajara UberX' 'MÃ©xico DF UberXL' 'BogotÃ¡ UberX' 'Monterrey UberX'\n",
            " 'Ambato' 'MÃ©xico DF UberSUV' 'Lima UberX' 'Valparaiso UberX'\n",
            " 'Puebla UberX' 'Bogota UberBlack' 'Machala' 'Cali UberX' 'Riobamba'\n",
            " 'Santa Fe' 'Guayaquil Cabify Lite' 'St. Domingo' 'MedellÃ\\xadn UberBlack'\n",
            " 'Monterrey Easy Taxi' 'Pereira' 'Rosario Remis' 'Houston UberBlack'\n",
            " 'Aguascalientes UberX' 'Cuenca +7km' 'Guayaquil Cabify Guayaco' 'Rosario'\n",
            " 'MÃ©xico DF UberBlack' 'Pereira UberX' 'Quito Cabify Lite'\n",
            " 'Rio de Janeiro' 'SÃ£o Paulo' 'Buenos Aires' 'Barranquilla UberBlack'\n",
            " 'MedellÃ\\xadn UberX' 'Brasilia' 'Salvador UberX' 'LeÃ³n UberX'\n",
            " 'Santo Domingo UberX' 'Guadalajara UberBLACK' 'Cali Uber' 'Loja'\n",
            " 'Esmeraldas' 'Puebla Easy Taxi >10km' 'Puebla UberBLACK' 'CÃ³rdoba'\n",
            " 'Mar del Plata' 'Santiago UberX' 'Santiago UberXL' 'Santiago'\n",
            " 'Santa Fe Remis' 'Barranquilla' 'Ant Ecuador' 'Monterrey UberXL'\n",
            " 'CÃ³rdoba Remis' 'BogotÃ¡ UberVan' 'Bucaramanga UberX' 'Cuernavaca UberX'\n",
            " 'Monterrey Socio Conde' 'Bucaramanga' 'IbaguÃ© UberX' 'Portoviejo'\n",
            " 'BogotÃ¡ UberAngel' 'Quito Cabify Executive' 'Monterrey UberBLACK'\n",
            " 'Santo Domingo UberXL' 'Villavicencio UberX' 'Gran Mendoza Remis'\n",
            " 'ConcepciÃ³n UberX' 'Toluca UberX' 'Houston' 'La Plata' 'Montevideo'\n",
            " 'Brasilia UberX' 'SÃ£o Paulo UberX' 'SÃ£o Paulo UberBLACK'\n",
            " 'Costa Rica Taxi SedÃ¡n' 'Rio de Janeiro UberX' 'Santiago UberSUV'\n",
            " 'Tijuana UberX' 'Houston UberX' 'Valledupar UberX' 'Cartagena UberBlack'\n",
            " 'Cartagena UberX' 'Rio de Janeiro UberBLACK' 'Santiago de los Caballeros'\n",
            " 'Barranquilla UberX' 'Guayaquil UberX' 'Rio de Janeiro Executive'\n",
            " 'IbaguÃ©' 'Salvador' 'CÃºcuta UberX' 'Houston UberSUV'\n",
            " 'CÃ³rdoba Auto de Lujo' 'Mexicali UberX' 'Salta Remis' 'Popayan UberX'\n",
            " 'Azogues' 'Quito UberX' 'Guadalajara UberSUV' 'Mendoza'\n",
            " 'SÃ£o Paulo Luxury Taxi' 'Costa Rica Rural' 'San JosÃ© UberX'\n",
            " 'Brasilia UberBLACK' 'Sincelejo UberX' 'Tijuana UberBLACK'\n",
            " 'San JosÃ© UberXL' 'Santiago UberBlack' 'Costa Rica Taxi Adaptado'\n",
            " 'CÃºcuta' 'Houston UberSelect' 'Montevideo UberX' 'Tijuana UberXL'\n",
            " 'Salta' 'Armenia' 'Colonia']\n"
          ]
        }
      ]
    },
    {
      "cell_type": "code",
      "source": [
        "print(uio['store_and_fwd_flag'].unique())"
      ],
      "metadata": {
        "colab": {
          "base_uri": "https://localhost:8080/"
        },
        "id": "ziMJ-mPvrcBv",
        "outputId": "d7577aca-7b3d-4957-de9d-753ce284b1c7"
      },
      "execution_count": 8,
      "outputs": [
        {
          "output_type": "stream",
          "name": "stdout",
          "text": [
            "['N']\n"
          ]
        }
      ]
    },
    {
      "cell_type": "code",
      "source": [
        "print(uio.groupby(['vendor_id'])['id'].count().reset_index())"
      ],
      "metadata": {
        "colab": {
          "base_uri": "https://localhost:8080/"
        },
        "id": "hYp4atqmb_Yp",
        "outputId": "4bc5cef5-6bcd-42c7-d950-927d9c716fee"
      },
      "execution_count": 9,
      "outputs": [
        {
          "output_type": "stream",
          "name": "stdout",
          "text": [
            "                vendor_id     id\n",
            "0          Aguascalientes  10326\n",
            "1    Aguascalientes UberX    247\n",
            "2                  Ambato    214\n",
            "3             Ant Ecuador    525\n",
            "4                 Armenia      1\n",
            "..                    ...    ...\n",
            "134          Toluca UberX      5\n",
            "135               Uruguay    339\n",
            "136      Valledupar UberX     11\n",
            "137      Valparaiso UberX      8\n",
            "138   Villavicencio UberX      2\n",
            "\n",
            "[139 rows x 2 columns]\n"
          ]
        }
      ]
    },
    {
      "cell_type": "code",
      "source": [
        "x = uio.groupby(['vendor_id'])['id'].count()\n",
        "sns.barplot(x.index, x.values)"
      ],
      "metadata": {
        "colab": {
          "base_uri": "https://localhost:8080/",
          "height": 0
        },
        "id": "B-0VCvKvcIQx",
        "outputId": "fec27904-a216-4478-c14c-27a62a53ce5e"
      },
      "execution_count": 10,
      "outputs": [
        {
          "output_type": "stream",
          "name": "stderr",
          "text": [
            "/usr/local/lib/python3.7/dist-packages/seaborn/_decorators.py:43: FutureWarning: Pass the following variables as keyword args: x, y. From version 0.12, the only valid positional argument will be `data`, and passing other arguments without an explicit keyword will result in an error or misinterpretation.\n",
            "  FutureWarning\n"
          ]
        },
        {
          "output_type": "execute_result",
          "data": {
            "text/plain": [
              "<matplotlib.axes._subplots.AxesSubplot at 0x7fd3bdee5a50>"
            ]
          },
          "metadata": {},
          "execution_count": 10
        },
        {
          "output_type": "display_data",
          "data": {
            "text/plain": [
              "<Figure size 432x288 with 1 Axes>"
            ],
            "image/png": "[encoded data removed]"
          },
          "metadata": {
            "needs_background": "light"
          }
        }
      ]
    },
    {
      "cell_type": "code",
      "source": [
        "x = uio.groupby(['vendor_id'])['dist_meters'].mean()\n",
        "sns.barplot(x.index, x.values)"
      ],
      "metadata": {
        "colab": {
          "base_uri": "https://localhost:8080/",
          "height": 0
        },
        "id": "17nh9vuiUSAS",
        "outputId": "70e47a64-33c2-4489-c496-262ad2ea8bc4"
      },
      "execution_count": 11,
      "outputs": [
        {
          "output_type": "stream",
          "name": "stderr",
          "text": [
            "/usr/local/lib/python3.7/dist-packages/seaborn/_decorators.py:43: FutureWarning: Pass the following variables as keyword args: x, y. From version 0.12, the only valid positional argument will be `data`, and passing other arguments without an explicit keyword will result in an error or misinterpretation.\n",
            "  FutureWarning\n"
          ]
        },
        {
          "output_type": "execute_result",
          "data": {
            "text/plain": [
              "<matplotlib.axes._subplots.AxesSubplot at 0x7fd3bd4d6dd0>"
            ]
          },
          "metadata": {},
          "execution_count": 11
        },
        {
          "output_type": "display_data",
          "data": {
            "text/plain": [
              "<Figure size 432x288 with 1 Axes>"
            ],
            "image/png": "[encoded data removed]"
          },
          "metadata": {
            "needs_background": "light"
          }
        }
      ]
    },
    {
      "cell_type": "code",
      "source": [
        "x = uio.groupby(['vendor_id'])['trip_duration'].mean()\n",
        "sns.barplot(x.index, x.values)"
      ],
      "metadata": {
        "colab": {
          "base_uri": "https://localhost:8080/",
          "height": 0
        },
        "id": "xc8akXnAUVv4",
        "outputId": "abd5ad46-39d8-452c-f92d-90550d674eee"
      },
      "execution_count": 12,
      "outputs": [
        {
          "output_type": "stream",
          "name": "stderr",
          "text": [
            "/usr/local/lib/python3.7/dist-packages/seaborn/_decorators.py:43: FutureWarning: Pass the following variables as keyword args: x, y. From version 0.12, the only valid positional argument will be `data`, and passing other arguments without an explicit keyword will result in an error or misinterpretation.\n",
            "  FutureWarning\n"
          ]
        },
        {
          "output_type": "execute_result",
          "data": {
            "text/plain": [
              "<matplotlib.axes._subplots.AxesSubplot at 0x7fd3bcf83650>"
            ]
          },
          "metadata": {},
          "execution_count": 12
        },
        {
          "output_type": "display_data",
          "data": {
            "text/plain": [
              "<Figure size 432x288 with 1 Axes>"
            ],
            "image/png": "[encoded data removed]"
          },
          "metadata": {
            "needs_background": "light"
          }
        }
      ]
    },
    {
      "cell_type": "code",
      "source": [
        "uio.isnull().values.any()"
      ],
      "metadata": {
        "colab": {
          "base_uri": "https://localhost:8080/"
        },
        "id": "87HnresfQ9Mu",
        "outputId": "d144c5d6-75a6-46e1-e60b-cb5a72aca889"
      },
      "execution_count": 13,
      "outputs": [
        {
          "output_type": "execute_result",
          "data": {
            "text/plain": [
              "False"
            ]
          },
          "metadata": {},
          "execution_count": 13
        }
      ]
    },
    {
      "cell_type": "code",
      "source": [
        "uio['pickup_datetime'] = pd.to_datetime(uio['pickup_datetime'], format='%Y/%m/%d %H:%M:%S')\n",
        "uio['dropoff_datetime'] = pd.to_datetime(uio['dropoff_datetime'], format='%Y-%m-%d %H:%M:%S')"
      ],
      "metadata": {
        "id": "qv3XVgZNbYak"
      },
      "execution_count": 14,
      "outputs": []
    },
    {
      "cell_type": "code",
      "source": [
        "print('Pickup -> Date : max = ', uio['pickup_datetime'].dt.date.max(), ' & min = ',uio['pickup_datetime'].dt.date.min(), ' || Time : Max = ', uio['pickup_datetime'].dt.time.max(), ' & min = ', uio['pickup_datetime'].dt.time.min())\n",
        "\n",
        "print('Dropoff -> Date : max = ', uio['dropoff_datetime'].dt.date.max(), ' & min = ',uio['dropoff_datetime'].dt.date.min(), ' || Time : Max = ', uio['dropoff_datetime'].dt.time.max(), ' & min = ', uio['dropoff_datetime'].dt.time.min())"
      ],
      "metadata": {
        "colab": {
          "base_uri": "https://localhost:8080/"
        },
        "id": "ILCt3k3fdMhS",
        "outputId": "f11cd6d9-6c67-4ae8-e4af-04cd99eda913"
      },
      "execution_count": 15,
      "outputs": [
        {
          "output_type": "stream",
          "name": "stdout",
          "text": [
            "Pickup -> Date : max =  2017-08-01  & min =  2014-12-31  || Time : Max =  12:59:59  & min =  01:00:00\n",
            "Dropoff -> Date : max =  2017-08-01  & min =  2009-12-31  || Time : Max =  12:59:59  & min =  01:00:01\n"
          ]
        }
      ]
    },
    {
      "cell_type": "code",
      "source": [
        "correlation_matrix = uio.corr()\n",
        "correlation_matrix"
      ],
      "metadata": {
        "colab": {
          "base_uri": "https://localhost:8080/",
          "height": 0
        },
        "id": "rIFqla2iPzpC",
        "outputId": "4cf0d66a-5a2a-4e3c-8f6c-614e6ed7fe91"
      },
      "execution_count": 16,
      "outputs": [
        {
          "output_type": "execute_result",
          "data": {
            "text/plain": [
              "                         id  pickup_longitude  pickup_latitude  \\\n",
              "id                 1.000000         -0.015350        -0.019459   \n",
              "pickup_longitude  -0.015350          1.000000        -0.230991   \n",
              "pickup_latitude   -0.019459         -0.230991         1.000000   \n",
              "dropoff_longitude -0.004857          0.687053        -0.107931   \n",
              "dropoff_latitude  -0.001347         -0.727643         0.209949   \n",
              "trip_duration     -0.000982          0.007163         0.010269   \n",
              "dist_meters       -0.002335         -0.006340         0.005829   \n",
              "wait_sec           0.002616          0.016641        -0.009096   \n",
              "\n",
              "                   dropoff_longitude  dropoff_latitude  trip_duration  \\\n",
              "id                         -0.004857         -0.001347      -0.000982   \n",
              "pickup_longitude            0.687053         -0.727643       0.007163   \n",
              "pickup_latitude            -0.107931          0.209949       0.010269   \n",
              "dropoff_longitude           1.000000         -0.867666       0.011230   \n",
              "dropoff_latitude           -0.867666          1.000000      -0.007207   \n",
              "trip_duration               0.011230         -0.007207       1.000000   \n",
              "dist_meters                -0.009677          0.010699      -0.000102   \n",
              "wait_sec                    0.013946         -0.015284       0.055894   \n",
              "\n",
              "                   dist_meters  wait_sec  \n",
              "id                   -0.002335  0.002616  \n",
              "pickup_longitude     -0.006340  0.016641  \n",
              "pickup_latitude       0.005829 -0.009096  \n",
              "dropoff_longitude    -0.009677  0.013946  \n",
              "dropoff_latitude      0.010699 -0.015284  \n",
              "trip_duration        -0.000102  0.055894  \n",
              "dist_meters           1.000000  0.000035  \n",
              "wait_sec              0.000035  1.000000  "
            ],
            "text/html": [
              "\n",
              "  <div id=\"df-cf16d6b6-7991-4481-99ff-fbf52d844985\">\n",
              "    <div class=\"colab-df-container\">\n",
              "      <div>\n",
              "<style scoped>\n",
              "    .dataframe tbody tr th:only-of-type {\n",
              "        vertical-align: middle;\n",
              "    }\n",
              "\n",
              "    .dataframe tbody tr th {\n",
              "        vertical-align: top;\n",
              "    }\n",
              "\n",
              "    .dataframe thead th {\n",
              "        text-align: right;\n",
              "    }\n",
              "</style>\n",
              "<table border=\"1\" class=\"dataframe\">\n",
              "  <thead>\n",
              "    <tr style=\"text-align: right;\">\n",
              "      <th></th>\n",
              "      <th>id</th>\n",
              "      <th>pickup_longitude</th>\n",
              "      <th>pickup_latitude</th>\n",
              "      <th>dropoff_longitude</th>\n",
              "      <th>dropoff_latitude</th>\n",
              "      <th>trip_duration</th>\n",
              "      <th>dist_meters</th>\n",
              "      <th>wait_sec</th>\n",
              "    </tr>\n",
              "  </thead>\n",
              "  <tbody>\n",
              "    <tr>\n",
              "      <th>id</th>\n",
              "      <td>1.000000</td>\n",
              "      <td>-0.015350</td>\n",
              "      <td>-0.019459</td>\n",
              "      <td>-0.004857</td>\n",
              "      <td>-0.001347</td>\n",
              "      <td>-0.000982</td>\n",
              "      <td>-0.002335</td>\n",
              "      <td>0.002616</td>\n",
              "    </tr>\n",
              "    <tr>\n",
              "      <th>pickup_longitude</th>\n",
              "      <td>-0.015350</td>\n",
              "      <td>1.000000</td>\n",
              "      <td>-0.230991</td>\n",
              "      <td>0.687053</td>\n",
              "      <td>-0.727643</td>\n",
              "      <td>0.007163</td>\n",
              "      <td>-0.006340</td>\n",
              "      <td>0.016641</td>\n",
              "    </tr>\n",
              "    <tr>\n",
              "      <th>pickup_latitude</th>\n",
              "      <td>-0.019459</td>\n",
              "      <td>-0.230991</td>\n",
              "      <td>1.000000</td>\n",
              "      <td>-0.107931</td>\n",
              "      <td>0.209949</td>\n",
              "      <td>0.010269</td>\n",
              "      <td>0.005829</td>\n",
              "      <td>-0.009096</td>\n",
              "    </tr>\n",
              "    <tr>\n",
              "      <th>dropoff_longitude</th>\n",
              "      <td>-0.004857</td>\n",
              "      <td>0.687053</td>\n",
              "      <td>-0.107931</td>\n",
              "      <td>1.000000</td>\n",
              "      <td>-0.867666</td>\n",
              "      <td>0.011230</td>\n",
              "      <td>-0.009677</td>\n",
              "      <td>0.013946</td>\n",
              "    </tr>\n",
              "    <tr>\n",
              "      <th>dropoff_latitude</th>\n",
              "      <td>-0.001347</td>\n",
              "      <td>-0.727643</td>\n",
              "      <td>0.209949</td>\n",
              "      <td>-0.867666</td>\n",
              "      <td>1.000000</td>\n",
              "      <td>-0.007207</td>\n",
              "      <td>0.010699</td>\n",
              "      <td>-0.015284</td>\n",
              "    </tr>\n",
              "    <tr>\n",
              "      <th>trip_duration</th>\n",
              "      <td>-0.000982</td>\n",
              "      <td>0.007163</td>\n",
              "      <td>0.010269</td>\n",
              "      <td>0.011230</td>\n",
              "      <td>-0.007207</td>\n",
              "      <td>1.000000</td>\n",
              "      <td>-0.000102</td>\n",
              "      <td>0.055894</td>\n",
              "    </tr>\n",
              "    <tr>\n",
              "      <th>dist_meters</th>\n",
              "      <td>-0.002335</td>\n",
              "      <td>-0.006340</td>\n",
              "      <td>0.005829</td>\n",
              "      <td>-0.009677</td>\n",
              "      <td>0.010699</td>\n",
              "      <td>-0.000102</td>\n",
              "      <td>1.000000</td>\n",
              "      <td>0.000035</td>\n",
              "    </tr>\n",
              "    <tr>\n",
              "      <th>wait_sec</th>\n",
              "      <td>0.002616</td>\n",
              "      <td>0.016641</td>\n",
              "      <td>-0.009096</td>\n",
              "      <td>0.013946</td>\n",
              "      <td>-0.015284</td>\n",
              "      <td>0.055894</td>\n",
              "      <td>0.000035</td>\n",
              "      <td>1.000000</td>\n",
              "    </tr>\n",
              "  </tbody>\n",
              "</table>\n",
              "</div>\n",
              "      <button class=\"colab-df-convert\" onclick=\"convertToInteractive('df-cf16d6b6-7991-4481-99ff-fbf52d844985')\"\n",
              "              title=\"Convert this dataframe to an interactive table.\"\n",
              "              style=\"display:none;\">\n",
              "        \n",
              "  <svg xmlns=\"http://www.w3.org/2000/svg\" height=\"24px\"viewBox=\"0 0 24 24\"\n",
              "       width=\"24px\">\n",
              "    <path d=\"M0 0h24v24H0V0z\" fill=\"none\"/>\n",
              "    <path d=\"M18.56 5.44l.94 2.06.94-2.06 2.06-.94-2.06-.94-.94-2.06-.94 2.06-2.06.94zm-11 1L8.5 8.5l.94-2.06 2.06-.94-2.06-.94L8.5 2.5l-.94 2.06-2.06.94zm10 10l.94 2.06.94-2.06 2.06-.94-2.06-.94-.94-2.06-.94 2.06-2.06.94z\"/><path d=\"M17.41 7.96l-1.37-1.37c-.4-.4-.92-.59-1.43-.59-.52 0-1.04.2-1.43.59L10.3 9.45l-7.72 7.72c-.78.78-.78 2.05 0 2.83L4 21.41c.39.39.9.59 1.41.59.51 0 1.02-.2 1.41-.59l7.78-7.78 2.81-2.81c.8-.78.8-2.07 0-2.86zM5.41 20L4 18.59l7.72-7.72 1.47 1.35L5.41 20z\"/>\n",
              "  </svg>\n",
              "      </button>\n",
              "      \n",
              "  <style>\n",
              "    .colab-df-container {\n",
              "      display:flex;\n",
              "      flex-wrap:wrap;\n",
              "      gap: 12px;\n",
              "    }\n",
              "\n",
              "    .colab-df-convert {\n",
              "      background-color: #E8F0FE;\n",
              "      border: none;\n",
              "      border-radius: 50%;\n",
              "      cursor: pointer;\n",
              "      display: none;\n",
              "      fill: #1967D2;\n",
              "      height: 32px;\n",
              "      padding: 0 0 0 0;\n",
              "      width: 32px;\n",
              "    }\n",
              "\n",
              "    .colab-df-convert:hover {\n",
              "      background-color: #E2EBFA;\n",
              "      box-shadow: 0px 1px 2px rgba(60, 64, 67, 0.3), 0px 1px 3px 1px rgba(60, 64, 67, 0.15);\n",
              "      fill: #174EA6;\n",
              "    }\n",
              "\n",
              "    [theme=dark] .colab-df-convert {\n",
              "      background-color: #3B4455;\n",
              "      fill: #D2E3FC;\n",
              "    }\n",
              "\n",
              "    [theme=dark] .colab-df-convert:hover {\n",
              "      background-color: #434B5C;\n",
              "      box-shadow: 0px 1px 3px 1px rgba(0, 0, 0, 0.15);\n",
              "      filter: drop-shadow(0px 1px 2px rgba(0, 0, 0, 0.3));\n",
              "      fill: #FFFFFF;\n",
              "    }\n",
              "  </style>\n",
              "\n",
              "      <script>\n",
              "        const buttonEl =\n",
              "          document.querySelector('#df-cf16d6b6-7991-4481-99ff-fbf52d844985 button.colab-df-convert');\n",
              "        buttonEl.style.display =\n",
              "          google.colab.kernel.accessAllowed ? 'block' : 'none';\n",
              "\n",
              "        async function convertToInteractive(key) {\n",
              "          const element = document.querySelector('#df-cf16d6b6-7991-4481-99ff-fbf52d844985');\n",
              "          const dataTable =\n",
              "            await google.colab.kernel.invokeFunction('convertToInteractive',\n",
              "                                                     [key], {});\n",
              "          if (!dataTable) return;\n",
              "\n",
              "          const docLinkHtml = 'Like what you see? Visit the ' +\n",
              "            '<a target=\"_blank\" href=https://colab.research.google.com/notebooks/data_table.ipynb>data table notebook</a>'\n",
              "            + ' to learn more about interactive tables.';\n",
              "          element.innerHTML = '';\n",
              "          dataTable['output_type'] = 'display_data';\n",
              "          await google.colab.output.renderOutput(dataTable, element);\n",
              "          const docLink = document.createElement('div');\n",
              "          docLink.innerHTML = docLinkHtml;\n",
              "          element.appendChild(docLink);\n",
              "        }\n",
              "      </script>\n",
              "    </div>\n",
              "  </div>\n",
              "  "
            ]
          },
          "metadata": {},
          "execution_count": 16
        }
      ]
    },
    {
      "cell_type": "markdown",
      "source": [
        "# **Analisis Data Distance Meters**"
      ],
      "metadata": {
        "id": "pnVcDRx1VTx3"
      }
    },
    {
      "cell_type": "code",
      "source": [
        "sns.set()\n",
        "uio['log_dist_meters'] = np.log(uio['dist_meters'].values + 1)\n",
        "plt.hist(uio['log_dist_meters'].values, bins=100)\n",
        "plt.xlabel('log(dist_meters)')\n",
        "plt.ylabel('number of train records')\n",
        "plt.show()"
      ],
      "metadata": {
        "colab": {
          "base_uri": "https://localhost:8080/",
          "height": 0
        },
        "id": "_OZdLGvUedZE",
        "outputId": "9ce05bb6-d713-4e60-ceb6-b04674476f6c"
      },
      "execution_count": 17,
      "outputs": [
        {
          "output_type": "stream",
          "name": "stderr",
          "text": [
            "/usr/local/lib/python3.7/dist-packages/ipykernel_launcher.py:2: RuntimeWarning: invalid value encountered in log\n",
            "  \n"
          ]
        },
        {
          "output_type": "display_data",
          "data": {
            "text/plain": [
              "<Figure size 432x288 with 1 Axes>"
            ],
            "image/png": "[encoded data removed]"
          },
          "metadata": {}
        }
      ]
    },
    {
      "cell_type": "code",
      "source": [
        "x = uio.groupby(['vendor_id'])['dist_meters'].mean()\n",
        "sns.barplot(x.index, x.values)"
      ],
      "metadata": {
        "colab": {
          "base_uri": "https://localhost:8080/",
          "height": 0
        },
        "id": "zaQnPYiXpSvW",
        "outputId": "098923db-f8f2-41a6-96e0-2d2d3faa399d"
      },
      "execution_count": 18,
      "outputs": [
        {
          "output_type": "stream",
          "name": "stderr",
          "text": [
            "/usr/local/lib/python3.7/dist-packages/seaborn/_decorators.py:43: FutureWarning: Pass the following variables as keyword args: x, y. From version 0.12, the only valid positional argument will be `data`, and passing other arguments without an explicit keyword will result in an error or misinterpretation.\n",
            "  FutureWarning\n"
          ]
        },
        {
          "output_type": "execute_result",
          "data": {
            "text/plain": [
              "<matplotlib.axes._subplots.AxesSubplot at 0x7fd3bc9f4fd0>"
            ]
          },
          "metadata": {},
          "execution_count": 18
        },
        {
          "output_type": "display_data",
          "data": {
            "text/plain": [
              "<Figure size 432x288 with 1 Axes>"
            ],
            "image/png": "[encoded data removed]"
          },
          "metadata": {}
        }
      ]
    },
    {
      "cell_type": "code",
      "source": [
        "print((uio['dist_meters'].min())/1000)\n",
        "print((uio['dist_meters'].max())/1000)"
      ],
      "metadata": {
        "colab": {
          "base_uri": "https://localhost:8080/"
        },
        "id": "Je1nImizc01R",
        "outputId": "6d9caa6c-e7cb-441c-d4b0-db83657cad4d"
      },
      "execution_count": 19,
      "outputs": [
        {
          "output_type": "stream",
          "name": "stdout",
          "text": [
            "-2147483.648\n",
            "2147483.647\n"
          ]
        }
      ]
    },
    {
      "cell_type": "code",
      "source": [
        "uio['dist_kilometers'] =  uio['dist_meters']/1000"
      ],
      "metadata": {
        "id": "mdpjsjhVXyxp"
      },
      "execution_count": 20,
      "outputs": []
    },
    {
      "cell_type": "code",
      "source": [
        "uio = uio[(uio['dist_kilometers'] > 0)]"
      ],
      "metadata": {
        "id": "iq0ekI33F4-5"
      },
      "execution_count": 21,
      "outputs": []
    },
    {
      "cell_type": "code",
      "source": [
        "#Tidak digunakan\n",
        "\n",
        "#z_scores = stats.zscore(uio[['dist_kilometers']])\n",
        "#z_scores\n",
        "\n",
        "# Convert to absolute values\n",
        "#abs_z_scores = np.abs(z_scores)\n",
        "\n",
        "# Select data points with a z-scores above or below 3\n",
        "#filtered_entries = (abs_z_scores < 3).all(axis=1)\n",
        "\n",
        "# Filter the dataset\n",
        "#uio = uio[filtered_entries]\n",
        "#uio.shape"
      ],
      "metadata": {
        "id": "K7dIi8t0baRu"
      },
      "execution_count": 22,
      "outputs": []
    },
    {
      "cell_type": "code",
      "source": [
        "print((uio['dist_kilometers'].min()))\n",
        "print((uio['dist_kilometers'].max()))"
      ],
      "metadata": {
        "colab": {
          "base_uri": "https://localhost:8080/"
        },
        "id": "VxC5KXOrpJO2",
        "outputId": "f4f7d56e-0558-4d9f-f049-b9d8a300167b"
      },
      "execution_count": 23,
      "outputs": [
        {
          "output_type": "stream",
          "name": "stdout",
          "text": [
            "0.01\n",
            "2147483.647\n"
          ]
        }
      ]
    },
    {
      "cell_type": "code",
      "source": [
        "# calculate Q1 and Q3\n",
        "Q1 = uio[['dist_kilometers']].quantile(0.25)\n",
        "Q3 = uio[['dist_kilometers']].quantile(0.75)\n",
        "\n",
        "# calculate the IQR\n",
        "IQR = Q3 - Q1\n",
        "\n",
        "# filter the dataset with the IQR\n",
        "IQR_outliers =  uio[['dist_kilometers']][(( uio[['dist_kilometers']] < (Q1 - 1.5 * IQR)) |( uio[['dist_kilometers']] > (Q3 + 1.5 * IQR))).any(axis=1)]\n",
        "min_outlier = IQR_outliers.min()\n",
        "print(min_outlier[0])"
      ],
      "metadata": {
        "colab": {
          "base_uri": "https://localhost:8080/"
        },
        "id": "7DC2pBNOe3yY",
        "outputId": "1ee67b18-7ada-440c-8da9-05dedf1a1fda"
      },
      "execution_count": 24,
      "outputs": [
        {
          "output_type": "stream",
          "name": "stdout",
          "text": [
            "18.763\n"
          ]
        }
      ]
    },
    {
      "cell_type": "code",
      "source": [
        "uio = uio[(uio['dist_kilometers'] < min_outlier[0])]\n",
        "uio.shape"
      ],
      "metadata": {
        "colab": {
          "base_uri": "https://localhost:8080/"
        },
        "id": "J-c4xaK4e6qa",
        "outputId": "477da26d-37ff-4d61-9e5c-0018e1946988"
      },
      "execution_count": 25,
      "outputs": [
        {
          "output_type": "execute_result",
          "data": {
            "text/plain": [
              "(84209, 14)"
            ]
          },
          "metadata": {},
          "execution_count": 25
        }
      ]
    },
    {
      "cell_type": "code",
      "source": [
        "sns.set()\n",
        "plt.hist(uio['log_dist_meters'].values, bins=100)\n",
        "plt.xlabel('log(dist_meters)')\n",
        "plt.ylabel('number of train records')\n",
        "plt.show()"
      ],
      "metadata": {
        "colab": {
          "base_uri": "https://localhost:8080/",
          "height": 0
        },
        "id": "vyWCvpaGVA1Q",
        "outputId": "ca4f3c96-5ec1-4cba-bed8-b9a10720334a"
      },
      "execution_count": 26,
      "outputs": [
        {
          "output_type": "display_data",
          "data": {
            "text/plain": [
              "<Figure size 432x288 with 1 Axes>"
            ],
            "image/png": "[encoded data removed]"
          },
          "metadata": {}
        }
      ]
    },
    {
      "cell_type": "markdown",
      "source": [
        "# **Analisis Data Trip Duration**"
      ],
      "metadata": {
        "id": "vkb31DHjVM5M"
      }
    },
    {
      "cell_type": "code",
      "source": [
        "sns.set()\n",
        "uio['log_trip_duration'] = np.log(uio['trip_duration'].values + 1)\n",
        "plt.hist(uio['log_trip_duration'].values, bins=100)\n",
        "plt.xlabel('log(trip_duration)')\n",
        "plt.ylabel('number of train records')\n",
        "plt.show()"
      ],
      "metadata": {
        "colab": {
          "base_uri": "https://localhost:8080/",
          "height": 0
        },
        "id": "uTgwx5vTRblR",
        "outputId": "c6c143fa-a5af-4686-e90d-c8a60e04b335"
      },
      "execution_count": 27,
      "outputs": [
        {
          "output_type": "stream",
          "name": "stderr",
          "text": [
            "/usr/local/lib/python3.7/dist-packages/ipykernel_launcher.py:2: RuntimeWarning: invalid value encountered in log\n",
            "  \n"
          ]
        },
        {
          "output_type": "display_data",
          "data": {
            "text/plain": [
              "<Figure size 432x288 with 1 Axes>"
            ],
            "image/png": "[encoded data removed]"
          },
          "metadata": {}
        }
      ]
    },
    {
      "cell_type": "code",
      "source": [
        "x = uio.groupby(['vendor_id'])['log_trip_duration'].mean()\n",
        "sns.barplot(x.index, x.values)"
      ],
      "metadata": {
        "colab": {
          "base_uri": "https://localhost:8080/",
          "height": 0
        },
        "id": "mJ5wB8vrcYdp",
        "outputId": "1937f2a0-4b70-4bac-a695-13fb4c13d7dd"
      },
      "execution_count": 28,
      "outputs": [
        {
          "output_type": "stream",
          "name": "stderr",
          "text": [
            "/usr/local/lib/python3.7/dist-packages/seaborn/_decorators.py:43: FutureWarning: Pass the following variables as keyword args: x, y. From version 0.12, the only valid positional argument will be `data`, and passing other arguments without an explicit keyword will result in an error or misinterpretation.\n",
            "  FutureWarning\n"
          ]
        },
        {
          "output_type": "execute_result",
          "data": {
            "text/plain": [
              "<matplotlib.axes._subplots.AxesSubplot at 0x7fd3bc22e410>"
            ]
          },
          "metadata": {},
          "execution_count": 28
        },
        {
          "output_type": "display_data",
          "data": {
            "text/plain": [
              "<Figure size 432x288 with 1 Axes>"
            ],
            "image/png": "[encoded data removed]"
          },
          "metadata": {}
        }
      ]
    },
    {
      "cell_type": "code",
      "source": [
        "print((uio['trip_duration'].min())/60)\n",
        "print((uio['trip_duration'].max())/60)"
      ],
      "metadata": {
        "colab": {
          "base_uri": "https://localhost:8080/"
        },
        "id": "aRbR6MhEpYqt",
        "outputId": "82cfc682-3190-4ecf-f610-5fb04886ae39"
      },
      "execution_count": 29,
      "outputs": [
        {
          "output_type": "stream",
          "name": "stdout",
          "text": [
            "-6478.516666666666\n",
            "1282723.6833333333\n"
          ]
        }
      ]
    },
    {
      "cell_type": "code",
      "source": [
        "uio['trip_duration_in_minutes'] =  uio['trip_duration']/60"
      ],
      "metadata": {
        "id": "yR5ZlaTGp60y"
      },
      "execution_count": 30,
      "outputs": []
    },
    {
      "cell_type": "code",
      "source": [
        "uio = uio[(uio['trip_duration_in_minutes'] >= 0.05)]\n",
        "uio.shape"
      ],
      "metadata": {
        "colab": {
          "base_uri": "https://localhost:8080/"
        },
        "id": "VQM5obn_pkCR",
        "outputId": "813deb1c-5d4d-4bba-9098-d43a416561aa"
      },
      "execution_count": 31,
      "outputs": [
        {
          "output_type": "execute_result",
          "data": {
            "text/plain": [
              "(84203, 16)"
            ]
          },
          "metadata": {},
          "execution_count": 31
        }
      ]
    },
    {
      "cell_type": "code",
      "source": [
        "print((uio['trip_duration_in_minutes'].min()))\n",
        "print((uio['trip_duration_in_minutes'].max()))"
      ],
      "metadata": {
        "colab": {
          "base_uri": "https://localhost:8080/"
        },
        "id": "FlGD84IxWctA",
        "outputId": "5d42fb58-8898-4d2c-eaa7-57ebba9811d1"
      },
      "execution_count": 32,
      "outputs": [
        {
          "output_type": "stream",
          "name": "stdout",
          "text": [
            "0.05\n",
            "1282723.6833333333\n"
          ]
        }
      ]
    },
    {
      "cell_type": "code",
      "source": [
        "#Tidak digunakan\n",
        "\n",
        "#z_scores = stats.zscore(uio[['trip_duration_in_minutes']])\n",
        "#z_scores\n",
        "\n",
        "# Convert to absolute values\n",
        "#abs_z_scores = np.abs(z_scores)\n",
        "\n",
        "# Select data points with a z-scores above or below 3\n",
        "#filtered_entries = (abs_z_scores < 3).all(axis=1)\n",
        "# Filter the dataset\n",
        "#uio = uio[filtered_entries]\n",
        "#uio.shape"
      ],
      "metadata": {
        "id": "Cy4ho7D2pZR0"
      },
      "execution_count": 33,
      "outputs": []
    },
    {
      "cell_type": "code",
      "source": [
        "print((uio['trip_duration_in_minutes'].min()))\n",
        "print((uio['trip_duration_in_minutes'].max()))"
      ],
      "metadata": {
        "colab": {
          "base_uri": "https://localhost:8080/"
        },
        "id": "2ciKlQHZpaF5",
        "outputId": "685e6ed1-ebf8-43f8-93b7-922331c5aca5"
      },
      "execution_count": 34,
      "outputs": [
        {
          "output_type": "stream",
          "name": "stdout",
          "text": [
            "0.05\n",
            "1282723.6833333333\n"
          ]
        }
      ]
    },
    {
      "cell_type": "code",
      "source": [
        "# calculate Q1 and Q3\n",
        "Q1 = uio[['trip_duration_in_minutes']].quantile(0.25)\n",
        "Q3 = uio[['trip_duration_in_minutes']].quantile(0.75)\n",
        "\n",
        "# calculate the IQR\n",
        "IQR = Q3 - Q1\n",
        "\n",
        "# filter the dataset with the IQR\n",
        "IQR_outliers =  uio[['trip_duration_in_minutes']][(( uio[['trip_duration_in_minutes']] < (Q1 - 1.5 * IQR)) |( uio[['trip_duration_in_minutes']] > (Q3 + 1.5 * IQR))).any(axis=1)]\n",
        "min_outlier = IQR_outliers.min()\n",
        "print(min_outlier)"
      ],
      "metadata": {
        "colab": {
          "base_uri": "https://localhost:8080/"
        },
        "id": "LEzPoWnneb7Q",
        "outputId": "34b259b4-a53c-4df7-b08c-51b09d6445f1"
      },
      "execution_count": 35,
      "outputs": [
        {
          "output_type": "stream",
          "name": "stdout",
          "text": [
            "trip_duration_in_minutes    55.966667\n",
            "dtype: float64\n"
          ]
        }
      ]
    },
    {
      "cell_type": "code",
      "source": [
        "uio = uio[(uio['trip_duration_in_minutes'] < min_outlier[0])]\n",
        "uio.shape"
      ],
      "metadata": {
        "colab": {
          "base_uri": "https://localhost:8080/"
        },
        "id": "p9WFD8d1fSEI",
        "outputId": "ec514771-6c9d-4e9d-ac69-d761c99ee873"
      },
      "execution_count": 36,
      "outputs": [
        {
          "output_type": "execute_result",
          "data": {
            "text/plain": [
              "(74149, 16)"
            ]
          },
          "metadata": {},
          "execution_count": 36
        }
      ]
    },
    {
      "cell_type": "code",
      "source": [
        "sns.set()\n",
        "plt.hist(uio['log_trip_duration'].values, bins=100)\n",
        "plt.xlabel('log(trip_duration)')\n",
        "plt.ylabel('number of train records')\n",
        "plt.show()"
      ],
      "metadata": {
        "colab": {
          "base_uri": "https://localhost:8080/",
          "height": 0
        },
        "id": "SLw2gt0SU8z0",
        "outputId": "215f892b-86e7-4d38-bd94-d667244e1f1c"
      },
      "execution_count": 37,
      "outputs": [
        {
          "output_type": "display_data",
          "data": {
            "text/plain": [
              "<Figure size 432x288 with 1 Axes>"
            ],
            "image/png": "[encoded data removed]"
          },
          "metadata": {}
        }
      ]
    },
    {
      "cell_type": "markdown",
      "source": [
        "# **Analisis Data Datetime**"
      ],
      "metadata": {
        "id": "SgH--un_VbGW"
      }
    },
    {
      "cell_type": "code",
      "source": [
        "print('Pickup -> Date : max = ', uio['pickup_datetime'].dt.date.max(), ' & min = ',uio['pickup_datetime'].dt.date.min(), ' || Time : Max = ', uio['pickup_datetime'].dt.time.max(), ' & min = ', uio['pickup_datetime'].dt.time.min())\n",
        "\n",
        "print('Dropoff -> Date : max = ', uio['dropoff_datetime'].dt.date.max(), ' & min = ',uio['dropoff_datetime'].dt.date.min(), ' || Time : Max = ', uio['dropoff_datetime'].dt.time.max(), ' & min = ', uio['dropoff_datetime'].dt.time.min())"
      ],
      "metadata": {
        "colab": {
          "base_uri": "https://localhost:8080/"
        },
        "id": "BNuCfeR-LT-5",
        "outputId": "6c880e4d-d0f1-4259-99ce-762ca68b01c3"
      },
      "execution_count": 38,
      "outputs": [
        {
          "output_type": "stream",
          "name": "stdout",
          "text": [
            "Pickup -> Date : max =  2017-08-01  & min =  2016-06-22  || Time : Max =  12:59:59  & min =  01:00:00\n",
            "Dropoff -> Date : max =  2017-08-01  & min =  2016-06-22  || Time : Max =  12:59:59  & min =  01:00:01\n"
          ]
        }
      ]
    },
    {
      "cell_type": "code",
      "source": [
        "uio['diff_datetime_minutes'] = (uio['dropoff_datetime']-uio['pickup_datetime']).dt.total_seconds()/60"
      ],
      "metadata": {
        "id": "XOMnL6yxQlz6"
      },
      "execution_count": 39,
      "outputs": []
    },
    {
      "cell_type": "code",
      "source": [
        "uio[(uio['trip_duration_in_minutes'] != uio['diff_datetime_minutes'])]"
      ],
      "metadata": {
        "colab": {
          "base_uri": "https://localhost:8080/",
          "height": 0
        },
        "id": "0foMr1s7OK2o",
        "outputId": "b2066615-0323-45a0-f95a-8ecb17ec78c3"
      },
      "execution_count": 40,
      "outputs": [
        {
          "output_type": "execute_result",
          "data": {
            "text/plain": [
              "          id              vendor_id     pickup_datetime    dropoff_datetime  \\\n",
              "3          4              Monterrey 2016-09-17 09:45:56 2016-09-17 10:13:34   \n",
              "4          5              Monterrey 2016-09-17 10:12:00 2016-09-17 10:16:31   \n",
              "5          6              Monterrey 2016-09-17 10:18:20 2016-09-17 10:18:41   \n",
              "8          9              Monterrey 2016-09-17 09:48:30 2016-09-17 10:33:27   \n",
              "9         10  Guadalajara Easy Taxi 2016-09-17 10:28:23 2016-09-17 10:35:03   \n",
              "...      ...                    ...                 ...                 ...   \n",
              "90274  90275              Monterrey 2016-10-28 12:44:49 2016-10-28 01:02:20   \n",
              "90277  90278         Aguascalientes 2016-10-28 01:33:31 2016-10-28 01:44:07   \n",
              "90279  90280         Aguascalientes 2016-10-28 02:38:07 2016-10-28 02:47:53   \n",
              "90282  90283                  Quito 2016-10-25 04:58:55 2016-10-25 05:00:25   \n",
              "90285  90286                  Quito 2016-10-28 06:47:59 2016-10-28 06:58:31   \n",
              "\n",
              "       pickup_longitude  pickup_latitude  dropoff_longitude  dropoff_latitude  \\\n",
              "3              0.207565         0.590416        -100.491721         25.676294   \n",
              "4              0.128881         0.580419        -100.104166         25.643862   \n",
              "5              0.141188         0.564268        -100.186171         25.643129   \n",
              "8              0.223600         0.626796        -100.495666         25.687190   \n",
              "9              0.327517         0.390198        -103.359451         20.669558   \n",
              "...                 ...              ...                ...               ...   \n",
              "90274          0.124390         0.630560        -100.111494         25.689907   \n",
              "90277          0.276663         0.439326        -102.236014         21.880377   \n",
              "90279          0.299507         0.435571        -102.283521         21.832715   \n",
              "90282          0.706498         0.552770         -78.550306         -0.256756   \n",
              "90285          0.431407         0.724499         -78.446296         -0.327428   \n",
              "\n",
              "      store_and_fwd_flag  trip_duration  dist_meters  wait_sec  \\\n",
              "3                      N           1659        11082       358   \n",
              "4                      N            272         2021      3614   \n",
              "5                      N             22         2502       517   \n",
              "8                      N           2698         4770       292   \n",
              "9                      N            401         2733        71   \n",
              "...                  ...            ...          ...       ...   \n",
              "90274                  N           1052         9790       167   \n",
              "90277                  N            637         7591       141   \n",
              "90279                  N            587         3661      3795   \n",
              "90282                  N             91           43        70   \n",
              "90285                  N            633         3296       150   \n",
              "\n",
              "       log_dist_meters  dist_kilometers  log_trip_duration  \\\n",
              "3             9.313168           11.082           7.414573   \n",
              "4             7.611842            2.021           5.609472   \n",
              "5             7.825245            2.502           3.135494   \n",
              "8             8.470311            4.770           7.900637   \n",
              "9             7.913521            2.733           5.996452   \n",
              "...                ...              ...                ...   \n",
              "90274         9.189219            9.790           6.959399   \n",
              "90277         8.934850            7.591           6.458338   \n",
              "90279         8.205765            3.661           6.376727   \n",
              "90282         3.784190            0.043           4.521789   \n",
              "90285         8.100768            3.296           6.452049   \n",
              "\n",
              "       trip_duration_in_minutes  diff_datetime_minutes  \n",
              "3                     27.650000              27.633333  \n",
              "4                      4.533333               4.516667  \n",
              "5                      0.366667               0.350000  \n",
              "8                     44.966667              44.950000  \n",
              "9                      6.683333               6.666667  \n",
              "...                         ...                    ...  \n",
              "90274                 17.533333            -702.483333  \n",
              "90277                 10.616667              10.600000  \n",
              "90279                  9.783333               9.766667  \n",
              "90282                  1.516667               1.500000  \n",
              "90285                 10.550000              10.533333  \n",
              "\n",
              "[42317 rows x 17 columns]"
            ],
            "text/html": [
              "\n",
              "  <div id=\"df-a3715c33-1f25-43c6-a7b6-75bb49aabdf3\">\n",
              "    <div class=\"colab-df-container\">\n",
              "      <div>\n",
              "<style scoped>\n",
              "    .dataframe tbody tr th:only-of-type {\n",
              "        vertical-align: middle;\n",
              "    }\n",
              "\n",
              "    .dataframe tbody tr th {\n",
              "        vertical-align: top;\n",
              "    }\n",
              "\n",
              "    .dataframe thead th {\n",
              "        text-align: right;\n",
              "    }\n",
              "</style>\n",
              "<table border=\"1\" class=\"dataframe\">\n",
              "  <thead>\n",
              "    <tr style=\"text-align: right;\">\n",
              "      <th></th>\n",
              "      <th>id</th>\n",
              "      <th>vendor_id</th>\n",
              "      <th>pickup_datetime</th>\n",
              "      <th>dropoff_datetime</th>\n",
              "      <th>pickup_longitude</th>\n",
              "      <th>pickup_latitude</th>\n",
              "      <th>dropoff_longitude</th>\n",
              "      <th>dropoff_latitude</th>\n",
              "      <th>store_and_fwd_flag</th>\n",
              "      <th>trip_duration</th>\n",
              "      <th>dist_meters</th>\n",
              "      <th>wait_sec</th>\n",
              "      <th>log_dist_meters</th>\n",
              "      <th>dist_kilometers</th>\n",
              "      <th>log_trip_duration</th>\n",
              "      <th>trip_duration_in_minutes</th>\n",
              "      <th>diff_datetime_minutes</th>\n",
              "    </tr>\n",
              "  </thead>\n",
              "  <tbody>\n",
              "    <tr>\n",
              "      <th>3</th>\n",
              "      <td>4</td>\n",
              "      <td>Monterrey</td>\n",
              "      <td>2016-09-17 09:45:56</td>\n",
              "      <td>2016-09-17 10:13:34</td>\n",
              "      <td>0.207565</td>\n",
              "      <td>0.590416</td>\n",
              "      <td>-100.491721</td>\n",
              "      <td>25.676294</td>\n",
              "      <td>N</td>\n",
              "      <td>1659</td>\n",
              "      <td>11082</td>\n",
              "      <td>358</td>\n",
              "      <td>9.313168</td>\n",
              "      <td>11.082</td>\n",
              "      <td>7.414573</td>\n",
              "      <td>27.650000</td>\n",
              "      <td>27.633333</td>\n",
              "    </tr>\n",
              "    <tr>\n",
              "      <th>4</th>\n",
              "      <td>5</td>\n",
              "      <td>Monterrey</td>\n",
              "      <td>2016-09-17 10:12:00</td>\n",
              "      <td>2016-09-17 10:16:31</td>\n",
              "      <td>0.128881</td>\n",
              "      <td>0.580419</td>\n",
              "      <td>-100.104166</td>\n",
              "      <td>25.643862</td>\n",
              "      <td>N</td>\n",
              "      <td>272</td>\n",
              "      <td>2021</td>\n",
              "      <td>3614</td>\n",
              "      <td>7.611842</td>\n",
              "      <td>2.021</td>\n",
              "      <td>5.609472</td>\n",
              "      <td>4.533333</td>\n",
              "      <td>4.516667</td>\n",
              "    </tr>\n",
              "    <tr>\n",
              "      <th>5</th>\n",
              "      <td>6</td>\n",
              "      <td>Monterrey</td>\n",
              "      <td>2016-09-17 10:18:20</td>\n",
              "      <td>2016-09-17 10:18:41</td>\n",
              "      <td>0.141188</td>\n",
              "      <td>0.564268</td>\n",
              "      <td>-100.186171</td>\n",
              "      <td>25.643129</td>\n",
              "      <td>N</td>\n",
              "      <td>22</td>\n",
              "      <td>2502</td>\n",
              "      <td>517</td>\n",
              "      <td>7.825245</td>\n",
              "      <td>2.502</td>\n",
              "      <td>3.135494</td>\n",
              "      <td>0.366667</td>\n",
              "      <td>0.350000</td>\n",
              "    </tr>\n",
              "    <tr>\n",
              "      <th>8</th>\n",
              "      <td>9</td>\n",
              "      <td>Monterrey</td>\n",
              "      <td>2016-09-17 09:48:30</td>\n",
              "      <td>2016-09-17 10:33:27</td>\n",
              "      <td>0.223600</td>\n",
              "      <td>0.626796</td>\n",
              "      <td>-100.495666</td>\n",
              "      <td>25.687190</td>\n",
              "      <td>N</td>\n",
              "      <td>2698</td>\n",
              "      <td>4770</td>\n",
              "      <td>292</td>\n",
              "      <td>8.470311</td>\n",
              "      <td>4.770</td>\n",
              "      <td>7.900637</td>\n",
              "      <td>44.966667</td>\n",
              "      <td>44.950000</td>\n",
              "    </tr>\n",
              "    <tr>\n",
              "      <th>9</th>\n",
              "      <td>10</td>\n",
              "      <td>Guadalajara Easy Taxi</td>\n",
              "      <td>2016-09-17 10:28:23</td>\n",
              "      <td>2016-09-17 10:35:03</td>\n",
              "      <td>0.327517</td>\n",
              "      <td>0.390198</td>\n",
              "      <td>-103.359451</td>\n",
              "      <td>20.669558</td>\n",
              "      <td>N</td>\n",
              "      <td>401</td>\n",
              "      <td>2733</td>\n",
              "      <td>71</td>\n",
              "      <td>7.913521</td>\n",
              "      <td>2.733</td>\n",
              "      <td>5.996452</td>\n",
              "      <td>6.683333</td>\n",
              "      <td>6.666667</td>\n",
              "    </tr>\n",
              "    <tr>\n",
              "      <th>...</th>\n",
              "      <td>...</td>\n",
              "      <td>...</td>\n",
              "      <td>...</td>\n",
              "      <td>...</td>\n",
              "      <td>...</td>\n",
              "      <td>...</td>\n",
              "      <td>...</td>\n",
              "      <td>...</td>\n",
              "      <td>...</td>\n",
              "      <td>...</td>\n",
              "      <td>...</td>\n",
              "      <td>...</td>\n",
              "      <td>...</td>\n",
              "      <td>...</td>\n",
              "      <td>...</td>\n",
              "      <td>...</td>\n",
              "      <td>...</td>\n",
              "    </tr>\n",
              "    <tr>\n",
              "      <th>90274</th>\n",
              "      <td>90275</td>\n",
              "      <td>Monterrey</td>\n",
              "      <td>2016-10-28 12:44:49</td>\n",
              "      <td>2016-10-28 01:02:20</td>\n",
              "      <td>0.124390</td>\n",
              "      <td>0.630560</td>\n",
              "      <td>-100.111494</td>\n",
              "      <td>25.689907</td>\n",
              "      <td>N</td>\n",
              "      <td>1052</td>\n",
              "      <td>9790</td>\n",
              "      <td>167</td>\n",
              "      <td>9.189219</td>\n",
              "      <td>9.790</td>\n",
              "      <td>6.959399</td>\n",
              "      <td>17.533333</td>\n",
              "      <td>-702.483333</td>\n",
              "    </tr>\n",
              "    <tr>\n",
              "      <th>90277</th>\n",
              "      <td>90278</td>\n",
              "      <td>Aguascalientes</td>\n",
              "      <td>2016-10-28 01:33:31</td>\n",
              "      <td>2016-10-28 01:44:07</td>\n",
              "      <td>0.276663</td>\n",
              "      <td>0.439326</td>\n",
              "      <td>-102.236014</td>\n",
              "      <td>21.880377</td>\n",
              "      <td>N</td>\n",
              "      <td>637</td>\n",
              "      <td>7591</td>\n",
              "      <td>141</td>\n",
              "      <td>8.934850</td>\n",
              "      <td>7.591</td>\n",
              "      <td>6.458338</td>\n",
              "      <td>10.616667</td>\n",
              "      <td>10.600000</td>\n",
              "    </tr>\n",
              "    <tr>\n",
              "      <th>90279</th>\n",
              "      <td>90280</td>\n",
              "      <td>Aguascalientes</td>\n",
              "      <td>2016-10-28 02:38:07</td>\n",
              "      <td>2016-10-28 02:47:53</td>\n",
              "      <td>0.299507</td>\n",
              "      <td>0.435571</td>\n",
              "      <td>-102.283521</td>\n",
              "      <td>21.832715</td>\n",
              "      <td>N</td>\n",
              "      <td>587</td>\n",
              "      <td>3661</td>\n",
              "      <td>3795</td>\n",
              "      <td>8.205765</td>\n",
              "      <td>3.661</td>\n",
              "      <td>6.376727</td>\n",
              "      <td>9.783333</td>\n",
              "      <td>9.766667</td>\n",
              "    </tr>\n",
              "    <tr>\n",
              "      <th>90282</th>\n",
              "      <td>90283</td>\n",
              "      <td>Quito</td>\n",
              "      <td>2016-10-25 04:58:55</td>\n",
              "      <td>2016-10-25 05:00:25</td>\n",
              "      <td>0.706498</td>\n",
              "      <td>0.552770</td>\n",
              "      <td>-78.550306</td>\n",
              "      <td>-0.256756</td>\n",
              "      <td>N</td>\n",
              "      <td>91</td>\n",
              "      <td>43</td>\n",
              "      <td>70</td>\n",
              "      <td>3.784190</td>\n",
              "      <td>0.043</td>\n",
              "      <td>4.521789</td>\n",
              "      <td>1.516667</td>\n",
              "      <td>1.500000</td>\n",
              "    </tr>\n",
              "    <tr>\n",
              "      <th>90285</th>\n",
              "      <td>90286</td>\n",
              "      <td>Quito</td>\n",
              "      <td>2016-10-28 06:47:59</td>\n",
              "      <td>2016-10-28 06:58:31</td>\n",
              "      <td>0.431407</td>\n",
              "      <td>0.724499</td>\n",
              "      <td>-78.446296</td>\n",
              "      <td>-0.327428</td>\n",
              "      <td>N</td>\n",
              "      <td>633</td>\n",
              "      <td>3296</td>\n",
              "      <td>150</td>\n",
              "      <td>8.100768</td>\n",
              "      <td>3.296</td>\n",
              "      <td>6.452049</td>\n",
              "      <td>10.550000</td>\n",
              "      <td>10.533333</td>\n",
              "    </tr>\n",
              "  </tbody>\n",
              "</table>\n",
              "<p>42317 rows × 17 columns</p>\n",
              "</div>\n",
              "      <button class=\"colab-df-convert\" onclick=\"convertToInteractive('df-a3715c33-1f25-43c6-a7b6-75bb49aabdf3')\"\n",
              "              title=\"Convert this dataframe to an interactive table.\"\n",
              "              style=\"display:none;\">\n",
              "        \n",
              "  <svg xmlns=\"http://www.w3.org/2000/svg\" height=\"24px\"viewBox=\"0 0 24 24\"\n",
              "       width=\"24px\">\n",
              "    <path d=\"M0 0h24v24H0V0z\" fill=\"none\"/>\n",
              "    <path d=\"M18.56 5.44l.94 2.06.94-2.06 2.06-.94-2.06-.94-.94-2.06-.94 2.06-2.06.94zm-11 1L8.5 8.5l.94-2.06 2.06-.94-2.06-.94L8.5 2.5l-.94 2.06-2.06.94zm10 10l.94 2.06.94-2.06 2.06-.94-2.06-.94-.94-2.06-.94 2.06-2.06.94z\"/><path d=\"M17.41 7.96l-1.37-1.37c-.4-.4-.92-.59-1.43-.59-.52 0-1.04.2-1.43.59L10.3 9.45l-7.72 7.72c-.78.78-.78 2.05 0 2.83L4 21.41c.39.39.9.59 1.41.59.51 0 1.02-.2 1.41-.59l7.78-7.78 2.81-2.81c.8-.78.8-2.07 0-2.86zM5.41 20L4 18.59l7.72-7.72 1.47 1.35L5.41 20z\"/>\n",
              "  </svg>\n",
              "      </button>\n",
              "      \n",
              "  <style>\n",
              "    .colab-df-container {\n",
              "      display:flex;\n",
              "      flex-wrap:wrap;\n",
              "      gap: 12px;\n",
              "    }\n",
              "\n",
              "    .colab-df-convert {\n",
              "      background-color: #E8F0FE;\n",
              "      border: none;\n",
              "      border-radius: 50%;\n",
              "      cursor: pointer;\n",
              "      display: none;\n",
              "      fill: #1967D2;\n",
              "      height: 32px;\n",
              "      padding: 0 0 0 0;\n",
              "      width: 32px;\n",
              "    }\n",
              "\n",
              "    .colab-df-convert:hover {\n",
              "      background-color: #E2EBFA;\n",
              "      box-shadow: 0px 1px 2px rgba(60, 64, 67, 0.3), 0px 1px 3px 1px rgba(60, 64, 67, 0.15);\n",
              "      fill: #174EA6;\n",
              "    }\n",
              "\n",
              "    [theme=dark] .colab-df-convert {\n",
              "      background-color: #3B4455;\n",
              "      fill: #D2E3FC;\n",
              "    }\n",
              "\n",
              "    [theme=dark] .colab-df-convert:hover {\n",
              "      background-color: #434B5C;\n",
              "      box-shadow: 0px 1px 3px 1px rgba(0, 0, 0, 0.15);\n",
              "      filter: drop-shadow(0px 1px 2px rgba(0, 0, 0, 0.3));\n",
              "      fill: #FFFFFF;\n",
              "    }\n",
              "  </style>\n",
              "\n",
              "      <script>\n",
              "        const buttonEl =\n",
              "          document.querySelector('#df-a3715c33-1f25-43c6-a7b6-75bb49aabdf3 button.colab-df-convert');\n",
              "        buttonEl.style.display =\n",
              "          google.colab.kernel.accessAllowed ? 'block' : 'none';\n",
              "\n",
              "        async function convertToInteractive(key) {\n",
              "          const element = document.querySelector('#df-a3715c33-1f25-43c6-a7b6-75bb49aabdf3');\n",
              "          const dataTable =\n",
              "            await google.colab.kernel.invokeFunction('convertToInteractive',\n",
              "                                                     [key], {});\n",
              "          if (!dataTable) return;\n",
              "\n",
              "          const docLinkHtml = 'Like what you see? Visit the ' +\n",
              "            '<a target=\"_blank\" href=https://colab.research.google.com/notebooks/data_table.ipynb>data table notebook</a>'\n",
              "            + ' to learn more about interactive tables.';\n",
              "          element.innerHTML = '';\n",
              "          dataTable['output_type'] = 'display_data';\n",
              "          await google.colab.output.renderOutput(dataTable, element);\n",
              "          const docLink = document.createElement('div');\n",
              "          docLink.innerHTML = docLinkHtml;\n",
              "          element.appendChild(docLink);\n",
              "        }\n",
              "      </script>\n",
              "    </div>\n",
              "  </div>\n",
              "  "
            ]
          },
          "metadata": {},
          "execution_count": 40
        }
      ]
    },
    {
      "cell_type": "code",
      "source": [
        "uio[(uio['diff_datetime_minutes'] < 0)]"
      ],
      "metadata": {
        "colab": {
          "base_uri": "https://localhost:8080/",
          "height": 0
        },
        "id": "pLQPHv7QhvN7",
        "outputId": "c00ad1b1-928d-4dbf-9c14-687a23924692"
      },
      "execution_count": 41,
      "outputs": [
        {
          "output_type": "execute_result",
          "data": {
            "text/plain": [
              "          id              vendor_id     pickup_datetime    dropoff_datetime  \\\n",
              "177      178              Monterrey 2016-09-19 12:34:44 2016-09-19 01:02:40   \n",
              "268      269                  Quito 2016-09-19 12:45:43 2016-09-19 01:00:52   \n",
              "269      270              Monterrey 2016-09-19 12:54:12 2016-09-19 01:00:40   \n",
              "270      271              Monterrey 2016-09-19 12:57:45 2016-09-19 01:04:11   \n",
              "271      272           PanamÃ¡ Uber 2016-09-19 12:48:59 2016-09-19 01:06:47   \n",
              "...      ...                    ...                 ...                 ...   \n",
              "90048  90049                BogotÃ¡ 2016-10-27 12:40:50 2016-10-27 01:04:02   \n",
              "90135  90136  MÃ©xico DF Taxi Libre 2016-10-27 12:49:57 2016-10-27 01:08:23   \n",
              "90136  90137                  Quito 2016-10-27 12:54:36 2016-10-27 01:10:07   \n",
              "90139  90140                BogotÃ¡ 2016-10-27 12:28:22 2016-10-27 01:16:58   \n",
              "90274  90275              Monterrey 2016-10-28 12:44:49 2016-10-28 01:02:20   \n",
              "\n",
              "       pickup_longitude  pickup_latitude  dropoff_longitude  dropoff_latitude  \\\n",
              "177            0.147126         0.641653        -100.246960         25.828563   \n",
              "268            0.569074         0.121326         -78.498795         -0.124477   \n",
              "269            0.127992         0.580993        -100.086151         25.637116   \n",
              "270            0.142814         0.575577        -100.153109         25.629900   \n",
              "271            0.751566         0.004105         -79.517449          9.008469   \n",
              "...                 ...              ...                ...               ...   \n",
              "90048          0.385719         0.747575         -74.102671          4.716681   \n",
              "90135          0.009819         0.253854         -99.052842         19.325263   \n",
              "90136          0.467672         0.083624         -78.483215         -0.142045   \n",
              "90139          0.371022         0.764480         -74.042396          4.708566   \n",
              "90274          0.124390         0.630560        -100.111494         25.689907   \n",
              "\n",
              "      store_and_fwd_flag  trip_duration  dist_meters  wait_sec  \\\n",
              "177                    N           1676        17843       501   \n",
              "268                    N            909         4550       356   \n",
              "269                    N            388         3583      3637   \n",
              "270                    N            387         3671        60   \n",
              "271                    N           1068         3866       188   \n",
              "...                  ...            ...          ...       ...   \n",
              "90048                  N           1392        17635       139   \n",
              "90135                  N           1106         4251       277   \n",
              "90136                  N            931         2964       280   \n",
              "90139                  N           2917        10994      1401   \n",
              "90274                  N           1052         9790       167   \n",
              "\n",
              "       log_dist_meters  dist_kilometers  log_trip_duration  \\\n",
              "177           9.789423           17.843           7.424762   \n",
              "268           8.423102            4.550           6.813445   \n",
              "269           8.184235            3.583           5.963579   \n",
              "270           8.208492            3.671           5.961005   \n",
              "271           8.260234            3.866           6.974479   \n",
              "...                ...              ...                ...   \n",
              "90048         9.777698           17.635           7.239215   \n",
              "90135         8.355145            4.251           7.009409   \n",
              "90136         7.994632            2.964           6.837333   \n",
              "90139         9.305196           10.994           7.978654   \n",
              "90274         9.189219            9.790           6.959399   \n",
              "\n",
              "       trip_duration_in_minutes  diff_datetime_minutes  \n",
              "177                   27.933333            -692.066667  \n",
              "268                   15.150000            -704.850000  \n",
              "269                    6.466667            -713.533333  \n",
              "270                    6.450000            -713.566667  \n",
              "271                   17.800000            -702.200000  \n",
              "...                         ...                    ...  \n",
              "90048                 23.200000            -696.800000  \n",
              "90135                 18.433333            -701.566667  \n",
              "90136                 15.516667            -704.483333  \n",
              "90139                 48.616667            -671.400000  \n",
              "90274                 17.533333            -702.483333  \n",
              "\n",
              "[1221 rows x 17 columns]"
            ],
            "text/html": [
              "\n",
              "  <div id=\"df-41a303de-8004-401a-85bf-a8f70b450f48\">\n",
              "    <div class=\"colab-df-container\">\n",
              "      <div>\n",
              "<style scoped>\n",
              "    .dataframe tbody tr th:only-of-type {\n",
              "        vertical-align: middle;\n",
              "    }\n",
              "\n",
              "    .dataframe tbody tr th {\n",
              "        vertical-align: top;\n",
              "    }\n",
              "\n",
              "    .dataframe thead th {\n",
              "        text-align: right;\n",
              "    }\n",
              "</style>\n",
              "<table border=\"1\" class=\"dataframe\">\n",
              "  <thead>\n",
              "    <tr style=\"text-align: right;\">\n",
              "      <th></th>\n",
              "      <th>id</th>\n",
              "      <th>vendor_id</th>\n",
              "      <th>pickup_datetime</th>\n",
              "      <th>dropoff_datetime</th>\n",
              "      <th>pickup_longitude</th>\n",
              "      <th>pickup_latitude</th>\n",
              "      <th>dropoff_longitude</th>\n",
              "      <th>dropoff_latitude</th>\n",
              "      <th>store_and_fwd_flag</th>\n",
              "      <th>trip_duration</th>\n",
              "      <th>dist_meters</th>\n",
              "      <th>wait_sec</th>\n",
              "      <th>log_dist_meters</th>\n",
              "      <th>dist_kilometers</th>\n",
              "      <th>log_trip_duration</th>\n",
              "      <th>trip_duration_in_minutes</th>\n",
              "      <th>diff_datetime_minutes</th>\n",
              "    </tr>\n",
              "  </thead>\n",
              "  <tbody>\n",
              "    <tr>\n",
              "      <th>177</th>\n",
              "      <td>178</td>\n",
              "      <td>Monterrey</td>\n",
              "      <td>2016-09-19 12:34:44</td>\n",
              "      <td>2016-09-19 01:02:40</td>\n",
              "      <td>0.147126</td>\n",
              "      <td>0.641653</td>\n",
              "      <td>-100.246960</td>\n",
              "      <td>25.828563</td>\n",
              "      <td>N</td>\n",
              "      <td>1676</td>\n",
              "      <td>17843</td>\n",
              "      <td>501</td>\n",
              "      <td>9.789423</td>\n",
              "      <td>17.843</td>\n",
              "      <td>7.424762</td>\n",
              "      <td>27.933333</td>\n",
              "      <td>-692.066667</td>\n",
              "    </tr>\n",
              "    <tr>\n",
              "      <th>268</th>\n",
              "      <td>269</td>\n",
              "      <td>Quito</td>\n",
              "      <td>2016-09-19 12:45:43</td>\n",
              "      <td>2016-09-19 01:00:52</td>\n",
              "      <td>0.569074</td>\n",
              "      <td>0.121326</td>\n",
              "      <td>-78.498795</td>\n",
              "      <td>-0.124477</td>\n",
              "      <td>N</td>\n",
              "      <td>909</td>\n",
              "      <td>4550</td>\n",
              "      <td>356</td>\n",
              "      <td>8.423102</td>\n",
              "      <td>4.550</td>\n",
              "      <td>6.813445</td>\n",
              "      <td>15.150000</td>\n",
              "      <td>-704.850000</td>\n",
              "    </tr>\n",
              "    <tr>\n",
              "      <th>269</th>\n",
              "      <td>270</td>\n",
              "      <td>Monterrey</td>\n",
              "      <td>2016-09-19 12:54:12</td>\n",
              "      <td>2016-09-19 01:00:40</td>\n",
              "      <td>0.127992</td>\n",
              "      <td>0.580993</td>\n",
              "      <td>-100.086151</td>\n",
              "      <td>25.637116</td>\n",
              "      <td>N</td>\n",
              "      <td>388</td>\n",
              "      <td>3583</td>\n",
              "      <td>3637</td>\n",
              "      <td>8.184235</td>\n",
              "      <td>3.583</td>\n",
              "      <td>5.963579</td>\n",
              "      <td>6.466667</td>\n",
              "      <td>-713.533333</td>\n",
              "    </tr>\n",
              "    <tr>\n",
              "      <th>270</th>\n",
              "      <td>271</td>\n",
              "      <td>Monterrey</td>\n",
              "      <td>2016-09-19 12:57:45</td>\n",
              "      <td>2016-09-19 01:04:11</td>\n",
              "      <td>0.142814</td>\n",
              "      <td>0.575577</td>\n",
              "      <td>-100.153109</td>\n",
              "      <td>25.629900</td>\n",
              "      <td>N</td>\n",
              "      <td>387</td>\n",
              "      <td>3671</td>\n",
              "      <td>60</td>\n",
              "      <td>8.208492</td>\n",
              "      <td>3.671</td>\n",
              "      <td>5.961005</td>\n",
              "      <td>6.450000</td>\n",
              "      <td>-713.566667</td>\n",
              "    </tr>\n",
              "    <tr>\n",
              "      <th>271</th>\n",
              "      <td>272</td>\n",
              "      <td>PanamÃ¡ Uber</td>\n",
              "      <td>2016-09-19 12:48:59</td>\n",
              "      <td>2016-09-19 01:06:47</td>\n",
              "      <td>0.751566</td>\n",
              "      <td>0.004105</td>\n",
              "      <td>-79.517449</td>\n",
              "      <td>9.008469</td>\n",
              "      <td>N</td>\n",
              "      <td>1068</td>\n",
              "      <td>3866</td>\n",
              "      <td>188</td>\n",
              "      <td>8.260234</td>\n",
              "      <td>3.866</td>\n",
              "      <td>6.974479</td>\n",
              "      <td>17.800000</td>\n",
              "      <td>-702.200000</td>\n",
              "    </tr>\n",
              "    <tr>\n",
              "      <th>...</th>\n",
              "      <td>...</td>\n",
              "      <td>...</td>\n",
              "      <td>...</td>\n",
              "      <td>...</td>\n",
              "      <td>...</td>\n",
              "      <td>...</td>\n",
              "      <td>...</td>\n",
              "      <td>...</td>\n",
              "      <td>...</td>\n",
              "      <td>...</td>\n",
              "      <td>...</td>\n",
              "      <td>...</td>\n",
              "      <td>...</td>\n",
              "      <td>...</td>\n",
              "      <td>...</td>\n",
              "      <td>...</td>\n",
              "      <td>...</td>\n",
              "    </tr>\n",
              "    <tr>\n",
              "      <th>90048</th>\n",
              "      <td>90049</td>\n",
              "      <td>BogotÃ¡</td>\n",
              "      <td>2016-10-27 12:40:50</td>\n",
              "      <td>2016-10-27 01:04:02</td>\n",
              "      <td>0.385719</td>\n",
              "      <td>0.747575</td>\n",
              "      <td>-74.102671</td>\n",
              "      <td>4.716681</td>\n",
              "      <td>N</td>\n",
              "      <td>1392</td>\n",
              "      <td>17635</td>\n",
              "      <td>139</td>\n",
              "      <td>9.777698</td>\n",
              "      <td>17.635</td>\n",
              "      <td>7.239215</td>\n",
              "      <td>23.200000</td>\n",
              "      <td>-696.800000</td>\n",
              "    </tr>\n",
              "    <tr>\n",
              "      <th>90135</th>\n",
              "      <td>90136</td>\n",
              "      <td>MÃ©xico DF Taxi Libre</td>\n",
              "      <td>2016-10-27 12:49:57</td>\n",
              "      <td>2016-10-27 01:08:23</td>\n",
              "      <td>0.009819</td>\n",
              "      <td>0.253854</td>\n",
              "      <td>-99.052842</td>\n",
              "      <td>19.325263</td>\n",
              "      <td>N</td>\n",
              "      <td>1106</td>\n",
              "      <td>4251</td>\n",
              "      <td>277</td>\n",
              "      <td>8.355145</td>\n",
              "      <td>4.251</td>\n",
              "      <td>7.009409</td>\n",
              "      <td>18.433333</td>\n",
              "      <td>-701.566667</td>\n",
              "    </tr>\n",
              "    <tr>\n",
              "      <th>90136</th>\n",
              "      <td>90137</td>\n",
              "      <td>Quito</td>\n",
              "      <td>2016-10-27 12:54:36</td>\n",
              "      <td>2016-10-27 01:10:07</td>\n",
              "      <td>0.467672</td>\n",
              "      <td>0.083624</td>\n",
              "      <td>-78.483215</td>\n",
              "      <td>-0.142045</td>\n",
              "      <td>N</td>\n",
              "      <td>931</td>\n",
              "      <td>2964</td>\n",
              "      <td>280</td>\n",
              "      <td>7.994632</td>\n",
              "      <td>2.964</td>\n",
              "      <td>6.837333</td>\n",
              "      <td>15.516667</td>\n",
              "      <td>-704.483333</td>\n",
              "    </tr>\n",
              "    <tr>\n",
              "      <th>90139</th>\n",
              "      <td>90140</td>\n",
              "      <td>BogotÃ¡</td>\n",
              "      <td>2016-10-27 12:28:22</td>\n",
              "      <td>2016-10-27 01:16:58</td>\n",
              "      <td>0.371022</td>\n",
              "      <td>0.764480</td>\n",
              "      <td>-74.042396</td>\n",
              "      <td>4.708566</td>\n",
              "      <td>N</td>\n",
              "      <td>2917</td>\n",
              "      <td>10994</td>\n",
              "      <td>1401</td>\n",
              "      <td>9.305196</td>\n",
              "      <td>10.994</td>\n",
              "      <td>7.978654</td>\n",
              "      <td>48.616667</td>\n",
              "      <td>-671.400000</td>\n",
              "    </tr>\n",
              "    <tr>\n",
              "      <th>90274</th>\n",
              "      <td>90275</td>\n",
              "      <td>Monterrey</td>\n",
              "      <td>2016-10-28 12:44:49</td>\n",
              "      <td>2016-10-28 01:02:20</td>\n",
              "      <td>0.124390</td>\n",
              "      <td>0.630560</td>\n",
              "      <td>-100.111494</td>\n",
              "      <td>25.689907</td>\n",
              "      <td>N</td>\n",
              "      <td>1052</td>\n",
              "      <td>9790</td>\n",
              "      <td>167</td>\n",
              "      <td>9.189219</td>\n",
              "      <td>9.790</td>\n",
              "      <td>6.959399</td>\n",
              "      <td>17.533333</td>\n",
              "      <td>-702.483333</td>\n",
              "    </tr>\n",
              "  </tbody>\n",
              "</table>\n",
              "<p>1221 rows × 17 columns</p>\n",
              "</div>\n",
              "      <button class=\"colab-df-convert\" onclick=\"convertToInteractive('df-41a303de-8004-401a-85bf-a8f70b450f48')\"\n",
              "              title=\"Convert this dataframe to an interactive table.\"\n",
              "              style=\"display:none;\">\n",
              "        \n",
              "  <svg xmlns=\"http://www.w3.org/2000/svg\" height=\"24px\"viewBox=\"0 0 24 24\"\n",
              "       width=\"24px\">\n",
              "    <path d=\"M0 0h24v24H0V0z\" fill=\"none\"/>\n",
              "    <path d=\"M18.56 5.44l.94 2.06.94-2.06 2.06-.94-2.06-.94-.94-2.06-.94 2.06-2.06.94zm-11 1L8.5 8.5l.94-2.06 2.06-.94-2.06-.94L8.5 2.5l-.94 2.06-2.06.94zm10 10l.94 2.06.94-2.06 2.06-.94-2.06-.94-.94-2.06-.94 2.06-2.06.94z\"/><path d=\"M17.41 7.96l-1.37-1.37c-.4-.4-.92-.59-1.43-.59-.52 0-1.04.2-1.43.59L10.3 9.45l-7.72 7.72c-.78.78-.78 2.05 0 2.83L4 21.41c.39.39.9.59 1.41.59.51 0 1.02-.2 1.41-.59l7.78-7.78 2.81-2.81c.8-.78.8-2.07 0-2.86zM5.41 20L4 18.59l7.72-7.72 1.47 1.35L5.41 20z\"/>\n",
              "  </svg>\n",
              "      </button>\n",
              "      \n",
              "  <style>\n",
              "    .colab-df-container {\n",
              "      display:flex;\n",
              "      flex-wrap:wrap;\n",
              "      gap: 12px;\n",
              "    }\n",
              "\n",
              "    .colab-df-convert {\n",
              "      background-color: #E8F0FE;\n",
              "      border: none;\n",
              "      border-radius: 50%;\n",
              "      cursor: pointer;\n",
              "      display: none;\n",
              "      fill: #1967D2;\n",
              "      height: 32px;\n",
              "      padding: 0 0 0 0;\n",
              "      width: 32px;\n",
              "    }\n",
              "\n",
              "    .colab-df-convert:hover {\n",
              "      background-color: #E2EBFA;\n",
              "      box-shadow: 0px 1px 2px rgba(60, 64, 67, 0.3), 0px 1px 3px 1px rgba(60, 64, 67, 0.15);\n",
              "      fill: #174EA6;\n",
              "    }\n",
              "\n",
              "    [theme=dark] .colab-df-convert {\n",
              "      background-color: #3B4455;\n",
              "      fill: #D2E3FC;\n",
              "    }\n",
              "\n",
              "    [theme=dark] .colab-df-convert:hover {\n",
              "      background-color: #434B5C;\n",
              "      box-shadow: 0px 1px 3px 1px rgba(0, 0, 0, 0.15);\n",
              "      filter: drop-shadow(0px 1px 2px rgba(0, 0, 0, 0.3));\n",
              "      fill: #FFFFFF;\n",
              "    }\n",
              "  </style>\n",
              "\n",
              "      <script>\n",
              "        const buttonEl =\n",
              "          document.querySelector('#df-41a303de-8004-401a-85bf-a8f70b450f48 button.colab-df-convert');\n",
              "        buttonEl.style.display =\n",
              "          google.colab.kernel.accessAllowed ? 'block' : 'none';\n",
              "\n",
              "        async function convertToInteractive(key) {\n",
              "          const element = document.querySelector('#df-41a303de-8004-401a-85bf-a8f70b450f48');\n",
              "          const dataTable =\n",
              "            await google.colab.kernel.invokeFunction('convertToInteractive',\n",
              "                                                     [key], {});\n",
              "          if (!dataTable) return;\n",
              "\n",
              "          const docLinkHtml = 'Like what you see? Visit the ' +\n",
              "            '<a target=\"_blank\" href=https://colab.research.google.com/notebooks/data_table.ipynb>data table notebook</a>'\n",
              "            + ' to learn more about interactive tables.';\n",
              "          element.innerHTML = '';\n",
              "          dataTable['output_type'] = 'display_data';\n",
              "          await google.colab.output.renderOutput(dataTable, element);\n",
              "          const docLink = document.createElement('div');\n",
              "          docLink.innerHTML = docLinkHtml;\n",
              "          element.appendChild(docLink);\n",
              "        }\n",
              "      </script>\n",
              "    </div>\n",
              "  </div>\n",
              "  "
            ]
          },
          "metadata": {},
          "execution_count": 41
        }
      ]
    },
    {
      "cell_type": "code",
      "source": [
        "uio = uio[(uio['diff_datetime_minutes'] >= 0)]\n",
        "uio.shape"
      ],
      "metadata": {
        "colab": {
          "base_uri": "https://localhost:8080/"
        },
        "id": "ihyGMWO_XfLp",
        "outputId": "9f7aa1a2-61ff-4cd2-e059-646faf230920"
      },
      "execution_count": 42,
      "outputs": [
        {
          "output_type": "execute_result",
          "data": {
            "text/plain": [
              "(72928, 17)"
            ]
          },
          "metadata": {},
          "execution_count": 42
        }
      ]
    },
    {
      "cell_type": "markdown",
      "source": [
        "# **Data Trip Duration VS Datetime**"
      ],
      "metadata": {
        "id": "btxUJOi-UFT6"
      }
    },
    {
      "cell_type": "code",
      "source": [
        "uio['pickup_month'] = uio['pickup_datetime'].dt.month\n",
        "uio['pickup_year'] = uio['pickup_datetime'].dt.year\n",
        "uio['pickup_day'] = uio['pickup_datetime'].dt.day\n",
        "uio['pickup_hour'] = uio['pickup_datetime'].dt.hour\n",
        "uio['pickup_minute'] = uio['pickup_datetime'].dt.minute\n",
        "uio['pickup_day_of_week'] = uio['pickup_datetime'].dt.dayofweek"
      ],
      "metadata": {
        "id": "YVUJ0--CULQP",
        "colab": {
          "base_uri": "https://localhost:8080/"
        },
        "outputId": "c0696901-780d-4971-9a46-93c2dfcad8c9"
      },
      "execution_count": 43,
      "outputs": [
        {
          "output_type": "stream",
          "name": "stderr",
          "text": [
            "/usr/local/lib/python3.7/dist-packages/ipykernel_launcher.py:1: SettingWithCopyWarning: \n",
            "A value is trying to be set on a copy of a slice from a DataFrame.\n",
            "Try using .loc[row_indexer,col_indexer] = value instead\n",
            "\n",
            "See the caveats in the documentation: https://pandas.pydata.org/pandas-docs/stable/user_guide/indexing.html#returning-a-view-versus-a-copy\n",
            "  \"\"\"Entry point for launching an IPython kernel.\n",
            "/usr/local/lib/python3.7/dist-packages/ipykernel_launcher.py:2: SettingWithCopyWarning: \n",
            "A value is trying to be set on a copy of a slice from a DataFrame.\n",
            "Try using .loc[row_indexer,col_indexer] = value instead\n",
            "\n",
            "See the caveats in the documentation: https://pandas.pydata.org/pandas-docs/stable/user_guide/indexing.html#returning-a-view-versus-a-copy\n",
            "  \n",
            "/usr/local/lib/python3.7/dist-packages/ipykernel_launcher.py:3: SettingWithCopyWarning: \n",
            "A value is trying to be set on a copy of a slice from a DataFrame.\n",
            "Try using .loc[row_indexer,col_indexer] = value instead\n",
            "\n",
            "See the caveats in the documentation: https://pandas.pydata.org/pandas-docs/stable/user_guide/indexing.html#returning-a-view-versus-a-copy\n",
            "  This is separate from the ipykernel package so we can avoid doing imports until\n",
            "/usr/local/lib/python3.7/dist-packages/ipykernel_launcher.py:4: SettingWithCopyWarning: \n",
            "A value is trying to be set on a copy of a slice from a DataFrame.\n",
            "Try using .loc[row_indexer,col_indexer] = value instead\n",
            "\n",
            "See the caveats in the documentation: https://pandas.pydata.org/pandas-docs/stable/user_guide/indexing.html#returning-a-view-versus-a-copy\n",
            "  after removing the cwd from sys.path.\n",
            "/usr/local/lib/python3.7/dist-packages/ipykernel_launcher.py:5: SettingWithCopyWarning: \n",
            "A value is trying to be set on a copy of a slice from a DataFrame.\n",
            "Try using .loc[row_indexer,col_indexer] = value instead\n",
            "\n",
            "See the caveats in the documentation: https://pandas.pydata.org/pandas-docs/stable/user_guide/indexing.html#returning-a-view-versus-a-copy\n",
            "  \"\"\"\n",
            "/usr/local/lib/python3.7/dist-packages/ipykernel_launcher.py:6: SettingWithCopyWarning: \n",
            "A value is trying to be set on a copy of a slice from a DataFrame.\n",
            "Try using .loc[row_indexer,col_indexer] = value instead\n",
            "\n",
            "See the caveats in the documentation: https://pandas.pydata.org/pandas-docs/stable/user_guide/indexing.html#returning-a-view-versus-a-copy\n",
            "  \n"
          ]
        }
      ]
    },
    {
      "cell_type": "code",
      "source": [
        "f, axes = plt.subplots(3,3,figsize=(17,10), sharey=True)\n",
        "\n",
        "dat = uio.groupby(['pickup_hour'])['id'].count()\n",
        "fig1 = sns.barplot(dat.index, dat.values, ax=axes[0,0])\n",
        "#fig1.set_ylim = 3000\n",
        "\n",
        "dat = uio.groupby(['pickup_hour'])['trip_duration'].mean()\n",
        "fig2 = sns.barplot(dat.index, dat.values, ax=axes[0,1])\n",
        "#fig2.set_ylim = 3000\n",
        "\n",
        "dat = uio.groupby(['pickup_hour'])['dist_meters'].mean()\n",
        "fig2 = sns.barplot(dat.index, dat.values, ax=axes[0,2])\n",
        "#fig2.set_ylim = 3000\n",
        "\n",
        "dat = uio.groupby(['pickup_day_of_week'])['id'].count()\n",
        "fig1 = sns.barplot(dat.index, dat.values, ax=axes[1,0])\n",
        "#fig1.set_ylim = 3000\n",
        "\n",
        "dat = uio.groupby(['pickup_day_of_week'])['trip_duration'].mean()\n",
        "fig2 = sns.barplot(dat.index, dat.values, ax=axes[1,1])\n",
        "\n",
        "dat = uio.groupby(['pickup_day_of_week'])['dist_meters'].mean()\n",
        "fig2 = sns.barplot(dat.index, dat.values, ax=axes[1,2])\n",
        "\n",
        "dat = uio.groupby(['pickup_month'])['id'].count()\n",
        "fig1 = sns.barplot(dat.index, dat.values, ax=axes[2,0])\n",
        "#fig1.set_ylim = 3000\n",
        "\n",
        "dat = uio.groupby(['pickup_month'])['trip_duration'].mean()\n",
        "fig2 = sns.barplot(dat.index, dat.values, ax=axes[2,1])\n",
        "\n",
        "dat = uio.groupby(['pickup_month'])['dist_meters'].mean()\n",
        "fig2 = sns.barplot(dat.index, dat.values, ax=axes[2,2])"
      ],
      "metadata": {
        "colab": {
          "base_uri": "https://localhost:8080/",
          "height": 0
        },
        "id": "XqqNBHxMWKoG",
        "outputId": "adedca85-99f7-4a7d-9914-8223dc245547"
      },
      "execution_count": 44,
      "outputs": [
        {
          "output_type": "stream",
          "name": "stderr",
          "text": [
            "/usr/local/lib/python3.7/dist-packages/seaborn/_decorators.py:43: FutureWarning: Pass the following variables as keyword args: x, y. From version 0.12, the only valid positional argument will be `data`, and passing other arguments without an explicit keyword will result in an error or misinterpretation.\n",
            "  FutureWarning\n",
            "/usr/local/lib/python3.7/dist-packages/seaborn/_decorators.py:43: FutureWarning: Pass the following variables as keyword args: x, y. From version 0.12, the only valid positional argument will be `data`, and passing other arguments without an explicit keyword will result in an error or misinterpretation.\n",
            "  FutureWarning\n",
            "/usr/local/lib/python3.7/dist-packages/seaborn/_decorators.py:43: FutureWarning: Pass the following variables as keyword args: x, y. From version 0.12, the only valid positional argument will be `data`, and passing other arguments without an explicit keyword will result in an error or misinterpretation.\n",
            "  FutureWarning\n",
            "/usr/local/lib/python3.7/dist-packages/seaborn/_decorators.py:43: FutureWarning: Pass the following variables as keyword args: x, y. From version 0.12, the only valid positional argument will be `data`, and passing other arguments without an explicit keyword will result in an error or misinterpretation.\n",
            "  FutureWarning\n",
            "/usr/local/lib/python3.7/dist-packages/seaborn/_decorators.py:43: FutureWarning: Pass the following variables as keyword args: x, y. From version 0.12, the only valid positional argument will be `data`, and passing other arguments without an explicit keyword will result in an error or misinterpretation.\n",
            "  FutureWarning\n",
            "/usr/local/lib/python3.7/dist-packages/seaborn/_decorators.py:43: FutureWarning: Pass the following variables as keyword args: x, y. From version 0.12, the only valid positional argument will be `data`, and passing other arguments without an explicit keyword will result in an error or misinterpretation.\n",
            "  FutureWarning\n",
            "/usr/local/lib/python3.7/dist-packages/seaborn/_decorators.py:43: FutureWarning: Pass the following variables as keyword args: x, y. From version 0.12, the only valid positional argument will be `data`, and passing other arguments without an explicit keyword will result in an error or misinterpretation.\n",
            "  FutureWarning\n",
            "/usr/local/lib/python3.7/dist-packages/seaborn/_decorators.py:43: FutureWarning: Pass the following variables as keyword args: x, y. From version 0.12, the only valid positional argument will be `data`, and passing other arguments without an explicit keyword will result in an error or misinterpretation.\n",
            "  FutureWarning\n",
            "/usr/local/lib/python3.7/dist-packages/seaborn/_decorators.py:43: FutureWarning: Pass the following variables as keyword args: x, y. From version 0.12, the only valid positional argument will be `data`, and passing other arguments without an explicit keyword will result in an error or misinterpretation.\n",
            "  FutureWarning\n"
          ]
        },
        {
          "output_type": "display_data",
          "data": {
            "text/plain": [
              "<Figure size 1224x720 with 9 Axes>"
            ],
            "image/png": "[encoded data removed]"
          },
          "metadata": {}
        }
      ]
    },
    {
      "cell_type": "markdown",
      "source": [
        "# **Clustering**"
      ],
      "metadata": {
        "id": "S99lvM0bhslY"
      }
    },
    {
      "cell_type": "code",
      "source": [
        "num_clusters = 3"
      ],
      "metadata": {
        "id": "7AH6MDXRk0d_"
      },
      "execution_count": 45,
      "outputs": []
    },
    {
      "cell_type": "markdown",
      "source": [
        "Pickup"
      ],
      "metadata": {
        "id": "cooTOG22igOJ"
      }
    },
    {
      "cell_type": "code",
      "source": [
        "K_clusters = range(1,10)\n",
        "kmeans = [KMeans(n_clusters=i) for i in K_clusters]\n",
        "Y_axis = uio[['pickup_latitude']]\n",
        "X_axis = uio[['pickup_longitude']]\n",
        "score = [kmeans[i].fit(Y_axis).score(Y_axis) for i in range(len(kmeans))]\n",
        "# Visualize\n",
        "plt.plot(K_clusters, score)\n",
        "plt.xlabel('Number of Clusters')\n",
        "plt.ylabel('Score')\n",
        "plt.title('Elbow Curve')\n",
        "plt.show()"
      ],
      "metadata": {
        "colab": {
          "base_uri": "https://localhost:8080/",
          "height": 0
        },
        "id": "W4wU3u2whrvZ",
        "outputId": "89adbb0c-3b8f-4831-e0fa-ed2d49c62c7d"
      },
      "execution_count": 46,
      "outputs": [
        {
          "output_type": "display_data",
          "data": {
            "text/plain": [
              "<Figure size 432x288 with 1 Axes>"
            ],
            "image/png": "[encoded data removed]"
          },
          "metadata": {}
        }
      ]
    },
    {
      "cell_type": "code",
      "source": [
        "kmeans = KMeans(n_clusters = num_clusters, init ='k-means++', max_iter=100, n_init=1, verbose=0, random_state=3425)\n",
        "kmeans.fit(uio[['pickup_latitude', 'pickup_longitude']]) # Compute k-means clustering.\n",
        "uio['cluster_pickup'] = kmeans.fit_predict(uio[['pickup_latitude', 'pickup_longitude']])\n",
        "centers = kmeans.cluster_centers_ # Coordinates of cluster centers.\n",
        "labels = kmeans.predict(uio[['pickup_latitude', 'pickup_longitude']]) # Labels of each point\n",
        "uio.head(10)"
      ],
      "metadata": {
        "colab": {
          "base_uri": "https://localhost:8080/",
          "height": 0
        },
        "id": "UqWTg72jh54h",
        "outputId": "59711262-e4d7-44ca-9094-7357f6b86222"
      },
      "execution_count": 47,
      "outputs": [
        {
          "output_type": "execute_result",
          "data": {
            "text/plain": [
              "    id              vendor_id     pickup_datetime    dropoff_datetime  \\\n",
              "1    2  Guadalajara Easy Taxi 2016-09-17 09:59:54 2016-09-17 10:06:23   \n",
              "2    3              Monterrey 2016-09-17 10:06:52 2016-09-17 10:09:40   \n",
              "3    4              Monterrey 2016-09-17 09:45:56 2016-09-17 10:13:34   \n",
              "4    5              Monterrey 2016-09-17 10:12:00 2016-09-17 10:16:31   \n",
              "5    6              Monterrey 2016-09-17 10:18:20 2016-09-17 10:18:41   \n",
              "8    9              Monterrey 2016-09-17 09:48:30 2016-09-17 10:33:27   \n",
              "9   10  Guadalajara Easy Taxi 2016-09-17 10:28:23 2016-09-17 10:35:03   \n",
              "10  11              Monterrey 2016-09-17 10:27:41 2016-09-17 10:36:13   \n",
              "11  12              Monterrey 2016-09-17 10:33:15 2016-09-17 10:42:40   \n",
              "12  13              Monterrey 2016-09-17 10:24:21 2016-09-17 10:50:06   \n",
              "\n",
              "    pickup_longitude  pickup_latitude  dropoff_longitude  dropoff_latitude  \\\n",
              "1           0.327804         0.391950        -103.366600         20.686971   \n",
              "2           0.140910         0.563280        -100.165737         25.619387   \n",
              "3           0.207565         0.590416        -100.491721         25.676294   \n",
              "4           0.128881         0.580419        -100.104166         25.643862   \n",
              "5           0.141188         0.564268        -100.186171         25.643129   \n",
              "8           0.223600         0.626796        -100.495666         25.687190   \n",
              "9           0.327517         0.390198        -103.359451         20.669558   \n",
              "10          0.129025         0.579781        -100.081929         25.643473   \n",
              "11          0.215668         0.616358        -100.413199         25.686818   \n",
              "12          0.138116         0.635374        -100.094773         25.701190   \n",
              "\n",
              "   store_and_fwd_flag  trip_duration  ...  log_trip_duration  \\\n",
              "1                   N            389  ...           5.966147   \n",
              "2                   N            168  ...           5.129899   \n",
              "3                   N           1659  ...           7.414573   \n",
              "4                   N            272  ...           5.609472   \n",
              "5                   N             22  ...           3.135494   \n",
              "8                   N           2698  ...           7.900637   \n",
              "9                   N            401  ...           5.996452   \n",
              "10                  N            512  ...           6.240276   \n",
              "11                  N            566  ...           6.340359   \n",
              "12                  N           1546  ...           7.344073   \n",
              "\n",
              "    trip_duration_in_minutes  diff_datetime_minutes  pickup_month  \\\n",
              "1                   6.483333               6.483333             9   \n",
              "2                   2.800000               2.800000             9   \n",
              "3                  27.650000              27.633333             9   \n",
              "4                   4.533333               4.516667             9   \n",
              "5                   0.366667               0.350000             9   \n",
              "8                  44.966667              44.950000             9   \n",
              "9                   6.683333               6.666667             9   \n",
              "10                  8.533333               8.533333             9   \n",
              "11                  9.433333               9.416667             9   \n",
              "12                 25.766667              25.750000             9   \n",
              "\n",
              "    pickup_year  pickup_day  pickup_hour  pickup_minute  pickup_day_of_week  \\\n",
              "1          2016          17            9             59                   5   \n",
              "2          2016          17           10              6                   5   \n",
              "3          2016          17            9             45                   5   \n",
              "4          2016          17           10             12                   5   \n",
              "5          2016          17           10             18                   5   \n",
              "8          2016          17            9             48                   5   \n",
              "9          2016          17           10             28                   5   \n",
              "10         2016          17           10             27                   5   \n",
              "11         2016          17           10             33                   5   \n",
              "12         2016          17           10             24                   5   \n",
              "\n",
              "    cluster_pickup  \n",
              "1                1  \n",
              "2                1  \n",
              "3                1  \n",
              "4                1  \n",
              "5                1  \n",
              "8                1  \n",
              "9                1  \n",
              "10               1  \n",
              "11               1  \n",
              "12               1  \n",
              "\n",
              "[10 rows x 24 columns]"
            ],
            "text/html": [
              "\n",
              "  <div id=\"df-c3cc3604-23a0-4d14-8d7b-2e22cf661522\">\n",
              "    <div class=\"colab-df-container\">\n",
              "      <div>\n",
              "<style scoped>\n",
              "    .dataframe tbody tr th:only-of-type {\n",
              "        vertical-align: middle;\n",
              "    }\n",
              "\n",
              "    .dataframe tbody tr th {\n",
              "        vertical-align: top;\n",
              "    }\n",
              "\n",
              "    .dataframe thead th {\n",
              "        text-align: right;\n",
              "    }\n",
              "</style>\n",
              "<table border=\"1\" class=\"dataframe\">\n",
              "  <thead>\n",
              "    <tr style=\"text-align: right;\">\n",
              "      <th></th>\n",
              "      <th>id</th>\n",
              "      <th>vendor_id</th>\n",
              "      <th>pickup_datetime</th>\n",
              "      <th>dropoff_datetime</th>\n",
              "      <th>pickup_longitude</th>\n",
              "      <th>pickup_latitude</th>\n",
              "      <th>dropoff_longitude</th>\n",
              "      <th>dropoff_latitude</th>\n",
              "      <th>store_and_fwd_flag</th>\n",
              "      <th>trip_duration</th>\n",
              "      <th>...</th>\n",
              "      <th>log_trip_duration</th>\n",
              "      <th>trip_duration_in_minutes</th>\n",
              "      <th>diff_datetime_minutes</th>\n",
              "      <th>pickup_month</th>\n",
              "      <th>pickup_year</th>\n",
              "      <th>pickup_day</th>\n",
              "      <th>pickup_hour</th>\n",
              "      <th>pickup_minute</th>\n",
              "      <th>pickup_day_of_week</th>\n",
              "      <th>cluster_pickup</th>\n",
              "    </tr>\n",
              "  </thead>\n",
              "  <tbody>\n",
              "    <tr>\n",
              "      <th>1</th>\n",
              "      <td>2</td>\n",
              "      <td>Guadalajara Easy Taxi</td>\n",
              "      <td>2016-09-17 09:59:54</td>\n",
              "      <td>2016-09-17 10:06:23</td>\n",
              "      <td>0.327804</td>\n",
              "      <td>0.391950</td>\n",
              "      <td>-103.366600</td>\n",
              "      <td>20.686971</td>\n",
              "      <td>N</td>\n",
              "      <td>389</td>\n",
              "      <td>...</td>\n",
              "      <td>5.966147</td>\n",
              "      <td>6.483333</td>\n",
              "      <td>6.483333</td>\n",
              "      <td>9</td>\n",
              "      <td>2016</td>\n",
              "      <td>17</td>\n",
              "      <td>9</td>\n",
              "      <td>59</td>\n",
              "      <td>5</td>\n",
              "      <td>1</td>\n",
              "    </tr>\n",
              "    <tr>\n",
              "      <th>2</th>\n",
              "      <td>3</td>\n",
              "      <td>Monterrey</td>\n",
              "      <td>2016-09-17 10:06:52</td>\n",
              "      <td>2016-09-17 10:09:40</td>\n",
              "      <td>0.140910</td>\n",
              "      <td>0.563280</td>\n",
              "      <td>-100.165737</td>\n",
              "      <td>25.619387</td>\n",
              "      <td>N</td>\n",
              "      <td>168</td>\n",
              "      <td>...</td>\n",
              "      <td>5.129899</td>\n",
              "      <td>2.800000</td>\n",
              "      <td>2.800000</td>\n",
              "      <td>9</td>\n",
              "      <td>2016</td>\n",
              "      <td>17</td>\n",
              "      <td>10</td>\n",
              "      <td>6</td>\n",
              "      <td>5</td>\n",
              "      <td>1</td>\n",
              "    </tr>\n",
              "    <tr>\n",
              "      <th>3</th>\n",
              "      <td>4</td>\n",
              "      <td>Monterrey</td>\n",
              "      <td>2016-09-17 09:45:56</td>\n",
              "      <td>2016-09-17 10:13:34</td>\n",
              "      <td>0.207565</td>\n",
              "      <td>0.590416</td>\n",
              "      <td>-100.491721</td>\n",
              "      <td>25.676294</td>\n",
              "      <td>N</td>\n",
              "      <td>1659</td>\n",
              "      <td>...</td>\n",
              "      <td>7.414573</td>\n",
              "      <td>27.650000</td>\n",
              "      <td>27.633333</td>\n",
              "      <td>9</td>\n",
              "      <td>2016</td>\n",
              "      <td>17</td>\n",
              "      <td>9</td>\n",
              "      <td>45</td>\n",
              "      <td>5</td>\n",
              "      <td>1</td>\n",
              "    </tr>\n",
              "    <tr>\n",
              "      <th>4</th>\n",
              "      <td>5</td>\n",
              "      <td>Monterrey</td>\n",
              "      <td>2016-09-17 10:12:00</td>\n",
              "      <td>2016-09-17 10:16:31</td>\n",
              "      <td>0.128881</td>\n",
              "      <td>0.580419</td>\n",
              "      <td>-100.104166</td>\n",
              "      <td>25.643862</td>\n",
              "      <td>N</td>\n",
              "      <td>272</td>\n",
              "      <td>...</td>\n",
              "      <td>5.609472</td>\n",
              "      <td>4.533333</td>\n",
              "      <td>4.516667</td>\n",
              "      <td>9</td>\n",
              "      <td>2016</td>\n",
              "      <td>17</td>\n",
              "      <td>10</td>\n",
              "      <td>12</td>\n",
              "      <td>5</td>\n",
              "      <td>1</td>\n",
              "    </tr>\n",
              "    <tr>\n",
              "      <th>5</th>\n",
              "      <td>6</td>\n",
              "      <td>Monterrey</td>\n",
              "      <td>2016-09-17 10:18:20</td>\n",
              "      <td>2016-09-17 10:18:41</td>\n",
              "      <td>0.141188</td>\n",
              "      <td>0.564268</td>\n",
              "      <td>-100.186171</td>\n",
              "      <td>25.643129</td>\n",
              "      <td>N</td>\n",
              "      <td>22</td>\n",
              "      <td>...</td>\n",
              "      <td>3.135494</td>\n",
              "      <td>0.366667</td>\n",
              "      <td>0.350000</td>\n",
              "      <td>9</td>\n",
              "      <td>2016</td>\n",
              "      <td>17</td>\n",
              "      <td>10</td>\n",
              "      <td>18</td>\n",
              "      <td>5</td>\n",
              "      <td>1</td>\n",
              "    </tr>\n",
              "    <tr>\n",
              "      <th>8</th>\n",
              "      <td>9</td>\n",
              "      <td>Monterrey</td>\n",
              "      <td>2016-09-17 09:48:30</td>\n",
              "      <td>2016-09-17 10:33:27</td>\n",
              "      <td>0.223600</td>\n",
              "      <td>0.626796</td>\n",
              "      <td>-100.495666</td>\n",
              "      <td>25.687190</td>\n",
              "      <td>N</td>\n",
              "      <td>2698</td>\n",
              "      <td>...</td>\n",
              "      <td>7.900637</td>\n",
              "      <td>44.966667</td>\n",
              "      <td>44.950000</td>\n",
              "      <td>9</td>\n",
              "      <td>2016</td>\n",
              "      <td>17</td>\n",
              "      <td>9</td>\n",
              "      <td>48</td>\n",
              "      <td>5</td>\n",
              "      <td>1</td>\n",
              "    </tr>\n",
              "    <tr>\n",
              "      <th>9</th>\n",
              "      <td>10</td>\n",
              "      <td>Guadalajara Easy Taxi</td>\n",
              "      <td>2016-09-17 10:28:23</td>\n",
              "      <td>2016-09-17 10:35:03</td>\n",
              "      <td>0.327517</td>\n",
              "      <td>0.390198</td>\n",
              "      <td>-103.359451</td>\n",
              "      <td>20.669558</td>\n",
              "      <td>N</td>\n",
              "      <td>401</td>\n",
              "      <td>...</td>\n",
              "      <td>5.996452</td>\n",
              "      <td>6.683333</td>\n",
              "      <td>6.666667</td>\n",
              "      <td>9</td>\n",
              "      <td>2016</td>\n",
              "      <td>17</td>\n",
              "      <td>10</td>\n",
              "      <td>28</td>\n",
              "      <td>5</td>\n",
              "      <td>1</td>\n",
              "    </tr>\n",
              "    <tr>\n",
              "      <th>10</th>\n",
              "      <td>11</td>\n",
              "      <td>Monterrey</td>\n",
              "      <td>2016-09-17 10:27:41</td>\n",
              "      <td>2016-09-17 10:36:13</td>\n",
              "      <td>0.129025</td>\n",
              "      <td>0.579781</td>\n",
              "      <td>-100.081929</td>\n",
              "      <td>25.643473</td>\n",
              "      <td>N</td>\n",
              "      <td>512</td>\n",
              "      <td>...</td>\n",
              "      <td>6.240276</td>\n",
              "      <td>8.533333</td>\n",
              "      <td>8.533333</td>\n",
              "      <td>9</td>\n",
              "      <td>2016</td>\n",
              "      <td>17</td>\n",
              "      <td>10</td>\n",
              "      <td>27</td>\n",
              "      <td>5</td>\n",
              "      <td>1</td>\n",
              "    </tr>\n",
              "    <tr>\n",
              "      <th>11</th>\n",
              "      <td>12</td>\n",
              "      <td>Monterrey</td>\n",
              "      <td>2016-09-17 10:33:15</td>\n",
              "      <td>2016-09-17 10:42:40</td>\n",
              "      <td>0.215668</td>\n",
              "      <td>0.616358</td>\n",
              "      <td>-100.413199</td>\n",
              "      <td>25.686818</td>\n",
              "      <td>N</td>\n",
              "      <td>566</td>\n",
              "      <td>...</td>\n",
              "      <td>6.340359</td>\n",
              "      <td>9.433333</td>\n",
              "      <td>9.416667</td>\n",
              "      <td>9</td>\n",
              "      <td>2016</td>\n",
              "      <td>17</td>\n",
              "      <td>10</td>\n",
              "      <td>33</td>\n",
              "      <td>5</td>\n",
              "      <td>1</td>\n",
              "    </tr>\n",
              "    <tr>\n",
              "      <th>12</th>\n",
              "      <td>13</td>\n",
              "      <td>Monterrey</td>\n",
              "      <td>2016-09-17 10:24:21</td>\n",
              "      <td>2016-09-17 10:50:06</td>\n",
              "      <td>0.138116</td>\n",
              "      <td>0.635374</td>\n",
              "      <td>-100.094773</td>\n",
              "      <td>25.701190</td>\n",
              "      <td>N</td>\n",
              "      <td>1546</td>\n",
              "      <td>...</td>\n",
              "      <td>7.344073</td>\n",
              "      <td>25.766667</td>\n",
              "      <td>25.750000</td>\n",
              "      <td>9</td>\n",
              "      <td>2016</td>\n",
              "      <td>17</td>\n",
              "      <td>10</td>\n",
              "      <td>24</td>\n",
              "      <td>5</td>\n",
              "      <td>1</td>\n",
              "    </tr>\n",
              "  </tbody>\n",
              "</table>\n",
              "<p>10 rows × 24 columns</p>\n",
              "</div>\n",
              "      <button class=\"colab-df-convert\" onclick=\"convertToInteractive('df-c3cc3604-23a0-4d14-8d7b-2e22cf661522')\"\n",
              "              title=\"Convert this dataframe to an interactive table.\"\n",
              "              style=\"display:none;\">\n",
              "        \n",
              "  <svg xmlns=\"http://www.w3.org/2000/svg\" height=\"24px\"viewBox=\"0 0 24 24\"\n",
              "       width=\"24px\">\n",
              "    <path d=\"M0 0h24v24H0V0z\" fill=\"none\"/>\n",
              "    <path d=\"M18.56 5.44l.94 2.06.94-2.06 2.06-.94-2.06-.94-.94-2.06-.94 2.06-2.06.94zm-11 1L8.5 8.5l.94-2.06 2.06-.94-2.06-.94L8.5 2.5l-.94 2.06-2.06.94zm10 10l.94 2.06.94-2.06 2.06-.94-2.06-.94-.94-2.06-.94 2.06-2.06.94z\"/><path d=\"M17.41 7.96l-1.37-1.37c-.4-.4-.92-.59-1.43-.59-.52 0-1.04.2-1.43.59L10.3 9.45l-7.72 7.72c-.78.78-.78 2.05 0 2.83L4 21.41c.39.39.9.59 1.41.59.51 0 1.02-.2 1.41-.59l7.78-7.78 2.81-2.81c.8-.78.8-2.07 0-2.86zM5.41 20L4 18.59l7.72-7.72 1.47 1.35L5.41 20z\"/>\n",
              "  </svg>\n",
              "      </button>\n",
              "      \n",
              "  <style>\n",
              "    .colab-df-container {\n",
              "      display:flex;\n",
              "      flex-wrap:wrap;\n",
              "      gap: 12px;\n",
              "    }\n",
              "\n",
              "    .colab-df-convert {\n",
              "      background-color: #E8F0FE;\n",
              "      border: none;\n",
              "      border-radius: 50%;\n",
              "      cursor: pointer;\n",
              "      display: none;\n",
              "      fill: #1967D2;\n",
              "      height: 32px;\n",
              "      padding: 0 0 0 0;\n",
              "      width: 32px;\n",
              "    }\n",
              "\n",
              "    .colab-df-convert:hover {\n",
              "      background-color: #E2EBFA;\n",
              "      box-shadow: 0px 1px 2px rgba(60, 64, 67, 0.3), 0px 1px 3px 1px rgba(60, 64, 67, 0.15);\n",
              "      fill: #174EA6;\n",
              "    }\n",
              "\n",
              "    [theme=dark] .colab-df-convert {\n",
              "      background-color: #3B4455;\n",
              "      fill: #D2E3FC;\n",
              "    }\n",
              "\n",
              "    [theme=dark] .colab-df-convert:hover {\n",
              "      background-color: #434B5C;\n",
              "      box-shadow: 0px 1px 3px 1px rgba(0, 0, 0, 0.15);\n",
              "      filter: drop-shadow(0px 1px 2px rgba(0, 0, 0, 0.3));\n",
              "      fill: #FFFFFF;\n",
              "    }\n",
              "  </style>\n",
              "\n",
              "      <script>\n",
              "        const buttonEl =\n",
              "          document.querySelector('#df-c3cc3604-23a0-4d14-8d7b-2e22cf661522 button.colab-df-convert');\n",
              "        buttonEl.style.display =\n",
              "          google.colab.kernel.accessAllowed ? 'block' : 'none';\n",
              "\n",
              "        async function convertToInteractive(key) {\n",
              "          const element = document.querySelector('#df-c3cc3604-23a0-4d14-8d7b-2e22cf661522');\n",
              "          const dataTable =\n",
              "            await google.colab.kernel.invokeFunction('convertToInteractive',\n",
              "                                                     [key], {});\n",
              "          if (!dataTable) return;\n",
              "\n",
              "          const docLinkHtml = 'Like what you see? Visit the ' +\n",
              "            '<a target=\"_blank\" href=https://colab.research.google.com/notebooks/data_table.ipynb>data table notebook</a>'\n",
              "            + ' to learn more about interactive tables.';\n",
              "          element.innerHTML = '';\n",
              "          dataTable['output_type'] = 'display_data';\n",
              "          await google.colab.output.renderOutput(dataTable, element);\n",
              "          const docLink = document.createElement('div');\n",
              "          docLink.innerHTML = docLinkHtml;\n",
              "          element.appendChild(docLink);\n",
              "        }\n",
              "      </script>\n",
              "    </div>\n",
              "  </div>\n",
              "  "
            ]
          },
          "metadata": {},
          "execution_count": 47
        }
      ]
    },
    {
      "cell_type": "code",
      "source": [
        "uio.plot.scatter(x = 'pickup_latitude', y = 'pickup_longitude', c=labels, s=50, cmap='viridis')\n",
        "plt.scatter(centers[:, 0], centers[:, 1], c='black', s=200, alpha=0.5)"
      ],
      "metadata": {
        "colab": {
          "base_uri": "https://localhost:8080/",
          "height": 0
        },
        "id": "OVI7453tiAxI",
        "outputId": "b8c70a5a-d9de-4d15-81f0-6c9359fb83f4"
      },
      "execution_count": 48,
      "outputs": [
        {
          "output_type": "execute_result",
          "data": {
            "text/plain": [
              "<matplotlib.collections.PathCollection at 0x7fd3bbcc6a90>"
            ]
          },
          "metadata": {},
          "execution_count": 48
        },
        {
          "output_type": "display_data",
          "data": {
            "text/plain": [
              "<Figure size 432x288 with 2 Axes>"
            ],
            "image/png": "[encoded data removed]"
          },
          "metadata": {}
        }
      ]
    },
    {
      "cell_type": "code",
      "source": [
        "x = uio.groupby(['cluster_pickup'])['id'].count()\n",
        "sns.barplot(x.index, x.values)\n",
        "plt.show()"
      ],
      "metadata": {
        "colab": {
          "base_uri": "https://localhost:8080/",
          "height": 0
        },
        "id": "RPvTOrtViD5a",
        "outputId": "0f100bef-3867-4282-91f1-aa2d71b0981f"
      },
      "execution_count": 49,
      "outputs": [
        {
          "output_type": "stream",
          "name": "stderr",
          "text": [
            "/usr/local/lib/python3.7/dist-packages/seaborn/_decorators.py:43: FutureWarning: Pass the following variables as keyword args: x, y. From version 0.12, the only valid positional argument will be `data`, and passing other arguments without an explicit keyword will result in an error or misinterpretation.\n",
            "  FutureWarning\n"
          ]
        },
        {
          "output_type": "display_data",
          "data": {
            "text/plain": [
              "<Figure size 432x288 with 1 Axes>"
            ],
            "image/png": "[encoded data removed]"
          },
          "metadata": {}
        }
      ]
    },
    {
      "cell_type": "code",
      "source": [
        "x = uio.groupby(['cluster_pickup'])['trip_duration_in_minutes'].mean()\n",
        "sns.barplot(x.index, x.values)\n",
        "plt.show()"
      ],
      "metadata": {
        "colab": {
          "base_uri": "https://localhost:8080/",
          "height": 0
        },
        "id": "Vw1zLWejiQD2",
        "outputId": "920bb20e-e710-4051-be05-d270b93af409"
      },
      "execution_count": 50,
      "outputs": [
        {
          "output_type": "stream",
          "name": "stderr",
          "text": [
            "/usr/local/lib/python3.7/dist-packages/seaborn/_decorators.py:43: FutureWarning: Pass the following variables as keyword args: x, y. From version 0.12, the only valid positional argument will be `data`, and passing other arguments without an explicit keyword will result in an error or misinterpretation.\n",
            "  FutureWarning\n"
          ]
        },
        {
          "output_type": "display_data",
          "data": {
            "text/plain": [
              "<Figure size 432x288 with 1 Axes>"
            ],
            "image/png": "[encoded data removed]"
          },
          "metadata": {}
        }
      ]
    },
    {
      "cell_type": "markdown",
      "source": [
        "Dropoff"
      ],
      "metadata": {
        "id": "_WacRJeaii76"
      }
    },
    {
      "cell_type": "code",
      "source": [
        "K_clusters = range(1,10)\n",
        "kmeans = [KMeans(n_clusters=i) for i in K_clusters]\n",
        "Y_axis = uio[['dropoff_latitude']]\n",
        "X_axis = uio[['dropoff_longitude']]\n",
        "score = [kmeans[i].fit(Y_axis).score(Y_axis) for i in range(len(kmeans))]\n",
        "# Visualize\n",
        "plt.plot(K_clusters, score)\n",
        "plt.xlabel('Number of Clusters')\n",
        "plt.ylabel('Score')\n",
        "plt.title('Elbow Curve')\n",
        "plt.show()"
      ],
      "metadata": {
        "colab": {
          "base_uri": "https://localhost:8080/",
          "height": 0
        },
        "id": "ydpVI-xrilaK",
        "outputId": "10a4d9b2-72e4-4c31-c8ed-76fd8b9a1fe8"
      },
      "execution_count": 51,
      "outputs": [
        {
          "output_type": "display_data",
          "data": {
            "text/plain": [
              "<Figure size 432x288 with 1 Axes>"
            ],
            "image/png": "[encoded data removed]"
          },
          "metadata": {}
        }
      ]
    },
    {
      "cell_type": "code",
      "source": [
        "kmeans = KMeans(n_clusters = num_clusters, init ='k-means++', max_iter=100, n_init=1, verbose=0, random_state=3425)\n",
        "kmeans.fit(uio[['dropoff_latitude', 'dropoff_longitude']]) # Compute k-means clustering.\n",
        "uio['cluster_dropoff'] = kmeans.fit_predict(uio[['dropoff_latitude', 'dropoff_longitude']])\n",
        "centers = kmeans.cluster_centers_ # Coordinates of cluster centers.\n",
        "labels = kmeans.predict(uio[['dropoff_latitude', 'dropoff_longitude']]) # Labels of each point\n",
        "uio.head(10)"
      ],
      "metadata": {
        "colab": {
          "base_uri": "https://localhost:8080/",
          "height": 0
        },
        "id": "XRqbSD9xkNWt",
        "outputId": "a55dbc88-e82b-4a24-e0ed-d8aad3cef987"
      },
      "execution_count": 52,
      "outputs": [
        {
          "output_type": "execute_result",
          "data": {
            "text/plain": [
              "    id              vendor_id     pickup_datetime    dropoff_datetime  \\\n",
              "1    2  Guadalajara Easy Taxi 2016-09-17 09:59:54 2016-09-17 10:06:23   \n",
              "2    3              Monterrey 2016-09-17 10:06:52 2016-09-17 10:09:40   \n",
              "3    4              Monterrey 2016-09-17 09:45:56 2016-09-17 10:13:34   \n",
              "4    5              Monterrey 2016-09-17 10:12:00 2016-09-17 10:16:31   \n",
              "5    6              Monterrey 2016-09-17 10:18:20 2016-09-17 10:18:41   \n",
              "8    9              Monterrey 2016-09-17 09:48:30 2016-09-17 10:33:27   \n",
              "9   10  Guadalajara Easy Taxi 2016-09-17 10:28:23 2016-09-17 10:35:03   \n",
              "10  11              Monterrey 2016-09-17 10:27:41 2016-09-17 10:36:13   \n",
              "11  12              Monterrey 2016-09-17 10:33:15 2016-09-17 10:42:40   \n",
              "12  13              Monterrey 2016-09-17 10:24:21 2016-09-17 10:50:06   \n",
              "\n",
              "    pickup_longitude  pickup_latitude  dropoff_longitude  dropoff_latitude  \\\n",
              "1           0.327804         0.391950        -103.366600         20.686971   \n",
              "2           0.140910         0.563280        -100.165737         25.619387   \n",
              "3           0.207565         0.590416        -100.491721         25.676294   \n",
              "4           0.128881         0.580419        -100.104166         25.643862   \n",
              "5           0.141188         0.564268        -100.186171         25.643129   \n",
              "8           0.223600         0.626796        -100.495666         25.687190   \n",
              "9           0.327517         0.390198        -103.359451         20.669558   \n",
              "10          0.129025         0.579781        -100.081929         25.643473   \n",
              "11          0.215668         0.616358        -100.413199         25.686818   \n",
              "12          0.138116         0.635374        -100.094773         25.701190   \n",
              "\n",
              "   store_and_fwd_flag  trip_duration  ...  trip_duration_in_minutes  \\\n",
              "1                   N            389  ...                  6.483333   \n",
              "2                   N            168  ...                  2.800000   \n",
              "3                   N           1659  ...                 27.650000   \n",
              "4                   N            272  ...                  4.533333   \n",
              "5                   N             22  ...                  0.366667   \n",
              "8                   N           2698  ...                 44.966667   \n",
              "9                   N            401  ...                  6.683333   \n",
              "10                  N            512  ...                  8.533333   \n",
              "11                  N            566  ...                  9.433333   \n",
              "12                  N           1546  ...                 25.766667   \n",
              "\n",
              "    diff_datetime_minutes  pickup_month  pickup_year  pickup_day  pickup_hour  \\\n",
              "1                6.483333             9         2016          17            9   \n",
              "2                2.800000             9         2016          17           10   \n",
              "3               27.633333             9         2016          17            9   \n",
              "4                4.516667             9         2016          17           10   \n",
              "5                0.350000             9         2016          17           10   \n",
              "8               44.950000             9         2016          17            9   \n",
              "9                6.666667             9         2016          17           10   \n",
              "10               8.533333             9         2016          17           10   \n",
              "11               9.416667             9         2016          17           10   \n",
              "12              25.750000             9         2016          17           10   \n",
              "\n",
              "    pickup_minute  pickup_day_of_week  cluster_pickup  cluster_dropoff  \n",
              "1              59                   5               1                1  \n",
              "2               6                   5               1                1  \n",
              "3              45                   5               1                1  \n",
              "4              12                   5               1                1  \n",
              "5              18                   5               1                1  \n",
              "8              48                   5               1                1  \n",
              "9              28                   5               1                1  \n",
              "10             27                   5               1                1  \n",
              "11             33                   5               1                1  \n",
              "12             24                   5               1                1  \n",
              "\n",
              "[10 rows x 25 columns]"
            ],
            "text/html": [
              "\n",
              "  <div id=\"df-93f231f7-79dd-42af-b1c0-9aa94a27d62c\">\n",
              "    <div class=\"colab-df-container\">\n",
              "      <div>\n",
              "<style scoped>\n",
              "    .dataframe tbody tr th:only-of-type {\n",
              "        vertical-align: middle;\n",
              "    }\n",
              "\n",
              "    .dataframe tbody tr th {\n",
              "        vertical-align: top;\n",
              "    }\n",
              "\n",
              "    .dataframe thead th {\n",
              "        text-align: right;\n",
              "    }\n",
              "</style>\n",
              "<table border=\"1\" class=\"dataframe\">\n",
              "  <thead>\n",
              "    <tr style=\"text-align: right;\">\n",
              "      <th></th>\n",
              "      <th>id</th>\n",
              "      <th>vendor_id</th>\n",
              "      <th>pickup_datetime</th>\n",
              "      <th>dropoff_datetime</th>\n",
              "      <th>pickup_longitude</th>\n",
              "      <th>pickup_latitude</th>\n",
              "      <th>dropoff_longitude</th>\n",
              "      <th>dropoff_latitude</th>\n",
              "      <th>store_and_fwd_flag</th>\n",
              "      <th>trip_duration</th>\n",
              "      <th>...</th>\n",
              "      <th>trip_duration_in_minutes</th>\n",
              "      <th>diff_datetime_minutes</th>\n",
              "      <th>pickup_month</th>\n",
              "      <th>pickup_year</th>\n",
              "      <th>pickup_day</th>\n",
              "      <th>pickup_hour</th>\n",
              "      <th>pickup_minute</th>\n",
              "      <th>pickup_day_of_week</th>\n",
              "      <th>cluster_pickup</th>\n",
              "      <th>cluster_dropoff</th>\n",
              "    </tr>\n",
              "  </thead>\n",
              "  <tbody>\n",
              "    <tr>\n",
              "      <th>1</th>\n",
              "      <td>2</td>\n",
              "      <td>Guadalajara Easy Taxi</td>\n",
              "      <td>2016-09-17 09:59:54</td>\n",
              "      <td>2016-09-17 10:06:23</td>\n",
              "      <td>0.327804</td>\n",
              "      <td>0.391950</td>\n",
              "      <td>-103.366600</td>\n",
              "      <td>20.686971</td>\n",
              "      <td>N</td>\n",
              "      <td>389</td>\n",
              "      <td>...</td>\n",
              "      <td>6.483333</td>\n",
              "      <td>6.483333</td>\n",
              "      <td>9</td>\n",
              "      <td>2016</td>\n",
              "      <td>17</td>\n",
              "      <td>9</td>\n",
              "      <td>59</td>\n",
              "      <td>5</td>\n",
              "      <td>1</td>\n",
              "      <td>1</td>\n",
              "    </tr>\n",
              "    <tr>\n",
              "      <th>2</th>\n",
              "      <td>3</td>\n",
              "      <td>Monterrey</td>\n",
              "      <td>2016-09-17 10:06:52</td>\n",
              "      <td>2016-09-17 10:09:40</td>\n",
              "      <td>0.140910</td>\n",
              "      <td>0.563280</td>\n",
              "      <td>-100.165737</td>\n",
              "      <td>25.619387</td>\n",
              "      <td>N</td>\n",
              "      <td>168</td>\n",
              "      <td>...</td>\n",
              "      <td>2.800000</td>\n",
              "      <td>2.800000</td>\n",
              "      <td>9</td>\n",
              "      <td>2016</td>\n",
              "      <td>17</td>\n",
              "      <td>10</td>\n",
              "      <td>6</td>\n",
              "      <td>5</td>\n",
              "      <td>1</td>\n",
              "      <td>1</td>\n",
              "    </tr>\n",
              "    <tr>\n",
              "      <th>3</th>\n",
              "      <td>4</td>\n",
              "      <td>Monterrey</td>\n",
              "      <td>2016-09-17 09:45:56</td>\n",
              "      <td>2016-09-17 10:13:34</td>\n",
              "      <td>0.207565</td>\n",
              "      <td>0.590416</td>\n",
              "      <td>-100.491721</td>\n",
              "      <td>25.676294</td>\n",
              "      <td>N</td>\n",
              "      <td>1659</td>\n",
              "      <td>...</td>\n",
              "      <td>27.650000</td>\n",
              "      <td>27.633333</td>\n",
              "      <td>9</td>\n",
              "      <td>2016</td>\n",
              "      <td>17</td>\n",
              "      <td>9</td>\n",
              "      <td>45</td>\n",
              "      <td>5</td>\n",
              "      <td>1</td>\n",
              "      <td>1</td>\n",
              "    </tr>\n",
              "    <tr>\n",
              "      <th>4</th>\n",
              "      <td>5</td>\n",
              "      <td>Monterrey</td>\n",
              "      <td>2016-09-17 10:12:00</td>\n",
              "      <td>2016-09-17 10:16:31</td>\n",
              "      <td>0.128881</td>\n",
              "      <td>0.580419</td>\n",
              "      <td>-100.104166</td>\n",
              "      <td>25.643862</td>\n",
              "      <td>N</td>\n",
              "      <td>272</td>\n",
              "      <td>...</td>\n",
              "      <td>4.533333</td>\n",
              "      <td>4.516667</td>\n",
              "      <td>9</td>\n",
              "      <td>2016</td>\n",
              "      <td>17</td>\n",
              "      <td>10</td>\n",
              "      <td>12</td>\n",
              "      <td>5</td>\n",
              "      <td>1</td>\n",
              "      <td>1</td>\n",
              "    </tr>\n",
              "    <tr>\n",
              "      <th>5</th>\n",
              "      <td>6</td>\n",
              "      <td>Monterrey</td>\n",
              "      <td>2016-09-17 10:18:20</td>\n",
              "      <td>2016-09-17 10:18:41</td>\n",
              "      <td>0.141188</td>\n",
              "      <td>0.564268</td>\n",
              "      <td>-100.186171</td>\n",
              "      <td>25.643129</td>\n",
              "      <td>N</td>\n",
              "      <td>22</td>\n",
              "      <td>...</td>\n",
              "      <td>0.366667</td>\n",
              "      <td>0.350000</td>\n",
              "      <td>9</td>\n",
              "      <td>2016</td>\n",
              "      <td>17</td>\n",
              "      <td>10</td>\n",
              "      <td>18</td>\n",
              "      <td>5</td>\n",
              "      <td>1</td>\n",
              "      <td>1</td>\n",
              "    </tr>\n",
              "    <tr>\n",
              "      <th>8</th>\n",
              "      <td>9</td>\n",
              "      <td>Monterrey</td>\n",
              "      <td>2016-09-17 09:48:30</td>\n",
              "      <td>2016-09-17 10:33:27</td>\n",
              "      <td>0.223600</td>\n",
              "      <td>0.626796</td>\n",
              "      <td>-100.495666</td>\n",
              "      <td>25.687190</td>\n",
              "      <td>N</td>\n",
              "      <td>2698</td>\n",
              "      <td>...</td>\n",
              "      <td>44.966667</td>\n",
              "      <td>44.950000</td>\n",
              "      <td>9</td>\n",
              "      <td>2016</td>\n",
              "      <td>17</td>\n",
              "      <td>9</td>\n",
              "      <td>48</td>\n",
              "      <td>5</td>\n",
              "      <td>1</td>\n",
              "      <td>1</td>\n",
              "    </tr>\n",
              "    <tr>\n",
              "      <th>9</th>\n",
              "      <td>10</td>\n",
              "      <td>Guadalajara Easy Taxi</td>\n",
              "      <td>2016-09-17 10:28:23</td>\n",
              "      <td>2016-09-17 10:35:03</td>\n",
              "      <td>0.327517</td>\n",
              "      <td>0.390198</td>\n",
              "      <td>-103.359451</td>\n",
              "      <td>20.669558</td>\n",
              "      <td>N</td>\n",
              "      <td>401</td>\n",
              "      <td>...</td>\n",
              "      <td>6.683333</td>\n",
              "      <td>6.666667</td>\n",
              "      <td>9</td>\n",
              "      <td>2016</td>\n",
              "      <td>17</td>\n",
              "      <td>10</td>\n",
              "      <td>28</td>\n",
              "      <td>5</td>\n",
              "      <td>1</td>\n",
              "      <td>1</td>\n",
              "    </tr>\n",
              "    <tr>\n",
              "      <th>10</th>\n",
              "      <td>11</td>\n",
              "      <td>Monterrey</td>\n",
              "      <td>2016-09-17 10:27:41</td>\n",
              "      <td>2016-09-17 10:36:13</td>\n",
              "      <td>0.129025</td>\n",
              "      <td>0.579781</td>\n",
              "      <td>-100.081929</td>\n",
              "      <td>25.643473</td>\n",
              "      <td>N</td>\n",
              "      <td>512</td>\n",
              "      <td>...</td>\n",
              "      <td>8.533333</td>\n",
              "      <td>8.533333</td>\n",
              "      <td>9</td>\n",
              "      <td>2016</td>\n",
              "      <td>17</td>\n",
              "      <td>10</td>\n",
              "      <td>27</td>\n",
              "      <td>5</td>\n",
              "      <td>1</td>\n",
              "      <td>1</td>\n",
              "    </tr>\n",
              "    <tr>\n",
              "      <th>11</th>\n",
              "      <td>12</td>\n",
              "      <td>Monterrey</td>\n",
              "      <td>2016-09-17 10:33:15</td>\n",
              "      <td>2016-09-17 10:42:40</td>\n",
              "      <td>0.215668</td>\n",
              "      <td>0.616358</td>\n",
              "      <td>-100.413199</td>\n",
              "      <td>25.686818</td>\n",
              "      <td>N</td>\n",
              "      <td>566</td>\n",
              "      <td>...</td>\n",
              "      <td>9.433333</td>\n",
              "      <td>9.416667</td>\n",
              "      <td>9</td>\n",
              "      <td>2016</td>\n",
              "      <td>17</td>\n",
              "      <td>10</td>\n",
              "      <td>33</td>\n",
              "      <td>5</td>\n",
              "      <td>1</td>\n",
              "      <td>1</td>\n",
              "    </tr>\n",
              "    <tr>\n",
              "      <th>12</th>\n",
              "      <td>13</td>\n",
              "      <td>Monterrey</td>\n",
              "      <td>2016-09-17 10:24:21</td>\n",
              "      <td>2016-09-17 10:50:06</td>\n",
              "      <td>0.138116</td>\n",
              "      <td>0.635374</td>\n",
              "      <td>-100.094773</td>\n",
              "      <td>25.701190</td>\n",
              "      <td>N</td>\n",
              "      <td>1546</td>\n",
              "      <td>...</td>\n",
              "      <td>25.766667</td>\n",
              "      <td>25.750000</td>\n",
              "      <td>9</td>\n",
              "      <td>2016</td>\n",
              "      <td>17</td>\n",
              "      <td>10</td>\n",
              "      <td>24</td>\n",
              "      <td>5</td>\n",
              "      <td>1</td>\n",
              "      <td>1</td>\n",
              "    </tr>\n",
              "  </tbody>\n",
              "</table>\n",
              "<p>10 rows × 25 columns</p>\n",
              "</div>\n",
              "      <button class=\"colab-df-convert\" onclick=\"convertToInteractive('df-93f231f7-79dd-42af-b1c0-9aa94a27d62c')\"\n",
              "              title=\"Convert this dataframe to an interactive table.\"\n",
              "              style=\"display:none;\">\n",
              "        \n",
              "  <svg xmlns=\"http://www.w3.org/2000/svg\" height=\"24px\"viewBox=\"0 0 24 24\"\n",
              "       width=\"24px\">\n",
              "    <path d=\"M0 0h24v24H0V0z\" fill=\"none\"/>\n",
              "    <path d=\"M18.56 5.44l.94 2.06.94-2.06 2.06-.94-2.06-.94-.94-2.06-.94 2.06-2.06.94zm-11 1L8.5 8.5l.94-2.06 2.06-.94-2.06-.94L8.5 2.5l-.94 2.06-2.06.94zm10 10l.94 2.06.94-2.06 2.06-.94-2.06-.94-.94-2.06-.94 2.06-2.06.94z\"/><path d=\"M17.41 7.96l-1.37-1.37c-.4-.4-.92-.59-1.43-.59-.52 0-1.04.2-1.43.59L10.3 9.45l-7.72 7.72c-.78.78-.78 2.05 0 2.83L4 21.41c.39.39.9.59 1.41.59.51 0 1.02-.2 1.41-.59l7.78-7.78 2.81-2.81c.8-.78.8-2.07 0-2.86zM5.41 20L4 18.59l7.72-7.72 1.47 1.35L5.41 20z\"/>\n",
              "  </svg>\n",
              "      </button>\n",
              "      \n",
              "  <style>\n",
              "    .colab-df-container {\n",
              "      display:flex;\n",
              "      flex-wrap:wrap;\n",
              "      gap: 12px;\n",
              "    }\n",
              "\n",
              "    .colab-df-convert {\n",
              "      background-color: #E8F0FE;\n",
              "      border: none;\n",
              "      border-radius: 50%;\n",
              "      cursor: pointer;\n",
              "      display: none;\n",
              "      fill: #1967D2;\n",
              "      height: 32px;\n",
              "      padding: 0 0 0 0;\n",
              "      width: 32px;\n",
              "    }\n",
              "\n",
              "    .colab-df-convert:hover {\n",
              "      background-color: #E2EBFA;\n",
              "      box-shadow: 0px 1px 2px rgba(60, 64, 67, 0.3), 0px 1px 3px 1px rgba(60, 64, 67, 0.15);\n",
              "      fill: #174EA6;\n",
              "    }\n",
              "\n",
              "    [theme=dark] .colab-df-convert {\n",
              "      background-color: #3B4455;\n",
              "      fill: #D2E3FC;\n",
              "    }\n",
              "\n",
              "    [theme=dark] .colab-df-convert:hover {\n",
              "      background-color: #434B5C;\n",
              "      box-shadow: 0px 1px 3px 1px rgba(0, 0, 0, 0.15);\n",
              "      filter: drop-shadow(0px 1px 2px rgba(0, 0, 0, 0.3));\n",
              "      fill: #FFFFFF;\n",
              "    }\n",
              "  </style>\n",
              "\n",
              "      <script>\n",
              "        const buttonEl =\n",
              "          document.querySelector('#df-93f231f7-79dd-42af-b1c0-9aa94a27d62c button.colab-df-convert');\n",
              "        buttonEl.style.display =\n",
              "          google.colab.kernel.accessAllowed ? 'block' : 'none';\n",
              "\n",
              "        async function convertToInteractive(key) {\n",
              "          const element = document.querySelector('#df-93f231f7-79dd-42af-b1c0-9aa94a27d62c');\n",
              "          const dataTable =\n",
              "            await google.colab.kernel.invokeFunction('convertToInteractive',\n",
              "                                                     [key], {});\n",
              "          if (!dataTable) return;\n",
              "\n",
              "          const docLinkHtml = 'Like what you see? Visit the ' +\n",
              "            '<a target=\"_blank\" href=https://colab.research.google.com/notebooks/data_table.ipynb>data table notebook</a>'\n",
              "            + ' to learn more about interactive tables.';\n",
              "          element.innerHTML = '';\n",
              "          dataTable['output_type'] = 'display_data';\n",
              "          await google.colab.output.renderOutput(dataTable, element);\n",
              "          const docLink = document.createElement('div');\n",
              "          docLink.innerHTML = docLinkHtml;\n",
              "          element.appendChild(docLink);\n",
              "        }\n",
              "      </script>\n",
              "    </div>\n",
              "  </div>\n",
              "  "
            ]
          },
          "metadata": {},
          "execution_count": 52
        }
      ]
    },
    {
      "cell_type": "code",
      "source": [
        "uio.plot.scatter(x = 'dropoff_latitude', y = 'dropoff_longitude', c=labels, s=50, cmap='viridis')\n",
        "plt.scatter(centers[:, 0], centers[:, 1], c='black', s=200, alpha=0.5)"
      ],
      "metadata": {
        "colab": {
          "base_uri": "https://localhost:8080/",
          "height": 0
        },
        "id": "eHFYgVo9kSVm",
        "outputId": "fed0bdbd-82f5-4fbc-a30c-8b83bbcf5381"
      },
      "execution_count": 53,
      "outputs": [
        {
          "output_type": "execute_result",
          "data": {
            "text/plain": [
              "<matplotlib.collections.PathCollection at 0x7fd3b67f8210>"
            ]
          },
          "metadata": {},
          "execution_count": 53
        },
        {
          "output_type": "display_data",
          "data": {
            "text/plain": [
              "<Figure size 432x288 with 2 Axes>"
            ],
            "image/png": "[encoded data removed]"
          },
          "metadata": {}
        }
      ]
    },
    {
      "cell_type": "code",
      "source": [
        "x = uio.groupby(['cluster_dropoff'])['id'].count()\n",
        "sns.barplot(x.index, x.values)\n",
        "plt.show()"
      ],
      "metadata": {
        "colab": {
          "base_uri": "https://localhost:8080/",
          "height": 0
        },
        "id": "86YSwv7fkXwG",
        "outputId": "a52088af-5774-4bc6-c9c7-8a0e0ceb5065"
      },
      "execution_count": 54,
      "outputs": [
        {
          "output_type": "stream",
          "name": "stderr",
          "text": [
            "/usr/local/lib/python3.7/dist-packages/seaborn/_decorators.py:43: FutureWarning: Pass the following variables as keyword args: x, y. From version 0.12, the only valid positional argument will be `data`, and passing other arguments without an explicit keyword will result in an error or misinterpretation.\n",
            "  FutureWarning\n"
          ]
        },
        {
          "output_type": "display_data",
          "data": {
            "text/plain": [
              "<Figure size 432x288 with 1 Axes>"
            ],
            "image/png": "[encoded data removed]"
          },
          "metadata": {}
        }
      ]
    },
    {
      "cell_type": "code",
      "source": [
        "x = uio.groupby(['cluster_dropoff'])['trip_duration_in_minutes'].mean()\n",
        "sns.barplot(x.index, x.values)\n",
        "plt.show()"
      ],
      "metadata": {
        "colab": {
          "base_uri": "https://localhost:8080/",
          "height": 0
        },
        "id": "AP-DxoTlkYPz",
        "outputId": "bab74ab6-e9b0-4daf-d87a-58bb7d62bcfd"
      },
      "execution_count": 55,
      "outputs": [
        {
          "output_type": "stream",
          "name": "stderr",
          "text": [
            "/usr/local/lib/python3.7/dist-packages/seaborn/_decorators.py:43: FutureWarning: Pass the following variables as keyword args: x, y. From version 0.12, the only valid positional argument will be `data`, and passing other arguments without an explicit keyword will result in an error or misinterpretation.\n",
            "  FutureWarning\n"
          ]
        },
        {
          "output_type": "display_data",
          "data": {
            "text/plain": [
              "<Figure size 432x288 with 1 Axes>"
            ],
            "image/png": "[encoded data removed]"
          },
          "metadata": {}
        }
      ]
    },
    {
      "cell_type": "markdown",
      "source": [
        "# **Cek Korelasi**"
      ],
      "metadata": {
        "id": "uoVv5e1PY3MQ"
      }
    },
    {
      "cell_type": "code",
      "source": [
        "uio.info()"
      ],
      "metadata": {
        "colab": {
          "base_uri": "https://localhost:8080/"
        },
        "id": "ZrxSxXXxePpU",
        "outputId": "cfddb195-3924-4880-ecc0-66b39b9c4cff"
      },
      "execution_count": 56,
      "outputs": [
        {
          "output_type": "stream",
          "name": "stdout",
          "text": [
            "<class 'pandas.core.frame.DataFrame'>\n",
            "Int64Index: 72928 entries, 1 to 90285\n",
            "Data columns (total 25 columns):\n",
            " #   Column                    Non-Null Count  Dtype         \n",
            "---  ------                    --------------  -----         \n",
            " 0   id                        72928 non-null  int64         \n",
            " 1   vendor_id                 72928 non-null  object        \n",
            " 2   pickup_datetime           72928 non-null  datetime64[ns]\n",
            " 3   dropoff_datetime          72928 non-null  datetime64[ns]\n",
            " 4   pickup_longitude          72928 non-null  float64       \n",
            " 5   pickup_latitude           72928 non-null  float64       \n",
            " 6   dropoff_longitude         72928 non-null  float64       \n",
            " 7   dropoff_latitude          72928 non-null  float64       \n",
            " 8   store_and_fwd_flag        72928 non-null  object        \n",
            " 9   trip_duration             72928 non-null  int64         \n",
            " 10  dist_meters               72928 non-null  int64         \n",
            " 11  wait_sec                  72928 non-null  int64         \n",
            " 12  log_dist_meters           72928 non-null  float64       \n",
            " 13  dist_kilometers           72928 non-null  float64       \n",
            " 14  log_trip_duration         72928 non-null  float64       \n",
            " 15  trip_duration_in_minutes  72928 non-null  float64       \n",
            " 16  diff_datetime_minutes     72928 non-null  float64       \n",
            " 17  pickup_month              72928 non-null  int64         \n",
            " 18  pickup_year               72928 non-null  int64         \n",
            " 19  pickup_day                72928 non-null  int64         \n",
            " 20  pickup_hour               72928 non-null  int64         \n",
            " 21  pickup_minute             72928 non-null  int64         \n",
            " 22  pickup_day_of_week        72928 non-null  int64         \n",
            " 23  cluster_pickup            72928 non-null  int32         \n",
            " 24  cluster_dropoff           72928 non-null  int32         \n",
            "dtypes: datetime64[ns](2), float64(9), int32(2), int64(10), object(2)\n",
            "memory usage: 13.9+ MB\n"
          ]
        }
      ]
    },
    {
      "cell_type": "code",
      "source": [
        "correlation_matrix = uio.corr()\n",
        "print(correlation_matrix['trip_duration'])"
      ],
      "metadata": {
        "colab": {
          "base_uri": "https://localhost:8080/"
        },
        "id": "E4BqNJQ7aQYt",
        "outputId": "35809663-048e-4bc4-a76e-be0f646d4f23"
      },
      "execution_count": 57,
      "outputs": [
        {
          "output_type": "stream",
          "name": "stdout",
          "text": [
            "id                          0.000043\n",
            "pickup_longitude           -0.062001\n",
            "pickup_latitude             0.017874\n",
            "dropoff_longitude          -0.072425\n",
            "dropoff_latitude            0.076528\n",
            "trip_duration               1.000000\n",
            "dist_meters                 0.684382\n",
            "wait_sec                    0.004106\n",
            "log_dist_meters             0.578312\n",
            "dist_kilometers             0.684382\n",
            "log_trip_duration           0.830456\n",
            "trip_duration_in_minutes    1.000000\n",
            "diff_datetime_minutes       0.137727\n",
            "pickup_month               -0.005404\n",
            "pickup_year                 0.012148\n",
            "pickup_day                  0.002348\n",
            "pickup_hour                -0.036409\n",
            "pickup_minute              -0.013801\n",
            "pickup_day_of_week         -0.005877\n",
            "cluster_pickup              0.013597\n",
            "cluster_dropoff             0.016039\n",
            "Name: trip_duration, dtype: float64\n"
          ]
        }
      ]
    },
    {
      "cell_type": "code",
      "source": [
        "sns.regplot(x=uio[\"trip_duration_in_minutes\"], y=uio[\"dist_kilometers\"])"
      ],
      "metadata": {
        "colab": {
          "base_uri": "https://localhost:8080/",
          "height": 0
        },
        "id": "_FZVSFzGiGvZ",
        "outputId": "a638dae2-2872-4fa0-bbed-f6d18be281e4"
      },
      "execution_count": 58,
      "outputs": [
        {
          "output_type": "execute_result",
          "data": {
            "text/plain": [
              "<matplotlib.axes._subplots.AxesSubplot at 0x7fd3b6629910>"
            ]
          },
          "metadata": {},
          "execution_count": 58
        },
        {
          "output_type": "display_data",
          "data": {
            "text/plain": [
              "<Figure size 432x288 with 1 Axes>"
            ],
            "image/png": "[encoded data removed]"
          },
          "metadata": {}
        }
      ]
    },
    {
      "cell_type": "markdown",
      "source": [
        "# **Convert VendorID ke Int**"
      ],
      "metadata": {
        "id": "TnuWV_3dBGpR"
      }
    },
    {
      "cell_type": "code",
      "source": [
        "from sklearn.preprocessing import LabelEncoder"
      ],
      "metadata": {
        "id": "ME3X29-ABVnb"
      },
      "execution_count": 59,
      "outputs": []
    },
    {
      "cell_type": "code",
      "source": [
        "le = LabelEncoder()\n",
        "\n",
        "uio['vendor_code']= le.fit_transform(uio['vendor_id'])\n",
        "uio.head()"
      ],
      "metadata": {
        "colab": {
          "base_uri": "https://localhost:8080/",
          "height": 0
        },
        "id": "9iLjqJwBBETo",
        "outputId": "fd673258-c8eb-43f2-8088-dd1dfa199601"
      },
      "execution_count": 60,
      "outputs": [
        {
          "output_type": "execute_result",
          "data": {
            "text/plain": [
              "   id              vendor_id     pickup_datetime    dropoff_datetime  \\\n",
              "1   2  Guadalajara Easy Taxi 2016-09-17 09:59:54 2016-09-17 10:06:23   \n",
              "2   3              Monterrey 2016-09-17 10:06:52 2016-09-17 10:09:40   \n",
              "3   4              Monterrey 2016-09-17 09:45:56 2016-09-17 10:13:34   \n",
              "4   5              Monterrey 2016-09-17 10:12:00 2016-09-17 10:16:31   \n",
              "5   6              Monterrey 2016-09-17 10:18:20 2016-09-17 10:18:41   \n",
              "\n",
              "   pickup_longitude  pickup_latitude  dropoff_longitude  dropoff_latitude  \\\n",
              "1          0.327804         0.391950        -103.366600         20.686971   \n",
              "2          0.140910         0.563280        -100.165737         25.619387   \n",
              "3          0.207565         0.590416        -100.491721         25.676294   \n",
              "4          0.128881         0.580419        -100.104166         25.643862   \n",
              "5          0.141188         0.564268        -100.186171         25.643129   \n",
              "\n",
              "  store_and_fwd_flag  trip_duration  ...  diff_datetime_minutes  pickup_month  \\\n",
              "1                  N            389  ...               6.483333             9   \n",
              "2                  N            168  ...               2.800000             9   \n",
              "3                  N           1659  ...              27.633333             9   \n",
              "4                  N            272  ...               4.516667             9   \n",
              "5                  N             22  ...               0.350000             9   \n",
              "\n",
              "   pickup_year  pickup_day  pickup_hour  pickup_minute  pickup_day_of_week  \\\n",
              "1         2016          17            9             59                   5   \n",
              "2         2016          17           10              6                   5   \n",
              "3         2016          17            9             45                   5   \n",
              "4         2016          17           10             12                   5   \n",
              "5         2016          17           10             18                   5   \n",
              "\n",
              "   cluster_pickup  cluster_dropoff  vendor_code  \n",
              "1               1                1           43  \n",
              "2               1                1           71  \n",
              "3               1                1           71  \n",
              "4               1                1           71  \n",
              "5               1                1           71  \n",
              "\n",
              "[5 rows x 26 columns]"
            ],
            "text/html": [
              "\n",
              "  <div id=\"df-ee5ac086-bc98-4395-ab8e-2593b47776c6\">\n",
              "    <div class=\"colab-df-container\">\n",
              "      <div>\n",
              "<style scoped>\n",
              "    .dataframe tbody tr th:only-of-type {\n",
              "        vertical-align: middle;\n",
              "    }\n",
              "\n",
              "    .dataframe tbody tr th {\n",
              "        vertical-align: top;\n",
              "    }\n",
              "\n",
              "    .dataframe thead th {\n",
              "        text-align: right;\n",
              "    }\n",
              "</style>\n",
              "<table border=\"1\" class=\"dataframe\">\n",
              "  <thead>\n",
              "    <tr style=\"text-align: right;\">\n",
              "      <th></th>\n",
              "      <th>id</th>\n",
              "      <th>vendor_id</th>\n",
              "      <th>pickup_datetime</th>\n",
              "      <th>dropoff_datetime</th>\n",
              "      <th>pickup_longitude</th>\n",
              "      <th>pickup_latitude</th>\n",
              "      <th>dropoff_longitude</th>\n",
              "      <th>dropoff_latitude</th>\n",
              "      <th>store_and_fwd_flag</th>\n",
              "      <th>trip_duration</th>\n",
              "      <th>...</th>\n",
              "      <th>diff_datetime_minutes</th>\n",
              "      <th>pickup_month</th>\n",
              "      <th>pickup_year</th>\n",
              "      <th>pickup_day</th>\n",
              "      <th>pickup_hour</th>\n",
              "      <th>pickup_minute</th>\n",
              "      <th>pickup_day_of_week</th>\n",
              "      <th>cluster_pickup</th>\n",
              "      <th>cluster_dropoff</th>\n",
              "      <th>vendor_code</th>\n",
              "    </tr>\n",
              "  </thead>\n",
              "  <tbody>\n",
              "    <tr>\n",
              "      <th>1</th>\n",
              "      <td>2</td>\n",
              "      <td>Guadalajara Easy Taxi</td>\n",
              "      <td>2016-09-17 09:59:54</td>\n",
              "      <td>2016-09-17 10:06:23</td>\n",
              "      <td>0.327804</td>\n",
              "      <td>0.391950</td>\n",
              "      <td>-103.366600</td>\n",
              "      <td>20.686971</td>\n",
              "      <td>N</td>\n",
              "      <td>389</td>\n",
              "      <td>...</td>\n",
              "      <td>6.483333</td>\n",
              "      <td>9</td>\n",
              "      <td>2016</td>\n",
              "      <td>17</td>\n",
              "      <td>9</td>\n",
              "      <td>59</td>\n",
              "      <td>5</td>\n",
              "      <td>1</td>\n",
              "      <td>1</td>\n",
              "      <td>43</td>\n",
              "    </tr>\n",
              "    <tr>\n",
              "      <th>2</th>\n",
              "      <td>3</td>\n",
              "      <td>Monterrey</td>\n",
              "      <td>2016-09-17 10:06:52</td>\n",
              "      <td>2016-09-17 10:09:40</td>\n",
              "      <td>0.140910</td>\n",
              "      <td>0.563280</td>\n",
              "      <td>-100.165737</td>\n",
              "      <td>25.619387</td>\n",
              "      <td>N</td>\n",
              "      <td>168</td>\n",
              "      <td>...</td>\n",
              "      <td>2.800000</td>\n",
              "      <td>9</td>\n",
              "      <td>2016</td>\n",
              "      <td>17</td>\n",
              "      <td>10</td>\n",
              "      <td>6</td>\n",
              "      <td>5</td>\n",
              "      <td>1</td>\n",
              "      <td>1</td>\n",
              "      <td>71</td>\n",
              "    </tr>\n",
              "    <tr>\n",
              "      <th>3</th>\n",
              "      <td>4</td>\n",
              "      <td>Monterrey</td>\n",
              "      <td>2016-09-17 09:45:56</td>\n",
              "      <td>2016-09-17 10:13:34</td>\n",
              "      <td>0.207565</td>\n",
              "      <td>0.590416</td>\n",
              "      <td>-100.491721</td>\n",
              "      <td>25.676294</td>\n",
              "      <td>N</td>\n",
              "      <td>1659</td>\n",
              "      <td>...</td>\n",
              "      <td>27.633333</td>\n",
              "      <td>9</td>\n",
              "      <td>2016</td>\n",
              "      <td>17</td>\n",
              "      <td>9</td>\n",
              "      <td>45</td>\n",
              "      <td>5</td>\n",
              "      <td>1</td>\n",
              "      <td>1</td>\n",
              "      <td>71</td>\n",
              "    </tr>\n",
              "    <tr>\n",
              "      <th>4</th>\n",
              "      <td>5</td>\n",
              "      <td>Monterrey</td>\n",
              "      <td>2016-09-17 10:12:00</td>\n",
              "      <td>2016-09-17 10:16:31</td>\n",
              "      <td>0.128881</td>\n",
              "      <td>0.580419</td>\n",
              "      <td>-100.104166</td>\n",
              "      <td>25.643862</td>\n",
              "      <td>N</td>\n",
              "      <td>272</td>\n",
              "      <td>...</td>\n",
              "      <td>4.516667</td>\n",
              "      <td>9</td>\n",
              "      <td>2016</td>\n",
              "      <td>17</td>\n",
              "      <td>10</td>\n",
              "      <td>12</td>\n",
              "      <td>5</td>\n",
              "      <td>1</td>\n",
              "      <td>1</td>\n",
              "      <td>71</td>\n",
              "    </tr>\n",
              "    <tr>\n",
              "      <th>5</th>\n",
              "      <td>6</td>\n",
              "      <td>Monterrey</td>\n",
              "      <td>2016-09-17 10:18:20</td>\n",
              "      <td>2016-09-17 10:18:41</td>\n",
              "      <td>0.141188</td>\n",
              "      <td>0.564268</td>\n",
              "      <td>-100.186171</td>\n",
              "      <td>25.643129</td>\n",
              "      <td>N</td>\n",
              "      <td>22</td>\n",
              "      <td>...</td>\n",
              "      <td>0.350000</td>\n",
              "      <td>9</td>\n",
              "      <td>2016</td>\n",
              "      <td>17</td>\n",
              "      <td>10</td>\n",
              "      <td>18</td>\n",
              "      <td>5</td>\n",
              "      <td>1</td>\n",
              "      <td>1</td>\n",
              "      <td>71</td>\n",
              "    </tr>\n",
              "  </tbody>\n",
              "</table>\n",
              "<p>5 rows × 26 columns</p>\n",
              "</div>\n",
              "      <button class=\"colab-df-convert\" onclick=\"convertToInteractive('df-ee5ac086-bc98-4395-ab8e-2593b47776c6')\"\n",
              "              title=\"Convert this dataframe to an interactive table.\"\n",
              "              style=\"display:none;\">\n",
              "        \n",
              "  <svg xmlns=\"http://www.w3.org/2000/svg\" height=\"24px\"viewBox=\"0 0 24 24\"\n",
              "       width=\"24px\">\n",
              "    <path d=\"M0 0h24v24H0V0z\" fill=\"none\"/>\n",
              "    <path d=\"M18.56 5.44l.94 2.06.94-2.06 2.06-.94-2.06-.94-.94-2.06-.94 2.06-2.06.94zm-11 1L8.5 8.5l.94-2.06 2.06-.94-2.06-.94L8.5 2.5l-.94 2.06-2.06.94zm10 10l.94 2.06.94-2.06 2.06-.94-2.06-.94-.94-2.06-.94 2.06-2.06.94z\"/><path d=\"M17.41 7.96l-1.37-1.37c-.4-.4-.92-.59-1.43-.59-.52 0-1.04.2-1.43.59L10.3 9.45l-7.72 7.72c-.78.78-.78 2.05 0 2.83L4 21.41c.39.39.9.59 1.41.59.51 0 1.02-.2 1.41-.59l7.78-7.78 2.81-2.81c.8-.78.8-2.07 0-2.86zM5.41 20L4 18.59l7.72-7.72 1.47 1.35L5.41 20z\"/>\n",
              "  </svg>\n",
              "      </button>\n",
              "      \n",
              "  <style>\n",
              "    .colab-df-container {\n",
              "      display:flex;\n",
              "      flex-wrap:wrap;\n",
              "      gap: 12px;\n",
              "    }\n",
              "\n",
              "    .colab-df-convert {\n",
              "      background-color: #E8F0FE;\n",
              "      border: none;\n",
              "      border-radius: 50%;\n",
              "      cursor: pointer;\n",
              "      display: none;\n",
              "      fill: #1967D2;\n",
              "      height: 32px;\n",
              "      padding: 0 0 0 0;\n",
              "      width: 32px;\n",
              "    }\n",
              "\n",
              "    .colab-df-convert:hover {\n",
              "      background-color: #E2EBFA;\n",
              "      box-shadow: 0px 1px 2px rgba(60, 64, 67, 0.3), 0px 1px 3px 1px rgba(60, 64, 67, 0.15);\n",
              "      fill: #174EA6;\n",
              "    }\n",
              "\n",
              "    [theme=dark] .colab-df-convert {\n",
              "      background-color: #3B4455;\n",
              "      fill: #D2E3FC;\n",
              "    }\n",
              "\n",
              "    [theme=dark] .colab-df-convert:hover {\n",
              "      background-color: #434B5C;\n",
              "      box-shadow: 0px 1px 3px 1px rgba(0, 0, 0, 0.15);\n",
              "      filter: drop-shadow(0px 1px 2px rgba(0, 0, 0, 0.3));\n",
              "      fill: #FFFFFF;\n",
              "    }\n",
              "  </style>\n",
              "\n",
              "      <script>\n",
              "        const buttonEl =\n",
              "          document.querySelector('#df-ee5ac086-bc98-4395-ab8e-2593b47776c6 button.colab-df-convert');\n",
              "        buttonEl.style.display =\n",
              "          google.colab.kernel.accessAllowed ? 'block' : 'none';\n",
              "\n",
              "        async function convertToInteractive(key) {\n",
              "          const element = document.querySelector('#df-ee5ac086-bc98-4395-ab8e-2593b47776c6');\n",
              "          const dataTable =\n",
              "            await google.colab.kernel.invokeFunction('convertToInteractive',\n",
              "                                                     [key], {});\n",
              "          if (!dataTable) return;\n",
              "\n",
              "          const docLinkHtml = 'Like what you see? Visit the ' +\n",
              "            '<a target=\"_blank\" href=https://colab.research.google.com/notebooks/data_table.ipynb>data table notebook</a>'\n",
              "            + ' to learn more about interactive tables.';\n",
              "          element.innerHTML = '';\n",
              "          dataTable['output_type'] = 'display_data';\n",
              "          await google.colab.output.renderOutput(dataTable, element);\n",
              "          const docLink = document.createElement('div');\n",
              "          docLink.innerHTML = docLinkHtml;\n",
              "          element.appendChild(docLink);\n",
              "        }\n",
              "      </script>\n",
              "    </div>\n",
              "  </div>\n",
              "  "
            ]
          },
          "metadata": {},
          "execution_count": 60
        }
      ]
    },
    {
      "cell_type": "code",
      "source": [
        "print(uio.groupby(['vendor_id'])['id'].count().reset_index())"
      ],
      "metadata": {
        "colab": {
          "base_uri": "https://localhost:8080/"
        },
        "id": "Dbv95RHbMOMc",
        "outputId": "e0ee8435-dd81-42dd-f7e3-882a832c9db1"
      },
      "execution_count": 61,
      "outputs": [
        {
          "output_type": "stream",
          "name": "stdout",
          "text": [
            "                vendor_id    id\n",
            "0          Aguascalientes  8596\n",
            "1    Aguascalientes UberX   215\n",
            "2                  Ambato   135\n",
            "3             Ant Ecuador   401\n",
            "4                 Armenia     1\n",
            "..                    ...   ...\n",
            "133          Toluca UberX     4\n",
            "134               Uruguay   293\n",
            "135      Valledupar UberX     8\n",
            "136      Valparaiso UberX     4\n",
            "137   Villavicencio UberX     2\n",
            "\n",
            "[138 rows x 2 columns]\n"
          ]
        }
      ]
    },
    {
      "cell_type": "code",
      "source": [
        "uio_distinct = uio[['vendor_id','vendor_code']]\n",
        "uio_distinct.drop_duplicates()"
      ],
      "metadata": {
        "colab": {
          "base_uri": "https://localhost:8080/",
          "height": 0
        },
        "id": "mzTCcF2SCSvX",
        "outputId": "b4ccd04e-d6ae-4323-cdfe-da3dbb75cf09"
      },
      "execution_count": 62,
      "outputs": [
        {
          "output_type": "execute_result",
          "data": {
            "text/plain": [
              "                   vendor_id  vendor_code\n",
              "1      Guadalajara Easy Taxi           43\n",
              "2                  Monterrey           71\n",
              "14            Aguascalientes            0\n",
              "26                      Cali           20\n",
              "30                     Manta           64\n",
              "...                      ...          ...\n",
              "65633         Tijuana UberXL          132\n",
              "69403                  Salta          109\n",
              "71648                Armenia            4\n",
              "85833                Colonia           25\n",
              "86910          Houston UberX           55\n",
              "\n",
              "[138 rows x 2 columns]"
            ],
            "text/html": [
              "\n",
              "  <div id=\"df-a943f6cd-91cc-4bd1-8688-3c2642874245\">\n",
              "    <div class=\"colab-df-container\">\n",
              "      <div>\n",
              "<style scoped>\n",
              "    .dataframe tbody tr th:only-of-type {\n",
              "        vertical-align: middle;\n",
              "    }\n",
              "\n",
              "    .dataframe tbody tr th {\n",
              "        vertical-align: top;\n",
              "    }\n",
              "\n",
              "    .dataframe thead th {\n",
              "        text-align: right;\n",
              "    }\n",
              "</style>\n",
              "<table border=\"1\" class=\"dataframe\">\n",
              "  <thead>\n",
              "    <tr style=\"text-align: right;\">\n",
              "      <th></th>\n",
              "      <th>vendor_id</th>\n",
              "      <th>vendor_code</th>\n",
              "    </tr>\n",
              "  </thead>\n",
              "  <tbody>\n",
              "    <tr>\n",
              "      <th>1</th>\n",
              "      <td>Guadalajara Easy Taxi</td>\n",
              "      <td>43</td>\n",
              "    </tr>\n",
              "    <tr>\n",
              "      <th>2</th>\n",
              "      <td>Monterrey</td>\n",
              "      <td>71</td>\n",
              "    </tr>\n",
              "    <tr>\n",
              "      <th>14</th>\n",
              "      <td>Aguascalientes</td>\n",
              "      <td>0</td>\n",
              "    </tr>\n",
              "    <tr>\n",
              "      <th>26</th>\n",
              "      <td>Cali</td>\n",
              "      <td>20</td>\n",
              "    </tr>\n",
              "    <tr>\n",
              "      <th>30</th>\n",
              "      <td>Manta</td>\n",
              "      <td>64</td>\n",
              "    </tr>\n",
              "    <tr>\n",
              "      <th>...</th>\n",
              "      <td>...</td>\n",
              "      <td>...</td>\n",
              "    </tr>\n",
              "    <tr>\n",
              "      <th>65633</th>\n",
              "      <td>Tijuana UberXL</td>\n",
              "      <td>132</td>\n",
              "    </tr>\n",
              "    <tr>\n",
              "      <th>69403</th>\n",
              "      <td>Salta</td>\n",
              "      <td>109</td>\n",
              "    </tr>\n",
              "    <tr>\n",
              "      <th>71648</th>\n",
              "      <td>Armenia</td>\n",
              "      <td>4</td>\n",
              "    </tr>\n",
              "    <tr>\n",
              "      <th>85833</th>\n",
              "      <td>Colonia</td>\n",
              "      <td>25</td>\n",
              "    </tr>\n",
              "    <tr>\n",
              "      <th>86910</th>\n",
              "      <td>Houston UberX</td>\n",
              "      <td>55</td>\n",
              "    </tr>\n",
              "  </tbody>\n",
              "</table>\n",
              "<p>138 rows × 2 columns</p>\n",
              "</div>\n",
              "      <button class=\"colab-df-convert\" onclick=\"convertToInteractive('df-a943f6cd-91cc-4bd1-8688-3c2642874245')\"\n",
              "              title=\"Convert this dataframe to an interactive table.\"\n",
              "              style=\"display:none;\">\n",
              "        \n",
              "  <svg xmlns=\"http://www.w3.org/2000/svg\" height=\"24px\"viewBox=\"0 0 24 24\"\n",
              "       width=\"24px\">\n",
              "    <path d=\"M0 0h24v24H0V0z\" fill=\"none\"/>\n",
              "    <path d=\"M18.56 5.44l.94 2.06.94-2.06 2.06-.94-2.06-.94-.94-2.06-.94 2.06-2.06.94zm-11 1L8.5 8.5l.94-2.06 2.06-.94-2.06-.94L8.5 2.5l-.94 2.06-2.06.94zm10 10l.94 2.06.94-2.06 2.06-.94-2.06-.94-.94-2.06-.94 2.06-2.06.94z\"/><path d=\"M17.41 7.96l-1.37-1.37c-.4-.4-.92-.59-1.43-.59-.52 0-1.04.2-1.43.59L10.3 9.45l-7.72 7.72c-.78.78-.78 2.05 0 2.83L4 21.41c.39.39.9.59 1.41.59.51 0 1.02-.2 1.41-.59l7.78-7.78 2.81-2.81c.8-.78.8-2.07 0-2.86zM5.41 20L4 18.59l7.72-7.72 1.47 1.35L5.41 20z\"/>\n",
              "  </svg>\n",
              "      </button>\n",
              "      \n",
              "  <style>\n",
              "    .colab-df-container {\n",
              "      display:flex;\n",
              "      flex-wrap:wrap;\n",
              "      gap: 12px;\n",
              "    }\n",
              "\n",
              "    .colab-df-convert {\n",
              "      background-color: #E8F0FE;\n",
              "      border: none;\n",
              "      border-radius: 50%;\n",
              "      cursor: pointer;\n",
              "      display: none;\n",
              "      fill: #1967D2;\n",
              "      height: 32px;\n",
              "      padding: 0 0 0 0;\n",
              "      width: 32px;\n",
              "    }\n",
              "\n",
              "    .colab-df-convert:hover {\n",
              "      background-color: #E2EBFA;\n",
              "      box-shadow: 0px 1px 2px rgba(60, 64, 67, 0.3), 0px 1px 3px 1px rgba(60, 64, 67, 0.15);\n",
              "      fill: #174EA6;\n",
              "    }\n",
              "\n",
              "    [theme=dark] .colab-df-convert {\n",
              "      background-color: #3B4455;\n",
              "      fill: #D2E3FC;\n",
              "    }\n",
              "\n",
              "    [theme=dark] .colab-df-convert:hover {\n",
              "      background-color: #434B5C;\n",
              "      box-shadow: 0px 1px 3px 1px rgba(0, 0, 0, 0.15);\n",
              "      filter: drop-shadow(0px 1px 2px rgba(0, 0, 0, 0.3));\n",
              "      fill: #FFFFFF;\n",
              "    }\n",
              "  </style>\n",
              "\n",
              "      <script>\n",
              "        const buttonEl =\n",
              "          document.querySelector('#df-a943f6cd-91cc-4bd1-8688-3c2642874245 button.colab-df-convert');\n",
              "        buttonEl.style.display =\n",
              "          google.colab.kernel.accessAllowed ? 'block' : 'none';\n",
              "\n",
              "        async function convertToInteractive(key) {\n",
              "          const element = document.querySelector('#df-a943f6cd-91cc-4bd1-8688-3c2642874245');\n",
              "          const dataTable =\n",
              "            await google.colab.kernel.invokeFunction('convertToInteractive',\n",
              "                                                     [key], {});\n",
              "          if (!dataTable) return;\n",
              "\n",
              "          const docLinkHtml = 'Like what you see? Visit the ' +\n",
              "            '<a target=\"_blank\" href=https://colab.research.google.com/notebooks/data_table.ipynb>data table notebook</a>'\n",
              "            + ' to learn more about interactive tables.';\n",
              "          element.innerHTML = '';\n",
              "          dataTable['output_type'] = 'display_data';\n",
              "          await google.colab.output.renderOutput(dataTable, element);\n",
              "          const docLink = document.createElement('div');\n",
              "          docLink.innerHTML = docLinkHtml;\n",
              "          element.appendChild(docLink);\n",
              "        }\n",
              "      </script>\n",
              "    </div>\n",
              "  </div>\n",
              "  "
            ]
          },
          "metadata": {},
          "execution_count": 62
        }
      ]
    },
    {
      "cell_type": "code",
      "source": [
        "correlation_matrix = uio.corr()\n",
        "print(correlation_matrix['trip_duration'])"
      ],
      "metadata": {
        "colab": {
          "base_uri": "https://localhost:8080/"
        },
        "id": "ydp5vzqfFoMA",
        "outputId": "ba3b4cc7-494a-4b5b-be7b-4b69a8ba4962"
      },
      "execution_count": 63,
      "outputs": [
        {
          "output_type": "stream",
          "name": "stdout",
          "text": [
            "id                          0.000043\n",
            "pickup_longitude           -0.062001\n",
            "pickup_latitude             0.017874\n",
            "dropoff_longitude          -0.072425\n",
            "dropoff_latitude            0.076528\n",
            "trip_duration               1.000000\n",
            "dist_meters                 0.684382\n",
            "wait_sec                    0.004106\n",
            "log_dist_meters             0.578312\n",
            "dist_kilometers             0.684382\n",
            "log_trip_duration           0.830456\n",
            "trip_duration_in_minutes    1.000000\n",
            "diff_datetime_minutes       0.137727\n",
            "pickup_month               -0.005404\n",
            "pickup_year                 0.012148\n",
            "pickup_day                  0.002348\n",
            "pickup_hour                -0.036409\n",
            "pickup_minute              -0.013801\n",
            "pickup_day_of_week         -0.005877\n",
            "cluster_pickup              0.013597\n",
            "cluster_dropoff             0.016039\n",
            "vendor_code                -0.085669\n",
            "Name: trip_duration, dtype: float64\n"
          ]
        }
      ]
    },
    {
      "cell_type": "markdown",
      "source": [
        "# **Split Data**"
      ],
      "metadata": {
        "id": "AI0eyTVmk_-L"
      }
    },
    {
      "cell_type": "code",
      "source": [
        "uio.head()"
      ],
      "metadata": {
        "colab": {
          "base_uri": "https://localhost:8080/",
          "height": 0
        },
        "id": "lj_oXNhxPCzA",
        "outputId": "0c544b12-2013-4460-c608-04641b994a5b"
      },
      "execution_count": 101,
      "outputs": [
        {
          "output_type": "execute_result",
          "data": {
            "text/plain": [
              "   id              vendor_id     pickup_datetime    dropoff_datetime  \\\n",
              "1   2  Guadalajara Easy Taxi 2016-09-17 09:59:54 2016-09-17 10:06:23   \n",
              "2   3              Monterrey 2016-09-17 10:06:52 2016-09-17 10:09:40   \n",
              "3   4              Monterrey 2016-09-17 09:45:56 2016-09-17 10:13:34   \n",
              "4   5              Monterrey 2016-09-17 10:12:00 2016-09-17 10:16:31   \n",
              "5   6              Monterrey 2016-09-17 10:18:20 2016-09-17 10:18:41   \n",
              "\n",
              "   pickup_longitude  pickup_latitude  dropoff_longitude  dropoff_latitude  \\\n",
              "1          0.327804         0.391950        -103.366600         20.686971   \n",
              "2          0.140910         0.563280        -100.165737         25.619387   \n",
              "3          0.207565         0.590416        -100.491721         25.676294   \n",
              "4          0.128881         0.580419        -100.104166         25.643862   \n",
              "5          0.141188         0.564268        -100.186171         25.643129   \n",
              "\n",
              "  store_and_fwd_flag  trip_duration  ...  diff_datetime_minutes  pickup_month  \\\n",
              "1                  N            389  ...               6.483333             9   \n",
              "2                  N            168  ...               2.800000             9   \n",
              "3                  N           1659  ...              27.633333             9   \n",
              "4                  N            272  ...               4.516667             9   \n",
              "5                  N             22  ...               0.350000             9   \n",
              "\n",
              "   pickup_year  pickup_day  pickup_hour  pickup_minute  pickup_day_of_week  \\\n",
              "1         2016          17            9             59                   5   \n",
              "2         2016          17           10              6                   5   \n",
              "3         2016          17            9             45                   5   \n",
              "4         2016          17           10             12                   5   \n",
              "5         2016          17           10             18                   5   \n",
              "\n",
              "   cluster_pickup  cluster_dropoff  vendor_code  \n",
              "1               1                1           43  \n",
              "2               1                1           71  \n",
              "3               1                1           71  \n",
              "4               1                1           71  \n",
              "5               1                1           71  \n",
              "\n",
              "[5 rows x 26 columns]"
            ],
            "text/html": [
              "\n",
              "  <div id=\"df-7f2e2b85-db66-41f4-9054-740a365a5832\">\n",
              "    <div class=\"colab-df-container\">\n",
              "      <div>\n",
              "<style scoped>\n",
              "    .dataframe tbody tr th:only-of-type {\n",
              "        vertical-align: middle;\n",
              "    }\n",
              "\n",
              "    .dataframe tbody tr th {\n",
              "        vertical-align: top;\n",
              "    }\n",
              "\n",
              "    .dataframe thead th {\n",
              "        text-align: right;\n",
              "    }\n",
              "</style>\n",
              "<table border=\"1\" class=\"dataframe\">\n",
              "  <thead>\n",
              "    <tr style=\"text-align: right;\">\n",
              "      <th></th>\n",
              "      <th>id</th>\n",
              "      <th>vendor_id</th>\n",
              "      <th>pickup_datetime</th>\n",
              "      <th>dropoff_datetime</th>\n",
              "      <th>pickup_longitude</th>\n",
              "      <th>pickup_latitude</th>\n",
              "      <th>dropoff_longitude</th>\n",
              "      <th>dropoff_latitude</th>\n",
              "      <th>store_and_fwd_flag</th>\n",
              "      <th>trip_duration</th>\n",
              "      <th>...</th>\n",
              "      <th>diff_datetime_minutes</th>\n",
              "      <th>pickup_month</th>\n",
              "      <th>pickup_year</th>\n",
              "      <th>pickup_day</th>\n",
              "      <th>pickup_hour</th>\n",
              "      <th>pickup_minute</th>\n",
              "      <th>pickup_day_of_week</th>\n",
              "      <th>cluster_pickup</th>\n",
              "      <th>cluster_dropoff</th>\n",
              "      <th>vendor_code</th>\n",
              "    </tr>\n",
              "  </thead>\n",
              "  <tbody>\n",
              "    <tr>\n",
              "      <th>1</th>\n",
              "      <td>2</td>\n",
              "      <td>Guadalajara Easy Taxi</td>\n",
              "      <td>2016-09-17 09:59:54</td>\n",
              "      <td>2016-09-17 10:06:23</td>\n",
              "      <td>0.327804</td>\n",
              "      <td>0.391950</td>\n",
              "      <td>-103.366600</td>\n",
              "      <td>20.686971</td>\n",
              "      <td>N</td>\n",
              "      <td>389</td>\n",
              "      <td>...</td>\n",
              "      <td>6.483333</td>\n",
              "      <td>9</td>\n",
              "      <td>2016</td>\n",
              "      <td>17</td>\n",
              "      <td>9</td>\n",
              "      <td>59</td>\n",
              "      <td>5</td>\n",
              "      <td>1</td>\n",
              "      <td>1</td>\n",
              "      <td>43</td>\n",
              "    </tr>\n",
              "    <tr>\n",
              "      <th>2</th>\n",
              "      <td>3</td>\n",
              "      <td>Monterrey</td>\n",
              "      <td>2016-09-17 10:06:52</td>\n",
              "      <td>2016-09-17 10:09:40</td>\n",
              "      <td>0.140910</td>\n",
              "      <td>0.563280</td>\n",
              "      <td>-100.165737</td>\n",
              "      <td>25.619387</td>\n",
              "      <td>N</td>\n",
              "      <td>168</td>\n",
              "      <td>...</td>\n",
              "      <td>2.800000</td>\n",
              "      <td>9</td>\n",
              "      <td>2016</td>\n",
              "      <td>17</td>\n",
              "      <td>10</td>\n",
              "      <td>6</td>\n",
              "      <td>5</td>\n",
              "      <td>1</td>\n",
              "      <td>1</td>\n",
              "      <td>71</td>\n",
              "    </tr>\n",
              "    <tr>\n",
              "      <th>3</th>\n",
              "      <td>4</td>\n",
              "      <td>Monterrey</td>\n",
              "      <td>2016-09-17 09:45:56</td>\n",
              "      <td>2016-09-17 10:13:34</td>\n",
              "      <td>0.207565</td>\n",
              "      <td>0.590416</td>\n",
              "      <td>-100.491721</td>\n",
              "      <td>25.676294</td>\n",
              "      <td>N</td>\n",
              "      <td>1659</td>\n",
              "      <td>...</td>\n",
              "      <td>27.633333</td>\n",
              "      <td>9</td>\n",
              "      <td>2016</td>\n",
              "      <td>17</td>\n",
              "      <td>9</td>\n",
              "      <td>45</td>\n",
              "      <td>5</td>\n",
              "      <td>1</td>\n",
              "      <td>1</td>\n",
              "      <td>71</td>\n",
              "    </tr>\n",
              "    <tr>\n",
              "      <th>4</th>\n",
              "      <td>5</td>\n",
              "      <td>Monterrey</td>\n",
              "      <td>2016-09-17 10:12:00</td>\n",
              "      <td>2016-09-17 10:16:31</td>\n",
              "      <td>0.128881</td>\n",
              "      <td>0.580419</td>\n",
              "      <td>-100.104166</td>\n",
              "      <td>25.643862</td>\n",
              "      <td>N</td>\n",
              "      <td>272</td>\n",
              "      <td>...</td>\n",
              "      <td>4.516667</td>\n",
              "      <td>9</td>\n",
              "      <td>2016</td>\n",
              "      <td>17</td>\n",
              "      <td>10</td>\n",
              "      <td>12</td>\n",
              "      <td>5</td>\n",
              "      <td>1</td>\n",
              "      <td>1</td>\n",
              "      <td>71</td>\n",
              "    </tr>\n",
              "    <tr>\n",
              "      <th>5</th>\n",
              "      <td>6</td>\n",
              "      <td>Monterrey</td>\n",
              "      <td>2016-09-17 10:18:20</td>\n",
              "      <td>2016-09-17 10:18:41</td>\n",
              "      <td>0.141188</td>\n",
              "      <td>0.564268</td>\n",
              "      <td>-100.186171</td>\n",
              "      <td>25.643129</td>\n",
              "      <td>N</td>\n",
              "      <td>22</td>\n",
              "      <td>...</td>\n",
              "      <td>0.350000</td>\n",
              "      <td>9</td>\n",
              "      <td>2016</td>\n",
              "      <td>17</td>\n",
              "      <td>10</td>\n",
              "      <td>18</td>\n",
              "      <td>5</td>\n",
              "      <td>1</td>\n",
              "      <td>1</td>\n",
              "      <td>71</td>\n",
              "    </tr>\n",
              "  </tbody>\n",
              "</table>\n",
              "<p>5 rows × 26 columns</p>\n",
              "</div>\n",
              "      <button class=\"colab-df-convert\" onclick=\"convertToInteractive('df-7f2e2b85-db66-41f4-9054-740a365a5832')\"\n",
              "              title=\"Convert this dataframe to an interactive table.\"\n",
              "              style=\"display:none;\">\n",
              "        \n",
              "  <svg xmlns=\"http://www.w3.org/2000/svg\" height=\"24px\"viewBox=\"0 0 24 24\"\n",
              "       width=\"24px\">\n",
              "    <path d=\"M0 0h24v24H0V0z\" fill=\"none\"/>\n",
              "    <path d=\"M18.56 5.44l.94 2.06.94-2.06 2.06-.94-2.06-.94-.94-2.06-.94 2.06-2.06.94zm-11 1L8.5 8.5l.94-2.06 2.06-.94-2.06-.94L8.5 2.5l-.94 2.06-2.06.94zm10 10l.94 2.06.94-2.06 2.06-.94-2.06-.94-.94-2.06-.94 2.06-2.06.94z\"/><path d=\"M17.41 7.96l-1.37-1.37c-.4-.4-.92-.59-1.43-.59-.52 0-1.04.2-1.43.59L10.3 9.45l-7.72 7.72c-.78.78-.78 2.05 0 2.83L4 21.41c.39.39.9.59 1.41.59.51 0 1.02-.2 1.41-.59l7.78-7.78 2.81-2.81c.8-.78.8-2.07 0-2.86zM5.41 20L4 18.59l7.72-7.72 1.47 1.35L5.41 20z\"/>\n",
              "  </svg>\n",
              "      </button>\n",
              "      \n",
              "  <style>\n",
              "    .colab-df-container {\n",
              "      display:flex;\n",
              "      flex-wrap:wrap;\n",
              "      gap: 12px;\n",
              "    }\n",
              "\n",
              "    .colab-df-convert {\n",
              "      background-color: #E8F0FE;\n",
              "      border: none;\n",
              "      border-radius: 50%;\n",
              "      cursor: pointer;\n",
              "      display: none;\n",
              "      fill: #1967D2;\n",
              "      height: 32px;\n",
              "      padding: 0 0 0 0;\n",
              "      width: 32px;\n",
              "    }\n",
              "\n",
              "    .colab-df-convert:hover {\n",
              "      background-color: #E2EBFA;\n",
              "      box-shadow: 0px 1px 2px rgba(60, 64, 67, 0.3), 0px 1px 3px 1px rgba(60, 64, 67, 0.15);\n",
              "      fill: #174EA6;\n",
              "    }\n",
              "\n",
              "    [theme=dark] .colab-df-convert {\n",
              "      background-color: #3B4455;\n",
              "      fill: #D2E3FC;\n",
              "    }\n",
              "\n",
              "    [theme=dark] .colab-df-convert:hover {\n",
              "      background-color: #434B5C;\n",
              "      box-shadow: 0px 1px 3px 1px rgba(0, 0, 0, 0.15);\n",
              "      filter: drop-shadow(0px 1px 2px rgba(0, 0, 0, 0.3));\n",
              "      fill: #FFFFFF;\n",
              "    }\n",
              "  </style>\n",
              "\n",
              "      <script>\n",
              "        const buttonEl =\n",
              "          document.querySelector('#df-7f2e2b85-db66-41f4-9054-740a365a5832 button.colab-df-convert');\n",
              "        buttonEl.style.display =\n",
              "          google.colab.kernel.accessAllowed ? 'block' : 'none';\n",
              "\n",
              "        async function convertToInteractive(key) {\n",
              "          const element = document.querySelector('#df-7f2e2b85-db66-41f4-9054-740a365a5832');\n",
              "          const dataTable =\n",
              "            await google.colab.kernel.invokeFunction('convertToInteractive',\n",
              "                                                     [key], {});\n",
              "          if (!dataTable) return;\n",
              "\n",
              "          const docLinkHtml = 'Like what you see? Visit the ' +\n",
              "            '<a target=\"_blank\" href=https://colab.research.google.com/notebooks/data_table.ipynb>data table notebook</a>'\n",
              "            + ' to learn more about interactive tables.';\n",
              "          element.innerHTML = '';\n",
              "          dataTable['output_type'] = 'display_data';\n",
              "          await google.colab.output.renderOutput(dataTable, element);\n",
              "          const docLink = document.createElement('div');\n",
              "          docLink.innerHTML = docLinkHtml;\n",
              "          element.appendChild(docLink);\n",
              "        }\n",
              "      </script>\n",
              "    </div>\n",
              "  </div>\n",
              "  "
            ]
          },
          "metadata": {},
          "execution_count": 101
        }
      ]
    },
    {
      "cell_type": "code",
      "source": [
        "uio_fix = uio[['trip_duration_in_minutes', 'dist_kilometers']]"
      ],
      "metadata": {
        "id": "NDgsbzgqli-j"
      },
      "execution_count": 102,
      "outputs": []
    },
    {
      "cell_type": "code",
      "source": [
        "uio_fix"
      ],
      "metadata": {
        "colab": {
          "base_uri": "https://localhost:8080/",
          "height": 0
        },
        "id": "KQtnqQNql-j5",
        "outputId": "a82c4870-ca02-4c0f-c535-cd31481521d4"
      },
      "execution_count": 103,
      "outputs": [
        {
          "output_type": "execute_result",
          "data": {
            "text/plain": [
              "       trip_duration_in_minutes  dist_kilometers\n",
              "1                      6.483333            2.962\n",
              "2                      2.800000            0.951\n",
              "3                     27.650000           11.082\n",
              "4                      4.533333            2.021\n",
              "5                      0.366667            2.502\n",
              "...                         ...              ...\n",
              "90278                  0.583333            0.025\n",
              "90279                  9.783333            3.661\n",
              "90282                  1.516667            0.043\n",
              "90284                  1.733333            0.049\n",
              "90285                 10.550000            3.296\n",
              "\n",
              "[72928 rows x 2 columns]"
            ],
            "text/html": [
              "\n",
              "  <div id=\"df-99e48f35-0220-42d4-a263-b8006a635a9f\">\n",
              "    <div class=\"colab-df-container\">\n",
              "      <div>\n",
              "<style scoped>\n",
              "    .dataframe tbody tr th:only-of-type {\n",
              "        vertical-align: middle;\n",
              "    }\n",
              "\n",
              "    .dataframe tbody tr th {\n",
              "        vertical-align: top;\n",
              "    }\n",
              "\n",
              "    .dataframe thead th {\n",
              "        text-align: right;\n",
              "    }\n",
              "</style>\n",
              "<table border=\"1\" class=\"dataframe\">\n",
              "  <thead>\n",
              "    <tr style=\"text-align: right;\">\n",
              "      <th></th>\n",
              "      <th>trip_duration_in_minutes</th>\n",
              "      <th>dist_kilometers</th>\n",
              "    </tr>\n",
              "  </thead>\n",
              "  <tbody>\n",
              "    <tr>\n",
              "      <th>1</th>\n",
              "      <td>6.483333</td>\n",
              "      <td>2.962</td>\n",
              "    </tr>\n",
              "    <tr>\n",
              "      <th>2</th>\n",
              "      <td>2.800000</td>\n",
              "      <td>0.951</td>\n",
              "    </tr>\n",
              "    <tr>\n",
              "      <th>3</th>\n",
              "      <td>27.650000</td>\n",
              "      <td>11.082</td>\n",
              "    </tr>\n",
              "    <tr>\n",
              "      <th>4</th>\n",
              "      <td>4.533333</td>\n",
              "      <td>2.021</td>\n",
              "    </tr>\n",
              "    <tr>\n",
              "      <th>5</th>\n",
              "      <td>0.366667</td>\n",
              "      <td>2.502</td>\n",
              "    </tr>\n",
              "    <tr>\n",
              "      <th>...</th>\n",
              "      <td>...</td>\n",
              "      <td>...</td>\n",
              "    </tr>\n",
              "    <tr>\n",
              "      <th>90278</th>\n",
              "      <td>0.583333</td>\n",
              "      <td>0.025</td>\n",
              "    </tr>\n",
              "    <tr>\n",
              "      <th>90279</th>\n",
              "      <td>9.783333</td>\n",
              "      <td>3.661</td>\n",
              "    </tr>\n",
              "    <tr>\n",
              "      <th>90282</th>\n",
              "      <td>1.516667</td>\n",
              "      <td>0.043</td>\n",
              "    </tr>\n",
              "    <tr>\n",
              "      <th>90284</th>\n",
              "      <td>1.733333</td>\n",
              "      <td>0.049</td>\n",
              "    </tr>\n",
              "    <tr>\n",
              "      <th>90285</th>\n",
              "      <td>10.550000</td>\n",
              "      <td>3.296</td>\n",
              "    </tr>\n",
              "  </tbody>\n",
              "</table>\n",
              "<p>72928 rows × 2 columns</p>\n",
              "</div>\n",
              "      <button class=\"colab-df-convert\" onclick=\"convertToInteractive('df-99e48f35-0220-42d4-a263-b8006a635a9f')\"\n",
              "              title=\"Convert this dataframe to an interactive table.\"\n",
              "              style=\"display:none;\">\n",
              "        \n",
              "  <svg xmlns=\"http://www.w3.org/2000/svg\" height=\"24px\"viewBox=\"0 0 24 24\"\n",
              "       width=\"24px\">\n",
              "    <path d=\"M0 0h24v24H0V0z\" fill=\"none\"/>\n",
              "    <path d=\"M18.56 5.44l.94 2.06.94-2.06 2.06-.94-2.06-.94-.94-2.06-.94 2.06-2.06.94zm-11 1L8.5 8.5l.94-2.06 2.06-.94-2.06-.94L8.5 2.5l-.94 2.06-2.06.94zm10 10l.94 2.06.94-2.06 2.06-.94-2.06-.94-.94-2.06-.94 2.06-2.06.94z\"/><path d=\"M17.41 7.96l-1.37-1.37c-.4-.4-.92-.59-1.43-.59-.52 0-1.04.2-1.43.59L10.3 9.45l-7.72 7.72c-.78.78-.78 2.05 0 2.83L4 21.41c.39.39.9.59 1.41.59.51 0 1.02-.2 1.41-.59l7.78-7.78 2.81-2.81c.8-.78.8-2.07 0-2.86zM5.41 20L4 18.59l7.72-7.72 1.47 1.35L5.41 20z\"/>\n",
              "  </svg>\n",
              "      </button>\n",
              "      \n",
              "  <style>\n",
              "    .colab-df-container {\n",
              "      display:flex;\n",
              "      flex-wrap:wrap;\n",
              "      gap: 12px;\n",
              "    }\n",
              "\n",
              "    .colab-df-convert {\n",
              "      background-color: #E8F0FE;\n",
              "      border: none;\n",
              "      border-radius: 50%;\n",
              "      cursor: pointer;\n",
              "      display: none;\n",
              "      fill: #1967D2;\n",
              "      height: 32px;\n",
              "      padding: 0 0 0 0;\n",
              "      width: 32px;\n",
              "    }\n",
              "\n",
              "    .colab-df-convert:hover {\n",
              "      background-color: #E2EBFA;\n",
              "      box-shadow: 0px 1px 2px rgba(60, 64, 67, 0.3), 0px 1px 3px 1px rgba(60, 64, 67, 0.15);\n",
              "      fill: #174EA6;\n",
              "    }\n",
              "\n",
              "    [theme=dark] .colab-df-convert {\n",
              "      background-color: #3B4455;\n",
              "      fill: #D2E3FC;\n",
              "    }\n",
              "\n",
              "    [theme=dark] .colab-df-convert:hover {\n",
              "      background-color: #434B5C;\n",
              "      box-shadow: 0px 1px 3px 1px rgba(0, 0, 0, 0.15);\n",
              "      filter: drop-shadow(0px 1px 2px rgba(0, 0, 0, 0.3));\n",
              "      fill: #FFFFFF;\n",
              "    }\n",
              "  </style>\n",
              "\n",
              "      <script>\n",
              "        const buttonEl =\n",
              "          document.querySelector('#df-99e48f35-0220-42d4-a263-b8006a635a9f button.colab-df-convert');\n",
              "        buttonEl.style.display =\n",
              "          google.colab.kernel.accessAllowed ? 'block' : 'none';\n",
              "\n",
              "        async function convertToInteractive(key) {\n",
              "          const element = document.querySelector('#df-99e48f35-0220-42d4-a263-b8006a635a9f');\n",
              "          const dataTable =\n",
              "            await google.colab.kernel.invokeFunction('convertToInteractive',\n",
              "                                                     [key], {});\n",
              "          if (!dataTable) return;\n",
              "\n",
              "          const docLinkHtml = 'Like what you see? Visit the ' +\n",
              "            '<a target=\"_blank\" href=https://colab.research.google.com/notebooks/data_table.ipynb>data table notebook</a>'\n",
              "            + ' to learn more about interactive tables.';\n",
              "          element.innerHTML = '';\n",
              "          dataTable['output_type'] = 'display_data';\n",
              "          await google.colab.output.renderOutput(dataTable, element);\n",
              "          const docLink = document.createElement('div');\n",
              "          docLink.innerHTML = docLinkHtml;\n",
              "          element.appendChild(docLink);\n",
              "        }\n",
              "      </script>\n",
              "    </div>\n",
              "  </div>\n",
              "  "
            ]
          },
          "metadata": {},
          "execution_count": 103
        }
      ]
    },
    {
      "cell_type": "code",
      "source": [
        "train_dataset = uio_fix.sample(frac=0.8, random_state=0)\n",
        "test_dataset = uio_fix.drop(train_dataset.index)"
      ],
      "metadata": {
        "id": "zYL9wOqRk_U8"
      },
      "execution_count": 104,
      "outputs": []
    },
    {
      "cell_type": "code",
      "source": [
        "train_dataset.describe().transpose()"
      ],
      "metadata": {
        "colab": {
          "base_uri": "https://localhost:8080/",
          "height": 0
        },
        "id": "jGrgvwPSlenb",
        "outputId": "c155c8fb-630f-49e6-fd3d-ddc2a5255842"
      },
      "execution_count": 105,
      "outputs": [
        {
          "output_type": "execute_result",
          "data": {
            "text/plain": [
              "                            count       mean        std   min       25%  \\\n",
              "trip_duration_in_minutes  58342.0  15.185860  11.321860  0.05  7.016667   \n",
              "dist_kilometers           58342.0   5.028477   4.016663  0.01  2.029000   \n",
              "\n",
              "                                50%        75%        max  \n",
              "trip_duration_in_minutes  12.483333  20.683333  55.916667  \n",
              "dist_kilometers            4.048000   7.159000  18.759000  "
            ],
            "text/html": [
              "\n",
              "  <div id=\"df-c4a4b447-6e12-4cbc-81df-79d35a94a027\">\n",
              "    <div class=\"colab-df-container\">\n",
              "      <div>\n",
              "<style scoped>\n",
              "    .dataframe tbody tr th:only-of-type {\n",
              "        vertical-align: middle;\n",
              "    }\n",
              "\n",
              "    .dataframe tbody tr th {\n",
              "        vertical-align: top;\n",
              "    }\n",
              "\n",
              "    .dataframe thead th {\n",
              "        text-align: right;\n",
              "    }\n",
              "</style>\n",
              "<table border=\"1\" class=\"dataframe\">\n",
              "  <thead>\n",
              "    <tr style=\"text-align: right;\">\n",
              "      <th></th>\n",
              "      <th>count</th>\n",
              "      <th>mean</th>\n",
              "      <th>std</th>\n",
              "      <th>min</th>\n",
              "      <th>25%</th>\n",
              "      <th>50%</th>\n",
              "      <th>75%</th>\n",
              "      <th>max</th>\n",
              "    </tr>\n",
              "  </thead>\n",
              "  <tbody>\n",
              "    <tr>\n",
              "      <th>trip_duration_in_minutes</th>\n",
              "      <td>58342.0</td>\n",
              "      <td>15.185860</td>\n",
              "      <td>11.321860</td>\n",
              "      <td>0.05</td>\n",
              "      <td>7.016667</td>\n",
              "      <td>12.483333</td>\n",
              "      <td>20.683333</td>\n",
              "      <td>55.916667</td>\n",
              "    </tr>\n",
              "    <tr>\n",
              "      <th>dist_kilometers</th>\n",
              "      <td>58342.0</td>\n",
              "      <td>5.028477</td>\n",
              "      <td>4.016663</td>\n",
              "      <td>0.01</td>\n",
              "      <td>2.029000</td>\n",
              "      <td>4.048000</td>\n",
              "      <td>7.159000</td>\n",
              "      <td>18.759000</td>\n",
              "    </tr>\n",
              "  </tbody>\n",
              "</table>\n",
              "</div>\n",
              "      <button class=\"colab-df-convert\" onclick=\"convertToInteractive('df-c4a4b447-6e12-4cbc-81df-79d35a94a027')\"\n",
              "              title=\"Convert this dataframe to an interactive table.\"\n",
              "              style=\"display:none;\">\n",
              "        \n",
              "  <svg xmlns=\"http://www.w3.org/2000/svg\" height=\"24px\"viewBox=\"0 0 24 24\"\n",
              "       width=\"24px\">\n",
              "    <path d=\"M0 0h24v24H0V0z\" fill=\"none\"/>\n",
              "    <path d=\"M18.56 5.44l.94 2.06.94-2.06 2.06-.94-2.06-.94-.94-2.06-.94 2.06-2.06.94zm-11 1L8.5 8.5l.94-2.06 2.06-.94-2.06-.94L8.5 2.5l-.94 2.06-2.06.94zm10 10l.94 2.06.94-2.06 2.06-.94-2.06-.94-.94-2.06-.94 2.06-2.06.94z\"/><path d=\"M17.41 7.96l-1.37-1.37c-.4-.4-.92-.59-1.43-.59-.52 0-1.04.2-1.43.59L10.3 9.45l-7.72 7.72c-.78.78-.78 2.05 0 2.83L4 21.41c.39.39.9.59 1.41.59.51 0 1.02-.2 1.41-.59l7.78-7.78 2.81-2.81c.8-.78.8-2.07 0-2.86zM5.41 20L4 18.59l7.72-7.72 1.47 1.35L5.41 20z\"/>\n",
              "  </svg>\n",
              "      </button>\n",
              "      \n",
              "  <style>\n",
              "    .colab-df-container {\n",
              "      display:flex;\n",
              "      flex-wrap:wrap;\n",
              "      gap: 12px;\n",
              "    }\n",
              "\n",
              "    .colab-df-convert {\n",
              "      background-color: #E8F0FE;\n",
              "      border: none;\n",
              "      border-radius: 50%;\n",
              "      cursor: pointer;\n",
              "      display: none;\n",
              "      fill: #1967D2;\n",
              "      height: 32px;\n",
              "      padding: 0 0 0 0;\n",
              "      width: 32px;\n",
              "    }\n",
              "\n",
              "    .colab-df-convert:hover {\n",
              "      background-color: #E2EBFA;\n",
              "      box-shadow: 0px 1px 2px rgba(60, 64, 67, 0.3), 0px 1px 3px 1px rgba(60, 64, 67, 0.15);\n",
              "      fill: #174EA6;\n",
              "    }\n",
              "\n",
              "    [theme=dark] .colab-df-convert {\n",
              "      background-color: #3B4455;\n",
              "      fill: #D2E3FC;\n",
              "    }\n",
              "\n",
              "    [theme=dark] .colab-df-convert:hover {\n",
              "      background-color: #434B5C;\n",
              "      box-shadow: 0px 1px 3px 1px rgba(0, 0, 0, 0.15);\n",
              "      filter: drop-shadow(0px 1px 2px rgba(0, 0, 0, 0.3));\n",
              "      fill: #FFFFFF;\n",
              "    }\n",
              "  </style>\n",
              "\n",
              "      <script>\n",
              "        const buttonEl =\n",
              "          document.querySelector('#df-c4a4b447-6e12-4cbc-81df-79d35a94a027 button.colab-df-convert');\n",
              "        buttonEl.style.display =\n",
              "          google.colab.kernel.accessAllowed ? 'block' : 'none';\n",
              "\n",
              "        async function convertToInteractive(key) {\n",
              "          const element = document.querySelector('#df-c4a4b447-6e12-4cbc-81df-79d35a94a027');\n",
              "          const dataTable =\n",
              "            await google.colab.kernel.invokeFunction('convertToInteractive',\n",
              "                                                     [key], {});\n",
              "          if (!dataTable) return;\n",
              "\n",
              "          const docLinkHtml = 'Like what you see? Visit the ' +\n",
              "            '<a target=\"_blank\" href=https://colab.research.google.com/notebooks/data_table.ipynb>data table notebook</a>'\n",
              "            + ' to learn more about interactive tables.';\n",
              "          element.innerHTML = '';\n",
              "          dataTable['output_type'] = 'display_data';\n",
              "          await google.colab.output.renderOutput(dataTable, element);\n",
              "          const docLink = document.createElement('div');\n",
              "          docLink.innerHTML = docLinkHtml;\n",
              "          element.appendChild(docLink);\n",
              "        }\n",
              "      </script>\n",
              "    </div>\n",
              "  </div>\n",
              "  "
            ]
          },
          "metadata": {},
          "execution_count": 105
        }
      ]
    },
    {
      "cell_type": "code",
      "source": [
        "train_features = train_dataset.copy()\n",
        "test_features = test_dataset.copy()\n",
        "\n",
        "train_labels = train_features.pop('trip_duration_in_minutes')\n",
        "test_labels = test_features.pop('trip_duration_in_minutes')"
      ],
      "metadata": {
        "id": "3KBoRBQtmVTa"
      },
      "execution_count": 106,
      "outputs": []
    },
    {
      "cell_type": "code",
      "source": [
        "train_dataset.describe().transpose()[['mean', 'std']]"
      ],
      "metadata": {
        "colab": {
          "base_uri": "https://localhost:8080/",
          "height": 0
        },
        "id": "lrfCieYXmW7t",
        "outputId": "430cb12a-4676-4e1c-cc15-f4be2d83f120"
      },
      "execution_count": 107,
      "outputs": [
        {
          "output_type": "execute_result",
          "data": {
            "text/plain": [
              "                               mean        std\n",
              "trip_duration_in_minutes  15.185860  11.321860\n",
              "dist_kilometers            5.028477   4.016663"
            ],
            "text/html": [
              "\n",
              "  <div id=\"df-225556f2-3bb5-40e9-aacc-9517938e95ec\">\n",
              "    <div class=\"colab-df-container\">\n",
              "      <div>\n",
              "<style scoped>\n",
              "    .dataframe tbody tr th:only-of-type {\n",
              "        vertical-align: middle;\n",
              "    }\n",
              "\n",
              "    .dataframe tbody tr th {\n",
              "        vertical-align: top;\n",
              "    }\n",
              "\n",
              "    .dataframe thead th {\n",
              "        text-align: right;\n",
              "    }\n",
              "</style>\n",
              "<table border=\"1\" class=\"dataframe\">\n",
              "  <thead>\n",
              "    <tr style=\"text-align: right;\">\n",
              "      <th></th>\n",
              "      <th>mean</th>\n",
              "      <th>std</th>\n",
              "    </tr>\n",
              "  </thead>\n",
              "  <tbody>\n",
              "    <tr>\n",
              "      <th>trip_duration_in_minutes</th>\n",
              "      <td>15.185860</td>\n",
              "      <td>11.321860</td>\n",
              "    </tr>\n",
              "    <tr>\n",
              "      <th>dist_kilometers</th>\n",
              "      <td>5.028477</td>\n",
              "      <td>4.016663</td>\n",
              "    </tr>\n",
              "  </tbody>\n",
              "</table>\n",
              "</div>\n",
              "      <button class=\"colab-df-convert\" onclick=\"convertToInteractive('df-225556f2-3bb5-40e9-aacc-9517938e95ec')\"\n",
              "              title=\"Convert this dataframe to an interactive table.\"\n",
              "              style=\"display:none;\">\n",
              "        \n",
              "  <svg xmlns=\"http://www.w3.org/2000/svg\" height=\"24px\"viewBox=\"0 0 24 24\"\n",
              "       width=\"24px\">\n",
              "    <path d=\"M0 0h24v24H0V0z\" fill=\"none\"/>\n",
              "    <path d=\"M18.56 5.44l.94 2.06.94-2.06 2.06-.94-2.06-.94-.94-2.06-.94 2.06-2.06.94zm-11 1L8.5 8.5l.94-2.06 2.06-.94-2.06-.94L8.5 2.5l-.94 2.06-2.06.94zm10 10l.94 2.06.94-2.06 2.06-.94-2.06-.94-.94-2.06-.94 2.06-2.06.94z\"/><path d=\"M17.41 7.96l-1.37-1.37c-.4-.4-.92-.59-1.43-.59-.52 0-1.04.2-1.43.59L10.3 9.45l-7.72 7.72c-.78.78-.78 2.05 0 2.83L4 21.41c.39.39.9.59 1.41.59.51 0 1.02-.2 1.41-.59l7.78-7.78 2.81-2.81c.8-.78.8-2.07 0-2.86zM5.41 20L4 18.59l7.72-7.72 1.47 1.35L5.41 20z\"/>\n",
              "  </svg>\n",
              "      </button>\n",
              "      \n",
              "  <style>\n",
              "    .colab-df-container {\n",
              "      display:flex;\n",
              "      flex-wrap:wrap;\n",
              "      gap: 12px;\n",
              "    }\n",
              "\n",
              "    .colab-df-convert {\n",
              "      background-color: #E8F0FE;\n",
              "      border: none;\n",
              "      border-radius: 50%;\n",
              "      cursor: pointer;\n",
              "      display: none;\n",
              "      fill: #1967D2;\n",
              "      height: 32px;\n",
              "      padding: 0 0 0 0;\n",
              "      width: 32px;\n",
              "    }\n",
              "\n",
              "    .colab-df-convert:hover {\n",
              "      background-color: #E2EBFA;\n",
              "      box-shadow: 0px 1px 2px rgba(60, 64, 67, 0.3), 0px 1px 3px 1px rgba(60, 64, 67, 0.15);\n",
              "      fill: #174EA6;\n",
              "    }\n",
              "\n",
              "    [theme=dark] .colab-df-convert {\n",
              "      background-color: #3B4455;\n",
              "      fill: #D2E3FC;\n",
              "    }\n",
              "\n",
              "    [theme=dark] .colab-df-convert:hover {\n",
              "      background-color: #434B5C;\n",
              "      box-shadow: 0px 1px 3px 1px rgba(0, 0, 0, 0.15);\n",
              "      filter: drop-shadow(0px 1px 2px rgba(0, 0, 0, 0.3));\n",
              "      fill: #FFFFFF;\n",
              "    }\n",
              "  </style>\n",
              "\n",
              "      <script>\n",
              "        const buttonEl =\n",
              "          document.querySelector('#df-225556f2-3bb5-40e9-aacc-9517938e95ec button.colab-df-convert');\n",
              "        buttonEl.style.display =\n",
              "          google.colab.kernel.accessAllowed ? 'block' : 'none';\n",
              "\n",
              "        async function convertToInteractive(key) {\n",
              "          const element = document.querySelector('#df-225556f2-3bb5-40e9-aacc-9517938e95ec');\n",
              "          const dataTable =\n",
              "            await google.colab.kernel.invokeFunction('convertToInteractive',\n",
              "                                                     [key], {});\n",
              "          if (!dataTable) return;\n",
              "\n",
              "          const docLinkHtml = 'Like what you see? Visit the ' +\n",
              "            '<a target=\"_blank\" href=https://colab.research.google.com/notebooks/data_table.ipynb>data table notebook</a>'\n",
              "            + ' to learn more about interactive tables.';\n",
              "          element.innerHTML = '';\n",
              "          dataTable['output_type'] = 'display_data';\n",
              "          await google.colab.output.renderOutput(dataTable, element);\n",
              "          const docLink = document.createElement('div');\n",
              "          docLink.innerHTML = docLinkHtml;\n",
              "          element.appendChild(docLink);\n",
              "        }\n",
              "      </script>\n",
              "    </div>\n",
              "  </div>\n",
              "  "
            ]
          },
          "metadata": {},
          "execution_count": 107
        }
      ]
    },
    {
      "cell_type": "code",
      "source": [
        "X_train, X_test, y_train, y_test = train_test_split(train_features, train_labels, test_size = 0.2, random_state = 0)"
      ],
      "metadata": {
        "id": "M2sC-PqAHqIV"
      },
      "execution_count": 108,
      "outputs": []
    },
    {
      "cell_type": "markdown",
      "source": [
        "# **Normalisasi Data**"
      ],
      "metadata": {
        "id": "69D2FxA6CiXj"
      }
    },
    {
      "cell_type": "code",
      "source": [
        "feature_scaler = StandardScaler()\n",
        "label_scaler = StandardScaler()\n",
        "\n",
        "# Fit and Transform both training and testing data\n",
        "X_train = feature_scaler.fit_transform(X_train.values)\n",
        "X_test = feature_scaler.fit_transform(X_test.values)\n",
        "y_train = label_scaler.fit_transform(y_train.values.reshape(-1, 1))\n",
        "y_test = label_scaler.fit_transform(y_test.values.reshape(-1, 1))"
      ],
      "metadata": {
        "id": "i88awH2vHc-o"
      },
      "execution_count": 109,
      "outputs": []
    },
    {
      "cell_type": "markdown",
      "source": [
        "# **Normalisasi Data 2**"
      ],
      "metadata": {
        "id": "ST4JEkFokERX"
      }
    },
    {
      "cell_type": "code",
      "source": [
        "normalizer = tf.keras.layers.Normalization(axis=-1)\n",
        "normalizer.adapt(np.array(train_features))\n",
        "print(normalizer.mean.numpy())"
      ],
      "metadata": {
        "colab": {
          "base_uri": "https://localhost:8080/"
        },
        "id": "04VIK-f8kGNN",
        "outputId": "1c310dee-6e26-45e1-c7a4-d065c0db145a"
      },
      "execution_count": 88,
      "outputs": [
        {
          "output_type": "stream",
          "name": "stdout",
          "text": [
            "[[5.02847]]\n"
          ]
        }
      ]
    },
    {
      "cell_type": "code",
      "source": [
        "first = np.array(train_features[:1])\n",
        "\n",
        "with np.printoptions(precision=2, suppress=True):\n",
        "  print('First example:', first)\n",
        "  print()\n",
        "  print('Normalized:', normalizer(first).numpy())"
      ],
      "metadata": {
        "colab": {
          "base_uri": "https://localhost:8080/"
        },
        "id": "jjnA_kg9kJah",
        "outputId": "d80c8b90-4b49-415a-89a1-1fdda7bfd3ab"
      },
      "execution_count": 89,
      "outputs": [
        {
          "output_type": "stream",
          "name": "stdout",
          "text": [
            "First example: [[1.66]]\n",
            "\n",
            "Normalized: [[-0.84]]\n"
          ]
        }
      ]
    },
    {
      "cell_type": "markdown",
      "source": [
        "# **Callback**"
      ],
      "metadata": {
        "id": "dDxJe4x0FWdU"
      }
    },
    {
      "cell_type": "code",
      "source": [
        "class myCallback(tf.keras.callbacks.Callback):\n",
        "  def on_epoch_end(self, epoch, logs={}):\n",
        "    if(logs.get('val_loss')<=0.4 and  logs.get('loss')<=0.4):\n",
        "      print(\"\\nScore MAE reached 8.01 so cancelling training!\")\n",
        "      self.model.stop_training = True\n",
        "callback = myCallback()"
      ],
      "metadata": {
        "id": "m0WiBnVaFVmq"
      },
      "execution_count": 110,
      "outputs": []
    },
    {
      "cell_type": "markdown",
      "source": [
        "# **Regression**"
      ],
      "metadata": {
        "id": "JjVtmlgj2x9S"
      }
    },
    {
      "cell_type": "code",
      "source": [
        "tf.random.set_seed(100)  #first we set random seed\n",
        "model = Sequential([\n",
        "    layers.Dense(64, activation='relu'),\n",
        "    layers.Dropout(0.2),\n",
        "    layers.Dense(64, activation='relu'),\n",
        "    layers.Dense(1)\n",
        "])\n",
        "model.compile( loss = 'mean_absolute_error',\n",
        "              optimizer = tf.keras.optimizers.Adam(0.001))\n",
        "history = model.fit(epochs=50, x=X_train, y=y_train,batch_size = 100,\n",
        "          validation_split=0.2,\n",
        "          callbacks = [callback])"
      ],
      "metadata": {
        "colab": {
          "base_uri": "https://localhost:8080/"
        },
        "id": "fQYsjvzDCmcC",
        "outputId": "910870b5-7710-497f-fde1-79d27af6f65e"
      },
      "execution_count": 111,
      "outputs": [
        {
          "output_type": "stream",
          "name": "stdout",
          "text": [
            "Epoch 1/50\n",
            "374/374 [==============================] - 1s 2ms/step - loss: 0.4800 - val_loss: 0.4766\n",
            "Epoch 2/50\n",
            "374/374 [==============================] - 1s 2ms/step - loss: 0.4672 - val_loss: 0.4720\n",
            "Epoch 3/50\n",
            "374/374 [==============================] - 1s 2ms/step - loss: 0.4672 - val_loss: 0.4722\n",
            "Epoch 4/50\n",
            "374/374 [==============================] - 1s 2ms/step - loss: 0.4661 - val_loss: 0.4704\n",
            "Epoch 5/50\n",
            "374/374 [==============================] - 1s 2ms/step - loss: 0.4660 - val_loss: 0.4726\n",
            "Epoch 6/50\n",
            "374/374 [==============================] - 1s 2ms/step - loss: 0.4658 - val_loss: 0.4750\n",
            "Epoch 7/50\n",
            "374/374 [==============================] - 1s 2ms/step - loss: 0.4656 - val_loss: 0.4803\n",
            "Epoch 8/50\n",
            "374/374 [==============================] - 1s 2ms/step - loss: 0.4653 - val_loss: 0.4758\n",
            "Epoch 9/50\n",
            "374/374 [==============================] - 1s 2ms/step - loss: 0.4649 - val_loss: 0.4794\n",
            "Epoch 10/50\n",
            "374/374 [==============================] - 1s 2ms/step - loss: 0.4657 - val_loss: 0.4726\n",
            "Epoch 11/50\n",
            "374/374 [==============================] - 1s 2ms/step - loss: 0.4650 - val_loss: 0.4757\n",
            "Epoch 12/50\n",
            "374/374 [==============================] - 1s 2ms/step - loss: 0.4648 - val_loss: 0.4768\n",
            "Epoch 13/50\n",
            "374/374 [==============================] - 1s 2ms/step - loss: 0.4647 - val_loss: 0.4740\n",
            "Epoch 14/50\n",
            "374/374 [==============================] - 1s 2ms/step - loss: 0.4649 - val_loss: 0.4733\n",
            "Epoch 15/50\n",
            "374/374 [==============================] - 1s 2ms/step - loss: 0.4648 - val_loss: 0.4772\n",
            "Epoch 16/50\n",
            "374/374 [==============================] - 1s 2ms/step - loss: 0.4647 - val_loss: 0.4789\n",
            "Epoch 17/50\n",
            "374/374 [==============================] - 1s 2ms/step - loss: 0.4646 - val_loss: 0.4828\n",
            "Epoch 18/50\n",
            "374/374 [==============================] - 1s 2ms/step - loss: 0.4649 - val_loss: 0.4790\n",
            "Epoch 19/50\n",
            "374/374 [==============================] - 1s 2ms/step - loss: 0.4645 - val_loss: 0.4741\n",
            "Epoch 20/50\n",
            "374/374 [==============================] - 1s 2ms/step - loss: 0.4643 - val_loss: 0.4745\n",
            "Epoch 21/50\n",
            "374/374 [==============================] - 1s 2ms/step - loss: 0.4644 - val_loss: 0.4748\n",
            "Epoch 22/50\n",
            "374/374 [==============================] - 1s 2ms/step - loss: 0.4644 - val_loss: 0.4784\n",
            "Epoch 23/50\n",
            "374/374 [==============================] - 1s 2ms/step - loss: 0.4646 - val_loss: 0.4779\n",
            "Epoch 24/50\n",
            "374/374 [==============================] - 1s 2ms/step - loss: 0.4645 - val_loss: 0.4774\n",
            "Epoch 25/50\n",
            "374/374 [==============================] - 1s 2ms/step - loss: 0.4645 - val_loss: 0.4747\n",
            "Epoch 26/50\n",
            "374/374 [==============================] - 1s 2ms/step - loss: 0.4645 - val_loss: 0.4768\n",
            "Epoch 27/50\n",
            "374/374 [==============================] - 1s 2ms/step - loss: 0.4643 - val_loss: 0.4809\n",
            "Epoch 28/50\n",
            "374/374 [==============================] - 1s 2ms/step - loss: 0.4644 - val_loss: 0.4809\n",
            "Epoch 29/50\n",
            "374/374 [==============================] - 1s 2ms/step - loss: 0.4640 - val_loss: 0.4812\n",
            "Epoch 30/50\n",
            "374/374 [==============================] - 1s 2ms/step - loss: 0.4646 - val_loss: 0.4775\n",
            "Epoch 31/50\n",
            "374/374 [==============================] - 1s 2ms/step - loss: 0.4642 - val_loss: 0.4774\n",
            "Epoch 32/50\n",
            "374/374 [==============================] - 1s 2ms/step - loss: 0.4646 - val_loss: 0.4806\n",
            "Epoch 33/50\n",
            "374/374 [==============================] - 1s 2ms/step - loss: 0.4641 - val_loss: 0.4774\n",
            "Epoch 34/50\n",
            "374/374 [==============================] - 1s 2ms/step - loss: 0.4644 - val_loss: 0.4814\n",
            "Epoch 35/50\n",
            "374/374 [==============================] - 1s 2ms/step - loss: 0.4640 - val_loss: 0.4761\n",
            "Epoch 36/50\n",
            "374/374 [==============================] - 1s 2ms/step - loss: 0.4642 - val_loss: 0.4787\n",
            "Epoch 37/50\n",
            "374/374 [==============================] - 1s 2ms/step - loss: 0.4639 - val_loss: 0.4785\n",
            "Epoch 38/50\n",
            "374/374 [==============================] - 1s 2ms/step - loss: 0.4645 - val_loss: 0.4808\n",
            "Epoch 39/50\n",
            "374/374 [==============================] - 1s 2ms/step - loss: 0.4640 - val_loss: 0.4801\n",
            "Epoch 40/50\n",
            "374/374 [==============================] - 1s 2ms/step - loss: 0.4642 - val_loss: 0.4783\n",
            "Epoch 41/50\n",
            "374/374 [==============================] - 1s 2ms/step - loss: 0.4638 - val_loss: 0.4785\n",
            "Epoch 42/50\n",
            "374/374 [==============================] - 1s 2ms/step - loss: 0.4638 - val_loss: 0.4773\n",
            "Epoch 43/50\n",
            "374/374 [==============================] - 1s 2ms/step - loss: 0.4640 - val_loss: 0.4832\n",
            "Epoch 44/50\n",
            "374/374 [==============================] - 1s 2ms/step - loss: 0.4639 - val_loss: 0.4750\n",
            "Epoch 45/50\n",
            "374/374 [==============================] - 1s 2ms/step - loss: 0.4641 - val_loss: 0.4812\n",
            "Epoch 46/50\n",
            "374/374 [==============================] - 1s 2ms/step - loss: 0.4639 - val_loss: 0.4754\n",
            "Epoch 47/50\n",
            "374/374 [==============================] - 1s 2ms/step - loss: 0.4639 - val_loss: 0.4795\n",
            "Epoch 48/50\n",
            "374/374 [==============================] - 1s 2ms/step - loss: 0.4641 - val_loss: 0.4803\n",
            "Epoch 49/50\n",
            "374/374 [==============================] - 1s 2ms/step - loss: 0.4636 - val_loss: 0.4842\n",
            "Epoch 50/50\n",
            "374/374 [==============================] - 1s 2ms/step - loss: 0.4639 - val_loss: 0.4831\n"
          ]
        }
      ]
    },
    {
      "cell_type": "code",
      "source": [
        "#Plot lost history\n",
        "def plot_loss(history):\n",
        "    plt.plot(history.history['loss'], label='loss')\n",
        "    plt.plot(history.history['val_loss'], label='val_loss')\n",
        "    plt.ylim([0,10])\n",
        "    plt.xlabel('Epoch')\n",
        "    plt.ylabel('Error (Loss)')\n",
        "    plt.legend()\n",
        "    plt.grid(True)\n",
        "\n",
        "plot_loss(history)"
      ],
      "metadata": {
        "colab": {
          "base_uri": "https://localhost:8080/",
          "height": 289
        },
        "id": "1NntdRLAd2fA",
        "outputId": "05107d76-414f-4db9-b453-28a65fd09d24"
      },
      "execution_count": 112,
      "outputs": [
        {
          "output_type": "display_data",
          "data": {
            "text/plain": [
              "<Figure size 432x288 with 1 Axes>"
            ],
            "image/png": "[encoded data removed]"
          },
          "metadata": {}
        }
      ]
    },
    {
      "cell_type": "markdown",
      "source": [
        "# **Testing Model**"
      ],
      "metadata": {
        "id": "pLV2nsBrI8P3"
      }
    },
    {
      "cell_type": "code",
      "source": [
        "test_predictions = model.predict(X_test).flatten()"
      ],
      "metadata": {
        "id": "TcV29jP5I7-n"
      },
      "execution_count": 113,
      "outputs": []
    },
    {
      "cell_type": "code",
      "source": [
        "test_predictions = label_scaler.inverse_transform(test_predictions.reshape(-1, 1))\n",
        "print(test_predictions)"
      ],
      "metadata": {
        "colab": {
          "base_uri": "https://localhost:8080/"
        },
        "id": "zUkFIUedlTzq",
        "outputId": "66616f4a-7e1d-44ce-e67c-0e44064cbf42"
      },
      "execution_count": 117,
      "outputs": [
        {
          "output_type": "stream",
          "name": "stdout",
          "text": [
            "[[26.823942 ]\n",
            " [ 6.409125 ]\n",
            " [ 3.6969998]\n",
            " ...\n",
            " [ 3.9663174]\n",
            " [22.66125  ]\n",
            " [17.064121 ]]\n"
          ]
        }
      ]
    },
    {
      "cell_type": "code",
      "source": [
        "y_test = label_scaler.inverse_transform(y_test.reshape(-1, 1))\n",
        "print(y_test)"
      ],
      "metadata": {
        "colab": {
          "base_uri": "https://localhost:8080/"
        },
        "id": "LQtU9loflUUE",
        "outputId": "6452e6aa-6545-4355-984b-9f4e4ea36157"
      },
      "execution_count": 118,
      "outputs": [
        {
          "output_type": "stream",
          "name": "stdout",
          "text": [
            "[[23.85      ]\n",
            " [ 3.91666667]\n",
            " [ 1.93333333]\n",
            " ...\n",
            " [ 4.21666667]\n",
            " [14.        ]\n",
            " [14.85      ]]\n"
          ]
        }
      ]
    },
    {
      "cell_type": "code",
      "source": [
        "a = plt.axes(aspect='equal')\n",
        "plt.scatter(y_test, test_predictions)\n",
        "plt.xlabel('True Values [trip_duration]')\n",
        "plt.ylabel('Predictions [trip_duration]')\n",
        "lims = [0, 50]\n",
        "plt.xlim(lims)\n",
        "plt.ylim(lims)\n",
        "_ = plt.plot(lims, lims)"
      ],
      "metadata": {
        "colab": {
          "base_uri": "https://localhost:8080/",
          "height": 289
        },
        "id": "xAn29jo6I_0g",
        "outputId": "b462fa0e-faa9-49e3-b78e-284d55a614f2"
      },
      "execution_count": 119,
      "outputs": [
        {
          "output_type": "display_data",
          "data": {
            "text/plain": [
              "<Figure size 432x288 with 1 Axes>"
            ],
            "image/png": "[encoded data removed]"
          },
          "metadata": {}
        }
      ]
    },
    {
      "cell_type": "code",
      "source": [
        "error = test_predictions - y_test\n",
        "plt.hist(error, bins=25)\n",
        "plt.xlabel('Prediction Error [trip_duration]')\n",
        "_ = plt.ylabel('Count')"
      ],
      "metadata": {
        "colab": {
          "base_uri": "https://localhost:8080/",
          "height": 285
        },
        "id": "co-IPAA8Iy9v",
        "outputId": "d1338206-b512-4b43-ad11-a7733400d5a8"
      },
      "execution_count": 121,
      "outputs": [
        {
          "output_type": "display_data",
          "data": {
            "text/plain": [
              "<Figure size 432x288 with 1 Axes>"
            ],
            "image/png": "[encoded data removed]"
          },
          "metadata": {}
        }
      ]
    }
  ]
}