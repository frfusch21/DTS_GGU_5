{
  "nbformat": 4,
  "nbformat_minor": 0,
  "metadata": {
    "colab": {
      "name": "GGU5_Nia_All_Data.ipynb",
      "provenance": [],
      "mount_file_id": "17nwJ4lFD0a7nrA4Yn-r7j5d2_nyhmmoV",
      "authorship_tag": "ABX9TyP9cI8N+6LWchyyPD7ian01",
      "include_colab_link": true
    },
    "kernelspec": {
      "name": "python3",
      "display_name": "Python 3"
    },
    "language_info": {
      "name": "python"
    }
  },
  "cells": [
    {
      "cell_type": "markdown",
      "metadata": {
        "id": "view-in-github",
        "colab_type": "text"
      },
      "source": [
        "<a href=\"https://colab.research.google.com/github/frfusch21/DTS_GGU_5/blob/Hartantya-AT/GGU5_Nia_All_Data.ipynb\" target=\"_parent\"><img src=\"https://colab.research.google.com/assets/colab-badge.svg\" alt=\"Open In Colab\"/></a>"
      ]
    },
    {
      "cell_type": "markdown",
      "source": [
        "# **Import Library**"
      ],
      "metadata": {
        "id": "hyR1u1meQoZe"
      }
    },
    {
      "cell_type": "code",
      "source": [
        "import pandas as pd\n",
        "import matplotlib.pyplot as plt\n",
        "import seaborn as sns\n",
        "import numpy as np\n",
        "from scipy import stats\n",
        "from sklearn import preprocessing\n",
        "from sklearn.cluster import KMeans\n",
        "from sklearn.model_selection import train_test_split\n",
        "from sklearn.preprocessing import StandardScaler\n",
        "\n",
        "import tensorflow as tf\n",
        "\n",
        "from tensorflow import keras\n",
        "from tensorflow.keras import layers\n",
        "from tensorflow.keras import Sequential\n",
        "from tensorflow.keras import optimizers"
      ],
      "metadata": {
        "id": "ktLCrnOkbVXI"
      },
      "execution_count": 139,
      "outputs": []
    },
    {
      "cell_type": "code",
      "source": [
        "from google.colab import drive\n",
        "drive.mount('/content/drive')"
      ],
      "metadata": {
        "id": "7ATe5DwFPk8T",
        "colab": {
          "base_uri": "https://localhost:8080/"
        },
        "outputId": "f347947b-e027-447e-d6bc-0f42c94cc2a6"
      },
      "execution_count": 140,
      "outputs": [
        {
          "output_type": "stream",
          "name": "stdout",
          "text": [
            "Drive already mounted at /content/drive; to attempt to forcibly remount, call drive.mount(\"/content/drive\", force_remount=True).\n"
          ]
        }
      ]
    },
    {
      "cell_type": "markdown",
      "source": [
        "## **Import Data**"
      ],
      "metadata": {
        "id": "E_Im6xwuUWMu"
      }
    },
    {
      "cell_type": "code",
      "execution_count": 178,
      "metadata": {
        "colab": {
          "base_uri": "https://localhost:8080/",
          "height": 0
        },
        "id": "wEjxuRj7a3Gl",
        "outputId": "5f821a18-603f-43be-aba1-680cef2c4c7c"
      },
      "outputs": [
        {
          "output_type": "execute_result",
          "data": {
            "text/plain": [
              "   id              vendor_id      pickup_datetime     dropoff_datetime  \\\n",
              "0   1                  Quito  2016-09-17 09:32:06  2016-09-17 10:05:51   \n",
              "1   2  Guadalajara Easy Taxi  2016-09-17 09:59:54  2016-09-17 10:06:23   \n",
              "2   3              Monterrey  2016-09-17 10:06:52  2016-09-17 10:09:40   \n",
              "3   4              Monterrey  2016-09-17 09:45:56  2016-09-17 10:13:34   \n",
              "4   5              Monterrey  2016-09-17 10:12:00  2016-09-17 10:16:31   \n",
              "\n",
              "   pickup_longitude  pickup_latitude  dropoff_longitude  dropoff_latitude  \\\n",
              "0          0.632055         0.528947         -78.549447         -0.361363   \n",
              "1          0.327804         0.391950        -103.366600         20.686971   \n",
              "2          0.140910         0.563280        -100.165737         25.619387   \n",
              "3          0.207565         0.590416        -100.491721         25.676294   \n",
              "4          0.128881         0.580419        -100.104166         25.643862   \n",
              "\n",
              "  store_and_fwd_flag  trip_duration  dist_meters  wait_sec  \n",
              "0                  N           2025        24228       346  \n",
              "1                  N            389         2962      3675  \n",
              "2                  N            168          951         0  \n",
              "3                  N           1659        11082       358  \n",
              "4                  N            272         2021      3614  "
            ],
            "text/html": [
              "\n",
              "  <div id=\"df-f408a973-0b2b-44d6-b378-84562eeb5f38\">\n",
              "    <div class=\"colab-df-container\">\n",
              "      <div>\n",
              "<style scoped>\n",
              "    .dataframe tbody tr th:only-of-type {\n",
              "        vertical-align: middle;\n",
              "    }\n",
              "\n",
              "    .dataframe tbody tr th {\n",
              "        vertical-align: top;\n",
              "    }\n",
              "\n",
              "    .dataframe thead th {\n",
              "        text-align: right;\n",
              "    }\n",
              "</style>\n",
              "<table border=\"1\" class=\"dataframe\">\n",
              "  <thead>\n",
              "    <tr style=\"text-align: right;\">\n",
              "      <th></th>\n",
              "      <th>id</th>\n",
              "      <th>vendor_id</th>\n",
              "      <th>pickup_datetime</th>\n",
              "      <th>dropoff_datetime</th>\n",
              "      <th>pickup_longitude</th>\n",
              "      <th>pickup_latitude</th>\n",
              "      <th>dropoff_longitude</th>\n",
              "      <th>dropoff_latitude</th>\n",
              "      <th>store_and_fwd_flag</th>\n",
              "      <th>trip_duration</th>\n",
              "      <th>dist_meters</th>\n",
              "      <th>wait_sec</th>\n",
              "    </tr>\n",
              "  </thead>\n",
              "  <tbody>\n",
              "    <tr>\n",
              "      <th>0</th>\n",
              "      <td>1</td>\n",
              "      <td>Quito</td>\n",
              "      <td>2016-09-17 09:32:06</td>\n",
              "      <td>2016-09-17 10:05:51</td>\n",
              "      <td>0.632055</td>\n",
              "      <td>0.528947</td>\n",
              "      <td>-78.549447</td>\n",
              "      <td>-0.361363</td>\n",
              "      <td>N</td>\n",
              "      <td>2025</td>\n",
              "      <td>24228</td>\n",
              "      <td>346</td>\n",
              "    </tr>\n",
              "    <tr>\n",
              "      <th>1</th>\n",
              "      <td>2</td>\n",
              "      <td>Guadalajara Easy Taxi</td>\n",
              "      <td>2016-09-17 09:59:54</td>\n",
              "      <td>2016-09-17 10:06:23</td>\n",
              "      <td>0.327804</td>\n",
              "      <td>0.391950</td>\n",
              "      <td>-103.366600</td>\n",
              "      <td>20.686971</td>\n",
              "      <td>N</td>\n",
              "      <td>389</td>\n",
              "      <td>2962</td>\n",
              "      <td>3675</td>\n",
              "    </tr>\n",
              "    <tr>\n",
              "      <th>2</th>\n",
              "      <td>3</td>\n",
              "      <td>Monterrey</td>\n",
              "      <td>2016-09-17 10:06:52</td>\n",
              "      <td>2016-09-17 10:09:40</td>\n",
              "      <td>0.140910</td>\n",
              "      <td>0.563280</td>\n",
              "      <td>-100.165737</td>\n",
              "      <td>25.619387</td>\n",
              "      <td>N</td>\n",
              "      <td>168</td>\n",
              "      <td>951</td>\n",
              "      <td>0</td>\n",
              "    </tr>\n",
              "    <tr>\n",
              "      <th>3</th>\n",
              "      <td>4</td>\n",
              "      <td>Monterrey</td>\n",
              "      <td>2016-09-17 09:45:56</td>\n",
              "      <td>2016-09-17 10:13:34</td>\n",
              "      <td>0.207565</td>\n",
              "      <td>0.590416</td>\n",
              "      <td>-100.491721</td>\n",
              "      <td>25.676294</td>\n",
              "      <td>N</td>\n",
              "      <td>1659</td>\n",
              "      <td>11082</td>\n",
              "      <td>358</td>\n",
              "    </tr>\n",
              "    <tr>\n",
              "      <th>4</th>\n",
              "      <td>5</td>\n",
              "      <td>Monterrey</td>\n",
              "      <td>2016-09-17 10:12:00</td>\n",
              "      <td>2016-09-17 10:16:31</td>\n",
              "      <td>0.128881</td>\n",
              "      <td>0.580419</td>\n",
              "      <td>-100.104166</td>\n",
              "      <td>25.643862</td>\n",
              "      <td>N</td>\n",
              "      <td>272</td>\n",
              "      <td>2021</td>\n",
              "      <td>3614</td>\n",
              "    </tr>\n",
              "  </tbody>\n",
              "</table>\n",
              "</div>\n",
              "      <button class=\"colab-df-convert\" onclick=\"convertToInteractive('df-f408a973-0b2b-44d6-b378-84562eeb5f38')\"\n",
              "              title=\"Convert this dataframe to an interactive table.\"\n",
              "              style=\"display:none;\">\n",
              "        \n",
              "  <svg xmlns=\"http://www.w3.org/2000/svg\" height=\"24px\"viewBox=\"0 0 24 24\"\n",
              "       width=\"24px\">\n",
              "    <path d=\"M0 0h24v24H0V0z\" fill=\"none\"/>\n",
              "    <path d=\"M18.56 5.44l.94 2.06.94-2.06 2.06-.94-2.06-.94-.94-2.06-.94 2.06-2.06.94zm-11 1L8.5 8.5l.94-2.06 2.06-.94-2.06-.94L8.5 2.5l-.94 2.06-2.06.94zm10 10l.94 2.06.94-2.06 2.06-.94-2.06-.94-.94-2.06-.94 2.06-2.06.94z\"/><path d=\"M17.41 7.96l-1.37-1.37c-.4-.4-.92-.59-1.43-.59-.52 0-1.04.2-1.43.59L10.3 9.45l-7.72 7.72c-.78.78-.78 2.05 0 2.83L4 21.41c.39.39.9.59 1.41.59.51 0 1.02-.2 1.41-.59l7.78-7.78 2.81-2.81c.8-.78.8-2.07 0-2.86zM5.41 20L4 18.59l7.72-7.72 1.47 1.35L5.41 20z\"/>\n",
              "  </svg>\n",
              "      </button>\n",
              "      \n",
              "  <style>\n",
              "    .colab-df-container {\n",
              "      display:flex;\n",
              "      flex-wrap:wrap;\n",
              "      gap: 12px;\n",
              "    }\n",
              "\n",
              "    .colab-df-convert {\n",
              "      background-color: #E8F0FE;\n",
              "      border: none;\n",
              "      border-radius: 50%;\n",
              "      cursor: pointer;\n",
              "      display: none;\n",
              "      fill: #1967D2;\n",
              "      height: 32px;\n",
              "      padding: 0 0 0 0;\n",
              "      width: 32px;\n",
              "    }\n",
              "\n",
              "    .colab-df-convert:hover {\n",
              "      background-color: #E2EBFA;\n",
              "      box-shadow: 0px 1px 2px rgba(60, 64, 67, 0.3), 0px 1px 3px 1px rgba(60, 64, 67, 0.15);\n",
              "      fill: #174EA6;\n",
              "    }\n",
              "\n",
              "    [theme=dark] .colab-df-convert {\n",
              "      background-color: #3B4455;\n",
              "      fill: #D2E3FC;\n",
              "    }\n",
              "\n",
              "    [theme=dark] .colab-df-convert:hover {\n",
              "      background-color: #434B5C;\n",
              "      box-shadow: 0px 1px 3px 1px rgba(0, 0, 0, 0.15);\n",
              "      filter: drop-shadow(0px 1px 2px rgba(0, 0, 0, 0.3));\n",
              "      fill: #FFFFFF;\n",
              "    }\n",
              "  </style>\n",
              "\n",
              "      <script>\n",
              "        const buttonEl =\n",
              "          document.querySelector('#df-f408a973-0b2b-44d6-b378-84562eeb5f38 button.colab-df-convert');\n",
              "        buttonEl.style.display =\n",
              "          google.colab.kernel.accessAllowed ? 'block' : 'none';\n",
              "\n",
              "        async function convertToInteractive(key) {\n",
              "          const element = document.querySelector('#df-f408a973-0b2b-44d6-b378-84562eeb5f38');\n",
              "          const dataTable =\n",
              "            await google.colab.kernel.invokeFunction('convertToInteractive',\n",
              "                                                     [key], {});\n",
              "          if (!dataTable) return;\n",
              "\n",
              "          const docLinkHtml = 'Like what you see? Visit the ' +\n",
              "            '<a target=\"_blank\" href=https://colab.research.google.com/notebooks/data_table.ipynb>data table notebook</a>'\n",
              "            + ' to learn more about interactive tables.';\n",
              "          element.innerHTML = '';\n",
              "          dataTable['output_type'] = 'display_data';\n",
              "          await google.colab.output.renderOutput(dataTable, element);\n",
              "          const docLink = document.createElement('div');\n",
              "          docLink.innerHTML = docLinkHtml;\n",
              "          element.appendChild(docLink);\n",
              "        }\n",
              "      </script>\n",
              "    </div>\n",
              "  </div>\n",
              "  "
            ]
          },
          "metadata": {},
          "execution_count": 178
        }
      ],
      "source": [
        "uio = pd.read_csv('/content/drive/MyDrive/Belajar/all-data_clean.csv', header=0, sep=',', encoding=\"Latin1\")\n",
        "uio.head()"
      ]
    },
    {
      "cell_type": "code",
      "source": [
        "uio.describe()"
      ],
      "metadata": {
        "colab": {
          "base_uri": "https://localhost:8080/",
          "height": 0
        },
        "id": "JI2ww9habeoB",
        "outputId": "1ee7b1f5-f47c-4707-9241-b39541ba8049"
      },
      "execution_count": 179,
      "outputs": [
        {
          "output_type": "execute_result",
          "data": {
            "text/plain": [
              "                 id  pickup_longitude  pickup_latitude  dropoff_longitude  \\\n",
              "count  90287.000000      90287.000000     90287.000000       90287.000000   \n",
              "mean   45144.000000          0.400130         0.399127         -87.114696   \n",
              "std    26063.756214          0.230801         0.230811          12.752674   \n",
              "min        1.000000          0.000009         0.000009        -123.341828   \n",
              "25%    22572.500000          0.200113         0.199008        -100.162537   \n",
              "50%    45144.000000          0.400801         0.398292         -79.023126   \n",
              "75%    67715.500000          0.600672         0.599134         -78.484563   \n",
              "max    90287.000000          0.799438         0.799223         174.811881   \n",
              "\n",
              "       dropoff_latitude  trip_duration   dist_meters      wait_sec  \n",
              "count      90287.000000   9.028700e+04  9.028700e+04  9.028700e+04  \n",
              "mean           9.000339   3.505614e+04  1.751764e+05  9.637481e+06  \n",
              "std           12.547121   8.947615e+05  2.370332e+07  4.497338e+08  \n",
              "min          -53.158163  -2.207486e+08 -2.147484e+09  0.000000e+00  \n",
              "25%           -0.203951   4.930000e+02  2.278000e+03  8.800000e+01  \n",
              "50%            4.562602   9.330000e+02  4.668000e+03  2.140000e+02  \n",
              "75%           21.839787   1.924500e+03  8.872000e+03  4.840000e+02  \n",
              "max           60.321647   7.696342e+07  2.147484e+09  9.516306e+10  "
            ],
            "text/html": [
              "\n",
              "  <div id=\"df-c3c23abb-6b46-43bc-930c-31b02d2c7152\">\n",
              "    <div class=\"colab-df-container\">\n",
              "      <div>\n",
              "<style scoped>\n",
              "    .dataframe tbody tr th:only-of-type {\n",
              "        vertical-align: middle;\n",
              "    }\n",
              "\n",
              "    .dataframe tbody tr th {\n",
              "        vertical-align: top;\n",
              "    }\n",
              "\n",
              "    .dataframe thead th {\n",
              "        text-align: right;\n",
              "    }\n",
              "</style>\n",
              "<table border=\"1\" class=\"dataframe\">\n",
              "  <thead>\n",
              "    <tr style=\"text-align: right;\">\n",
              "      <th></th>\n",
              "      <th>id</th>\n",
              "      <th>pickup_longitude</th>\n",
              "      <th>pickup_latitude</th>\n",
              "      <th>dropoff_longitude</th>\n",
              "      <th>dropoff_latitude</th>\n",
              "      <th>trip_duration</th>\n",
              "      <th>dist_meters</th>\n",
              "      <th>wait_sec</th>\n",
              "    </tr>\n",
              "  </thead>\n",
              "  <tbody>\n",
              "    <tr>\n",
              "      <th>count</th>\n",
              "      <td>90287.000000</td>\n",
              "      <td>90287.000000</td>\n",
              "      <td>90287.000000</td>\n",
              "      <td>90287.000000</td>\n",
              "      <td>90287.000000</td>\n",
              "      <td>9.028700e+04</td>\n",
              "      <td>9.028700e+04</td>\n",
              "      <td>9.028700e+04</td>\n",
              "    </tr>\n",
              "    <tr>\n",
              "      <th>mean</th>\n",
              "      <td>45144.000000</td>\n",
              "      <td>0.400130</td>\n",
              "      <td>0.399127</td>\n",
              "      <td>-87.114696</td>\n",
              "      <td>9.000339</td>\n",
              "      <td>3.505614e+04</td>\n",
              "      <td>1.751764e+05</td>\n",
              "      <td>9.637481e+06</td>\n",
              "    </tr>\n",
              "    <tr>\n",
              "      <th>std</th>\n",
              "      <td>26063.756214</td>\n",
              "      <td>0.230801</td>\n",
              "      <td>0.230811</td>\n",
              "      <td>12.752674</td>\n",
              "      <td>12.547121</td>\n",
              "      <td>8.947615e+05</td>\n",
              "      <td>2.370332e+07</td>\n",
              "      <td>4.497338e+08</td>\n",
              "    </tr>\n",
              "    <tr>\n",
              "      <th>min</th>\n",
              "      <td>1.000000</td>\n",
              "      <td>0.000009</td>\n",
              "      <td>0.000009</td>\n",
              "      <td>-123.341828</td>\n",
              "      <td>-53.158163</td>\n",
              "      <td>-2.207486e+08</td>\n",
              "      <td>-2.147484e+09</td>\n",
              "      <td>0.000000e+00</td>\n",
              "    </tr>\n",
              "    <tr>\n",
              "      <th>25%</th>\n",
              "      <td>22572.500000</td>\n",
              "      <td>0.200113</td>\n",
              "      <td>0.199008</td>\n",
              "      <td>-100.162537</td>\n",
              "      <td>-0.203951</td>\n",
              "      <td>4.930000e+02</td>\n",
              "      <td>2.278000e+03</td>\n",
              "      <td>8.800000e+01</td>\n",
              "    </tr>\n",
              "    <tr>\n",
              "      <th>50%</th>\n",
              "      <td>45144.000000</td>\n",
              "      <td>0.400801</td>\n",
              "      <td>0.398292</td>\n",
              "      <td>-79.023126</td>\n",
              "      <td>4.562602</td>\n",
              "      <td>9.330000e+02</td>\n",
              "      <td>4.668000e+03</td>\n",
              "      <td>2.140000e+02</td>\n",
              "    </tr>\n",
              "    <tr>\n",
              "      <th>75%</th>\n",
              "      <td>67715.500000</td>\n",
              "      <td>0.600672</td>\n",
              "      <td>0.599134</td>\n",
              "      <td>-78.484563</td>\n",
              "      <td>21.839787</td>\n",
              "      <td>1.924500e+03</td>\n",
              "      <td>8.872000e+03</td>\n",
              "      <td>4.840000e+02</td>\n",
              "    </tr>\n",
              "    <tr>\n",
              "      <th>max</th>\n",
              "      <td>90287.000000</td>\n",
              "      <td>0.799438</td>\n",
              "      <td>0.799223</td>\n",
              "      <td>174.811881</td>\n",
              "      <td>60.321647</td>\n",
              "      <td>7.696342e+07</td>\n",
              "      <td>2.147484e+09</td>\n",
              "      <td>9.516306e+10</td>\n",
              "    </tr>\n",
              "  </tbody>\n",
              "</table>\n",
              "</div>\n",
              "      <button class=\"colab-df-convert\" onclick=\"convertToInteractive('df-c3c23abb-6b46-43bc-930c-31b02d2c7152')\"\n",
              "              title=\"Convert this dataframe to an interactive table.\"\n",
              "              style=\"display:none;\">\n",
              "        \n",
              "  <svg xmlns=\"http://www.w3.org/2000/svg\" height=\"24px\"viewBox=\"0 0 24 24\"\n",
              "       width=\"24px\">\n",
              "    <path d=\"M0 0h24v24H0V0z\" fill=\"none\"/>\n",
              "    <path d=\"M18.56 5.44l.94 2.06.94-2.06 2.06-.94-2.06-.94-.94-2.06-.94 2.06-2.06.94zm-11 1L8.5 8.5l.94-2.06 2.06-.94-2.06-.94L8.5 2.5l-.94 2.06-2.06.94zm10 10l.94 2.06.94-2.06 2.06-.94-2.06-.94-.94-2.06-.94 2.06-2.06.94z\"/><path d=\"M17.41 7.96l-1.37-1.37c-.4-.4-.92-.59-1.43-.59-.52 0-1.04.2-1.43.59L10.3 9.45l-7.72 7.72c-.78.78-.78 2.05 0 2.83L4 21.41c.39.39.9.59 1.41.59.51 0 1.02-.2 1.41-.59l7.78-7.78 2.81-2.81c.8-.78.8-2.07 0-2.86zM5.41 20L4 18.59l7.72-7.72 1.47 1.35L5.41 20z\"/>\n",
              "  </svg>\n",
              "      </button>\n",
              "      \n",
              "  <style>\n",
              "    .colab-df-container {\n",
              "      display:flex;\n",
              "      flex-wrap:wrap;\n",
              "      gap: 12px;\n",
              "    }\n",
              "\n",
              "    .colab-df-convert {\n",
              "      background-color: #E8F0FE;\n",
              "      border: none;\n",
              "      border-radius: 50%;\n",
              "      cursor: pointer;\n",
              "      display: none;\n",
              "      fill: #1967D2;\n",
              "      height: 32px;\n",
              "      padding: 0 0 0 0;\n",
              "      width: 32px;\n",
              "    }\n",
              "\n",
              "    .colab-df-convert:hover {\n",
              "      background-color: #E2EBFA;\n",
              "      box-shadow: 0px 1px 2px rgba(60, 64, 67, 0.3), 0px 1px 3px 1px rgba(60, 64, 67, 0.15);\n",
              "      fill: #174EA6;\n",
              "    }\n",
              "\n",
              "    [theme=dark] .colab-df-convert {\n",
              "      background-color: #3B4455;\n",
              "      fill: #D2E3FC;\n",
              "    }\n",
              "\n",
              "    [theme=dark] .colab-df-convert:hover {\n",
              "      background-color: #434B5C;\n",
              "      box-shadow: 0px 1px 3px 1px rgba(0, 0, 0, 0.15);\n",
              "      filter: drop-shadow(0px 1px 2px rgba(0, 0, 0, 0.3));\n",
              "      fill: #FFFFFF;\n",
              "    }\n",
              "  </style>\n",
              "\n",
              "      <script>\n",
              "        const buttonEl =\n",
              "          document.querySelector('#df-c3c23abb-6b46-43bc-930c-31b02d2c7152 button.colab-df-convert');\n",
              "        buttonEl.style.display =\n",
              "          google.colab.kernel.accessAllowed ? 'block' : 'none';\n",
              "\n",
              "        async function convertToInteractive(key) {\n",
              "          const element = document.querySelector('#df-c3c23abb-6b46-43bc-930c-31b02d2c7152');\n",
              "          const dataTable =\n",
              "            await google.colab.kernel.invokeFunction('convertToInteractive',\n",
              "                                                     [key], {});\n",
              "          if (!dataTable) return;\n",
              "\n",
              "          const docLinkHtml = 'Like what you see? Visit the ' +\n",
              "            '<a target=\"_blank\" href=https://colab.research.google.com/notebooks/data_table.ipynb>data table notebook</a>'\n",
              "            + ' to learn more about interactive tables.';\n",
              "          element.innerHTML = '';\n",
              "          dataTable['output_type'] = 'display_data';\n",
              "          await google.colab.output.renderOutput(dataTable, element);\n",
              "          const docLink = document.createElement('div');\n",
              "          docLink.innerHTML = docLinkHtml;\n",
              "          element.appendChild(docLink);\n",
              "        }\n",
              "      </script>\n",
              "    </div>\n",
              "  </div>\n",
              "  "
            ]
          },
          "metadata": {},
          "execution_count": 179
        }
      ]
    },
    {
      "cell_type": "code",
      "source": [
        "uio.shape"
      ],
      "metadata": {
        "colab": {
          "base_uri": "https://localhost:8080/"
        },
        "id": "2MxZ1arEmXGk",
        "outputId": "4f677697-29a1-43d8-bf54-4384e846f8c1"
      },
      "execution_count": 180,
      "outputs": [
        {
          "output_type": "execute_result",
          "data": {
            "text/plain": [
              "(90287, 12)"
            ]
          },
          "metadata": {},
          "execution_count": 180
        }
      ]
    },
    {
      "cell_type": "code",
      "source": [
        "uio.info()"
      ],
      "metadata": {
        "colab": {
          "base_uri": "https://localhost:8080/"
        },
        "id": "lN_eBfuQKznE",
        "outputId": "ef6f4866-583f-48d7-87bb-68e55dc958cf"
      },
      "execution_count": 181,
      "outputs": [
        {
          "output_type": "stream",
          "name": "stdout",
          "text": [
            "<class 'pandas.core.frame.DataFrame'>\n",
            "RangeIndex: 90287 entries, 0 to 90286\n",
            "Data columns (total 12 columns):\n",
            " #   Column              Non-Null Count  Dtype  \n",
            "---  ------              --------------  -----  \n",
            " 0   id                  90287 non-null  int64  \n",
            " 1   vendor_id           90287 non-null  object \n",
            " 2   pickup_datetime     90287 non-null  object \n",
            " 3   dropoff_datetime    90287 non-null  object \n",
            " 4   pickup_longitude    90287 non-null  float64\n",
            " 5   pickup_latitude     90287 non-null  float64\n",
            " 6   dropoff_longitude   90287 non-null  float64\n",
            " 7   dropoff_latitude    90287 non-null  float64\n",
            " 8   store_and_fwd_flag  90287 non-null  object \n",
            " 9   trip_duration       90287 non-null  int64  \n",
            " 10  dist_meters         90287 non-null  int64  \n",
            " 11  wait_sec            90287 non-null  int64  \n",
            "dtypes: float64(4), int64(4), object(4)\n",
            "memory usage: 8.3+ MB\n"
          ]
        }
      ]
    },
    {
      "cell_type": "markdown",
      "source": [
        "# **Analisis Secara Umum**"
      ],
      "metadata": {
        "id": "NiENW5QwUbmN"
      }
    },
    {
      "cell_type": "code",
      "source": [
        "print(uio['vendor_id'].unique())\n",
        "print(uio['store_and_fwd_flag'].unique())"
      ],
      "metadata": {
        "colab": {
          "base_uri": "https://localhost:8080/"
        },
        "id": "eW74D09Qbn4Q",
        "outputId": "93190a21-ba1f-4a38-cf4d-b003332ab81b"
      },
      "execution_count": 182,
      "outputs": [
        {
          "output_type": "stream",
          "name": "stdout",
          "text": [
            "['Quito' 'Guadalajara Easy Taxi' 'Monterrey' 'Manta' 'Aguascalientes'\n",
            " 'Guadalajara' 'Cali' 'Ecuador' 'BogotÃ¡' 'MedellÃ\\xadn'\n",
            " 'MÃ©xico DF Taxi de Sitio' 'MÃ©xico DF Taxi Libre' 'Default Fare'\n",
            " 'PanamÃ¡ UberX' 'PanamÃ¡ UberSUV' 'Puebla Easy Taxi'\n",
            " 'MÃ©xico DF Radio Taxi' 'Cuenca' 'RumiÃ±ahui' 'PanamÃ¡ Uber'\n",
            " 'Guadalajara UberXL' 'MÃ©xico DF UberX' 'Uruguay' 'Ibarra'\n",
            " 'Guadalajara UberX' 'MÃ©xico DF UberXL' 'BogotÃ¡ UberX' 'Monterrey UberX'\n",
            " 'Ambato' 'MÃ©xico DF UberSUV' 'Lima UberX' 'Valparaiso UberX'\n",
            " 'Puebla UberX' 'Bogota UberBlack' 'Machala' 'Cali UberX' 'Riobamba'\n",
            " 'Santa Fe' 'Guayaquil Cabify Lite' 'St. Domingo' 'MedellÃ\\xadn UberBlack'\n",
            " 'Monterrey Easy Taxi' 'Pereira' 'Rosario Remis' 'Houston UberBlack'\n",
            " 'Aguascalientes UberX' 'Cuenca +7km' 'Guayaquil Cabify Guayaco' 'Rosario'\n",
            " 'MÃ©xico DF UberBlack' 'Pereira UberX' 'Quito Cabify Lite'\n",
            " 'Rio de Janeiro' 'SÃ£o Paulo' 'Buenos Aires' 'Barranquilla UberBlack'\n",
            " 'MedellÃ\\xadn UberX' 'Brasilia' 'Salvador UberX' 'LeÃ³n UberX'\n",
            " 'Santo Domingo UberX' 'Guadalajara UberBLACK' 'Cali Uber' 'Loja'\n",
            " 'Esmeraldas' 'Puebla Easy Taxi >10km' 'Puebla UberBLACK' 'CÃ³rdoba'\n",
            " 'Mar del Plata' 'Santiago UberX' 'Santiago UberXL' 'Santiago'\n",
            " 'Santa Fe Remis' 'Barranquilla' 'Ant Ecuador' 'Monterrey UberXL'\n",
            " 'CÃ³rdoba Remis' 'BogotÃ¡ UberVan' 'Bucaramanga UberX' 'Cuernavaca UberX'\n",
            " 'Monterrey Socio Conde' 'Bucaramanga' 'IbaguÃ© UberX' 'Portoviejo'\n",
            " 'BogotÃ¡ UberAngel' 'Quito Cabify Executive' 'Monterrey UberBLACK'\n",
            " 'Santo Domingo UberXL' 'Villavicencio UberX' 'Gran Mendoza Remis'\n",
            " 'ConcepciÃ³n UberX' 'Toluca UberX' 'Houston' 'La Plata' 'Montevideo'\n",
            " 'Brasilia UberX' 'SÃ£o Paulo UberX' 'SÃ£o Paulo UberBLACK'\n",
            " 'Costa Rica Taxi SedÃ¡n' 'Rio de Janeiro UberX' 'Santiago UberSUV'\n",
            " 'Tijuana UberX' 'Houston UberX' 'Valledupar UberX' 'Cartagena UberBlack'\n",
            " 'Cartagena UberX' 'Rio de Janeiro UberBLACK' 'Santiago de los Caballeros'\n",
            " 'Barranquilla UberX' 'Guayaquil UberX' 'Rio de Janeiro Executive'\n",
            " 'IbaguÃ©' 'Salvador' 'CÃºcuta UberX' 'Houston UberSUV'\n",
            " 'CÃ³rdoba Auto de Lujo' 'Mexicali UberX' 'Salta Remis' 'Popayan UberX'\n",
            " 'Azogues' 'Quito UberX' 'Guadalajara UberSUV' 'Mendoza'\n",
            " 'SÃ£o Paulo Luxury Taxi' 'Costa Rica Rural' 'San JosÃ© UberX'\n",
            " 'Brasilia UberBLACK' 'Sincelejo UberX' 'Tijuana UberBLACK'\n",
            " 'San JosÃ© UberXL' 'Santiago UberBlack' 'Costa Rica Taxi Adaptado'\n",
            " 'CÃºcuta' 'Houston UberSelect' 'Montevideo UberX' 'Tijuana UberXL'\n",
            " 'Salta' 'Armenia' 'Colonia']\n",
            "['N']\n"
          ]
        }
      ]
    },
    {
      "cell_type": "code",
      "source": [
        "print(uio.groupby(['vendor_id'])['id'].count().reset_index())"
      ],
      "metadata": {
        "colab": {
          "base_uri": "https://localhost:8080/"
        },
        "id": "hYp4atqmb_Yp",
        "outputId": "67940094-1e33-45df-9658-4810f759688c"
      },
      "execution_count": 183,
      "outputs": [
        {
          "output_type": "stream",
          "name": "stdout",
          "text": [
            "                vendor_id     id\n",
            "0          Aguascalientes  10326\n",
            "1    Aguascalientes UberX    247\n",
            "2                  Ambato    214\n",
            "3             Ant Ecuador    525\n",
            "4                 Armenia      1\n",
            "..                    ...    ...\n",
            "134          Toluca UberX      5\n",
            "135               Uruguay    339\n",
            "136      Valledupar UberX     11\n",
            "137      Valparaiso UberX      8\n",
            "138   Villavicencio UberX      2\n",
            "\n",
            "[139 rows x 2 columns]\n"
          ]
        }
      ]
    },
    {
      "cell_type": "code",
      "source": [
        "x = uio.groupby(['vendor_id'])['id'].count()\n",
        "sns.barplot(x.index, x.values)"
      ],
      "metadata": {
        "colab": {
          "base_uri": "https://localhost:8080/",
          "height": 359
        },
        "id": "B-0VCvKvcIQx",
        "outputId": "ec5470d9-985f-43c8-c0c2-a46f45b58d50"
      },
      "execution_count": 184,
      "outputs": [
        {
          "output_type": "stream",
          "name": "stderr",
          "text": [
            "/usr/local/lib/python3.7/dist-packages/seaborn/_decorators.py:43: FutureWarning: Pass the following variables as keyword args: x, y. From version 0.12, the only valid positional argument will be `data`, and passing other arguments without an explicit keyword will result in an error or misinterpretation.\n",
            "  FutureWarning\n"
          ]
        },
        {
          "output_type": "execute_result",
          "data": {
            "text/plain": [
              "<matplotlib.axes._subplots.AxesSubplot at 0x7ff57a80d110>"
            ]
          },
          "metadata": {},
          "execution_count": 184
        },
        {
          "output_type": "display_data",
          "data": {
            "text/plain": [
              "<Figure size 432x288 with 1 Axes>"
            ],
            "image/png": "[encoded data removed]"
          },
          "metadata": {}
        }
      ]
    },
    {
      "cell_type": "code",
      "source": [
        "x = uio.groupby(['vendor_id'])['dist_meters'].mean()\n",
        "sns.barplot(x.index, x.values)"
      ],
      "metadata": {
        "colab": {
          "base_uri": "https://localhost:8080/",
          "height": 370
        },
        "id": "17nh9vuiUSAS",
        "outputId": "832e165b-426c-438c-c0ec-f7c413a69947"
      },
      "execution_count": 185,
      "outputs": [
        {
          "output_type": "stream",
          "name": "stderr",
          "text": [
            "/usr/local/lib/python3.7/dist-packages/seaborn/_decorators.py:43: FutureWarning: Pass the following variables as keyword args: x, y. From version 0.12, the only valid positional argument will be `data`, and passing other arguments without an explicit keyword will result in an error or misinterpretation.\n",
            "  FutureWarning\n"
          ]
        },
        {
          "output_type": "execute_result",
          "data": {
            "text/plain": [
              "<matplotlib.axes._subplots.AxesSubplot at 0x7ff57a358dd0>"
            ]
          },
          "metadata": {},
          "execution_count": 185
        },
        {
          "output_type": "display_data",
          "data": {
            "text/plain": [
              "<Figure size 432x288 with 1 Axes>"
            ],
            "image/png": "[encoded data removed]"
          },
          "metadata": {}
        }
      ]
    },
    {
      "cell_type": "code",
      "source": [
        "x = uio.groupby(['vendor_id'])['trip_duration'].mean()\n",
        "sns.barplot(x.index, x.values)"
      ],
      "metadata": {
        "colab": {
          "base_uri": "https://localhost:8080/",
          "height": 370
        },
        "id": "xc8akXnAUVv4",
        "outputId": "6196fdf8-bd7d-495a-ba92-1998d6df5f81"
      },
      "execution_count": 186,
      "outputs": [
        {
          "output_type": "stream",
          "name": "stderr",
          "text": [
            "/usr/local/lib/python3.7/dist-packages/seaborn/_decorators.py:43: FutureWarning: Pass the following variables as keyword args: x, y. From version 0.12, the only valid positional argument will be `data`, and passing other arguments without an explicit keyword will result in an error or misinterpretation.\n",
            "  FutureWarning\n"
          ]
        },
        {
          "output_type": "execute_result",
          "data": {
            "text/plain": [
              "<matplotlib.axes._subplots.AxesSubplot at 0x7ff579e34350>"
            ]
          },
          "metadata": {},
          "execution_count": 186
        },
        {
          "output_type": "display_data",
          "data": {
            "text/plain": [
              "<Figure size 432x288 with 1 Axes>"
            ],
            "image/png": "[encoded data removed]"
          },
          "metadata": {}
        }
      ]
    },
    {
      "cell_type": "code",
      "source": [
        "uio.isnull().values.any()"
      ],
      "metadata": {
        "colab": {
          "base_uri": "https://localhost:8080/"
        },
        "id": "87HnresfQ9Mu",
        "outputId": "b249a1cb-c2ce-4331-ece7-b4c398be0607"
      },
      "execution_count": 187,
      "outputs": [
        {
          "output_type": "execute_result",
          "data": {
            "text/plain": [
              "False"
            ]
          },
          "metadata": {},
          "execution_count": 187
        }
      ]
    },
    {
      "cell_type": "code",
      "source": [
        "uio['pickup_datetime'] = pd.to_datetime(uio['pickup_datetime'], format='%Y/%m/%d %H:%M:%S')\n",
        "uio['dropoff_datetime'] = pd.to_datetime(uio['dropoff_datetime'], format='%Y-%m-%d %H:%M:%S')"
      ],
      "metadata": {
        "id": "qv3XVgZNbYak"
      },
      "execution_count": 188,
      "outputs": []
    },
    {
      "cell_type": "code",
      "source": [
        "print('Pickup -> Date : max = ', uio['pickup_datetime'].dt.date.max(), ' & min = ',uio['pickup_datetime'].dt.date.min(), ' || Time : Max = ', uio['pickup_datetime'].dt.time.max(), ' & min = ', uio['pickup_datetime'].dt.time.min())\n",
        "\n",
        "print('Dropoff -> Date : max = ', uio['dropoff_datetime'].dt.date.max(), ' & min = ',uio['dropoff_datetime'].dt.date.min(), ' || Time : Max = ', uio['dropoff_datetime'].dt.time.max(), ' & min = ', uio['dropoff_datetime'].dt.time.min())"
      ],
      "metadata": {
        "colab": {
          "base_uri": "https://localhost:8080/"
        },
        "id": "ILCt3k3fdMhS",
        "outputId": "c886c9fc-9813-496d-9a71-1b3b9d449d3c"
      },
      "execution_count": 189,
      "outputs": [
        {
          "output_type": "stream",
          "name": "stdout",
          "text": [
            "Pickup -> Date : max =  2017-08-01  & min =  2014-12-31  || Time : Max =  12:59:59  & min =  01:00:00\n",
            "Dropoff -> Date : max =  2017-08-01  & min =  2009-12-31  || Time : Max =  12:59:59  & min =  01:00:01\n"
          ]
        }
      ]
    },
    {
      "cell_type": "code",
      "source": [
        "correlation_matrix = uio.corr()\n",
        "correlation_matrix"
      ],
      "metadata": {
        "colab": {
          "base_uri": "https://localhost:8080/",
          "height": 300
        },
        "id": "rIFqla2iPzpC",
        "outputId": "5acefbad-5c1e-4d4f-ef7f-c308f7b3c98f"
      },
      "execution_count": 190,
      "outputs": [
        {
          "output_type": "execute_result",
          "data": {
            "text/plain": [
              "                         id  pickup_longitude  pickup_latitude  \\\n",
              "id                 1.000000         -0.015350        -0.019459   \n",
              "pickup_longitude  -0.015350          1.000000        -0.230991   \n",
              "pickup_latitude   -0.019459         -0.230991         1.000000   \n",
              "dropoff_longitude -0.004857          0.687053        -0.107931   \n",
              "dropoff_latitude  -0.001347         -0.727643         0.209949   \n",
              "trip_duration     -0.000982          0.007163         0.010269   \n",
              "dist_meters       -0.002335         -0.006340         0.005829   \n",
              "wait_sec           0.002616          0.016641        -0.009096   \n",
              "\n",
              "                   dropoff_longitude  dropoff_latitude  trip_duration  \\\n",
              "id                         -0.004857         -0.001347      -0.000982   \n",
              "pickup_longitude            0.687053         -0.727643       0.007163   \n",
              "pickup_latitude            -0.107931          0.209949       0.010269   \n",
              "dropoff_longitude           1.000000         -0.867666       0.011230   \n",
              "dropoff_latitude           -0.867666          1.000000      -0.007207   \n",
              "trip_duration               0.011230         -0.007207       1.000000   \n",
              "dist_meters                -0.009677          0.010699      -0.000102   \n",
              "wait_sec                    0.013946         -0.015284       0.055894   \n",
              "\n",
              "                   dist_meters  wait_sec  \n",
              "id                   -0.002335  0.002616  \n",
              "pickup_longitude     -0.006340  0.016641  \n",
              "pickup_latitude       0.005829 -0.009096  \n",
              "dropoff_longitude    -0.009677  0.013946  \n",
              "dropoff_latitude      0.010699 -0.015284  \n",
              "trip_duration        -0.000102  0.055894  \n",
              "dist_meters           1.000000  0.000035  \n",
              "wait_sec              0.000035  1.000000  "
            ],
            "text/html": [
              "\n",
              "  <div id=\"df-dbfbd513-ce64-41e9-9291-91ebdca0af09\">\n",
              "    <div class=\"colab-df-container\">\n",
              "      <div>\n",
              "<style scoped>\n",
              "    .dataframe tbody tr th:only-of-type {\n",
              "        vertical-align: middle;\n",
              "    }\n",
              "\n",
              "    .dataframe tbody tr th {\n",
              "        vertical-align: top;\n",
              "    }\n",
              "\n",
              "    .dataframe thead th {\n",
              "        text-align: right;\n",
              "    }\n",
              "</style>\n",
              "<table border=\"1\" class=\"dataframe\">\n",
              "  <thead>\n",
              "    <tr style=\"text-align: right;\">\n",
              "      <th></th>\n",
              "      <th>id</th>\n",
              "      <th>pickup_longitude</th>\n",
              "      <th>pickup_latitude</th>\n",
              "      <th>dropoff_longitude</th>\n",
              "      <th>dropoff_latitude</th>\n",
              "      <th>trip_duration</th>\n",
              "      <th>dist_meters</th>\n",
              "      <th>wait_sec</th>\n",
              "    </tr>\n",
              "  </thead>\n",
              "  <tbody>\n",
              "    <tr>\n",
              "      <th>id</th>\n",
              "      <td>1.000000</td>\n",
              "      <td>-0.015350</td>\n",
              "      <td>-0.019459</td>\n",
              "      <td>-0.004857</td>\n",
              "      <td>-0.001347</td>\n",
              "      <td>-0.000982</td>\n",
              "      <td>-0.002335</td>\n",
              "      <td>0.002616</td>\n",
              "    </tr>\n",
              "    <tr>\n",
              "      <th>pickup_longitude</th>\n",
              "      <td>-0.015350</td>\n",
              "      <td>1.000000</td>\n",
              "      <td>-0.230991</td>\n",
              "      <td>0.687053</td>\n",
              "      <td>-0.727643</td>\n",
              "      <td>0.007163</td>\n",
              "      <td>-0.006340</td>\n",
              "      <td>0.016641</td>\n",
              "    </tr>\n",
              "    <tr>\n",
              "      <th>pickup_latitude</th>\n",
              "      <td>-0.019459</td>\n",
              "      <td>-0.230991</td>\n",
              "      <td>1.000000</td>\n",
              "      <td>-0.107931</td>\n",
              "      <td>0.209949</td>\n",
              "      <td>0.010269</td>\n",
              "      <td>0.005829</td>\n",
              "      <td>-0.009096</td>\n",
              "    </tr>\n",
              "    <tr>\n",
              "      <th>dropoff_longitude</th>\n",
              "      <td>-0.004857</td>\n",
              "      <td>0.687053</td>\n",
              "      <td>-0.107931</td>\n",
              "      <td>1.000000</td>\n",
              "      <td>-0.867666</td>\n",
              "      <td>0.011230</td>\n",
              "      <td>-0.009677</td>\n",
              "      <td>0.013946</td>\n",
              "    </tr>\n",
              "    <tr>\n",
              "      <th>dropoff_latitude</th>\n",
              "      <td>-0.001347</td>\n",
              "      <td>-0.727643</td>\n",
              "      <td>0.209949</td>\n",
              "      <td>-0.867666</td>\n",
              "      <td>1.000000</td>\n",
              "      <td>-0.007207</td>\n",
              "      <td>0.010699</td>\n",
              "      <td>-0.015284</td>\n",
              "    </tr>\n",
              "    <tr>\n",
              "      <th>trip_duration</th>\n",
              "      <td>-0.000982</td>\n",
              "      <td>0.007163</td>\n",
              "      <td>0.010269</td>\n",
              "      <td>0.011230</td>\n",
              "      <td>-0.007207</td>\n",
              "      <td>1.000000</td>\n",
              "      <td>-0.000102</td>\n",
              "      <td>0.055894</td>\n",
              "    </tr>\n",
              "    <tr>\n",
              "      <th>dist_meters</th>\n",
              "      <td>-0.002335</td>\n",
              "      <td>-0.006340</td>\n",
              "      <td>0.005829</td>\n",
              "      <td>-0.009677</td>\n",
              "      <td>0.010699</td>\n",
              "      <td>-0.000102</td>\n",
              "      <td>1.000000</td>\n",
              "      <td>0.000035</td>\n",
              "    </tr>\n",
              "    <tr>\n",
              "      <th>wait_sec</th>\n",
              "      <td>0.002616</td>\n",
              "      <td>0.016641</td>\n",
              "      <td>-0.009096</td>\n",
              "      <td>0.013946</td>\n",
              "      <td>-0.015284</td>\n",
              "      <td>0.055894</td>\n",
              "      <td>0.000035</td>\n",
              "      <td>1.000000</td>\n",
              "    </tr>\n",
              "  </tbody>\n",
              "</table>\n",
              "</div>\n",
              "      <button class=\"colab-df-convert\" onclick=\"convertToInteractive('df-dbfbd513-ce64-41e9-9291-91ebdca0af09')\"\n",
              "              title=\"Convert this dataframe to an interactive table.\"\n",
              "              style=\"display:none;\">\n",
              "        \n",
              "  <svg xmlns=\"http://www.w3.org/2000/svg\" height=\"24px\"viewBox=\"0 0 24 24\"\n",
              "       width=\"24px\">\n",
              "    <path d=\"M0 0h24v24H0V0z\" fill=\"none\"/>\n",
              "    <path d=\"M18.56 5.44l.94 2.06.94-2.06 2.06-.94-2.06-.94-.94-2.06-.94 2.06-2.06.94zm-11 1L8.5 8.5l.94-2.06 2.06-.94-2.06-.94L8.5 2.5l-.94 2.06-2.06.94zm10 10l.94 2.06.94-2.06 2.06-.94-2.06-.94-.94-2.06-.94 2.06-2.06.94z\"/><path d=\"M17.41 7.96l-1.37-1.37c-.4-.4-.92-.59-1.43-.59-.52 0-1.04.2-1.43.59L10.3 9.45l-7.72 7.72c-.78.78-.78 2.05 0 2.83L4 21.41c.39.39.9.59 1.41.59.51 0 1.02-.2 1.41-.59l7.78-7.78 2.81-2.81c.8-.78.8-2.07 0-2.86zM5.41 20L4 18.59l7.72-7.72 1.47 1.35L5.41 20z\"/>\n",
              "  </svg>\n",
              "      </button>\n",
              "      \n",
              "  <style>\n",
              "    .colab-df-container {\n",
              "      display:flex;\n",
              "      flex-wrap:wrap;\n",
              "      gap: 12px;\n",
              "    }\n",
              "\n",
              "    .colab-df-convert {\n",
              "      background-color: #E8F0FE;\n",
              "      border: none;\n",
              "      border-radius: 50%;\n",
              "      cursor: pointer;\n",
              "      display: none;\n",
              "      fill: #1967D2;\n",
              "      height: 32px;\n",
              "      padding: 0 0 0 0;\n",
              "      width: 32px;\n",
              "    }\n",
              "\n",
              "    .colab-df-convert:hover {\n",
              "      background-color: #E2EBFA;\n",
              "      box-shadow: 0px 1px 2px rgba(60, 64, 67, 0.3), 0px 1px 3px 1px rgba(60, 64, 67, 0.15);\n",
              "      fill: #174EA6;\n",
              "    }\n",
              "\n",
              "    [theme=dark] .colab-df-convert {\n",
              "      background-color: #3B4455;\n",
              "      fill: #D2E3FC;\n",
              "    }\n",
              "\n",
              "    [theme=dark] .colab-df-convert:hover {\n",
              "      background-color: #434B5C;\n",
              "      box-shadow: 0px 1px 3px 1px rgba(0, 0, 0, 0.15);\n",
              "      filter: drop-shadow(0px 1px 2px rgba(0, 0, 0, 0.3));\n",
              "      fill: #FFFFFF;\n",
              "    }\n",
              "  </style>\n",
              "\n",
              "      <script>\n",
              "        const buttonEl =\n",
              "          document.querySelector('#df-dbfbd513-ce64-41e9-9291-91ebdca0af09 button.colab-df-convert');\n",
              "        buttonEl.style.display =\n",
              "          google.colab.kernel.accessAllowed ? 'block' : 'none';\n",
              "\n",
              "        async function convertToInteractive(key) {\n",
              "          const element = document.querySelector('#df-dbfbd513-ce64-41e9-9291-91ebdca0af09');\n",
              "          const dataTable =\n",
              "            await google.colab.kernel.invokeFunction('convertToInteractive',\n",
              "                                                     [key], {});\n",
              "          if (!dataTable) return;\n",
              "\n",
              "          const docLinkHtml = 'Like what you see? Visit the ' +\n",
              "            '<a target=\"_blank\" href=https://colab.research.google.com/notebooks/data_table.ipynb>data table notebook</a>'\n",
              "            + ' to learn more about interactive tables.';\n",
              "          element.innerHTML = '';\n",
              "          dataTable['output_type'] = 'display_data';\n",
              "          await google.colab.output.renderOutput(dataTable, element);\n",
              "          const docLink = document.createElement('div');\n",
              "          docLink.innerHTML = docLinkHtml;\n",
              "          element.appendChild(docLink);\n",
              "        }\n",
              "      </script>\n",
              "    </div>\n",
              "  </div>\n",
              "  "
            ]
          },
          "metadata": {},
          "execution_count": 190
        }
      ]
    },
    {
      "cell_type": "markdown",
      "source": [
        "# **Analisis Data Distance Meters**"
      ],
      "metadata": {
        "id": "pnVcDRx1VTx3"
      }
    },
    {
      "cell_type": "code",
      "source": [
        "sns.set()\n",
        "uio['log_dist_meters'] = np.log(uio['dist_meters'].values + 1)\n",
        "plt.hist(uio['log_dist_meters'].values, bins=100)\n",
        "plt.xlabel('log(dist_meters)')\n",
        "plt.ylabel('number of train records')\n",
        "plt.show()"
      ],
      "metadata": {
        "colab": {
          "base_uri": "https://localhost:8080/",
          "height": 320
        },
        "id": "_OZdLGvUedZE",
        "outputId": "e313ed60-6034-4c46-d360-8d6ad65ce29d"
      },
      "execution_count": 191,
      "outputs": [
        {
          "output_type": "stream",
          "name": "stderr",
          "text": [
            "/usr/local/lib/python3.7/dist-packages/ipykernel_launcher.py:2: RuntimeWarning: invalid value encountered in log\n",
            "  \n"
          ]
        },
        {
          "output_type": "display_data",
          "data": {
            "text/plain": [
              "<Figure size 432x288 with 1 Axes>"
            ],
            "image/png": "[encoded data removed]"
          },
          "metadata": {}
        }
      ]
    },
    {
      "cell_type": "code",
      "source": [
        "x = uio.groupby(['vendor_id'])['dist_meters'].mean()\n",
        "sns.barplot(x.index, x.values)"
      ],
      "metadata": {
        "colab": {
          "base_uri": "https://localhost:8080/",
          "height": 370
        },
        "id": "zaQnPYiXpSvW",
        "outputId": "58a55bf3-6e2a-4eb0-fbdc-9cfab3073e11"
      },
      "execution_count": 192,
      "outputs": [
        {
          "output_type": "stream",
          "name": "stderr",
          "text": [
            "/usr/local/lib/python3.7/dist-packages/seaborn/_decorators.py:43: FutureWarning: Pass the following variables as keyword args: x, y. From version 0.12, the only valid positional argument will be `data`, and passing other arguments without an explicit keyword will result in an error or misinterpretation.\n",
            "  FutureWarning\n"
          ]
        },
        {
          "output_type": "execute_result",
          "data": {
            "text/plain": [
              "<matplotlib.axes._subplots.AxesSubplot at 0x7ff57982e450>"
            ]
          },
          "metadata": {},
          "execution_count": 192
        },
        {
          "output_type": "display_data",
          "data": {
            "text/plain": [
              "<Figure size 432x288 with 1 Axes>"
            ],
            "image/png": "[encoded data removed]"
          },
          "metadata": {}
        }
      ]
    },
    {
      "cell_type": "code",
      "source": [
        "print((uio['dist_meters'].min())/1000)\n",
        "print((uio['dist_meters'].max())/1000)"
      ],
      "metadata": {
        "colab": {
          "base_uri": "https://localhost:8080/"
        },
        "id": "Je1nImizc01R",
        "outputId": "898efe70-487e-4c8d-df4f-c3aab3d2c2f2"
      },
      "execution_count": 193,
      "outputs": [
        {
          "output_type": "stream",
          "name": "stdout",
          "text": [
            "-2147483.648\n",
            "2147483.647\n"
          ]
        }
      ]
    },
    {
      "cell_type": "code",
      "source": [
        "uio['dist_kilometers'] =  uio['dist_meters']/1000"
      ],
      "metadata": {
        "id": "mdpjsjhVXyxp"
      },
      "execution_count": 194,
      "outputs": []
    },
    {
      "cell_type": "code",
      "source": [
        "uio = uio[(uio['dist_kilometers'] > 0)]"
      ],
      "metadata": {
        "id": "iq0ekI33F4-5"
      },
      "execution_count": 195,
      "outputs": []
    },
    {
      "cell_type": "code",
      "source": [
        "z_scores = stats.zscore(uio[['dist_kilometers']])\n",
        "z_scores\n",
        "\n",
        "# Convert to absolute values\n",
        "abs_z_scores = np.abs(z_scores)\n",
        "\n",
        "# Select data points with a z-scores above or below 3\n",
        "filtered_entries = (abs_z_scores < 3).all(axis=1)\n",
        "\n",
        "# Filter the dataset\n",
        "uio = uio[filtered_entries]\n",
        "uio.shape"
      ],
      "metadata": {
        "colab": {
          "base_uri": "https://localhost:8080/"
        },
        "id": "K7dIi8t0baRu",
        "outputId": "a459d492-2d2b-49f6-9b9b-f6bd82fa8607"
      },
      "execution_count": 196,
      "outputs": [
        {
          "output_type": "execute_result",
          "data": {
            "text/plain": [
              "(90274, 14)"
            ]
          },
          "metadata": {},
          "execution_count": 196
        }
      ]
    },
    {
      "cell_type": "code",
      "source": [
        "print((uio['dist_kilometers'].min()))\n",
        "print((uio['dist_kilometers'].max()))"
      ],
      "metadata": {
        "colab": {
          "base_uri": "https://localhost:8080/"
        },
        "id": "VxC5KXOrpJO2",
        "outputId": "541aacbf-580b-471c-e57a-43fdf14a7202"
      },
      "execution_count": 197,
      "outputs": [
        {
          "output_type": "stream",
          "name": "stdout",
          "text": [
            "0.01\n",
            "21064.064\n"
          ]
        }
      ]
    },
    {
      "cell_type": "code",
      "source": [
        "# calculate Q1 and Q3\n",
        "Q1 = uio[['dist_kilometers']].quantile(0.25)\n",
        "Q3 = uio[['dist_kilometers']].quantile(0.75)\n",
        "\n",
        "# calculate the IQR\n",
        "IQR = Q3 - Q1\n",
        "\n",
        "# filter the dataset with the IQR\n",
        "IQR_outliers =  uio[['dist_kilometers']][(( uio[['dist_kilometers']] < (Q1 - 1.5 * IQR)) |( uio[['dist_kilometers']] > (Q3 + 1.5 * IQR))).any(axis=1)]\n",
        "min_outlier = IQR_outliers.min()\n",
        "print(min_outlier[0])"
      ],
      "metadata": {
        "colab": {
          "base_uri": "https://localhost:8080/"
        },
        "id": "7DC2pBNOe3yY",
        "outputId": "a50f63cd-e1c7-4af8-e1ca-31495a45770b"
      },
      "execution_count": 198,
      "outputs": [
        {
          "output_type": "stream",
          "name": "stdout",
          "text": [
            "18.763\n"
          ]
        }
      ]
    },
    {
      "cell_type": "code",
      "source": [
        "uio = uio[(uio['dist_kilometers'] < min_outlier[0])]\n",
        "uio.shape"
      ],
      "metadata": {
        "colab": {
          "base_uri": "https://localhost:8080/"
        },
        "id": "J-c4xaK4e6qa",
        "outputId": "2a52fbb6-21ac-4f28-e158-81f01d9c0665"
      },
      "execution_count": 199,
      "outputs": [
        {
          "output_type": "execute_result",
          "data": {
            "text/plain": [
              "(84209, 14)"
            ]
          },
          "metadata": {},
          "execution_count": 199
        }
      ]
    },
    {
      "cell_type": "code",
      "source": [
        "sns.set()\n",
        "plt.hist(uio['log_dist_meters'].values, bins=100)\n",
        "plt.xlabel('log(dist_meters)')\n",
        "plt.ylabel('number of train records')\n",
        "plt.show()"
      ],
      "metadata": {
        "colab": {
          "base_uri": "https://localhost:8080/",
          "height": 285
        },
        "id": "vyWCvpaGVA1Q",
        "outputId": "c9cd8316-5e33-441f-806b-e9f6f494334a"
      },
      "execution_count": 200,
      "outputs": [
        {
          "output_type": "display_data",
          "data": {
            "text/plain": [
              "<Figure size 432x288 with 1 Axes>"
            ],
            "image/png": "[encoded data removed]"
          },
          "metadata": {}
        }
      ]
    },
    {
      "cell_type": "markdown",
      "source": [
        "# **Analisis Data Trip Duration**"
      ],
      "metadata": {
        "id": "vkb31DHjVM5M"
      }
    },
    {
      "cell_type": "code",
      "source": [
        "sns.set()\n",
        "uio['log_trip_duration'] = np.log(uio['trip_duration'].values + 1)\n",
        "plt.hist(uio['log_trip_duration'].values, bins=100)\n",
        "plt.xlabel('log(trip_duration)')\n",
        "plt.ylabel('number of train records')\n",
        "plt.show()"
      ],
      "metadata": {
        "colab": {
          "base_uri": "https://localhost:8080/",
          "height": 0
        },
        "id": "uTgwx5vTRblR",
        "outputId": "a1033309-932f-4595-8d7f-67f2be8a1dda"
      },
      "execution_count": 201,
      "outputs": [
        {
          "output_type": "stream",
          "name": "stderr",
          "text": [
            "/usr/local/lib/python3.7/dist-packages/ipykernel_launcher.py:2: RuntimeWarning: invalid value encountered in log\n",
            "  \n"
          ]
        },
        {
          "output_type": "display_data",
          "data": {
            "text/plain": [
              "<Figure size 432x288 with 1 Axes>"
            ],
            "image/png": "[encoded data removed]"
          },
          "metadata": {}
        }
      ]
    },
    {
      "cell_type": "code",
      "source": [
        "x = uio.groupby(['vendor_id'])['log_trip_duration'].mean()\n",
        "sns.barplot(x.index, x.values)"
      ],
      "metadata": {
        "colab": {
          "base_uri": "https://localhost:8080/",
          "height": 0
        },
        "id": "mJ5wB8vrcYdp",
        "outputId": "792a26da-3cc8-4fa5-b893-4177aa032a01"
      },
      "execution_count": 202,
      "outputs": [
        {
          "output_type": "stream",
          "name": "stderr",
          "text": [
            "/usr/local/lib/python3.7/dist-packages/seaborn/_decorators.py:43: FutureWarning: Pass the following variables as keyword args: x, y. From version 0.12, the only valid positional argument will be `data`, and passing other arguments without an explicit keyword will result in an error or misinterpretation.\n",
            "  FutureWarning\n"
          ]
        },
        {
          "output_type": "execute_result",
          "data": {
            "text/plain": [
              "<matplotlib.axes._subplots.AxesSubplot at 0x7ff579023a10>"
            ]
          },
          "metadata": {},
          "execution_count": 202
        },
        {
          "output_type": "display_data",
          "data": {
            "text/plain": [
              "<Figure size 432x288 with 1 Axes>"
            ],
            "image/png": "[encoded data removed]"
          },
          "metadata": {}
        }
      ]
    },
    {
      "cell_type": "code",
      "source": [
        "print((uio['trip_duration'].min())/60)\n",
        "print((uio['trip_duration'].max())/60)"
      ],
      "metadata": {
        "colab": {
          "base_uri": "https://localhost:8080/"
        },
        "id": "aRbR6MhEpYqt",
        "outputId": "5b96bb99-fcb3-4103-b3b2-d21d5dc91da0"
      },
      "execution_count": 203,
      "outputs": [
        {
          "output_type": "stream",
          "name": "stdout",
          "text": [
            "-6478.516666666666\n",
            "1282723.6833333333\n"
          ]
        }
      ]
    },
    {
      "cell_type": "code",
      "source": [
        "uio['trip_duration_in_minutes'] =  uio['trip_duration']/60"
      ],
      "metadata": {
        "id": "yR5ZlaTGp60y"
      },
      "execution_count": 204,
      "outputs": []
    },
    {
      "cell_type": "code",
      "source": [
        "uio = uio[(uio['trip_duration_in_minutes'] >= 0.05)]\n",
        "uio.shape"
      ],
      "metadata": {
        "colab": {
          "base_uri": "https://localhost:8080/"
        },
        "id": "VQM5obn_pkCR",
        "outputId": "5e9da6a5-2f88-45ba-84bc-cbfd4d6b7fa8"
      },
      "execution_count": 205,
      "outputs": [
        {
          "output_type": "execute_result",
          "data": {
            "text/plain": [
              "(84203, 16)"
            ]
          },
          "metadata": {},
          "execution_count": 205
        }
      ]
    },
    {
      "cell_type": "code",
      "source": [
        "print((uio['trip_duration_in_minutes'].min()))\n",
        "print((uio['trip_duration_in_minutes'].max()))"
      ],
      "metadata": {
        "colab": {
          "base_uri": "https://localhost:8080/"
        },
        "id": "FlGD84IxWctA",
        "outputId": "6f6c36ce-a76e-4511-b976-9cb1262e2bc5"
      },
      "execution_count": 206,
      "outputs": [
        {
          "output_type": "stream",
          "name": "stdout",
          "text": [
            "0.05\n",
            "1282723.6833333333\n"
          ]
        }
      ]
    },
    {
      "cell_type": "code",
      "source": [
        "z_scores = stats.zscore(uio[['trip_duration_in_minutes']])\n",
        "z_scores\n",
        "\n",
        "# Convert to absolute values\n",
        "abs_z_scores = np.abs(z_scores)\n",
        "\n",
        "# Select data points with a z-scores above or below 3\n",
        "filtered_entries = (abs_z_scores < 3).all(axis=1)\n",
        "# Filter the dataset\n",
        "uio = uio[filtered_entries]\n",
        "uio.shape"
      ],
      "metadata": {
        "colab": {
          "base_uri": "https://localhost:8080/"
        },
        "id": "Cy4ho7D2pZR0",
        "outputId": "c26080df-3742-4255-fa0f-8a163b504065"
      },
      "execution_count": 207,
      "outputs": [
        {
          "output_type": "execute_result",
          "data": {
            "text/plain": [
              "(83873, 16)"
            ]
          },
          "metadata": {},
          "execution_count": 207
        }
      ]
    },
    {
      "cell_type": "code",
      "source": [
        "print((uio['trip_duration_in_minutes'].min()))\n",
        "print((uio['trip_duration_in_minutes'].max()))"
      ],
      "metadata": {
        "colab": {
          "base_uri": "https://localhost:8080/"
        },
        "id": "2ciKlQHZpaF5",
        "outputId": "7c5c0f47-034c-4d91-8731-02fc4076247c"
      },
      "execution_count": 208,
      "outputs": [
        {
          "output_type": "stream",
          "name": "stdout",
          "text": [
            "0.05\n",
            "23104.733333333334\n"
          ]
        }
      ]
    },
    {
      "cell_type": "code",
      "source": [
        "# calculate Q1 and Q3\n",
        "Q1 = uio[['trip_duration_in_minutes']].quantile(0.25)\n",
        "Q3 = uio[['trip_duration_in_minutes']].quantile(0.75)\n",
        "\n",
        "# calculate the IQR\n",
        "IQR = Q3 - Q1\n",
        "\n",
        "# filter the dataset with the IQR\n",
        "IQR_outliers =  uio[['trip_duration_in_minutes']][(( uio[['trip_duration_in_minutes']] < (Q1 - 1.5 * IQR)) |( uio[['trip_duration_in_minutes']] > (Q3 + 1.5 * IQR))).any(axis=1)]\n",
        "min_outlier = IQR_outliers.min()\n",
        "print(min_outlier)"
      ],
      "metadata": {
        "colab": {
          "base_uri": "https://localhost:8080/"
        },
        "id": "LEzPoWnneb7Q",
        "outputId": "97452292-2cc0-42dc-c2b4-b542ef6150b8"
      },
      "execution_count": 209,
      "outputs": [
        {
          "output_type": "stream",
          "name": "stdout",
          "text": [
            "trip_duration_in_minutes    55.216667\n",
            "dtype: float64\n"
          ]
        }
      ]
    },
    {
      "cell_type": "code",
      "source": [
        "uio = uio[(uio['trip_duration_in_minutes'] < min_outlier[0])]\n",
        "uio.shape"
      ],
      "metadata": {
        "colab": {
          "base_uri": "https://localhost:8080/"
        },
        "id": "p9WFD8d1fSEI",
        "outputId": "3bc6c41b-59b8-446d-d85c-67e7400565d1"
      },
      "execution_count": 210,
      "outputs": [
        {
          "output_type": "execute_result",
          "data": {
            "text/plain": [
              "(74054, 16)"
            ]
          },
          "metadata": {},
          "execution_count": 210
        }
      ]
    },
    {
      "cell_type": "code",
      "source": [
        "sns.set()\n",
        "plt.hist(uio['log_trip_duration'].values, bins=100)\n",
        "plt.xlabel('log(trip_duration)')\n",
        "plt.ylabel('number of train records')\n",
        "plt.show()"
      ],
      "metadata": {
        "colab": {
          "base_uri": "https://localhost:8080/",
          "height": 0
        },
        "id": "SLw2gt0SU8z0",
        "outputId": "a0c25ff9-6313-4d58-859e-946af7497261"
      },
      "execution_count": 211,
      "outputs": [
        {
          "output_type": "display_data",
          "data": {
            "text/plain": [
              "<Figure size 432x288 with 1 Axes>"
            ],
            "image/png": "[encoded data removed]"
          },
          "metadata": {}
        }
      ]
    },
    {
      "cell_type": "markdown",
      "source": [
        "# **Analisis Data Datetime**"
      ],
      "metadata": {
        "id": "SgH--un_VbGW"
      }
    },
    {
      "cell_type": "code",
      "source": [
        "print('Pickup -> Date : max = ', uio['pickup_datetime'].dt.date.max(), ' & min = ',uio['pickup_datetime'].dt.date.min(), ' || Time : Max = ', uio['pickup_datetime'].dt.time.max(), ' & min = ', uio['pickup_datetime'].dt.time.min())\n",
        "\n",
        "print('Dropoff -> Date : max = ', uio['dropoff_datetime'].dt.date.max(), ' & min = ',uio['dropoff_datetime'].dt.date.min(), ' || Time : Max = ', uio['dropoff_datetime'].dt.time.max(), ' & min = ', uio['dropoff_datetime'].dt.time.min())"
      ],
      "metadata": {
        "colab": {
          "base_uri": "https://localhost:8080/"
        },
        "id": "BNuCfeR-LT-5",
        "outputId": "6f0e264f-365d-4666-b0c1-28c0141a75be"
      },
      "execution_count": 212,
      "outputs": [
        {
          "output_type": "stream",
          "name": "stdout",
          "text": [
            "Pickup -> Date : max =  2017-08-01  & min =  2016-06-22  || Time : Max =  12:59:59  & min =  01:00:00\n",
            "Dropoff -> Date : max =  2017-08-01  & min =  2016-06-22  || Time : Max =  12:59:59  & min =  01:00:01\n"
          ]
        }
      ]
    },
    {
      "cell_type": "code",
      "source": [
        "uio['diff_datetime_minutes'] = (uio['dropoff_datetime']-uio['pickup_datetime']).dt.total_seconds()/60"
      ],
      "metadata": {
        "id": "XOMnL6yxQlz6"
      },
      "execution_count": 213,
      "outputs": []
    },
    {
      "cell_type": "code",
      "source": [
        "uio[(uio['trip_duration_in_minutes'] != uio['diff_datetime_minutes'])]"
      ],
      "metadata": {
        "colab": {
          "base_uri": "https://localhost:8080/",
          "height": 0
        },
        "id": "0foMr1s7OK2o",
        "outputId": "5fd95d09-8b73-4f6e-f5b9-a41d80d4d9b7"
      },
      "execution_count": 214,
      "outputs": [
        {
          "output_type": "execute_result",
          "data": {
            "text/plain": [
              "          id              vendor_id     pickup_datetime    dropoff_datetime  \\\n",
              "3          4              Monterrey 2016-09-17 09:45:56 2016-09-17 10:13:34   \n",
              "4          5              Monterrey 2016-09-17 10:12:00 2016-09-17 10:16:31   \n",
              "5          6              Monterrey 2016-09-17 10:18:20 2016-09-17 10:18:41   \n",
              "8          9              Monterrey 2016-09-17 09:48:30 2016-09-17 10:33:27   \n",
              "9         10  Guadalajara Easy Taxi 2016-09-17 10:28:23 2016-09-17 10:35:03   \n",
              "...      ...                    ...                 ...                 ...   \n",
              "90274  90275              Monterrey 2016-10-28 12:44:49 2016-10-28 01:02:20   \n",
              "90277  90278         Aguascalientes 2016-10-28 01:33:31 2016-10-28 01:44:07   \n",
              "90279  90280         Aguascalientes 2016-10-28 02:38:07 2016-10-28 02:47:53   \n",
              "90282  90283                  Quito 2016-10-25 04:58:55 2016-10-25 05:00:25   \n",
              "90285  90286                  Quito 2016-10-28 06:47:59 2016-10-28 06:58:31   \n",
              "\n",
              "       pickup_longitude  pickup_latitude  dropoff_longitude  dropoff_latitude  \\\n",
              "3              0.207565         0.590416        -100.491721         25.676294   \n",
              "4              0.128881         0.580419        -100.104166         25.643862   \n",
              "5              0.141188         0.564268        -100.186171         25.643129   \n",
              "8              0.223600         0.626796        -100.495666         25.687190   \n",
              "9              0.327517         0.390198        -103.359451         20.669558   \n",
              "...                 ...              ...                ...               ...   \n",
              "90274          0.124390         0.630560        -100.111494         25.689907   \n",
              "90277          0.276663         0.439326        -102.236014         21.880377   \n",
              "90279          0.299507         0.435571        -102.283521         21.832715   \n",
              "90282          0.706498         0.552770         -78.550306         -0.256756   \n",
              "90285          0.431407         0.724499         -78.446296         -0.327428   \n",
              "\n",
              "      store_and_fwd_flag  trip_duration  dist_meters  wait_sec  \\\n",
              "3                      N           1659        11082       358   \n",
              "4                      N            272         2021      3614   \n",
              "5                      N             22         2502       517   \n",
              "8                      N           2698         4770       292   \n",
              "9                      N            401         2733        71   \n",
              "...                  ...            ...          ...       ...   \n",
              "90274                  N           1052         9790       167   \n",
              "90277                  N            637         7591       141   \n",
              "90279                  N            587         3661      3795   \n",
              "90282                  N             91           43        70   \n",
              "90285                  N            633         3296       150   \n",
              "\n",
              "       log_dist_meters  dist_kilometers  log_trip_duration  \\\n",
              "3             9.313168           11.082           7.414573   \n",
              "4             7.611842            2.021           5.609472   \n",
              "5             7.825245            2.502           3.135494   \n",
              "8             8.470311            4.770           7.900637   \n",
              "9             7.913521            2.733           5.996452   \n",
              "...                ...              ...                ...   \n",
              "90274         9.189219            9.790           6.959399   \n",
              "90277         8.934850            7.591           6.458338   \n",
              "90279         8.205765            3.661           6.376727   \n",
              "90282         3.784190            0.043           4.521789   \n",
              "90285         8.100768            3.296           6.452049   \n",
              "\n",
              "       trip_duration_in_minutes  diff_datetime_minutes  \n",
              "3                     27.650000              27.633333  \n",
              "4                      4.533333               4.516667  \n",
              "5                      0.366667               0.350000  \n",
              "8                     44.966667              44.950000  \n",
              "9                      6.683333               6.666667  \n",
              "...                         ...                    ...  \n",
              "90274                 17.533333            -702.483333  \n",
              "90277                 10.616667              10.600000  \n",
              "90279                  9.783333               9.766667  \n",
              "90282                  1.516667               1.500000  \n",
              "90285                 10.550000              10.533333  \n",
              "\n",
              "[42266 rows x 17 columns]"
            ],
            "text/html": [
              "\n",
              "  <div id=\"df-750cb42c-f644-4b65-82f8-f8e6835914fa\">\n",
              "    <div class=\"colab-df-container\">\n",
              "      <div>\n",
              "<style scoped>\n",
              "    .dataframe tbody tr th:only-of-type {\n",
              "        vertical-align: middle;\n",
              "    }\n",
              "\n",
              "    .dataframe tbody tr th {\n",
              "        vertical-align: top;\n",
              "    }\n",
              "\n",
              "    .dataframe thead th {\n",
              "        text-align: right;\n",
              "    }\n",
              "</style>\n",
              "<table border=\"1\" class=\"dataframe\">\n",
              "  <thead>\n",
              "    <tr style=\"text-align: right;\">\n",
              "      <th></th>\n",
              "      <th>id</th>\n",
              "      <th>vendor_id</th>\n",
              "      <th>pickup_datetime</th>\n",
              "      <th>dropoff_datetime</th>\n",
              "      <th>pickup_longitude</th>\n",
              "      <th>pickup_latitude</th>\n",
              "      <th>dropoff_longitude</th>\n",
              "      <th>dropoff_latitude</th>\n",
              "      <th>store_and_fwd_flag</th>\n",
              "      <th>trip_duration</th>\n",
              "      <th>dist_meters</th>\n",
              "      <th>wait_sec</th>\n",
              "      <th>log_dist_meters</th>\n",
              "      <th>dist_kilometers</th>\n",
              "      <th>log_trip_duration</th>\n",
              "      <th>trip_duration_in_minutes</th>\n",
              "      <th>diff_datetime_minutes</th>\n",
              "    </tr>\n",
              "  </thead>\n",
              "  <tbody>\n",
              "    <tr>\n",
              "      <th>3</th>\n",
              "      <td>4</td>\n",
              "      <td>Monterrey</td>\n",
              "      <td>2016-09-17 09:45:56</td>\n",
              "      <td>2016-09-17 10:13:34</td>\n",
              "      <td>0.207565</td>\n",
              "      <td>0.590416</td>\n",
              "      <td>-100.491721</td>\n",
              "      <td>25.676294</td>\n",
              "      <td>N</td>\n",
              "      <td>1659</td>\n",
              "      <td>11082</td>\n",
              "      <td>358</td>\n",
              "      <td>9.313168</td>\n",
              "      <td>11.082</td>\n",
              "      <td>7.414573</td>\n",
              "      <td>27.650000</td>\n",
              "      <td>27.633333</td>\n",
              "    </tr>\n",
              "    <tr>\n",
              "      <th>4</th>\n",
              "      <td>5</td>\n",
              "      <td>Monterrey</td>\n",
              "      <td>2016-09-17 10:12:00</td>\n",
              "      <td>2016-09-17 10:16:31</td>\n",
              "      <td>0.128881</td>\n",
              "      <td>0.580419</td>\n",
              "      <td>-100.104166</td>\n",
              "      <td>25.643862</td>\n",
              "      <td>N</td>\n",
              "      <td>272</td>\n",
              "      <td>2021</td>\n",
              "      <td>3614</td>\n",
              "      <td>7.611842</td>\n",
              "      <td>2.021</td>\n",
              "      <td>5.609472</td>\n",
              "      <td>4.533333</td>\n",
              "      <td>4.516667</td>\n",
              "    </tr>\n",
              "    <tr>\n",
              "      <th>5</th>\n",
              "      <td>6</td>\n",
              "      <td>Monterrey</td>\n",
              "      <td>2016-09-17 10:18:20</td>\n",
              "      <td>2016-09-17 10:18:41</td>\n",
              "      <td>0.141188</td>\n",
              "      <td>0.564268</td>\n",
              "      <td>-100.186171</td>\n",
              "      <td>25.643129</td>\n",
              "      <td>N</td>\n",
              "      <td>22</td>\n",
              "      <td>2502</td>\n",
              "      <td>517</td>\n",
              "      <td>7.825245</td>\n",
              "      <td>2.502</td>\n",
              "      <td>3.135494</td>\n",
              "      <td>0.366667</td>\n",
              "      <td>0.350000</td>\n",
              "    </tr>\n",
              "    <tr>\n",
              "      <th>8</th>\n",
              "      <td>9</td>\n",
              "      <td>Monterrey</td>\n",
              "      <td>2016-09-17 09:48:30</td>\n",
              "      <td>2016-09-17 10:33:27</td>\n",
              "      <td>0.223600</td>\n",
              "      <td>0.626796</td>\n",
              "      <td>-100.495666</td>\n",
              "      <td>25.687190</td>\n",
              "      <td>N</td>\n",
              "      <td>2698</td>\n",
              "      <td>4770</td>\n",
              "      <td>292</td>\n",
              "      <td>8.470311</td>\n",
              "      <td>4.770</td>\n",
              "      <td>7.900637</td>\n",
              "      <td>44.966667</td>\n",
              "      <td>44.950000</td>\n",
              "    </tr>\n",
              "    <tr>\n",
              "      <th>9</th>\n",
              "      <td>10</td>\n",
              "      <td>Guadalajara Easy Taxi</td>\n",
              "      <td>2016-09-17 10:28:23</td>\n",
              "      <td>2016-09-17 10:35:03</td>\n",
              "      <td>0.327517</td>\n",
              "      <td>0.390198</td>\n",
              "      <td>-103.359451</td>\n",
              "      <td>20.669558</td>\n",
              "      <td>N</td>\n",
              "      <td>401</td>\n",
              "      <td>2733</td>\n",
              "      <td>71</td>\n",
              "      <td>7.913521</td>\n",
              "      <td>2.733</td>\n",
              "      <td>5.996452</td>\n",
              "      <td>6.683333</td>\n",
              "      <td>6.666667</td>\n",
              "    </tr>\n",
              "    <tr>\n",
              "      <th>...</th>\n",
              "      <td>...</td>\n",
              "      <td>...</td>\n",
              "      <td>...</td>\n",
              "      <td>...</td>\n",
              "      <td>...</td>\n",
              "      <td>...</td>\n",
              "      <td>...</td>\n",
              "      <td>...</td>\n",
              "      <td>...</td>\n",
              "      <td>...</td>\n",
              "      <td>...</td>\n",
              "      <td>...</td>\n",
              "      <td>...</td>\n",
              "      <td>...</td>\n",
              "      <td>...</td>\n",
              "      <td>...</td>\n",
              "      <td>...</td>\n",
              "    </tr>\n",
              "    <tr>\n",
              "      <th>90274</th>\n",
              "      <td>90275</td>\n",
              "      <td>Monterrey</td>\n",
              "      <td>2016-10-28 12:44:49</td>\n",
              "      <td>2016-10-28 01:02:20</td>\n",
              "      <td>0.124390</td>\n",
              "      <td>0.630560</td>\n",
              "      <td>-100.111494</td>\n",
              "      <td>25.689907</td>\n",
              "      <td>N</td>\n",
              "      <td>1052</td>\n",
              "      <td>9790</td>\n",
              "      <td>167</td>\n",
              "      <td>9.189219</td>\n",
              "      <td>9.790</td>\n",
              "      <td>6.959399</td>\n",
              "      <td>17.533333</td>\n",
              "      <td>-702.483333</td>\n",
              "    </tr>\n",
              "    <tr>\n",
              "      <th>90277</th>\n",
              "      <td>90278</td>\n",
              "      <td>Aguascalientes</td>\n",
              "      <td>2016-10-28 01:33:31</td>\n",
              "      <td>2016-10-28 01:44:07</td>\n",
              "      <td>0.276663</td>\n",
              "      <td>0.439326</td>\n",
              "      <td>-102.236014</td>\n",
              "      <td>21.880377</td>\n",
              "      <td>N</td>\n",
              "      <td>637</td>\n",
              "      <td>7591</td>\n",
              "      <td>141</td>\n",
              "      <td>8.934850</td>\n",
              "      <td>7.591</td>\n",
              "      <td>6.458338</td>\n",
              "      <td>10.616667</td>\n",
              "      <td>10.600000</td>\n",
              "    </tr>\n",
              "    <tr>\n",
              "      <th>90279</th>\n",
              "      <td>90280</td>\n",
              "      <td>Aguascalientes</td>\n",
              "      <td>2016-10-28 02:38:07</td>\n",
              "      <td>2016-10-28 02:47:53</td>\n",
              "      <td>0.299507</td>\n",
              "      <td>0.435571</td>\n",
              "      <td>-102.283521</td>\n",
              "      <td>21.832715</td>\n",
              "      <td>N</td>\n",
              "      <td>587</td>\n",
              "      <td>3661</td>\n",
              "      <td>3795</td>\n",
              "      <td>8.205765</td>\n",
              "      <td>3.661</td>\n",
              "      <td>6.376727</td>\n",
              "      <td>9.783333</td>\n",
              "      <td>9.766667</td>\n",
              "    </tr>\n",
              "    <tr>\n",
              "      <th>90282</th>\n",
              "      <td>90283</td>\n",
              "      <td>Quito</td>\n",
              "      <td>2016-10-25 04:58:55</td>\n",
              "      <td>2016-10-25 05:00:25</td>\n",
              "      <td>0.706498</td>\n",
              "      <td>0.552770</td>\n",
              "      <td>-78.550306</td>\n",
              "      <td>-0.256756</td>\n",
              "      <td>N</td>\n",
              "      <td>91</td>\n",
              "      <td>43</td>\n",
              "      <td>70</td>\n",
              "      <td>3.784190</td>\n",
              "      <td>0.043</td>\n",
              "      <td>4.521789</td>\n",
              "      <td>1.516667</td>\n",
              "      <td>1.500000</td>\n",
              "    </tr>\n",
              "    <tr>\n",
              "      <th>90285</th>\n",
              "      <td>90286</td>\n",
              "      <td>Quito</td>\n",
              "      <td>2016-10-28 06:47:59</td>\n",
              "      <td>2016-10-28 06:58:31</td>\n",
              "      <td>0.431407</td>\n",
              "      <td>0.724499</td>\n",
              "      <td>-78.446296</td>\n",
              "      <td>-0.327428</td>\n",
              "      <td>N</td>\n",
              "      <td>633</td>\n",
              "      <td>3296</td>\n",
              "      <td>150</td>\n",
              "      <td>8.100768</td>\n",
              "      <td>3.296</td>\n",
              "      <td>6.452049</td>\n",
              "      <td>10.550000</td>\n",
              "      <td>10.533333</td>\n",
              "    </tr>\n",
              "  </tbody>\n",
              "</table>\n",
              "<p>42266 rows × 17 columns</p>\n",
              "</div>\n",
              "      <button class=\"colab-df-convert\" onclick=\"convertToInteractive('df-750cb42c-f644-4b65-82f8-f8e6835914fa')\"\n",
              "              title=\"Convert this dataframe to an interactive table.\"\n",
              "              style=\"display:none;\">\n",
              "        \n",
              "  <svg xmlns=\"http://www.w3.org/2000/svg\" height=\"24px\"viewBox=\"0 0 24 24\"\n",
              "       width=\"24px\">\n",
              "    <path d=\"M0 0h24v24H0V0z\" fill=\"none\"/>\n",
              "    <path d=\"M18.56 5.44l.94 2.06.94-2.06 2.06-.94-2.06-.94-.94-2.06-.94 2.06-2.06.94zm-11 1L8.5 8.5l.94-2.06 2.06-.94-2.06-.94L8.5 2.5l-.94 2.06-2.06.94zm10 10l.94 2.06.94-2.06 2.06-.94-2.06-.94-.94-2.06-.94 2.06-2.06.94z\"/><path d=\"M17.41 7.96l-1.37-1.37c-.4-.4-.92-.59-1.43-.59-.52 0-1.04.2-1.43.59L10.3 9.45l-7.72 7.72c-.78.78-.78 2.05 0 2.83L4 21.41c.39.39.9.59 1.41.59.51 0 1.02-.2 1.41-.59l7.78-7.78 2.81-2.81c.8-.78.8-2.07 0-2.86zM5.41 20L4 18.59l7.72-7.72 1.47 1.35L5.41 20z\"/>\n",
              "  </svg>\n",
              "      </button>\n",
              "      \n",
              "  <style>\n",
              "    .colab-df-container {\n",
              "      display:flex;\n",
              "      flex-wrap:wrap;\n",
              "      gap: 12px;\n",
              "    }\n",
              "\n",
              "    .colab-df-convert {\n",
              "      background-color: #E8F0FE;\n",
              "      border: none;\n",
              "      border-radius: 50%;\n",
              "      cursor: pointer;\n",
              "      display: none;\n",
              "      fill: #1967D2;\n",
              "      height: 32px;\n",
              "      padding: 0 0 0 0;\n",
              "      width: 32px;\n",
              "    }\n",
              "\n",
              "    .colab-df-convert:hover {\n",
              "      background-color: #E2EBFA;\n",
              "      box-shadow: 0px 1px 2px rgba(60, 64, 67, 0.3), 0px 1px 3px 1px rgba(60, 64, 67, 0.15);\n",
              "      fill: #174EA6;\n",
              "    }\n",
              "\n",
              "    [theme=dark] .colab-df-convert {\n",
              "      background-color: #3B4455;\n",
              "      fill: #D2E3FC;\n",
              "    }\n",
              "\n",
              "    [theme=dark] .colab-df-convert:hover {\n",
              "      background-color: #434B5C;\n",
              "      box-shadow: 0px 1px 3px 1px rgba(0, 0, 0, 0.15);\n",
              "      filter: drop-shadow(0px 1px 2px rgba(0, 0, 0, 0.3));\n",
              "      fill: #FFFFFF;\n",
              "    }\n",
              "  </style>\n",
              "\n",
              "      <script>\n",
              "        const buttonEl =\n",
              "          document.querySelector('#df-750cb42c-f644-4b65-82f8-f8e6835914fa button.colab-df-convert');\n",
              "        buttonEl.style.display =\n",
              "          google.colab.kernel.accessAllowed ? 'block' : 'none';\n",
              "\n",
              "        async function convertToInteractive(key) {\n",
              "          const element = document.querySelector('#df-750cb42c-f644-4b65-82f8-f8e6835914fa');\n",
              "          const dataTable =\n",
              "            await google.colab.kernel.invokeFunction('convertToInteractive',\n",
              "                                                     [key], {});\n",
              "          if (!dataTable) return;\n",
              "\n",
              "          const docLinkHtml = 'Like what you see? Visit the ' +\n",
              "            '<a target=\"_blank\" href=https://colab.research.google.com/notebooks/data_table.ipynb>data table notebook</a>'\n",
              "            + ' to learn more about interactive tables.';\n",
              "          element.innerHTML = '';\n",
              "          dataTable['output_type'] = 'display_data';\n",
              "          await google.colab.output.renderOutput(dataTable, element);\n",
              "          const docLink = document.createElement('div');\n",
              "          docLink.innerHTML = docLinkHtml;\n",
              "          element.appendChild(docLink);\n",
              "        }\n",
              "      </script>\n",
              "    </div>\n",
              "  </div>\n",
              "  "
            ]
          },
          "metadata": {},
          "execution_count": 214
        }
      ]
    },
    {
      "cell_type": "code",
      "source": [
        "uio = uio[(uio['diff_datetime_minutes'] >= 0)]\n",
        "uio.shape"
      ],
      "metadata": {
        "colab": {
          "base_uri": "https://localhost:8080/"
        },
        "id": "ihyGMWO_XfLp",
        "outputId": "066100c9-38d4-4d27-c366-a434427dff62"
      },
      "execution_count": 215,
      "outputs": [
        {
          "output_type": "execute_result",
          "data": {
            "text/plain": [
              "(72836, 17)"
            ]
          },
          "metadata": {},
          "execution_count": 215
        }
      ]
    },
    {
      "cell_type": "markdown",
      "source": [
        "# **Data Trip Duration VS Datetime**"
      ],
      "metadata": {
        "id": "btxUJOi-UFT6"
      }
    },
    {
      "cell_type": "code",
      "source": [
        "uio['pickup_month'] = uio['pickup_datetime'].dt.month\n",
        "uio['pickup_year'] = uio['pickup_datetime'].dt.year\n",
        "uio['pickup_day'] = uio['pickup_datetime'].dt.day\n",
        "uio['pickup_hour'] = uio['pickup_datetime'].dt.hour\n",
        "uio['pickup_minute'] = uio['pickup_datetime'].dt.minute\n",
        "uio['pickup_day_of_week'] = uio['pickup_datetime'].dt.dayofweek"
      ],
      "metadata": {
        "id": "YVUJ0--CULQP"
      },
      "execution_count": 216,
      "outputs": []
    },
    {
      "cell_type": "code",
      "source": [
        "f, axes = plt.subplots(3,2,figsize=(17,10), sharey=True)\n",
        "\n",
        "dat = uio.groupby(['pickup_hour'])['id'].count()\n",
        "fig1 = sns.barplot(dat.index, dat.values, ax=axes[0,0])\n",
        "#fig1.set_ylim = 3000\n",
        "\n",
        "dat = uio.groupby(['pickup_hour'])['trip_duration'].mean()\n",
        "fig2 = sns.barplot(dat.index, dat.values, ax=axes[0,1])\n",
        "#fig2.set_ylim = 3000\n",
        "\n",
        "dat = uio.groupby(['pickup_day_of_week'])['id'].count()\n",
        "fig1 = sns.barplot(dat.index, dat.values, ax=axes[1,0])\n",
        "#fig1.set_ylim = 3000\n",
        "\n",
        "dat = uio.groupby(['pickup_day_of_week'])['trip_duration'].mean()\n",
        "fig2 = sns.barplot(dat.index, dat.values, ax=axes[1,1])\n",
        "\n",
        "dat = uio.groupby(['pickup_month'])['id'].count()\n",
        "fig1 = sns.barplot(dat.index, dat.values, ax=axes[2,0])\n",
        "#fig1.set_ylim = 3000\n",
        "\n",
        "dat = uio.groupby(['pickup_month'])['trip_duration'].mean()\n",
        "fig2 = sns.barplot(dat.index, dat.values, ax=axes[2,1])"
      ],
      "metadata": {
        "colab": {
          "base_uri": "https://localhost:8080/",
          "height": 0
        },
        "id": "XqqNBHxMWKoG",
        "outputId": "f51d8cf2-ff1a-4259-b8ac-e6266403941c"
      },
      "execution_count": 217,
      "outputs": [
        {
          "output_type": "stream",
          "name": "stderr",
          "text": [
            "/usr/local/lib/python3.7/dist-packages/seaborn/_decorators.py:43: FutureWarning: Pass the following variables as keyword args: x, y. From version 0.12, the only valid positional argument will be `data`, and passing other arguments without an explicit keyword will result in an error or misinterpretation.\n",
            "  FutureWarning\n",
            "/usr/local/lib/python3.7/dist-packages/seaborn/_decorators.py:43: FutureWarning: Pass the following variables as keyword args: x, y. From version 0.12, the only valid positional argument will be `data`, and passing other arguments without an explicit keyword will result in an error or misinterpretation.\n",
            "  FutureWarning\n",
            "/usr/local/lib/python3.7/dist-packages/seaborn/_decorators.py:43: FutureWarning: Pass the following variables as keyword args: x, y. From version 0.12, the only valid positional argument will be `data`, and passing other arguments without an explicit keyword will result in an error or misinterpretation.\n",
            "  FutureWarning\n",
            "/usr/local/lib/python3.7/dist-packages/seaborn/_decorators.py:43: FutureWarning: Pass the following variables as keyword args: x, y. From version 0.12, the only valid positional argument will be `data`, and passing other arguments without an explicit keyword will result in an error or misinterpretation.\n",
            "  FutureWarning\n",
            "/usr/local/lib/python3.7/dist-packages/seaborn/_decorators.py:43: FutureWarning: Pass the following variables as keyword args: x, y. From version 0.12, the only valid positional argument will be `data`, and passing other arguments without an explicit keyword will result in an error or misinterpretation.\n",
            "  FutureWarning\n",
            "/usr/local/lib/python3.7/dist-packages/seaborn/_decorators.py:43: FutureWarning: Pass the following variables as keyword args: x, y. From version 0.12, the only valid positional argument will be `data`, and passing other arguments without an explicit keyword will result in an error or misinterpretation.\n",
            "  FutureWarning\n"
          ]
        },
        {
          "output_type": "display_data",
          "data": {
            "text/plain": [
              "<Figure size 1224x720 with 6 Axes>"
            ],
            "image/png": "[encoded data removed]"
          },
          "metadata": {}
        }
      ]
    },
    {
      "cell_type": "markdown",
      "source": [
        "# **Clustering**"
      ],
      "metadata": {
        "id": "S99lvM0bhslY"
      }
    },
    {
      "cell_type": "code",
      "source": [
        "num_clusters = 3"
      ],
      "metadata": {
        "id": "7AH6MDXRk0d_"
      },
      "execution_count": 218,
      "outputs": []
    },
    {
      "cell_type": "markdown",
      "source": [
        "Pickup"
      ],
      "metadata": {
        "id": "cooTOG22igOJ"
      }
    },
    {
      "cell_type": "code",
      "source": [
        "K_clusters = range(1,10)\n",
        "kmeans = [KMeans(n_clusters=i) for i in K_clusters]\n",
        "Y_axis = uio[['pickup_latitude']]\n",
        "X_axis = uio[['pickup_longitude']]\n",
        "score = [kmeans[i].fit(Y_axis).score(Y_axis) for i in range(len(kmeans))]\n",
        "# Visualize\n",
        "plt.plot(K_clusters, score)\n",
        "plt.xlabel('Number of Clusters')\n",
        "plt.ylabel('Score')\n",
        "plt.title('Elbow Curve')\n",
        "plt.show()"
      ],
      "metadata": {
        "colab": {
          "base_uri": "https://localhost:8080/",
          "height": 0
        },
        "id": "W4wU3u2whrvZ",
        "outputId": "15393528-9ad1-4e39-8f00-014635ec1441"
      },
      "execution_count": 219,
      "outputs": [
        {
          "output_type": "display_data",
          "data": {
            "text/plain": [
              "<Figure size 432x288 with 1 Axes>"
            ],
            "image/png": "[encoded data removed]"
          },
          "metadata": {}
        }
      ]
    },
    {
      "cell_type": "code",
      "source": [
        "kmeans = KMeans(n_clusters = num_clusters, init ='k-means++', max_iter=100, n_init=1, verbose=0, random_state=3425)\n",
        "kmeans.fit(uio[['pickup_latitude', 'pickup_longitude']]) # Compute k-means clustering.\n",
        "uio['cluster_pickup'] = kmeans.fit_predict(uio[['pickup_latitude', 'pickup_longitude']])\n",
        "centers = kmeans.cluster_centers_ # Coordinates of cluster centers.\n",
        "labels = kmeans.predict(uio[['pickup_latitude', 'pickup_longitude']]) # Labels of each point\n",
        "uio.head(10)"
      ],
      "metadata": {
        "colab": {
          "base_uri": "https://localhost:8080/",
          "height": 0
        },
        "id": "UqWTg72jh54h",
        "outputId": "a4150527-f428-4043-9137-6374a7563ab5"
      },
      "execution_count": 220,
      "outputs": [
        {
          "output_type": "execute_result",
          "data": {
            "text/plain": [
              "    id              vendor_id     pickup_datetime    dropoff_datetime  \\\n",
              "1    2  Guadalajara Easy Taxi 2016-09-17 09:59:54 2016-09-17 10:06:23   \n",
              "2    3              Monterrey 2016-09-17 10:06:52 2016-09-17 10:09:40   \n",
              "3    4              Monterrey 2016-09-17 09:45:56 2016-09-17 10:13:34   \n",
              "4    5              Monterrey 2016-09-17 10:12:00 2016-09-17 10:16:31   \n",
              "5    6              Monterrey 2016-09-17 10:18:20 2016-09-17 10:18:41   \n",
              "8    9              Monterrey 2016-09-17 09:48:30 2016-09-17 10:33:27   \n",
              "9   10  Guadalajara Easy Taxi 2016-09-17 10:28:23 2016-09-17 10:35:03   \n",
              "10  11              Monterrey 2016-09-17 10:27:41 2016-09-17 10:36:13   \n",
              "11  12              Monterrey 2016-09-17 10:33:15 2016-09-17 10:42:40   \n",
              "12  13              Monterrey 2016-09-17 10:24:21 2016-09-17 10:50:06   \n",
              "\n",
              "    pickup_longitude  pickup_latitude  dropoff_longitude  dropoff_latitude  \\\n",
              "1           0.327804         0.391950        -103.366600         20.686971   \n",
              "2           0.140910         0.563280        -100.165737         25.619387   \n",
              "3           0.207565         0.590416        -100.491721         25.676294   \n",
              "4           0.128881         0.580419        -100.104166         25.643862   \n",
              "5           0.141188         0.564268        -100.186171         25.643129   \n",
              "8           0.223600         0.626796        -100.495666         25.687190   \n",
              "9           0.327517         0.390198        -103.359451         20.669558   \n",
              "10          0.129025         0.579781        -100.081929         25.643473   \n",
              "11          0.215668         0.616358        -100.413199         25.686818   \n",
              "12          0.138116         0.635374        -100.094773         25.701190   \n",
              "\n",
              "   store_and_fwd_flag  trip_duration  ...  log_trip_duration  \\\n",
              "1                   N            389  ...           5.966147   \n",
              "2                   N            168  ...           5.129899   \n",
              "3                   N           1659  ...           7.414573   \n",
              "4                   N            272  ...           5.609472   \n",
              "5                   N             22  ...           3.135494   \n",
              "8                   N           2698  ...           7.900637   \n",
              "9                   N            401  ...           5.996452   \n",
              "10                  N            512  ...           6.240276   \n",
              "11                  N            566  ...           6.340359   \n",
              "12                  N           1546  ...           7.344073   \n",
              "\n",
              "    trip_duration_in_minutes  diff_datetime_minutes  pickup_month  \\\n",
              "1                   6.483333               6.483333             9   \n",
              "2                   2.800000               2.800000             9   \n",
              "3                  27.650000              27.633333             9   \n",
              "4                   4.533333               4.516667             9   \n",
              "5                   0.366667               0.350000             9   \n",
              "8                  44.966667              44.950000             9   \n",
              "9                   6.683333               6.666667             9   \n",
              "10                  8.533333               8.533333             9   \n",
              "11                  9.433333               9.416667             9   \n",
              "12                 25.766667              25.750000             9   \n",
              "\n",
              "    pickup_year  pickup_day  pickup_hour  pickup_minute  pickup_day_of_week  \\\n",
              "1          2016          17            9             59                   5   \n",
              "2          2016          17           10              6                   5   \n",
              "3          2016          17            9             45                   5   \n",
              "4          2016          17           10             12                   5   \n",
              "5          2016          17           10             18                   5   \n",
              "8          2016          17            9             48                   5   \n",
              "9          2016          17           10             28                   5   \n",
              "10         2016          17           10             27                   5   \n",
              "11         2016          17           10             33                   5   \n",
              "12         2016          17           10             24                   5   \n",
              "\n",
              "    cluster_pickup  \n",
              "1                0  \n",
              "2                0  \n",
              "3                0  \n",
              "4                0  \n",
              "5                0  \n",
              "8                0  \n",
              "9                0  \n",
              "10               0  \n",
              "11               0  \n",
              "12               0  \n",
              "\n",
              "[10 rows x 24 columns]"
            ],
            "text/html": [
              "\n",
              "  <div id=\"df-9ade5045-4b78-4811-b044-e979d4c8a4fe\">\n",
              "    <div class=\"colab-df-container\">\n",
              "      <div>\n",
              "<style scoped>\n",
              "    .dataframe tbody tr th:only-of-type {\n",
              "        vertical-align: middle;\n",
              "    }\n",
              "\n",
              "    .dataframe tbody tr th {\n",
              "        vertical-align: top;\n",
              "    }\n",
              "\n",
              "    .dataframe thead th {\n",
              "        text-align: right;\n",
              "    }\n",
              "</style>\n",
              "<table border=\"1\" class=\"dataframe\">\n",
              "  <thead>\n",
              "    <tr style=\"text-align: right;\">\n",
              "      <th></th>\n",
              "      <th>id</th>\n",
              "      <th>vendor_id</th>\n",
              "      <th>pickup_datetime</th>\n",
              "      <th>dropoff_datetime</th>\n",
              "      <th>pickup_longitude</th>\n",
              "      <th>pickup_latitude</th>\n",
              "      <th>dropoff_longitude</th>\n",
              "      <th>dropoff_latitude</th>\n",
              "      <th>store_and_fwd_flag</th>\n",
              "      <th>trip_duration</th>\n",
              "      <th>...</th>\n",
              "      <th>log_trip_duration</th>\n",
              "      <th>trip_duration_in_minutes</th>\n",
              "      <th>diff_datetime_minutes</th>\n",
              "      <th>pickup_month</th>\n",
              "      <th>pickup_year</th>\n",
              "      <th>pickup_day</th>\n",
              "      <th>pickup_hour</th>\n",
              "      <th>pickup_minute</th>\n",
              "      <th>pickup_day_of_week</th>\n",
              "      <th>cluster_pickup</th>\n",
              "    </tr>\n",
              "  </thead>\n",
              "  <tbody>\n",
              "    <tr>\n",
              "      <th>1</th>\n",
              "      <td>2</td>\n",
              "      <td>Guadalajara Easy Taxi</td>\n",
              "      <td>2016-09-17 09:59:54</td>\n",
              "      <td>2016-09-17 10:06:23</td>\n",
              "      <td>0.327804</td>\n",
              "      <td>0.391950</td>\n",
              "      <td>-103.366600</td>\n",
              "      <td>20.686971</td>\n",
              "      <td>N</td>\n",
              "      <td>389</td>\n",
              "      <td>...</td>\n",
              "      <td>5.966147</td>\n",
              "      <td>6.483333</td>\n",
              "      <td>6.483333</td>\n",
              "      <td>9</td>\n",
              "      <td>2016</td>\n",
              "      <td>17</td>\n",
              "      <td>9</td>\n",
              "      <td>59</td>\n",
              "      <td>5</td>\n",
              "      <td>0</td>\n",
              "    </tr>\n",
              "    <tr>\n",
              "      <th>2</th>\n",
              "      <td>3</td>\n",
              "      <td>Monterrey</td>\n",
              "      <td>2016-09-17 10:06:52</td>\n",
              "      <td>2016-09-17 10:09:40</td>\n",
              "      <td>0.140910</td>\n",
              "      <td>0.563280</td>\n",
              "      <td>-100.165737</td>\n",
              "      <td>25.619387</td>\n",
              "      <td>N</td>\n",
              "      <td>168</td>\n",
              "      <td>...</td>\n",
              "      <td>5.129899</td>\n",
              "      <td>2.800000</td>\n",
              "      <td>2.800000</td>\n",
              "      <td>9</td>\n",
              "      <td>2016</td>\n",
              "      <td>17</td>\n",
              "      <td>10</td>\n",
              "      <td>6</td>\n",
              "      <td>5</td>\n",
              "      <td>0</td>\n",
              "    </tr>\n",
              "    <tr>\n",
              "      <th>3</th>\n",
              "      <td>4</td>\n",
              "      <td>Monterrey</td>\n",
              "      <td>2016-09-17 09:45:56</td>\n",
              "      <td>2016-09-17 10:13:34</td>\n",
              "      <td>0.207565</td>\n",
              "      <td>0.590416</td>\n",
              "      <td>-100.491721</td>\n",
              "      <td>25.676294</td>\n",
              "      <td>N</td>\n",
              "      <td>1659</td>\n",
              "      <td>...</td>\n",
              "      <td>7.414573</td>\n",
              "      <td>27.650000</td>\n",
              "      <td>27.633333</td>\n",
              "      <td>9</td>\n",
              "      <td>2016</td>\n",
              "      <td>17</td>\n",
              "      <td>9</td>\n",
              "      <td>45</td>\n",
              "      <td>5</td>\n",
              "      <td>0</td>\n",
              "    </tr>\n",
              "    <tr>\n",
              "      <th>4</th>\n",
              "      <td>5</td>\n",
              "      <td>Monterrey</td>\n",
              "      <td>2016-09-17 10:12:00</td>\n",
              "      <td>2016-09-17 10:16:31</td>\n",
              "      <td>0.128881</td>\n",
              "      <td>0.580419</td>\n",
              "      <td>-100.104166</td>\n",
              "      <td>25.643862</td>\n",
              "      <td>N</td>\n",
              "      <td>272</td>\n",
              "      <td>...</td>\n",
              "      <td>5.609472</td>\n",
              "      <td>4.533333</td>\n",
              "      <td>4.516667</td>\n",
              "      <td>9</td>\n",
              "      <td>2016</td>\n",
              "      <td>17</td>\n",
              "      <td>10</td>\n",
              "      <td>12</td>\n",
              "      <td>5</td>\n",
              "      <td>0</td>\n",
              "    </tr>\n",
              "    <tr>\n",
              "      <th>5</th>\n",
              "      <td>6</td>\n",
              "      <td>Monterrey</td>\n",
              "      <td>2016-09-17 10:18:20</td>\n",
              "      <td>2016-09-17 10:18:41</td>\n",
              "      <td>0.141188</td>\n",
              "      <td>0.564268</td>\n",
              "      <td>-100.186171</td>\n",
              "      <td>25.643129</td>\n",
              "      <td>N</td>\n",
              "      <td>22</td>\n",
              "      <td>...</td>\n",
              "      <td>3.135494</td>\n",
              "      <td>0.366667</td>\n",
              "      <td>0.350000</td>\n",
              "      <td>9</td>\n",
              "      <td>2016</td>\n",
              "      <td>17</td>\n",
              "      <td>10</td>\n",
              "      <td>18</td>\n",
              "      <td>5</td>\n",
              "      <td>0</td>\n",
              "    </tr>\n",
              "    <tr>\n",
              "      <th>8</th>\n",
              "      <td>9</td>\n",
              "      <td>Monterrey</td>\n",
              "      <td>2016-09-17 09:48:30</td>\n",
              "      <td>2016-09-17 10:33:27</td>\n",
              "      <td>0.223600</td>\n",
              "      <td>0.626796</td>\n",
              "      <td>-100.495666</td>\n",
              "      <td>25.687190</td>\n",
              "      <td>N</td>\n",
              "      <td>2698</td>\n",
              "      <td>...</td>\n",
              "      <td>7.900637</td>\n",
              "      <td>44.966667</td>\n",
              "      <td>44.950000</td>\n",
              "      <td>9</td>\n",
              "      <td>2016</td>\n",
              "      <td>17</td>\n",
              "      <td>9</td>\n",
              "      <td>48</td>\n",
              "      <td>5</td>\n",
              "      <td>0</td>\n",
              "    </tr>\n",
              "    <tr>\n",
              "      <th>9</th>\n",
              "      <td>10</td>\n",
              "      <td>Guadalajara Easy Taxi</td>\n",
              "      <td>2016-09-17 10:28:23</td>\n",
              "      <td>2016-09-17 10:35:03</td>\n",
              "      <td>0.327517</td>\n",
              "      <td>0.390198</td>\n",
              "      <td>-103.359451</td>\n",
              "      <td>20.669558</td>\n",
              "      <td>N</td>\n",
              "      <td>401</td>\n",
              "      <td>...</td>\n",
              "      <td>5.996452</td>\n",
              "      <td>6.683333</td>\n",
              "      <td>6.666667</td>\n",
              "      <td>9</td>\n",
              "      <td>2016</td>\n",
              "      <td>17</td>\n",
              "      <td>10</td>\n",
              "      <td>28</td>\n",
              "      <td>5</td>\n",
              "      <td>0</td>\n",
              "    </tr>\n",
              "    <tr>\n",
              "      <th>10</th>\n",
              "      <td>11</td>\n",
              "      <td>Monterrey</td>\n",
              "      <td>2016-09-17 10:27:41</td>\n",
              "      <td>2016-09-17 10:36:13</td>\n",
              "      <td>0.129025</td>\n",
              "      <td>0.579781</td>\n",
              "      <td>-100.081929</td>\n",
              "      <td>25.643473</td>\n",
              "      <td>N</td>\n",
              "      <td>512</td>\n",
              "      <td>...</td>\n",
              "      <td>6.240276</td>\n",
              "      <td>8.533333</td>\n",
              "      <td>8.533333</td>\n",
              "      <td>9</td>\n",
              "      <td>2016</td>\n",
              "      <td>17</td>\n",
              "      <td>10</td>\n",
              "      <td>27</td>\n",
              "      <td>5</td>\n",
              "      <td>0</td>\n",
              "    </tr>\n",
              "    <tr>\n",
              "      <th>11</th>\n",
              "      <td>12</td>\n",
              "      <td>Monterrey</td>\n",
              "      <td>2016-09-17 10:33:15</td>\n",
              "      <td>2016-09-17 10:42:40</td>\n",
              "      <td>0.215668</td>\n",
              "      <td>0.616358</td>\n",
              "      <td>-100.413199</td>\n",
              "      <td>25.686818</td>\n",
              "      <td>N</td>\n",
              "      <td>566</td>\n",
              "      <td>...</td>\n",
              "      <td>6.340359</td>\n",
              "      <td>9.433333</td>\n",
              "      <td>9.416667</td>\n",
              "      <td>9</td>\n",
              "      <td>2016</td>\n",
              "      <td>17</td>\n",
              "      <td>10</td>\n",
              "      <td>33</td>\n",
              "      <td>5</td>\n",
              "      <td>0</td>\n",
              "    </tr>\n",
              "    <tr>\n",
              "      <th>12</th>\n",
              "      <td>13</td>\n",
              "      <td>Monterrey</td>\n",
              "      <td>2016-09-17 10:24:21</td>\n",
              "      <td>2016-09-17 10:50:06</td>\n",
              "      <td>0.138116</td>\n",
              "      <td>0.635374</td>\n",
              "      <td>-100.094773</td>\n",
              "      <td>25.701190</td>\n",
              "      <td>N</td>\n",
              "      <td>1546</td>\n",
              "      <td>...</td>\n",
              "      <td>7.344073</td>\n",
              "      <td>25.766667</td>\n",
              "      <td>25.750000</td>\n",
              "      <td>9</td>\n",
              "      <td>2016</td>\n",
              "      <td>17</td>\n",
              "      <td>10</td>\n",
              "      <td>24</td>\n",
              "      <td>5</td>\n",
              "      <td>0</td>\n",
              "    </tr>\n",
              "  </tbody>\n",
              "</table>\n",
              "<p>10 rows × 24 columns</p>\n",
              "</div>\n",
              "      <button class=\"colab-df-convert\" onclick=\"convertToInteractive('df-9ade5045-4b78-4811-b044-e979d4c8a4fe')\"\n",
              "              title=\"Convert this dataframe to an interactive table.\"\n",
              "              style=\"display:none;\">\n",
              "        \n",
              "  <svg xmlns=\"http://www.w3.org/2000/svg\" height=\"24px\"viewBox=\"0 0 24 24\"\n",
              "       width=\"24px\">\n",
              "    <path d=\"M0 0h24v24H0V0z\" fill=\"none\"/>\n",
              "    <path d=\"M18.56 5.44l.94 2.06.94-2.06 2.06-.94-2.06-.94-.94-2.06-.94 2.06-2.06.94zm-11 1L8.5 8.5l.94-2.06 2.06-.94-2.06-.94L8.5 2.5l-.94 2.06-2.06.94zm10 10l.94 2.06.94-2.06 2.06-.94-2.06-.94-.94-2.06-.94 2.06-2.06.94z\"/><path d=\"M17.41 7.96l-1.37-1.37c-.4-.4-.92-.59-1.43-.59-.52 0-1.04.2-1.43.59L10.3 9.45l-7.72 7.72c-.78.78-.78 2.05 0 2.83L4 21.41c.39.39.9.59 1.41.59.51 0 1.02-.2 1.41-.59l7.78-7.78 2.81-2.81c.8-.78.8-2.07 0-2.86zM5.41 20L4 18.59l7.72-7.72 1.47 1.35L5.41 20z\"/>\n",
              "  </svg>\n",
              "      </button>\n",
              "      \n",
              "  <style>\n",
              "    .colab-df-container {\n",
              "      display:flex;\n",
              "      flex-wrap:wrap;\n",
              "      gap: 12px;\n",
              "    }\n",
              "\n",
              "    .colab-df-convert {\n",
              "      background-color: #E8F0FE;\n",
              "      border: none;\n",
              "      border-radius: 50%;\n",
              "      cursor: pointer;\n",
              "      display: none;\n",
              "      fill: #1967D2;\n",
              "      height: 32px;\n",
              "      padding: 0 0 0 0;\n",
              "      width: 32px;\n",
              "    }\n",
              "\n",
              "    .colab-df-convert:hover {\n",
              "      background-color: #E2EBFA;\n",
              "      box-shadow: 0px 1px 2px rgba(60, 64, 67, 0.3), 0px 1px 3px 1px rgba(60, 64, 67, 0.15);\n",
              "      fill: #174EA6;\n",
              "    }\n",
              "\n",
              "    [theme=dark] .colab-df-convert {\n",
              "      background-color: #3B4455;\n",
              "      fill: #D2E3FC;\n",
              "    }\n",
              "\n",
              "    [theme=dark] .colab-df-convert:hover {\n",
              "      background-color: #434B5C;\n",
              "      box-shadow: 0px 1px 3px 1px rgba(0, 0, 0, 0.15);\n",
              "      filter: drop-shadow(0px 1px 2px rgba(0, 0, 0, 0.3));\n",
              "      fill: #FFFFFF;\n",
              "    }\n",
              "  </style>\n",
              "\n",
              "      <script>\n",
              "        const buttonEl =\n",
              "          document.querySelector('#df-9ade5045-4b78-4811-b044-e979d4c8a4fe button.colab-df-convert');\n",
              "        buttonEl.style.display =\n",
              "          google.colab.kernel.accessAllowed ? 'block' : 'none';\n",
              "\n",
              "        async function convertToInteractive(key) {\n",
              "          const element = document.querySelector('#df-9ade5045-4b78-4811-b044-e979d4c8a4fe');\n",
              "          const dataTable =\n",
              "            await google.colab.kernel.invokeFunction('convertToInteractive',\n",
              "                                                     [key], {});\n",
              "          if (!dataTable) return;\n",
              "\n",
              "          const docLinkHtml = 'Like what you see? Visit the ' +\n",
              "            '<a target=\"_blank\" href=https://colab.research.google.com/notebooks/data_table.ipynb>data table notebook</a>'\n",
              "            + ' to learn more about interactive tables.';\n",
              "          element.innerHTML = '';\n",
              "          dataTable['output_type'] = 'display_data';\n",
              "          await google.colab.output.renderOutput(dataTable, element);\n",
              "          const docLink = document.createElement('div');\n",
              "          docLink.innerHTML = docLinkHtml;\n",
              "          element.appendChild(docLink);\n",
              "        }\n",
              "      </script>\n",
              "    </div>\n",
              "  </div>\n",
              "  "
            ]
          },
          "metadata": {},
          "execution_count": 220
        }
      ]
    },
    {
      "cell_type": "code",
      "source": [
        "uio.plot.scatter(x = 'pickup_latitude', y = 'pickup_longitude', c=labels, s=50, cmap='viridis')\n",
        "plt.scatter(centers[:, 0], centers[:, 1], c='black', s=200, alpha=0.5)"
      ],
      "metadata": {
        "colab": {
          "base_uri": "https://localhost:8080/",
          "height": 0
        },
        "id": "OVI7453tiAxI",
        "outputId": "c2f2514e-a900-4999-d587-f90f615a66fd"
      },
      "execution_count": 221,
      "outputs": [
        {
          "output_type": "execute_result",
          "data": {
            "text/plain": [
              "<matplotlib.collections.PathCollection at 0x7ff5789ddf50>"
            ]
          },
          "metadata": {},
          "execution_count": 221
        },
        {
          "output_type": "display_data",
          "data": {
            "text/plain": [
              "<Figure size 432x288 with 2 Axes>"
            ],
            "image/png": "[encoded data removed]"
          },
          "metadata": {}
        }
      ]
    },
    {
      "cell_type": "code",
      "source": [
        "x = uio.groupby(['cluster_pickup'])['id'].count()\n",
        "sns.barplot(x.index, x.values)\n",
        "plt.show()"
      ],
      "metadata": {
        "colab": {
          "base_uri": "https://localhost:8080/",
          "height": 0
        },
        "id": "RPvTOrtViD5a",
        "outputId": "e300de2d-ab47-4d28-89e2-289841434696"
      },
      "execution_count": 222,
      "outputs": [
        {
          "output_type": "stream",
          "name": "stderr",
          "text": [
            "/usr/local/lib/python3.7/dist-packages/seaborn/_decorators.py:43: FutureWarning: Pass the following variables as keyword args: x, y. From version 0.12, the only valid positional argument will be `data`, and passing other arguments without an explicit keyword will result in an error or misinterpretation.\n",
            "  FutureWarning\n"
          ]
        },
        {
          "output_type": "display_data",
          "data": {
            "text/plain": [
              "<Figure size 432x288 with 1 Axes>"
            ],
            "image/png": "[encoded data removed]"
          },
          "metadata": {}
        }
      ]
    },
    {
      "cell_type": "code",
      "source": [
        "x = uio.groupby(['cluster_pickup'])['trip_duration_in_minutes'].mean()\n",
        "sns.barplot(x.index, x.values)\n",
        "plt.show()"
      ],
      "metadata": {
        "colab": {
          "base_uri": "https://localhost:8080/",
          "height": 0
        },
        "id": "Vw1zLWejiQD2",
        "outputId": "61099072-da1e-4d0e-be2c-e1202765194d"
      },
      "execution_count": 223,
      "outputs": [
        {
          "output_type": "stream",
          "name": "stderr",
          "text": [
            "/usr/local/lib/python3.7/dist-packages/seaborn/_decorators.py:43: FutureWarning: Pass the following variables as keyword args: x, y. From version 0.12, the only valid positional argument will be `data`, and passing other arguments without an explicit keyword will result in an error or misinterpretation.\n",
            "  FutureWarning\n"
          ]
        },
        {
          "output_type": "display_data",
          "data": {
            "text/plain": [
              "<Figure size 432x288 with 1 Axes>"
            ],
            "image/png": "[encoded data removed]"
          },
          "metadata": {}
        }
      ]
    },
    {
      "cell_type": "markdown",
      "source": [
        "Dropoff"
      ],
      "metadata": {
        "id": "_WacRJeaii76"
      }
    },
    {
      "cell_type": "code",
      "source": [
        "K_clusters = range(1,10)\n",
        "kmeans = [KMeans(n_clusters=i) for i in K_clusters]\n",
        "Y_axis = uio[['dropoff_latitude']]\n",
        "X_axis = uio[['dropoff_longitude']]\n",
        "score = [kmeans[i].fit(Y_axis).score(Y_axis) for i in range(len(kmeans))]\n",
        "# Visualize\n",
        "plt.plot(K_clusters, score)\n",
        "plt.xlabel('Number of Clusters')\n",
        "plt.ylabel('Score')\n",
        "plt.title('Elbow Curve')\n",
        "plt.show()"
      ],
      "metadata": {
        "colab": {
          "base_uri": "https://localhost:8080/",
          "height": 0
        },
        "id": "ydpVI-xrilaK",
        "outputId": "970182d4-e3a5-4675-d924-e09008c4753f"
      },
      "execution_count": 224,
      "outputs": [
        {
          "output_type": "display_data",
          "data": {
            "text/plain": [
              "<Figure size 432x288 with 1 Axes>"
            ],
            "image/png": "[encoded data removed]"
          },
          "metadata": {}
        }
      ]
    },
    {
      "cell_type": "code",
      "source": [
        "kmeans = KMeans(n_clusters = num_clusters, init ='k-means++', max_iter=100, n_init=1, verbose=0, random_state=3425)\n",
        "kmeans.fit(uio[['dropoff_latitude', 'dropoff_longitude']]) # Compute k-means clustering.\n",
        "uio['cluster_dropoff'] = kmeans.fit_predict(uio[['dropoff_latitude', 'dropoff_longitude']])\n",
        "centers = kmeans.cluster_centers_ # Coordinates of cluster centers.\n",
        "labels = kmeans.predict(uio[['dropoff_latitude', 'dropoff_longitude']]) # Labels of each point\n",
        "uio.head(10)"
      ],
      "metadata": {
        "colab": {
          "base_uri": "https://localhost:8080/",
          "height": 0
        },
        "id": "XRqbSD9xkNWt",
        "outputId": "a46359fb-6c6d-4f9d-b435-4c61ab22cde7"
      },
      "execution_count": 225,
      "outputs": [
        {
          "output_type": "execute_result",
          "data": {
            "text/plain": [
              "    id              vendor_id     pickup_datetime    dropoff_datetime  \\\n",
              "1    2  Guadalajara Easy Taxi 2016-09-17 09:59:54 2016-09-17 10:06:23   \n",
              "2    3              Monterrey 2016-09-17 10:06:52 2016-09-17 10:09:40   \n",
              "3    4              Monterrey 2016-09-17 09:45:56 2016-09-17 10:13:34   \n",
              "4    5              Monterrey 2016-09-17 10:12:00 2016-09-17 10:16:31   \n",
              "5    6              Monterrey 2016-09-17 10:18:20 2016-09-17 10:18:41   \n",
              "8    9              Monterrey 2016-09-17 09:48:30 2016-09-17 10:33:27   \n",
              "9   10  Guadalajara Easy Taxi 2016-09-17 10:28:23 2016-09-17 10:35:03   \n",
              "10  11              Monterrey 2016-09-17 10:27:41 2016-09-17 10:36:13   \n",
              "11  12              Monterrey 2016-09-17 10:33:15 2016-09-17 10:42:40   \n",
              "12  13              Monterrey 2016-09-17 10:24:21 2016-09-17 10:50:06   \n",
              "\n",
              "    pickup_longitude  pickup_latitude  dropoff_longitude  dropoff_latitude  \\\n",
              "1           0.327804         0.391950        -103.366600         20.686971   \n",
              "2           0.140910         0.563280        -100.165737         25.619387   \n",
              "3           0.207565         0.590416        -100.491721         25.676294   \n",
              "4           0.128881         0.580419        -100.104166         25.643862   \n",
              "5           0.141188         0.564268        -100.186171         25.643129   \n",
              "8           0.223600         0.626796        -100.495666         25.687190   \n",
              "9           0.327517         0.390198        -103.359451         20.669558   \n",
              "10          0.129025         0.579781        -100.081929         25.643473   \n",
              "11          0.215668         0.616358        -100.413199         25.686818   \n",
              "12          0.138116         0.635374        -100.094773         25.701190   \n",
              "\n",
              "   store_and_fwd_flag  trip_duration  ...  trip_duration_in_minutes  \\\n",
              "1                   N            389  ...                  6.483333   \n",
              "2                   N            168  ...                  2.800000   \n",
              "3                   N           1659  ...                 27.650000   \n",
              "4                   N            272  ...                  4.533333   \n",
              "5                   N             22  ...                  0.366667   \n",
              "8                   N           2698  ...                 44.966667   \n",
              "9                   N            401  ...                  6.683333   \n",
              "10                  N            512  ...                  8.533333   \n",
              "11                  N            566  ...                  9.433333   \n",
              "12                  N           1546  ...                 25.766667   \n",
              "\n",
              "    diff_datetime_minutes  pickup_month  pickup_year  pickup_day  pickup_hour  \\\n",
              "1                6.483333             9         2016          17            9   \n",
              "2                2.800000             9         2016          17           10   \n",
              "3               27.633333             9         2016          17            9   \n",
              "4                4.516667             9         2016          17           10   \n",
              "5                0.350000             9         2016          17           10   \n",
              "8               44.950000             9         2016          17            9   \n",
              "9                6.666667             9         2016          17           10   \n",
              "10               8.533333             9         2016          17           10   \n",
              "11               9.416667             9         2016          17           10   \n",
              "12              25.750000             9         2016          17           10   \n",
              "\n",
              "    pickup_minute  pickup_day_of_week  cluster_pickup  cluster_dropoff  \n",
              "1              59                   5               0                2  \n",
              "2               6                   5               0                2  \n",
              "3              45                   5               0                2  \n",
              "4              12                   5               0                2  \n",
              "5              18                   5               0                2  \n",
              "8              48                   5               0                2  \n",
              "9              28                   5               0                2  \n",
              "10             27                   5               0                2  \n",
              "11             33                   5               0                2  \n",
              "12             24                   5               0                2  \n",
              "\n",
              "[10 rows x 25 columns]"
            ],
            "text/html": [
              "\n",
              "  <div id=\"df-fb437ab7-ccd4-4999-9aa1-5d8458bdcfc6\">\n",
              "    <div class=\"colab-df-container\">\n",
              "      <div>\n",
              "<style scoped>\n",
              "    .dataframe tbody tr th:only-of-type {\n",
              "        vertical-align: middle;\n",
              "    }\n",
              "\n",
              "    .dataframe tbody tr th {\n",
              "        vertical-align: top;\n",
              "    }\n",
              "\n",
              "    .dataframe thead th {\n",
              "        text-align: right;\n",
              "    }\n",
              "</style>\n",
              "<table border=\"1\" class=\"dataframe\">\n",
              "  <thead>\n",
              "    <tr style=\"text-align: right;\">\n",
              "      <th></th>\n",
              "      <th>id</th>\n",
              "      <th>vendor_id</th>\n",
              "      <th>pickup_datetime</th>\n",
              "      <th>dropoff_datetime</th>\n",
              "      <th>pickup_longitude</th>\n",
              "      <th>pickup_latitude</th>\n",
              "      <th>dropoff_longitude</th>\n",
              "      <th>dropoff_latitude</th>\n",
              "      <th>store_and_fwd_flag</th>\n",
              "      <th>trip_duration</th>\n",
              "      <th>...</th>\n",
              "      <th>trip_duration_in_minutes</th>\n",
              "      <th>diff_datetime_minutes</th>\n",
              "      <th>pickup_month</th>\n",
              "      <th>pickup_year</th>\n",
              "      <th>pickup_day</th>\n",
              "      <th>pickup_hour</th>\n",
              "      <th>pickup_minute</th>\n",
              "      <th>pickup_day_of_week</th>\n",
              "      <th>cluster_pickup</th>\n",
              "      <th>cluster_dropoff</th>\n",
              "    </tr>\n",
              "  </thead>\n",
              "  <tbody>\n",
              "    <tr>\n",
              "      <th>1</th>\n",
              "      <td>2</td>\n",
              "      <td>Guadalajara Easy Taxi</td>\n",
              "      <td>2016-09-17 09:59:54</td>\n",
              "      <td>2016-09-17 10:06:23</td>\n",
              "      <td>0.327804</td>\n",
              "      <td>0.391950</td>\n",
              "      <td>-103.366600</td>\n",
              "      <td>20.686971</td>\n",
              "      <td>N</td>\n",
              "      <td>389</td>\n",
              "      <td>...</td>\n",
              "      <td>6.483333</td>\n",
              "      <td>6.483333</td>\n",
              "      <td>9</td>\n",
              "      <td>2016</td>\n",
              "      <td>17</td>\n",
              "      <td>9</td>\n",
              "      <td>59</td>\n",
              "      <td>5</td>\n",
              "      <td>0</td>\n",
              "      <td>2</td>\n",
              "    </tr>\n",
              "    <tr>\n",
              "      <th>2</th>\n",
              "      <td>3</td>\n",
              "      <td>Monterrey</td>\n",
              "      <td>2016-09-17 10:06:52</td>\n",
              "      <td>2016-09-17 10:09:40</td>\n",
              "      <td>0.140910</td>\n",
              "      <td>0.563280</td>\n",
              "      <td>-100.165737</td>\n",
              "      <td>25.619387</td>\n",
              "      <td>N</td>\n",
              "      <td>168</td>\n",
              "      <td>...</td>\n",
              "      <td>2.800000</td>\n",
              "      <td>2.800000</td>\n",
              "      <td>9</td>\n",
              "      <td>2016</td>\n",
              "      <td>17</td>\n",
              "      <td>10</td>\n",
              "      <td>6</td>\n",
              "      <td>5</td>\n",
              "      <td>0</td>\n",
              "      <td>2</td>\n",
              "    </tr>\n",
              "    <tr>\n",
              "      <th>3</th>\n",
              "      <td>4</td>\n",
              "      <td>Monterrey</td>\n",
              "      <td>2016-09-17 09:45:56</td>\n",
              "      <td>2016-09-17 10:13:34</td>\n",
              "      <td>0.207565</td>\n",
              "      <td>0.590416</td>\n",
              "      <td>-100.491721</td>\n",
              "      <td>25.676294</td>\n",
              "      <td>N</td>\n",
              "      <td>1659</td>\n",
              "      <td>...</td>\n",
              "      <td>27.650000</td>\n",
              "      <td>27.633333</td>\n",
              "      <td>9</td>\n",
              "      <td>2016</td>\n",
              "      <td>17</td>\n",
              "      <td>9</td>\n",
              "      <td>45</td>\n",
              "      <td>5</td>\n",
              "      <td>0</td>\n",
              "      <td>2</td>\n",
              "    </tr>\n",
              "    <tr>\n",
              "      <th>4</th>\n",
              "      <td>5</td>\n",
              "      <td>Monterrey</td>\n",
              "      <td>2016-09-17 10:12:00</td>\n",
              "      <td>2016-09-17 10:16:31</td>\n",
              "      <td>0.128881</td>\n",
              "      <td>0.580419</td>\n",
              "      <td>-100.104166</td>\n",
              "      <td>25.643862</td>\n",
              "      <td>N</td>\n",
              "      <td>272</td>\n",
              "      <td>...</td>\n",
              "      <td>4.533333</td>\n",
              "      <td>4.516667</td>\n",
              "      <td>9</td>\n",
              "      <td>2016</td>\n",
              "      <td>17</td>\n",
              "      <td>10</td>\n",
              "      <td>12</td>\n",
              "      <td>5</td>\n",
              "      <td>0</td>\n",
              "      <td>2</td>\n",
              "    </tr>\n",
              "    <tr>\n",
              "      <th>5</th>\n",
              "      <td>6</td>\n",
              "      <td>Monterrey</td>\n",
              "      <td>2016-09-17 10:18:20</td>\n",
              "      <td>2016-09-17 10:18:41</td>\n",
              "      <td>0.141188</td>\n",
              "      <td>0.564268</td>\n",
              "      <td>-100.186171</td>\n",
              "      <td>25.643129</td>\n",
              "      <td>N</td>\n",
              "      <td>22</td>\n",
              "      <td>...</td>\n",
              "      <td>0.366667</td>\n",
              "      <td>0.350000</td>\n",
              "      <td>9</td>\n",
              "      <td>2016</td>\n",
              "      <td>17</td>\n",
              "      <td>10</td>\n",
              "      <td>18</td>\n",
              "      <td>5</td>\n",
              "      <td>0</td>\n",
              "      <td>2</td>\n",
              "    </tr>\n",
              "    <tr>\n",
              "      <th>8</th>\n",
              "      <td>9</td>\n",
              "      <td>Monterrey</td>\n",
              "      <td>2016-09-17 09:48:30</td>\n",
              "      <td>2016-09-17 10:33:27</td>\n",
              "      <td>0.223600</td>\n",
              "      <td>0.626796</td>\n",
              "      <td>-100.495666</td>\n",
              "      <td>25.687190</td>\n",
              "      <td>N</td>\n",
              "      <td>2698</td>\n",
              "      <td>...</td>\n",
              "      <td>44.966667</td>\n",
              "      <td>44.950000</td>\n",
              "      <td>9</td>\n",
              "      <td>2016</td>\n",
              "      <td>17</td>\n",
              "      <td>9</td>\n",
              "      <td>48</td>\n",
              "      <td>5</td>\n",
              "      <td>0</td>\n",
              "      <td>2</td>\n",
              "    </tr>\n",
              "    <tr>\n",
              "      <th>9</th>\n",
              "      <td>10</td>\n",
              "      <td>Guadalajara Easy Taxi</td>\n",
              "      <td>2016-09-17 10:28:23</td>\n",
              "      <td>2016-09-17 10:35:03</td>\n",
              "      <td>0.327517</td>\n",
              "      <td>0.390198</td>\n",
              "      <td>-103.359451</td>\n",
              "      <td>20.669558</td>\n",
              "      <td>N</td>\n",
              "      <td>401</td>\n",
              "      <td>...</td>\n",
              "      <td>6.683333</td>\n",
              "      <td>6.666667</td>\n",
              "      <td>9</td>\n",
              "      <td>2016</td>\n",
              "      <td>17</td>\n",
              "      <td>10</td>\n",
              "      <td>28</td>\n",
              "      <td>5</td>\n",
              "      <td>0</td>\n",
              "      <td>2</td>\n",
              "    </tr>\n",
              "    <tr>\n",
              "      <th>10</th>\n",
              "      <td>11</td>\n",
              "      <td>Monterrey</td>\n",
              "      <td>2016-09-17 10:27:41</td>\n",
              "      <td>2016-09-17 10:36:13</td>\n",
              "      <td>0.129025</td>\n",
              "      <td>0.579781</td>\n",
              "      <td>-100.081929</td>\n",
              "      <td>25.643473</td>\n",
              "      <td>N</td>\n",
              "      <td>512</td>\n",
              "      <td>...</td>\n",
              "      <td>8.533333</td>\n",
              "      <td>8.533333</td>\n",
              "      <td>9</td>\n",
              "      <td>2016</td>\n",
              "      <td>17</td>\n",
              "      <td>10</td>\n",
              "      <td>27</td>\n",
              "      <td>5</td>\n",
              "      <td>0</td>\n",
              "      <td>2</td>\n",
              "    </tr>\n",
              "    <tr>\n",
              "      <th>11</th>\n",
              "      <td>12</td>\n",
              "      <td>Monterrey</td>\n",
              "      <td>2016-09-17 10:33:15</td>\n",
              "      <td>2016-09-17 10:42:40</td>\n",
              "      <td>0.215668</td>\n",
              "      <td>0.616358</td>\n",
              "      <td>-100.413199</td>\n",
              "      <td>25.686818</td>\n",
              "      <td>N</td>\n",
              "      <td>566</td>\n",
              "      <td>...</td>\n",
              "      <td>9.433333</td>\n",
              "      <td>9.416667</td>\n",
              "      <td>9</td>\n",
              "      <td>2016</td>\n",
              "      <td>17</td>\n",
              "      <td>10</td>\n",
              "      <td>33</td>\n",
              "      <td>5</td>\n",
              "      <td>0</td>\n",
              "      <td>2</td>\n",
              "    </tr>\n",
              "    <tr>\n",
              "      <th>12</th>\n",
              "      <td>13</td>\n",
              "      <td>Monterrey</td>\n",
              "      <td>2016-09-17 10:24:21</td>\n",
              "      <td>2016-09-17 10:50:06</td>\n",
              "      <td>0.138116</td>\n",
              "      <td>0.635374</td>\n",
              "      <td>-100.094773</td>\n",
              "      <td>25.701190</td>\n",
              "      <td>N</td>\n",
              "      <td>1546</td>\n",
              "      <td>...</td>\n",
              "      <td>25.766667</td>\n",
              "      <td>25.750000</td>\n",
              "      <td>9</td>\n",
              "      <td>2016</td>\n",
              "      <td>17</td>\n",
              "      <td>10</td>\n",
              "      <td>24</td>\n",
              "      <td>5</td>\n",
              "      <td>0</td>\n",
              "      <td>2</td>\n",
              "    </tr>\n",
              "  </tbody>\n",
              "</table>\n",
              "<p>10 rows × 25 columns</p>\n",
              "</div>\n",
              "      <button class=\"colab-df-convert\" onclick=\"convertToInteractive('df-fb437ab7-ccd4-4999-9aa1-5d8458bdcfc6')\"\n",
              "              title=\"Convert this dataframe to an interactive table.\"\n",
              "              style=\"display:none;\">\n",
              "        \n",
              "  <svg xmlns=\"http://www.w3.org/2000/svg\" height=\"24px\"viewBox=\"0 0 24 24\"\n",
              "       width=\"24px\">\n",
              "    <path d=\"M0 0h24v24H0V0z\" fill=\"none\"/>\n",
              "    <path d=\"M18.56 5.44l.94 2.06.94-2.06 2.06-.94-2.06-.94-.94-2.06-.94 2.06-2.06.94zm-11 1L8.5 8.5l.94-2.06 2.06-.94-2.06-.94L8.5 2.5l-.94 2.06-2.06.94zm10 10l.94 2.06.94-2.06 2.06-.94-2.06-.94-.94-2.06-.94 2.06-2.06.94z\"/><path d=\"M17.41 7.96l-1.37-1.37c-.4-.4-.92-.59-1.43-.59-.52 0-1.04.2-1.43.59L10.3 9.45l-7.72 7.72c-.78.78-.78 2.05 0 2.83L4 21.41c.39.39.9.59 1.41.59.51 0 1.02-.2 1.41-.59l7.78-7.78 2.81-2.81c.8-.78.8-2.07 0-2.86zM5.41 20L4 18.59l7.72-7.72 1.47 1.35L5.41 20z\"/>\n",
              "  </svg>\n",
              "      </button>\n",
              "      \n",
              "  <style>\n",
              "    .colab-df-container {\n",
              "      display:flex;\n",
              "      flex-wrap:wrap;\n",
              "      gap: 12px;\n",
              "    }\n",
              "\n",
              "    .colab-df-convert {\n",
              "      background-color: #E8F0FE;\n",
              "      border: none;\n",
              "      border-radius: 50%;\n",
              "      cursor: pointer;\n",
              "      display: none;\n",
              "      fill: #1967D2;\n",
              "      height: 32px;\n",
              "      padding: 0 0 0 0;\n",
              "      width: 32px;\n",
              "    }\n",
              "\n",
              "    .colab-df-convert:hover {\n",
              "      background-color: #E2EBFA;\n",
              "      box-shadow: 0px 1px 2px rgba(60, 64, 67, 0.3), 0px 1px 3px 1px rgba(60, 64, 67, 0.15);\n",
              "      fill: #174EA6;\n",
              "    }\n",
              "\n",
              "    [theme=dark] .colab-df-convert {\n",
              "      background-color: #3B4455;\n",
              "      fill: #D2E3FC;\n",
              "    }\n",
              "\n",
              "    [theme=dark] .colab-df-convert:hover {\n",
              "      background-color: #434B5C;\n",
              "      box-shadow: 0px 1px 3px 1px rgba(0, 0, 0, 0.15);\n",
              "      filter: drop-shadow(0px 1px 2px rgba(0, 0, 0, 0.3));\n",
              "      fill: #FFFFFF;\n",
              "    }\n",
              "  </style>\n",
              "\n",
              "      <script>\n",
              "        const buttonEl =\n",
              "          document.querySelector('#df-fb437ab7-ccd4-4999-9aa1-5d8458bdcfc6 button.colab-df-convert');\n",
              "        buttonEl.style.display =\n",
              "          google.colab.kernel.accessAllowed ? 'block' : 'none';\n",
              "\n",
              "        async function convertToInteractive(key) {\n",
              "          const element = document.querySelector('#df-fb437ab7-ccd4-4999-9aa1-5d8458bdcfc6');\n",
              "          const dataTable =\n",
              "            await google.colab.kernel.invokeFunction('convertToInteractive',\n",
              "                                                     [key], {});\n",
              "          if (!dataTable) return;\n",
              "\n",
              "          const docLinkHtml = 'Like what you see? Visit the ' +\n",
              "            '<a target=\"_blank\" href=https://colab.research.google.com/notebooks/data_table.ipynb>data table notebook</a>'\n",
              "            + ' to learn more about interactive tables.';\n",
              "          element.innerHTML = '';\n",
              "          dataTable['output_type'] = 'display_data';\n",
              "          await google.colab.output.renderOutput(dataTable, element);\n",
              "          const docLink = document.createElement('div');\n",
              "          docLink.innerHTML = docLinkHtml;\n",
              "          element.appendChild(docLink);\n",
              "        }\n",
              "      </script>\n",
              "    </div>\n",
              "  </div>\n",
              "  "
            ]
          },
          "metadata": {},
          "execution_count": 225
        }
      ]
    },
    {
      "cell_type": "code",
      "source": [
        "uio.plot.scatter(x = 'dropoff_latitude', y = 'dropoff_longitude', c=labels, s=50, cmap='viridis')\n",
        "plt.scatter(centers[:, 0], centers[:, 1], c='black', s=200, alpha=0.5)"
      ],
      "metadata": {
        "colab": {
          "base_uri": "https://localhost:8080/",
          "height": 0
        },
        "id": "eHFYgVo9kSVm",
        "outputId": "dc2fee1e-0818-4bbb-8b63-91e5399d3f8f"
      },
      "execution_count": 226,
      "outputs": [
        {
          "output_type": "execute_result",
          "data": {
            "text/plain": [
              "<matplotlib.collections.PathCollection at 0x7ff5783bd110>"
            ]
          },
          "metadata": {},
          "execution_count": 226
        },
        {
          "output_type": "display_data",
          "data": {
            "text/plain": [
              "<Figure size 432x288 with 2 Axes>"
            ],
            "image/png": "[encoded data removed]"
          },
          "metadata": {}
        }
      ]
    },
    {
      "cell_type": "code",
      "source": [
        "x = uio.groupby(['cluster_dropoff'])['id'].count()\n",
        "sns.barplot(x.index, x.values)\n",
        "plt.show()"
      ],
      "metadata": {
        "colab": {
          "base_uri": "https://localhost:8080/",
          "height": 0
        },
        "id": "86YSwv7fkXwG",
        "outputId": "d1dc715f-7db1-47e5-dbb9-ab8a505d3292"
      },
      "execution_count": 227,
      "outputs": [
        {
          "output_type": "stream",
          "name": "stderr",
          "text": [
            "/usr/local/lib/python3.7/dist-packages/seaborn/_decorators.py:43: FutureWarning: Pass the following variables as keyword args: x, y. From version 0.12, the only valid positional argument will be `data`, and passing other arguments without an explicit keyword will result in an error or misinterpretation.\n",
            "  FutureWarning\n"
          ]
        },
        {
          "output_type": "display_data",
          "data": {
            "text/plain": [
              "<Figure size 432x288 with 1 Axes>"
            ],
            "image/png": "[encoded data removed]"
          },
          "metadata": {}
        }
      ]
    },
    {
      "cell_type": "code",
      "source": [
        "x = uio.groupby(['cluster_dropoff'])['trip_duration_in_minutes'].mean()\n",
        "sns.barplot(x.index, x.values)\n",
        "plt.show()"
      ],
      "metadata": {
        "colab": {
          "base_uri": "https://localhost:8080/",
          "height": 0
        },
        "id": "AP-DxoTlkYPz",
        "outputId": "ab87ff2c-18aa-41bf-8d3b-2183c740cd05"
      },
      "execution_count": 228,
      "outputs": [
        {
          "output_type": "stream",
          "name": "stderr",
          "text": [
            "/usr/local/lib/python3.7/dist-packages/seaborn/_decorators.py:43: FutureWarning: Pass the following variables as keyword args: x, y. From version 0.12, the only valid positional argument will be `data`, and passing other arguments without an explicit keyword will result in an error or misinterpretation.\n",
            "  FutureWarning\n"
          ]
        },
        {
          "output_type": "display_data",
          "data": {
            "text/plain": [
              "<Figure size 432x288 with 1 Axes>"
            ],
            "image/png": "[encoded data removed]"
          },
          "metadata": {}
        }
      ]
    },
    {
      "cell_type": "markdown",
      "source": [
        "# **Cek Korelasi**"
      ],
      "metadata": {
        "id": "uoVv5e1PY3MQ"
      }
    },
    {
      "cell_type": "code",
      "source": [
        "uio.info()"
      ],
      "metadata": {
        "colab": {
          "base_uri": "https://localhost:8080/"
        },
        "id": "ZrxSxXXxePpU",
        "outputId": "b8c45f23-7619-435e-b518-924346c57e48"
      },
      "execution_count": 229,
      "outputs": [
        {
          "output_type": "stream",
          "name": "stdout",
          "text": [
            "<class 'pandas.core.frame.DataFrame'>\n",
            "Int64Index: 72836 entries, 1 to 90285\n",
            "Data columns (total 25 columns):\n",
            " #   Column                    Non-Null Count  Dtype         \n",
            "---  ------                    --------------  -----         \n",
            " 0   id                        72836 non-null  int64         \n",
            " 1   vendor_id                 72836 non-null  object        \n",
            " 2   pickup_datetime           72836 non-null  datetime64[ns]\n",
            " 3   dropoff_datetime          72836 non-null  datetime64[ns]\n",
            " 4   pickup_longitude          72836 non-null  float64       \n",
            " 5   pickup_latitude           72836 non-null  float64       \n",
            " 6   dropoff_longitude         72836 non-null  float64       \n",
            " 7   dropoff_latitude          72836 non-null  float64       \n",
            " 8   store_and_fwd_flag        72836 non-null  object        \n",
            " 9   trip_duration             72836 non-null  int64         \n",
            " 10  dist_meters               72836 non-null  int64         \n",
            " 11  wait_sec                  72836 non-null  int64         \n",
            " 12  log_dist_meters           72836 non-null  float64       \n",
            " 13  dist_kilometers           72836 non-null  float64       \n",
            " 14  log_trip_duration         72836 non-null  float64       \n",
            " 15  trip_duration_in_minutes  72836 non-null  float64       \n",
            " 16  diff_datetime_minutes     72836 non-null  float64       \n",
            " 17  pickup_month              72836 non-null  int64         \n",
            " 18  pickup_year               72836 non-null  int64         \n",
            " 19  pickup_day                72836 non-null  int64         \n",
            " 20  pickup_hour               72836 non-null  int64         \n",
            " 21  pickup_minute             72836 non-null  int64         \n",
            " 22  pickup_day_of_week        72836 non-null  int64         \n",
            " 23  cluster_pickup            72836 non-null  int32         \n",
            " 24  cluster_dropoff           72836 non-null  int32         \n",
            "dtypes: datetime64[ns](2), float64(9), int32(2), int64(10), object(2)\n",
            "memory usage: 13.9+ MB\n"
          ]
        }
      ]
    },
    {
      "cell_type": "code",
      "source": [
        "correlation_matrix = uio.corr()\n",
        "print(correlation_matrix['trip_duration'])"
      ],
      "metadata": {
        "colab": {
          "base_uri": "https://localhost:8080/"
        },
        "id": "E4BqNJQ7aQYt",
        "outputId": "591e51f4-d829-49c5-9b62-f5917f9ad245"
      },
      "execution_count": 230,
      "outputs": [
        {
          "output_type": "stream",
          "name": "stdout",
          "text": [
            "id                          0.000496\n",
            "pickup_longitude           -0.061270\n",
            "pickup_latitude             0.017042\n",
            "dropoff_longitude          -0.072658\n",
            "dropoff_latitude            0.076604\n",
            "trip_duration               1.000000\n",
            "dist_meters                 0.686636\n",
            "wait_sec                    0.004367\n",
            "log_dist_meters             0.580782\n",
            "dist_kilometers             0.686636\n",
            "log_trip_duration           0.831205\n",
            "trip_duration_in_minutes    1.000000\n",
            "diff_datetime_minutes       0.136563\n",
            "pickup_month               -0.004564\n",
            "pickup_year                 0.011536\n",
            "pickup_day                  0.002429\n",
            "pickup_hour                -0.036152\n",
            "pickup_minute              -0.013823\n",
            "pickup_day_of_week         -0.005725\n",
            "cluster_pickup             -0.048308\n",
            "cluster_dropoff             0.061762\n",
            "Name: trip_duration, dtype: float64\n"
          ]
        }
      ]
    },
    {
      "cell_type": "code",
      "source": [
        "sns.regplot(x=uio[\"trip_duration_in_minutes\"], y=uio[\"dist_kilometers\"])"
      ],
      "metadata": {
        "colab": {
          "base_uri": "https://localhost:8080/",
          "height": 0
        },
        "id": "_FZVSFzGiGvZ",
        "outputId": "4ef8613a-896e-4ada-bc19-f9c8c093fab7"
      },
      "execution_count": 231,
      "outputs": [
        {
          "output_type": "execute_result",
          "data": {
            "text/plain": [
              "<matplotlib.axes._subplots.AxesSubplot at 0x7ff5781c32d0>"
            ]
          },
          "metadata": {},
          "execution_count": 231
        },
        {
          "output_type": "display_data",
          "data": {
            "text/plain": [
              "<Figure size 432x288 with 1 Axes>"
            ],
            "image/png": "[encoded data removed]"
          },
          "metadata": {}
        }
      ]
    },
    {
      "cell_type": "markdown",
      "source": [
        "# **Convert VendorID ke Int**"
      ],
      "metadata": {
        "id": "TnuWV_3dBGpR"
      }
    },
    {
      "cell_type": "code",
      "source": [
        "from sklearn.preprocessing import LabelEncoder"
      ],
      "metadata": {
        "id": "ME3X29-ABVnb"
      },
      "execution_count": 232,
      "outputs": []
    },
    {
      "cell_type": "code",
      "source": [
        "le = LabelEncoder()\n",
        "\n",
        "uio['vendor_code']= le.fit_transform(uio['vendor_id'])\n",
        "uio.head()"
      ],
      "metadata": {
        "colab": {
          "base_uri": "https://localhost:8080/",
          "height": 0
        },
        "id": "9iLjqJwBBETo",
        "outputId": "e3608035-bf8f-4b4b-de10-16dcb4eb6bf1"
      },
      "execution_count": 233,
      "outputs": [
        {
          "output_type": "execute_result",
          "data": {
            "text/plain": [
              "   id              vendor_id     pickup_datetime    dropoff_datetime  \\\n",
              "1   2  Guadalajara Easy Taxi 2016-09-17 09:59:54 2016-09-17 10:06:23   \n",
              "2   3              Monterrey 2016-09-17 10:06:52 2016-09-17 10:09:40   \n",
              "3   4              Monterrey 2016-09-17 09:45:56 2016-09-17 10:13:34   \n",
              "4   5              Monterrey 2016-09-17 10:12:00 2016-09-17 10:16:31   \n",
              "5   6              Monterrey 2016-09-17 10:18:20 2016-09-17 10:18:41   \n",
              "\n",
              "   pickup_longitude  pickup_latitude  dropoff_longitude  dropoff_latitude  \\\n",
              "1          0.327804         0.391950        -103.366600         20.686971   \n",
              "2          0.140910         0.563280        -100.165737         25.619387   \n",
              "3          0.207565         0.590416        -100.491721         25.676294   \n",
              "4          0.128881         0.580419        -100.104166         25.643862   \n",
              "5          0.141188         0.564268        -100.186171         25.643129   \n",
              "\n",
              "  store_and_fwd_flag  trip_duration  ...  diff_datetime_minutes  pickup_month  \\\n",
              "1                  N            389  ...               6.483333             9   \n",
              "2                  N            168  ...               2.800000             9   \n",
              "3                  N           1659  ...              27.633333             9   \n",
              "4                  N            272  ...               4.516667             9   \n",
              "5                  N             22  ...               0.350000             9   \n",
              "\n",
              "   pickup_year  pickup_day  pickup_hour  pickup_minute  pickup_day_of_week  \\\n",
              "1         2016          17            9             59                   5   \n",
              "2         2016          17           10              6                   5   \n",
              "3         2016          17            9             45                   5   \n",
              "4         2016          17           10             12                   5   \n",
              "5         2016          17           10             18                   5   \n",
              "\n",
              "   cluster_pickup  cluster_dropoff  vendor_code  \n",
              "1               0                2           43  \n",
              "2               0                2           71  \n",
              "3               0                2           71  \n",
              "4               0                2           71  \n",
              "5               0                2           71  \n",
              "\n",
              "[5 rows x 26 columns]"
            ],
            "text/html": [
              "\n",
              "  <div id=\"df-44a8dc31-a2f7-4ddb-abed-a5990d97b857\">\n",
              "    <div class=\"colab-df-container\">\n",
              "      <div>\n",
              "<style scoped>\n",
              "    .dataframe tbody tr th:only-of-type {\n",
              "        vertical-align: middle;\n",
              "    }\n",
              "\n",
              "    .dataframe tbody tr th {\n",
              "        vertical-align: top;\n",
              "    }\n",
              "\n",
              "    .dataframe thead th {\n",
              "        text-align: right;\n",
              "    }\n",
              "</style>\n",
              "<table border=\"1\" class=\"dataframe\">\n",
              "  <thead>\n",
              "    <tr style=\"text-align: right;\">\n",
              "      <th></th>\n",
              "      <th>id</th>\n",
              "      <th>vendor_id</th>\n",
              "      <th>pickup_datetime</th>\n",
              "      <th>dropoff_datetime</th>\n",
              "      <th>pickup_longitude</th>\n",
              "      <th>pickup_latitude</th>\n",
              "      <th>dropoff_longitude</th>\n",
              "      <th>dropoff_latitude</th>\n",
              "      <th>store_and_fwd_flag</th>\n",
              "      <th>trip_duration</th>\n",
              "      <th>...</th>\n",
              "      <th>diff_datetime_minutes</th>\n",
              "      <th>pickup_month</th>\n",
              "      <th>pickup_year</th>\n",
              "      <th>pickup_day</th>\n",
              "      <th>pickup_hour</th>\n",
              "      <th>pickup_minute</th>\n",
              "      <th>pickup_day_of_week</th>\n",
              "      <th>cluster_pickup</th>\n",
              "      <th>cluster_dropoff</th>\n",
              "      <th>vendor_code</th>\n",
              "    </tr>\n",
              "  </thead>\n",
              "  <tbody>\n",
              "    <tr>\n",
              "      <th>1</th>\n",
              "      <td>2</td>\n",
              "      <td>Guadalajara Easy Taxi</td>\n",
              "      <td>2016-09-17 09:59:54</td>\n",
              "      <td>2016-09-17 10:06:23</td>\n",
              "      <td>0.327804</td>\n",
              "      <td>0.391950</td>\n",
              "      <td>-103.366600</td>\n",
              "      <td>20.686971</td>\n",
              "      <td>N</td>\n",
              "      <td>389</td>\n",
              "      <td>...</td>\n",
              "      <td>6.483333</td>\n",
              "      <td>9</td>\n",
              "      <td>2016</td>\n",
              "      <td>17</td>\n",
              "      <td>9</td>\n",
              "      <td>59</td>\n",
              "      <td>5</td>\n",
              "      <td>0</td>\n",
              "      <td>2</td>\n",
              "      <td>43</td>\n",
              "    </tr>\n",
              "    <tr>\n",
              "      <th>2</th>\n",
              "      <td>3</td>\n",
              "      <td>Monterrey</td>\n",
              "      <td>2016-09-17 10:06:52</td>\n",
              "      <td>2016-09-17 10:09:40</td>\n",
              "      <td>0.140910</td>\n",
              "      <td>0.563280</td>\n",
              "      <td>-100.165737</td>\n",
              "      <td>25.619387</td>\n",
              "      <td>N</td>\n",
              "      <td>168</td>\n",
              "      <td>...</td>\n",
              "      <td>2.800000</td>\n",
              "      <td>9</td>\n",
              "      <td>2016</td>\n",
              "      <td>17</td>\n",
              "      <td>10</td>\n",
              "      <td>6</td>\n",
              "      <td>5</td>\n",
              "      <td>0</td>\n",
              "      <td>2</td>\n",
              "      <td>71</td>\n",
              "    </tr>\n",
              "    <tr>\n",
              "      <th>3</th>\n",
              "      <td>4</td>\n",
              "      <td>Monterrey</td>\n",
              "      <td>2016-09-17 09:45:56</td>\n",
              "      <td>2016-09-17 10:13:34</td>\n",
              "      <td>0.207565</td>\n",
              "      <td>0.590416</td>\n",
              "      <td>-100.491721</td>\n",
              "      <td>25.676294</td>\n",
              "      <td>N</td>\n",
              "      <td>1659</td>\n",
              "      <td>...</td>\n",
              "      <td>27.633333</td>\n",
              "      <td>9</td>\n",
              "      <td>2016</td>\n",
              "      <td>17</td>\n",
              "      <td>9</td>\n",
              "      <td>45</td>\n",
              "      <td>5</td>\n",
              "      <td>0</td>\n",
              "      <td>2</td>\n",
              "      <td>71</td>\n",
              "    </tr>\n",
              "    <tr>\n",
              "      <th>4</th>\n",
              "      <td>5</td>\n",
              "      <td>Monterrey</td>\n",
              "      <td>2016-09-17 10:12:00</td>\n",
              "      <td>2016-09-17 10:16:31</td>\n",
              "      <td>0.128881</td>\n",
              "      <td>0.580419</td>\n",
              "      <td>-100.104166</td>\n",
              "      <td>25.643862</td>\n",
              "      <td>N</td>\n",
              "      <td>272</td>\n",
              "      <td>...</td>\n",
              "      <td>4.516667</td>\n",
              "      <td>9</td>\n",
              "      <td>2016</td>\n",
              "      <td>17</td>\n",
              "      <td>10</td>\n",
              "      <td>12</td>\n",
              "      <td>5</td>\n",
              "      <td>0</td>\n",
              "      <td>2</td>\n",
              "      <td>71</td>\n",
              "    </tr>\n",
              "    <tr>\n",
              "      <th>5</th>\n",
              "      <td>6</td>\n",
              "      <td>Monterrey</td>\n",
              "      <td>2016-09-17 10:18:20</td>\n",
              "      <td>2016-09-17 10:18:41</td>\n",
              "      <td>0.141188</td>\n",
              "      <td>0.564268</td>\n",
              "      <td>-100.186171</td>\n",
              "      <td>25.643129</td>\n",
              "      <td>N</td>\n",
              "      <td>22</td>\n",
              "      <td>...</td>\n",
              "      <td>0.350000</td>\n",
              "      <td>9</td>\n",
              "      <td>2016</td>\n",
              "      <td>17</td>\n",
              "      <td>10</td>\n",
              "      <td>18</td>\n",
              "      <td>5</td>\n",
              "      <td>0</td>\n",
              "      <td>2</td>\n",
              "      <td>71</td>\n",
              "    </tr>\n",
              "  </tbody>\n",
              "</table>\n",
              "<p>5 rows × 26 columns</p>\n",
              "</div>\n",
              "      <button class=\"colab-df-convert\" onclick=\"convertToInteractive('df-44a8dc31-a2f7-4ddb-abed-a5990d97b857')\"\n",
              "              title=\"Convert this dataframe to an interactive table.\"\n",
              "              style=\"display:none;\">\n",
              "        \n",
              "  <svg xmlns=\"http://www.w3.org/2000/svg\" height=\"24px\"viewBox=\"0 0 24 24\"\n",
              "       width=\"24px\">\n",
              "    <path d=\"M0 0h24v24H0V0z\" fill=\"none\"/>\n",
              "    <path d=\"M18.56 5.44l.94 2.06.94-2.06 2.06-.94-2.06-.94-.94-2.06-.94 2.06-2.06.94zm-11 1L8.5 8.5l.94-2.06 2.06-.94-2.06-.94L8.5 2.5l-.94 2.06-2.06.94zm10 10l.94 2.06.94-2.06 2.06-.94-2.06-.94-.94-2.06-.94 2.06-2.06.94z\"/><path d=\"M17.41 7.96l-1.37-1.37c-.4-.4-.92-.59-1.43-.59-.52 0-1.04.2-1.43.59L10.3 9.45l-7.72 7.72c-.78.78-.78 2.05 0 2.83L4 21.41c.39.39.9.59 1.41.59.51 0 1.02-.2 1.41-.59l7.78-7.78 2.81-2.81c.8-.78.8-2.07 0-2.86zM5.41 20L4 18.59l7.72-7.72 1.47 1.35L5.41 20z\"/>\n",
              "  </svg>\n",
              "      </button>\n",
              "      \n",
              "  <style>\n",
              "    .colab-df-container {\n",
              "      display:flex;\n",
              "      flex-wrap:wrap;\n",
              "      gap: 12px;\n",
              "    }\n",
              "\n",
              "    .colab-df-convert {\n",
              "      background-color: #E8F0FE;\n",
              "      border: none;\n",
              "      border-radius: 50%;\n",
              "      cursor: pointer;\n",
              "      display: none;\n",
              "      fill: #1967D2;\n",
              "      height: 32px;\n",
              "      padding: 0 0 0 0;\n",
              "      width: 32px;\n",
              "    }\n",
              "\n",
              "    .colab-df-convert:hover {\n",
              "      background-color: #E2EBFA;\n",
              "      box-shadow: 0px 1px 2px rgba(60, 64, 67, 0.3), 0px 1px 3px 1px rgba(60, 64, 67, 0.15);\n",
              "      fill: #174EA6;\n",
              "    }\n",
              "\n",
              "    [theme=dark] .colab-df-convert {\n",
              "      background-color: #3B4455;\n",
              "      fill: #D2E3FC;\n",
              "    }\n",
              "\n",
              "    [theme=dark] .colab-df-convert:hover {\n",
              "      background-color: #434B5C;\n",
              "      box-shadow: 0px 1px 3px 1px rgba(0, 0, 0, 0.15);\n",
              "      filter: drop-shadow(0px 1px 2px rgba(0, 0, 0, 0.3));\n",
              "      fill: #FFFFFF;\n",
              "    }\n",
              "  </style>\n",
              "\n",
              "      <script>\n",
              "        const buttonEl =\n",
              "          document.querySelector('#df-44a8dc31-a2f7-4ddb-abed-a5990d97b857 button.colab-df-convert');\n",
              "        buttonEl.style.display =\n",
              "          google.colab.kernel.accessAllowed ? 'block' : 'none';\n",
              "\n",
              "        async function convertToInteractive(key) {\n",
              "          const element = document.querySelector('#df-44a8dc31-a2f7-4ddb-abed-a5990d97b857');\n",
              "          const dataTable =\n",
              "            await google.colab.kernel.invokeFunction('convertToInteractive',\n",
              "                                                     [key], {});\n",
              "          if (!dataTable) return;\n",
              "\n",
              "          const docLinkHtml = 'Like what you see? Visit the ' +\n",
              "            '<a target=\"_blank\" href=https://colab.research.google.com/notebooks/data_table.ipynb>data table notebook</a>'\n",
              "            + ' to learn more about interactive tables.';\n",
              "          element.innerHTML = '';\n",
              "          dataTable['output_type'] = 'display_data';\n",
              "          await google.colab.output.renderOutput(dataTable, element);\n",
              "          const docLink = document.createElement('div');\n",
              "          docLink.innerHTML = docLinkHtml;\n",
              "          element.appendChild(docLink);\n",
              "        }\n",
              "      </script>\n",
              "    </div>\n",
              "  </div>\n",
              "  "
            ]
          },
          "metadata": {},
          "execution_count": 233
        }
      ]
    },
    {
      "cell_type": "code",
      "source": [
        "print(uio.groupby(['vendor_id'])['id'].count().reset_index())"
      ],
      "metadata": {
        "colab": {
          "base_uri": "https://localhost:8080/"
        },
        "id": "Dbv95RHbMOMc",
        "outputId": "b502dced-060e-4491-c00c-354d3fd8877e"
      },
      "execution_count": 234,
      "outputs": [
        {
          "output_type": "stream",
          "name": "stdout",
          "text": [
            "                vendor_id    id\n",
            "0          Aguascalientes  8583\n",
            "1    Aguascalientes UberX   215\n",
            "2                  Ambato   135\n",
            "3             Ant Ecuador   399\n",
            "4                 Armenia     1\n",
            "..                    ...   ...\n",
            "133          Toluca UberX     4\n",
            "134               Uruguay   293\n",
            "135      Valledupar UberX     8\n",
            "136      Valparaiso UberX     4\n",
            "137   Villavicencio UberX     2\n",
            "\n",
            "[138 rows x 2 columns]\n"
          ]
        }
      ]
    },
    {
      "cell_type": "markdown",
      "source": [
        "# **Split Data**"
      ],
      "metadata": {
        "id": "AI0eyTVmk_-L"
      }
    },
    {
      "cell_type": "code",
      "source": [
        "uio.head()"
      ],
      "metadata": {
        "colab": {
          "base_uri": "https://localhost:8080/",
          "height": 0
        },
        "id": "lj_oXNhxPCzA",
        "outputId": "266abb05-d06a-41cb-d745-debb7877b626"
      },
      "execution_count": 235,
      "outputs": [
        {
          "output_type": "execute_result",
          "data": {
            "text/plain": [
              "   id              vendor_id     pickup_datetime    dropoff_datetime  \\\n",
              "1   2  Guadalajara Easy Taxi 2016-09-17 09:59:54 2016-09-17 10:06:23   \n",
              "2   3              Monterrey 2016-09-17 10:06:52 2016-09-17 10:09:40   \n",
              "3   4              Monterrey 2016-09-17 09:45:56 2016-09-17 10:13:34   \n",
              "4   5              Monterrey 2016-09-17 10:12:00 2016-09-17 10:16:31   \n",
              "5   6              Monterrey 2016-09-17 10:18:20 2016-09-17 10:18:41   \n",
              "\n",
              "   pickup_longitude  pickup_latitude  dropoff_longitude  dropoff_latitude  \\\n",
              "1          0.327804         0.391950        -103.366600         20.686971   \n",
              "2          0.140910         0.563280        -100.165737         25.619387   \n",
              "3          0.207565         0.590416        -100.491721         25.676294   \n",
              "4          0.128881         0.580419        -100.104166         25.643862   \n",
              "5          0.141188         0.564268        -100.186171         25.643129   \n",
              "\n",
              "  store_and_fwd_flag  trip_duration  ...  diff_datetime_minutes  pickup_month  \\\n",
              "1                  N            389  ...               6.483333             9   \n",
              "2                  N            168  ...               2.800000             9   \n",
              "3                  N           1659  ...              27.633333             9   \n",
              "4                  N            272  ...               4.516667             9   \n",
              "5                  N             22  ...               0.350000             9   \n",
              "\n",
              "   pickup_year  pickup_day  pickup_hour  pickup_minute  pickup_day_of_week  \\\n",
              "1         2016          17            9             59                   5   \n",
              "2         2016          17           10              6                   5   \n",
              "3         2016          17            9             45                   5   \n",
              "4         2016          17           10             12                   5   \n",
              "5         2016          17           10             18                   5   \n",
              "\n",
              "   cluster_pickup  cluster_dropoff  vendor_code  \n",
              "1               0                2           43  \n",
              "2               0                2           71  \n",
              "3               0                2           71  \n",
              "4               0                2           71  \n",
              "5               0                2           71  \n",
              "\n",
              "[5 rows x 26 columns]"
            ],
            "text/html": [
              "\n",
              "  <div id=\"df-52e9e07e-fccc-4490-b25f-5c620cd13329\">\n",
              "    <div class=\"colab-df-container\">\n",
              "      <div>\n",
              "<style scoped>\n",
              "    .dataframe tbody tr th:only-of-type {\n",
              "        vertical-align: middle;\n",
              "    }\n",
              "\n",
              "    .dataframe tbody tr th {\n",
              "        vertical-align: top;\n",
              "    }\n",
              "\n",
              "    .dataframe thead th {\n",
              "        text-align: right;\n",
              "    }\n",
              "</style>\n",
              "<table border=\"1\" class=\"dataframe\">\n",
              "  <thead>\n",
              "    <tr style=\"text-align: right;\">\n",
              "      <th></th>\n",
              "      <th>id</th>\n",
              "      <th>vendor_id</th>\n",
              "      <th>pickup_datetime</th>\n",
              "      <th>dropoff_datetime</th>\n",
              "      <th>pickup_longitude</th>\n",
              "      <th>pickup_latitude</th>\n",
              "      <th>dropoff_longitude</th>\n",
              "      <th>dropoff_latitude</th>\n",
              "      <th>store_and_fwd_flag</th>\n",
              "      <th>trip_duration</th>\n",
              "      <th>...</th>\n",
              "      <th>diff_datetime_minutes</th>\n",
              "      <th>pickup_month</th>\n",
              "      <th>pickup_year</th>\n",
              "      <th>pickup_day</th>\n",
              "      <th>pickup_hour</th>\n",
              "      <th>pickup_minute</th>\n",
              "      <th>pickup_day_of_week</th>\n",
              "      <th>cluster_pickup</th>\n",
              "      <th>cluster_dropoff</th>\n",
              "      <th>vendor_code</th>\n",
              "    </tr>\n",
              "  </thead>\n",
              "  <tbody>\n",
              "    <tr>\n",
              "      <th>1</th>\n",
              "      <td>2</td>\n",
              "      <td>Guadalajara Easy Taxi</td>\n",
              "      <td>2016-09-17 09:59:54</td>\n",
              "      <td>2016-09-17 10:06:23</td>\n",
              "      <td>0.327804</td>\n",
              "      <td>0.391950</td>\n",
              "      <td>-103.366600</td>\n",
              "      <td>20.686971</td>\n",
              "      <td>N</td>\n",
              "      <td>389</td>\n",
              "      <td>...</td>\n",
              "      <td>6.483333</td>\n",
              "      <td>9</td>\n",
              "      <td>2016</td>\n",
              "      <td>17</td>\n",
              "      <td>9</td>\n",
              "      <td>59</td>\n",
              "      <td>5</td>\n",
              "      <td>0</td>\n",
              "      <td>2</td>\n",
              "      <td>43</td>\n",
              "    </tr>\n",
              "    <tr>\n",
              "      <th>2</th>\n",
              "      <td>3</td>\n",
              "      <td>Monterrey</td>\n",
              "      <td>2016-09-17 10:06:52</td>\n",
              "      <td>2016-09-17 10:09:40</td>\n",
              "      <td>0.140910</td>\n",
              "      <td>0.563280</td>\n",
              "      <td>-100.165737</td>\n",
              "      <td>25.619387</td>\n",
              "      <td>N</td>\n",
              "      <td>168</td>\n",
              "      <td>...</td>\n",
              "      <td>2.800000</td>\n",
              "      <td>9</td>\n",
              "      <td>2016</td>\n",
              "      <td>17</td>\n",
              "      <td>10</td>\n",
              "      <td>6</td>\n",
              "      <td>5</td>\n",
              "      <td>0</td>\n",
              "      <td>2</td>\n",
              "      <td>71</td>\n",
              "    </tr>\n",
              "    <tr>\n",
              "      <th>3</th>\n",
              "      <td>4</td>\n",
              "      <td>Monterrey</td>\n",
              "      <td>2016-09-17 09:45:56</td>\n",
              "      <td>2016-09-17 10:13:34</td>\n",
              "      <td>0.207565</td>\n",
              "      <td>0.590416</td>\n",
              "      <td>-100.491721</td>\n",
              "      <td>25.676294</td>\n",
              "      <td>N</td>\n",
              "      <td>1659</td>\n",
              "      <td>...</td>\n",
              "      <td>27.633333</td>\n",
              "      <td>9</td>\n",
              "      <td>2016</td>\n",
              "      <td>17</td>\n",
              "      <td>9</td>\n",
              "      <td>45</td>\n",
              "      <td>5</td>\n",
              "      <td>0</td>\n",
              "      <td>2</td>\n",
              "      <td>71</td>\n",
              "    </tr>\n",
              "    <tr>\n",
              "      <th>4</th>\n",
              "      <td>5</td>\n",
              "      <td>Monterrey</td>\n",
              "      <td>2016-09-17 10:12:00</td>\n",
              "      <td>2016-09-17 10:16:31</td>\n",
              "      <td>0.128881</td>\n",
              "      <td>0.580419</td>\n",
              "      <td>-100.104166</td>\n",
              "      <td>25.643862</td>\n",
              "      <td>N</td>\n",
              "      <td>272</td>\n",
              "      <td>...</td>\n",
              "      <td>4.516667</td>\n",
              "      <td>9</td>\n",
              "      <td>2016</td>\n",
              "      <td>17</td>\n",
              "      <td>10</td>\n",
              "      <td>12</td>\n",
              "      <td>5</td>\n",
              "      <td>0</td>\n",
              "      <td>2</td>\n",
              "      <td>71</td>\n",
              "    </tr>\n",
              "    <tr>\n",
              "      <th>5</th>\n",
              "      <td>6</td>\n",
              "      <td>Monterrey</td>\n",
              "      <td>2016-09-17 10:18:20</td>\n",
              "      <td>2016-09-17 10:18:41</td>\n",
              "      <td>0.141188</td>\n",
              "      <td>0.564268</td>\n",
              "      <td>-100.186171</td>\n",
              "      <td>25.643129</td>\n",
              "      <td>N</td>\n",
              "      <td>22</td>\n",
              "      <td>...</td>\n",
              "      <td>0.350000</td>\n",
              "      <td>9</td>\n",
              "      <td>2016</td>\n",
              "      <td>17</td>\n",
              "      <td>10</td>\n",
              "      <td>18</td>\n",
              "      <td>5</td>\n",
              "      <td>0</td>\n",
              "      <td>2</td>\n",
              "      <td>71</td>\n",
              "    </tr>\n",
              "  </tbody>\n",
              "</table>\n",
              "<p>5 rows × 26 columns</p>\n",
              "</div>\n",
              "      <button class=\"colab-df-convert\" onclick=\"convertToInteractive('df-52e9e07e-fccc-4490-b25f-5c620cd13329')\"\n",
              "              title=\"Convert this dataframe to an interactive table.\"\n",
              "              style=\"display:none;\">\n",
              "        \n",
              "  <svg xmlns=\"http://www.w3.org/2000/svg\" height=\"24px\"viewBox=\"0 0 24 24\"\n",
              "       width=\"24px\">\n",
              "    <path d=\"M0 0h24v24H0V0z\" fill=\"none\"/>\n",
              "    <path d=\"M18.56 5.44l.94 2.06.94-2.06 2.06-.94-2.06-.94-.94-2.06-.94 2.06-2.06.94zm-11 1L8.5 8.5l.94-2.06 2.06-.94-2.06-.94L8.5 2.5l-.94 2.06-2.06.94zm10 10l.94 2.06.94-2.06 2.06-.94-2.06-.94-.94-2.06-.94 2.06-2.06.94z\"/><path d=\"M17.41 7.96l-1.37-1.37c-.4-.4-.92-.59-1.43-.59-.52 0-1.04.2-1.43.59L10.3 9.45l-7.72 7.72c-.78.78-.78 2.05 0 2.83L4 21.41c.39.39.9.59 1.41.59.51 0 1.02-.2 1.41-.59l7.78-7.78 2.81-2.81c.8-.78.8-2.07 0-2.86zM5.41 20L4 18.59l7.72-7.72 1.47 1.35L5.41 20z\"/>\n",
              "  </svg>\n",
              "      </button>\n",
              "      \n",
              "  <style>\n",
              "    .colab-df-container {\n",
              "      display:flex;\n",
              "      flex-wrap:wrap;\n",
              "      gap: 12px;\n",
              "    }\n",
              "\n",
              "    .colab-df-convert {\n",
              "      background-color: #E8F0FE;\n",
              "      border: none;\n",
              "      border-radius: 50%;\n",
              "      cursor: pointer;\n",
              "      display: none;\n",
              "      fill: #1967D2;\n",
              "      height: 32px;\n",
              "      padding: 0 0 0 0;\n",
              "      width: 32px;\n",
              "    }\n",
              "\n",
              "    .colab-df-convert:hover {\n",
              "      background-color: #E2EBFA;\n",
              "      box-shadow: 0px 1px 2px rgba(60, 64, 67, 0.3), 0px 1px 3px 1px rgba(60, 64, 67, 0.15);\n",
              "      fill: #174EA6;\n",
              "    }\n",
              "\n",
              "    [theme=dark] .colab-df-convert {\n",
              "      background-color: #3B4455;\n",
              "      fill: #D2E3FC;\n",
              "    }\n",
              "\n",
              "    [theme=dark] .colab-df-convert:hover {\n",
              "      background-color: #434B5C;\n",
              "      box-shadow: 0px 1px 3px 1px rgba(0, 0, 0, 0.15);\n",
              "      filter: drop-shadow(0px 1px 2px rgba(0, 0, 0, 0.3));\n",
              "      fill: #FFFFFF;\n",
              "    }\n",
              "  </style>\n",
              "\n",
              "      <script>\n",
              "        const buttonEl =\n",
              "          document.querySelector('#df-52e9e07e-fccc-4490-b25f-5c620cd13329 button.colab-df-convert');\n",
              "        buttonEl.style.display =\n",
              "          google.colab.kernel.accessAllowed ? 'block' : 'none';\n",
              "\n",
              "        async function convertToInteractive(key) {\n",
              "          const element = document.querySelector('#df-52e9e07e-fccc-4490-b25f-5c620cd13329');\n",
              "          const dataTable =\n",
              "            await google.colab.kernel.invokeFunction('convertToInteractive',\n",
              "                                                     [key], {});\n",
              "          if (!dataTable) return;\n",
              "\n",
              "          const docLinkHtml = 'Like what you see? Visit the ' +\n",
              "            '<a target=\"_blank\" href=https://colab.research.google.com/notebooks/data_table.ipynb>data table notebook</a>'\n",
              "            + ' to learn more about interactive tables.';\n",
              "          element.innerHTML = '';\n",
              "          dataTable['output_type'] = 'display_data';\n",
              "          await google.colab.output.renderOutput(dataTable, element);\n",
              "          const docLink = document.createElement('div');\n",
              "          docLink.innerHTML = docLinkHtml;\n",
              "          element.appendChild(docLink);\n",
              "        }\n",
              "      </script>\n",
              "    </div>\n",
              "  </div>\n",
              "  "
            ]
          },
          "metadata": {},
          "execution_count": 235
        }
      ]
    },
    {
      "cell_type": "code",
      "source": [
        "uio_fix = uio[['trip_duration_in_minutes', 'dist_kilometers','vendor_code']]"
      ],
      "metadata": {
        "id": "NDgsbzgqli-j"
      },
      "execution_count": 236,
      "outputs": []
    },
    {
      "cell_type": "code",
      "source": [
        "uio_fix"
      ],
      "metadata": {
        "colab": {
          "base_uri": "https://localhost:8080/",
          "height": 0
        },
        "id": "KQtnqQNql-j5",
        "outputId": "79ba5690-6df8-4158-e7fb-5ae8c5616990"
      },
      "execution_count": 237,
      "outputs": [
        {
          "output_type": "execute_result",
          "data": {
            "text/plain": [
              "       trip_duration_in_minutes  dist_kilometers  vendor_code\n",
              "1                      6.483333            2.962           43\n",
              "2                      2.800000            0.951           71\n",
              "3                     27.650000           11.082           71\n",
              "4                      4.533333            2.021           71\n",
              "5                      0.366667            2.502           71\n",
              "...                         ...              ...          ...\n",
              "90278                  0.583333            0.025            0\n",
              "90279                  9.783333            3.661            0\n",
              "90282                  1.516667            0.043           97\n",
              "90284                  1.733333            0.049           81\n",
              "90285                 10.550000            3.296           97\n",
              "\n",
              "[72836 rows x 3 columns]"
            ],
            "text/html": [
              "\n",
              "  <div id=\"df-51235f3a-367a-4c01-97cd-bdb6a0615ee4\">\n",
              "    <div class=\"colab-df-container\">\n",
              "      <div>\n",
              "<style scoped>\n",
              "    .dataframe tbody tr th:only-of-type {\n",
              "        vertical-align: middle;\n",
              "    }\n",
              "\n",
              "    .dataframe tbody tr th {\n",
              "        vertical-align: top;\n",
              "    }\n",
              "\n",
              "    .dataframe thead th {\n",
              "        text-align: right;\n",
              "    }\n",
              "</style>\n",
              "<table border=\"1\" class=\"dataframe\">\n",
              "  <thead>\n",
              "    <tr style=\"text-align: right;\">\n",
              "      <th></th>\n",
              "      <th>trip_duration_in_minutes</th>\n",
              "      <th>dist_kilometers</th>\n",
              "      <th>vendor_code</th>\n",
              "    </tr>\n",
              "  </thead>\n",
              "  <tbody>\n",
              "    <tr>\n",
              "      <th>1</th>\n",
              "      <td>6.483333</td>\n",
              "      <td>2.962</td>\n",
              "      <td>43</td>\n",
              "    </tr>\n",
              "    <tr>\n",
              "      <th>2</th>\n",
              "      <td>2.800000</td>\n",
              "      <td>0.951</td>\n",
              "      <td>71</td>\n",
              "    </tr>\n",
              "    <tr>\n",
              "      <th>3</th>\n",
              "      <td>27.650000</td>\n",
              "      <td>11.082</td>\n",
              "      <td>71</td>\n",
              "    </tr>\n",
              "    <tr>\n",
              "      <th>4</th>\n",
              "      <td>4.533333</td>\n",
              "      <td>2.021</td>\n",
              "      <td>71</td>\n",
              "    </tr>\n",
              "    <tr>\n",
              "      <th>5</th>\n",
              "      <td>0.366667</td>\n",
              "      <td>2.502</td>\n",
              "      <td>71</td>\n",
              "    </tr>\n",
              "    <tr>\n",
              "      <th>...</th>\n",
              "      <td>...</td>\n",
              "      <td>...</td>\n",
              "      <td>...</td>\n",
              "    </tr>\n",
              "    <tr>\n",
              "      <th>90278</th>\n",
              "      <td>0.583333</td>\n",
              "      <td>0.025</td>\n",
              "      <td>0</td>\n",
              "    </tr>\n",
              "    <tr>\n",
              "      <th>90279</th>\n",
              "      <td>9.783333</td>\n",
              "      <td>3.661</td>\n",
              "      <td>0</td>\n",
              "    </tr>\n",
              "    <tr>\n",
              "      <th>90282</th>\n",
              "      <td>1.516667</td>\n",
              "      <td>0.043</td>\n",
              "      <td>97</td>\n",
              "    </tr>\n",
              "    <tr>\n",
              "      <th>90284</th>\n",
              "      <td>1.733333</td>\n",
              "      <td>0.049</td>\n",
              "      <td>81</td>\n",
              "    </tr>\n",
              "    <tr>\n",
              "      <th>90285</th>\n",
              "      <td>10.550000</td>\n",
              "      <td>3.296</td>\n",
              "      <td>97</td>\n",
              "    </tr>\n",
              "  </tbody>\n",
              "</table>\n",
              "<p>72836 rows × 3 columns</p>\n",
              "</div>\n",
              "      <button class=\"colab-df-convert\" onclick=\"convertToInteractive('df-51235f3a-367a-4c01-97cd-bdb6a0615ee4')\"\n",
              "              title=\"Convert this dataframe to an interactive table.\"\n",
              "              style=\"display:none;\">\n",
              "        \n",
              "  <svg xmlns=\"http://www.w3.org/2000/svg\" height=\"24px\"viewBox=\"0 0 24 24\"\n",
              "       width=\"24px\">\n",
              "    <path d=\"M0 0h24v24H0V0z\" fill=\"none\"/>\n",
              "    <path d=\"M18.56 5.44l.94 2.06.94-2.06 2.06-.94-2.06-.94-.94-2.06-.94 2.06-2.06.94zm-11 1L8.5 8.5l.94-2.06 2.06-.94-2.06-.94L8.5 2.5l-.94 2.06-2.06.94zm10 10l.94 2.06.94-2.06 2.06-.94-2.06-.94-.94-2.06-.94 2.06-2.06.94z\"/><path d=\"M17.41 7.96l-1.37-1.37c-.4-.4-.92-.59-1.43-.59-.52 0-1.04.2-1.43.59L10.3 9.45l-7.72 7.72c-.78.78-.78 2.05 0 2.83L4 21.41c.39.39.9.59 1.41.59.51 0 1.02-.2 1.41-.59l7.78-7.78 2.81-2.81c.8-.78.8-2.07 0-2.86zM5.41 20L4 18.59l7.72-7.72 1.47 1.35L5.41 20z\"/>\n",
              "  </svg>\n",
              "      </button>\n",
              "      \n",
              "  <style>\n",
              "    .colab-df-container {\n",
              "      display:flex;\n",
              "      flex-wrap:wrap;\n",
              "      gap: 12px;\n",
              "    }\n",
              "\n",
              "    .colab-df-convert {\n",
              "      background-color: #E8F0FE;\n",
              "      border: none;\n",
              "      border-radius: 50%;\n",
              "      cursor: pointer;\n",
              "      display: none;\n",
              "      fill: #1967D2;\n",
              "      height: 32px;\n",
              "      padding: 0 0 0 0;\n",
              "      width: 32px;\n",
              "    }\n",
              "\n",
              "    .colab-df-convert:hover {\n",
              "      background-color: #E2EBFA;\n",
              "      box-shadow: 0px 1px 2px rgba(60, 64, 67, 0.3), 0px 1px 3px 1px rgba(60, 64, 67, 0.15);\n",
              "      fill: #174EA6;\n",
              "    }\n",
              "\n",
              "    [theme=dark] .colab-df-convert {\n",
              "      background-color: #3B4455;\n",
              "      fill: #D2E3FC;\n",
              "    }\n",
              "\n",
              "    [theme=dark] .colab-df-convert:hover {\n",
              "      background-color: #434B5C;\n",
              "      box-shadow: 0px 1px 3px 1px rgba(0, 0, 0, 0.15);\n",
              "      filter: drop-shadow(0px 1px 2px rgba(0, 0, 0, 0.3));\n",
              "      fill: #FFFFFF;\n",
              "    }\n",
              "  </style>\n",
              "\n",
              "      <script>\n",
              "        const buttonEl =\n",
              "          document.querySelector('#df-51235f3a-367a-4c01-97cd-bdb6a0615ee4 button.colab-df-convert');\n",
              "        buttonEl.style.display =\n",
              "          google.colab.kernel.accessAllowed ? 'block' : 'none';\n",
              "\n",
              "        async function convertToInteractive(key) {\n",
              "          const element = document.querySelector('#df-51235f3a-367a-4c01-97cd-bdb6a0615ee4');\n",
              "          const dataTable =\n",
              "            await google.colab.kernel.invokeFunction('convertToInteractive',\n",
              "                                                     [key], {});\n",
              "          if (!dataTable) return;\n",
              "\n",
              "          const docLinkHtml = 'Like what you see? Visit the ' +\n",
              "            '<a target=\"_blank\" href=https://colab.research.google.com/notebooks/data_table.ipynb>data table notebook</a>'\n",
              "            + ' to learn more about interactive tables.';\n",
              "          element.innerHTML = '';\n",
              "          dataTable['output_type'] = 'display_data';\n",
              "          await google.colab.output.renderOutput(dataTable, element);\n",
              "          const docLink = document.createElement('div');\n",
              "          docLink.innerHTML = docLinkHtml;\n",
              "          element.appendChild(docLink);\n",
              "        }\n",
              "      </script>\n",
              "    </div>\n",
              "  </div>\n",
              "  "
            ]
          },
          "metadata": {},
          "execution_count": 237
        }
      ]
    },
    {
      "cell_type": "code",
      "source": [
        "train_dataset = uio_fix.sample(frac=0.8, random_state=0)\n",
        "test_dataset = uio_fix.drop(train_dataset.index)"
      ],
      "metadata": {
        "id": "zYL9wOqRk_U8"
      },
      "execution_count": 238,
      "outputs": []
    },
    {
      "cell_type": "code",
      "source": [
        "train_dataset.describe().transpose()"
      ],
      "metadata": {
        "colab": {
          "base_uri": "https://localhost:8080/",
          "height": 0
        },
        "id": "jGrgvwPSlenb",
        "outputId": "814b2479-59cc-4764-8099-da4bc2883073"
      },
      "execution_count": 239,
      "outputs": [
        {
          "output_type": "execute_result",
          "data": {
            "text/plain": [
              "                            count       mean        std   min        25%  \\\n",
              "trip_duration_in_minutes  58269.0  15.166409  11.260631  0.05   7.016667   \n",
              "dist_kilometers           58269.0   5.034584   4.027154  0.01   2.025000   \n",
              "vendor_code               58269.0  69.872711  34.596133  0.00  64.000000   \n",
              "\n",
              "                             50%        75%      max  \n",
              "trip_duration_in_minutes  12.500  20.733333   55.200  \n",
              "dist_kilometers            4.051   7.162000   18.759  \n",
              "vendor_code               80.000  97.000000  137.000  "
            ],
            "text/html": [
              "\n",
              "  <div id=\"df-38f64792-6205-4f8d-bf65-409907545c1b\">\n",
              "    <div class=\"colab-df-container\">\n",
              "      <div>\n",
              "<style scoped>\n",
              "    .dataframe tbody tr th:only-of-type {\n",
              "        vertical-align: middle;\n",
              "    }\n",
              "\n",
              "    .dataframe tbody tr th {\n",
              "        vertical-align: top;\n",
              "    }\n",
              "\n",
              "    .dataframe thead th {\n",
              "        text-align: right;\n",
              "    }\n",
              "</style>\n",
              "<table border=\"1\" class=\"dataframe\">\n",
              "  <thead>\n",
              "    <tr style=\"text-align: right;\">\n",
              "      <th></th>\n",
              "      <th>count</th>\n",
              "      <th>mean</th>\n",
              "      <th>std</th>\n",
              "      <th>min</th>\n",
              "      <th>25%</th>\n",
              "      <th>50%</th>\n",
              "      <th>75%</th>\n",
              "      <th>max</th>\n",
              "    </tr>\n",
              "  </thead>\n",
              "  <tbody>\n",
              "    <tr>\n",
              "      <th>trip_duration_in_minutes</th>\n",
              "      <td>58269.0</td>\n",
              "      <td>15.166409</td>\n",
              "      <td>11.260631</td>\n",
              "      <td>0.05</td>\n",
              "      <td>7.016667</td>\n",
              "      <td>12.500</td>\n",
              "      <td>20.733333</td>\n",
              "      <td>55.200</td>\n",
              "    </tr>\n",
              "    <tr>\n",
              "      <th>dist_kilometers</th>\n",
              "      <td>58269.0</td>\n",
              "      <td>5.034584</td>\n",
              "      <td>4.027154</td>\n",
              "      <td>0.01</td>\n",
              "      <td>2.025000</td>\n",
              "      <td>4.051</td>\n",
              "      <td>7.162000</td>\n",
              "      <td>18.759</td>\n",
              "    </tr>\n",
              "    <tr>\n",
              "      <th>vendor_code</th>\n",
              "      <td>58269.0</td>\n",
              "      <td>69.872711</td>\n",
              "      <td>34.596133</td>\n",
              "      <td>0.00</td>\n",
              "      <td>64.000000</td>\n",
              "      <td>80.000</td>\n",
              "      <td>97.000000</td>\n",
              "      <td>137.000</td>\n",
              "    </tr>\n",
              "  </tbody>\n",
              "</table>\n",
              "</div>\n",
              "      <button class=\"colab-df-convert\" onclick=\"convertToInteractive('df-38f64792-6205-4f8d-bf65-409907545c1b')\"\n",
              "              title=\"Convert this dataframe to an interactive table.\"\n",
              "              style=\"display:none;\">\n",
              "        \n",
              "  <svg xmlns=\"http://www.w3.org/2000/svg\" height=\"24px\"viewBox=\"0 0 24 24\"\n",
              "       width=\"24px\">\n",
              "    <path d=\"M0 0h24v24H0V0z\" fill=\"none\"/>\n",
              "    <path d=\"M18.56 5.44l.94 2.06.94-2.06 2.06-.94-2.06-.94-.94-2.06-.94 2.06-2.06.94zm-11 1L8.5 8.5l.94-2.06 2.06-.94-2.06-.94L8.5 2.5l-.94 2.06-2.06.94zm10 10l.94 2.06.94-2.06 2.06-.94-2.06-.94-.94-2.06-.94 2.06-2.06.94z\"/><path d=\"M17.41 7.96l-1.37-1.37c-.4-.4-.92-.59-1.43-.59-.52 0-1.04.2-1.43.59L10.3 9.45l-7.72 7.72c-.78.78-.78 2.05 0 2.83L4 21.41c.39.39.9.59 1.41.59.51 0 1.02-.2 1.41-.59l7.78-7.78 2.81-2.81c.8-.78.8-2.07 0-2.86zM5.41 20L4 18.59l7.72-7.72 1.47 1.35L5.41 20z\"/>\n",
              "  </svg>\n",
              "      </button>\n",
              "      \n",
              "  <style>\n",
              "    .colab-df-container {\n",
              "      display:flex;\n",
              "      flex-wrap:wrap;\n",
              "      gap: 12px;\n",
              "    }\n",
              "\n",
              "    .colab-df-convert {\n",
              "      background-color: #E8F0FE;\n",
              "      border: none;\n",
              "      border-radius: 50%;\n",
              "      cursor: pointer;\n",
              "      display: none;\n",
              "      fill: #1967D2;\n",
              "      height: 32px;\n",
              "      padding: 0 0 0 0;\n",
              "      width: 32px;\n",
              "    }\n",
              "\n",
              "    .colab-df-convert:hover {\n",
              "      background-color: #E2EBFA;\n",
              "      box-shadow: 0px 1px 2px rgba(60, 64, 67, 0.3), 0px 1px 3px 1px rgba(60, 64, 67, 0.15);\n",
              "      fill: #174EA6;\n",
              "    }\n",
              "\n",
              "    [theme=dark] .colab-df-convert {\n",
              "      background-color: #3B4455;\n",
              "      fill: #D2E3FC;\n",
              "    }\n",
              "\n",
              "    [theme=dark] .colab-df-convert:hover {\n",
              "      background-color: #434B5C;\n",
              "      box-shadow: 0px 1px 3px 1px rgba(0, 0, 0, 0.15);\n",
              "      filter: drop-shadow(0px 1px 2px rgba(0, 0, 0, 0.3));\n",
              "      fill: #FFFFFF;\n",
              "    }\n",
              "  </style>\n",
              "\n",
              "      <script>\n",
              "        const buttonEl =\n",
              "          document.querySelector('#df-38f64792-6205-4f8d-bf65-409907545c1b button.colab-df-convert');\n",
              "        buttonEl.style.display =\n",
              "          google.colab.kernel.accessAllowed ? 'block' : 'none';\n",
              "\n",
              "        async function convertToInteractive(key) {\n",
              "          const element = document.querySelector('#df-38f64792-6205-4f8d-bf65-409907545c1b');\n",
              "          const dataTable =\n",
              "            await google.colab.kernel.invokeFunction('convertToInteractive',\n",
              "                                                     [key], {});\n",
              "          if (!dataTable) return;\n",
              "\n",
              "          const docLinkHtml = 'Like what you see? Visit the ' +\n",
              "            '<a target=\"_blank\" href=https://colab.research.google.com/notebooks/data_table.ipynb>data table notebook</a>'\n",
              "            + ' to learn more about interactive tables.';\n",
              "          element.innerHTML = '';\n",
              "          dataTable['output_type'] = 'display_data';\n",
              "          await google.colab.output.renderOutput(dataTable, element);\n",
              "          const docLink = document.createElement('div');\n",
              "          docLink.innerHTML = docLinkHtml;\n",
              "          element.appendChild(docLink);\n",
              "        }\n",
              "      </script>\n",
              "    </div>\n",
              "  </div>\n",
              "  "
            ]
          },
          "metadata": {},
          "execution_count": 239
        }
      ]
    },
    {
      "cell_type": "code",
      "source": [
        "train_features = train_dataset.copy()\n",
        "test_features = test_dataset.copy()\n",
        "\n",
        "train_labels = train_features.pop('trip_duration_in_minutes')\n",
        "test_labels = test_features.pop('trip_duration_in_minutes')"
      ],
      "metadata": {
        "id": "3KBoRBQtmVTa"
      },
      "execution_count": 240,
      "outputs": []
    },
    {
      "cell_type": "code",
      "source": [
        "train_dataset.describe().transpose()[['mean', 'std']]"
      ],
      "metadata": {
        "colab": {
          "base_uri": "https://localhost:8080/",
          "height": 0
        },
        "id": "lrfCieYXmW7t",
        "outputId": "302a1cb2-781d-44ee-89da-9b0b7eaa2f79"
      },
      "execution_count": 241,
      "outputs": [
        {
          "output_type": "execute_result",
          "data": {
            "text/plain": [
              "                               mean        std\n",
              "trip_duration_in_minutes  15.166409  11.260631\n",
              "dist_kilometers            5.034584   4.027154\n",
              "vendor_code               69.872711  34.596133"
            ],
            "text/html": [
              "\n",
              "  <div id=\"df-9afb8841-1882-4223-81bb-70cc7764da39\">\n",
              "    <div class=\"colab-df-container\">\n",
              "      <div>\n",
              "<style scoped>\n",
              "    .dataframe tbody tr th:only-of-type {\n",
              "        vertical-align: middle;\n",
              "    }\n",
              "\n",
              "    .dataframe tbody tr th {\n",
              "        vertical-align: top;\n",
              "    }\n",
              "\n",
              "    .dataframe thead th {\n",
              "        text-align: right;\n",
              "    }\n",
              "</style>\n",
              "<table border=\"1\" class=\"dataframe\">\n",
              "  <thead>\n",
              "    <tr style=\"text-align: right;\">\n",
              "      <th></th>\n",
              "      <th>mean</th>\n",
              "      <th>std</th>\n",
              "    </tr>\n",
              "  </thead>\n",
              "  <tbody>\n",
              "    <tr>\n",
              "      <th>trip_duration_in_minutes</th>\n",
              "      <td>15.166409</td>\n",
              "      <td>11.260631</td>\n",
              "    </tr>\n",
              "    <tr>\n",
              "      <th>dist_kilometers</th>\n",
              "      <td>5.034584</td>\n",
              "      <td>4.027154</td>\n",
              "    </tr>\n",
              "    <tr>\n",
              "      <th>vendor_code</th>\n",
              "      <td>69.872711</td>\n",
              "      <td>34.596133</td>\n",
              "    </tr>\n",
              "  </tbody>\n",
              "</table>\n",
              "</div>\n",
              "      <button class=\"colab-df-convert\" onclick=\"convertToInteractive('df-9afb8841-1882-4223-81bb-70cc7764da39')\"\n",
              "              title=\"Convert this dataframe to an interactive table.\"\n",
              "              style=\"display:none;\">\n",
              "        \n",
              "  <svg xmlns=\"http://www.w3.org/2000/svg\" height=\"24px\"viewBox=\"0 0 24 24\"\n",
              "       width=\"24px\">\n",
              "    <path d=\"M0 0h24v24H0V0z\" fill=\"none\"/>\n",
              "    <path d=\"M18.56 5.44l.94 2.06.94-2.06 2.06-.94-2.06-.94-.94-2.06-.94 2.06-2.06.94zm-11 1L8.5 8.5l.94-2.06 2.06-.94-2.06-.94L8.5 2.5l-.94 2.06-2.06.94zm10 10l.94 2.06.94-2.06 2.06-.94-2.06-.94-.94-2.06-.94 2.06-2.06.94z\"/><path d=\"M17.41 7.96l-1.37-1.37c-.4-.4-.92-.59-1.43-.59-.52 0-1.04.2-1.43.59L10.3 9.45l-7.72 7.72c-.78.78-.78 2.05 0 2.83L4 21.41c.39.39.9.59 1.41.59.51 0 1.02-.2 1.41-.59l7.78-7.78 2.81-2.81c.8-.78.8-2.07 0-2.86zM5.41 20L4 18.59l7.72-7.72 1.47 1.35L5.41 20z\"/>\n",
              "  </svg>\n",
              "      </button>\n",
              "      \n",
              "  <style>\n",
              "    .colab-df-container {\n",
              "      display:flex;\n",
              "      flex-wrap:wrap;\n",
              "      gap: 12px;\n",
              "    }\n",
              "\n",
              "    .colab-df-convert {\n",
              "      background-color: #E8F0FE;\n",
              "      border: none;\n",
              "      border-radius: 50%;\n",
              "      cursor: pointer;\n",
              "      display: none;\n",
              "      fill: #1967D2;\n",
              "      height: 32px;\n",
              "      padding: 0 0 0 0;\n",
              "      width: 32px;\n",
              "    }\n",
              "\n",
              "    .colab-df-convert:hover {\n",
              "      background-color: #E2EBFA;\n",
              "      box-shadow: 0px 1px 2px rgba(60, 64, 67, 0.3), 0px 1px 3px 1px rgba(60, 64, 67, 0.15);\n",
              "      fill: #174EA6;\n",
              "    }\n",
              "\n",
              "    [theme=dark] .colab-df-convert {\n",
              "      background-color: #3B4455;\n",
              "      fill: #D2E3FC;\n",
              "    }\n",
              "\n",
              "    [theme=dark] .colab-df-convert:hover {\n",
              "      background-color: #434B5C;\n",
              "      box-shadow: 0px 1px 3px 1px rgba(0, 0, 0, 0.15);\n",
              "      filter: drop-shadow(0px 1px 2px rgba(0, 0, 0, 0.3));\n",
              "      fill: #FFFFFF;\n",
              "    }\n",
              "  </style>\n",
              "\n",
              "      <script>\n",
              "        const buttonEl =\n",
              "          document.querySelector('#df-9afb8841-1882-4223-81bb-70cc7764da39 button.colab-df-convert');\n",
              "        buttonEl.style.display =\n",
              "          google.colab.kernel.accessAllowed ? 'block' : 'none';\n",
              "\n",
              "        async function convertToInteractive(key) {\n",
              "          const element = document.querySelector('#df-9afb8841-1882-4223-81bb-70cc7764da39');\n",
              "          const dataTable =\n",
              "            await google.colab.kernel.invokeFunction('convertToInteractive',\n",
              "                                                     [key], {});\n",
              "          if (!dataTable) return;\n",
              "\n",
              "          const docLinkHtml = 'Like what you see? Visit the ' +\n",
              "            '<a target=\"_blank\" href=https://colab.research.google.com/notebooks/data_table.ipynb>data table notebook</a>'\n",
              "            + ' to learn more about interactive tables.';\n",
              "          element.innerHTML = '';\n",
              "          dataTable['output_type'] = 'display_data';\n",
              "          await google.colab.output.renderOutput(dataTable, element);\n",
              "          const docLink = document.createElement('div');\n",
              "          docLink.innerHTML = docLinkHtml;\n",
              "          element.appendChild(docLink);\n",
              "        }\n",
              "      </script>\n",
              "    </div>\n",
              "  </div>\n",
              "  "
            ]
          },
          "metadata": {},
          "execution_count": 241
        }
      ]
    },
    {
      "cell_type": "code",
      "source": [
        "X_train, X_test, y_train, y_test = train_test_split(train_features, train_labels, test_size = 0.2, random_state = 0)"
      ],
      "metadata": {
        "id": "M2sC-PqAHqIV"
      },
      "execution_count": 242,
      "outputs": []
    },
    {
      "cell_type": "markdown",
      "source": [
        "# **Normalisasi Data**"
      ],
      "metadata": {
        "id": "69D2FxA6CiXj"
      }
    },
    {
      "cell_type": "code",
      "source": [
        "feature_scaler = StandardScaler()\n",
        "label_scaler = StandardScaler()\n",
        "\n",
        "# Fit and Transform both training and testing data\n",
        "X_train = feature_scaler.fit_transform(X_train.values)\n",
        "X_test = feature_scaler.fit_transform(X_test.values)\n",
        "y_train = label_scaler.fit_transform(y_train.values.reshape(-1, 1))\n",
        "y_test = label_scaler.fit_transform(y_test.values.reshape(-1, 1))"
      ],
      "metadata": {
        "id": "i88awH2vHc-o"
      },
      "execution_count": 243,
      "outputs": []
    },
    {
      "cell_type": "markdown",
      "source": [
        "# **Callback**"
      ],
      "metadata": {
        "id": "dDxJe4x0FWdU"
      }
    },
    {
      "cell_type": "code",
      "source": [
        "class myCallback(tf.keras.callbacks.Callback):\n",
        "  def on_epoch_end(self, epoch, logs={}):\n",
        "    if(logs.get('val_loss')<=0.4 and  logs.get('loss')<=0.4):\n",
        "      print(\"\\nScore MAE reached 8.01 so cancelling training!\")\n",
        "      self.model.stop_training = True\n",
        "callback = myCallback()"
      ],
      "metadata": {
        "id": "m0WiBnVaFVmq"
      },
      "execution_count": 244,
      "outputs": []
    },
    {
      "cell_type": "markdown",
      "source": [
        "# **Regression**"
      ],
      "metadata": {
        "id": "JjVtmlgj2x9S"
      }
    },
    {
      "cell_type": "code",
      "source": [
        "tf.random.set_seed(50)  #first we set random seed\n",
        "model = Sequential([\n",
        "    layers.Dense(64, activation='relu'),\n",
        "    layers.Dropout(0.2),\n",
        "    layers.Dense(64, activation='relu'),\n",
        "    layers.Dense(1)\n",
        "])\n",
        "model.compile( loss = 'mean_absolute_error',\n",
        "              optimizer = tf.keras.optimizers.Adam(0.001))\n",
        "history = model.fit(epochs=50, x=X_train, y=y_train,batch_size = 100,\n",
        "          validation_split=0.2,\n",
        "          callbacks = [callback])"
      ],
      "metadata": {
        "colab": {
          "base_uri": "https://localhost:8080/"
        },
        "id": "fQYsjvzDCmcC",
        "outputId": "305e4310-19c9-444d-8417-ecd4b708578b"
      },
      "execution_count": 245,
      "outputs": [
        {
          "output_type": "stream",
          "name": "stdout",
          "text": [
            "Epoch 1/50\n",
            "373/373 [==============================] - 2s 3ms/step - loss: 0.4822 - val_loss: 0.4465\n",
            "Epoch 2/50\n",
            "373/373 [==============================] - 1s 3ms/step - loss: 0.4673 - val_loss: 0.4477\n",
            "Epoch 3/50\n",
            "373/373 [==============================] - 1s 3ms/step - loss: 0.4636 - val_loss: 0.4392\n",
            "Epoch 4/50\n",
            "373/373 [==============================] - 1s 2ms/step - loss: 0.4612 - val_loss: 0.4390\n",
            "Epoch 5/50\n",
            "373/373 [==============================] - 1s 3ms/step - loss: 0.4583 - val_loss: 0.4459\n",
            "Epoch 6/50\n",
            "373/373 [==============================] - 1s 3ms/step - loss: 0.4566 - val_loss: 0.4385\n",
            "Epoch 7/50\n",
            "373/373 [==============================] - 1s 3ms/step - loss: 0.4564 - val_loss: 0.4380\n",
            "Epoch 8/50\n",
            "373/373 [==============================] - 1s 2ms/step - loss: 0.4551 - val_loss: 0.4372\n",
            "Epoch 9/50\n",
            "373/373 [==============================] - 1s 3ms/step - loss: 0.4553 - val_loss: 0.4373\n",
            "Epoch 10/50\n",
            "373/373 [==============================] - 1s 2ms/step - loss: 0.4550 - val_loss: 0.4386\n",
            "Epoch 11/50\n",
            "373/373 [==============================] - 1s 2ms/step - loss: 0.4543 - val_loss: 0.4414\n",
            "Epoch 12/50\n",
            "373/373 [==============================] - 1s 3ms/step - loss: 0.4541 - val_loss: 0.4419\n",
            "Epoch 13/50\n",
            "373/373 [==============================] - 1s 2ms/step - loss: 0.4536 - val_loss: 0.4390\n",
            "Epoch 14/50\n",
            "373/373 [==============================] - 1s 2ms/step - loss: 0.4532 - val_loss: 0.4343\n",
            "Epoch 15/50\n",
            "373/373 [==============================] - 1s 3ms/step - loss: 0.4530 - val_loss: 0.4370\n",
            "Epoch 16/50\n",
            "373/373 [==============================] - 1s 2ms/step - loss: 0.4533 - val_loss: 0.4371\n",
            "Epoch 17/50\n",
            "373/373 [==============================] - 1s 3ms/step - loss: 0.4532 - val_loss: 0.4356\n",
            "Epoch 18/50\n",
            "373/373 [==============================] - 1s 2ms/step - loss: 0.4528 - val_loss: 0.4367\n",
            "Epoch 19/50\n",
            "373/373 [==============================] - 1s 3ms/step - loss: 0.4527 - val_loss: 0.4422\n",
            "Epoch 20/50\n",
            "373/373 [==============================] - 1s 2ms/step - loss: 0.4531 - val_loss: 0.4386\n",
            "Epoch 21/50\n",
            "373/373 [==============================] - 1s 2ms/step - loss: 0.4523 - val_loss: 0.4391\n",
            "Epoch 22/50\n",
            "373/373 [==============================] - 1s 2ms/step - loss: 0.4519 - val_loss: 0.4415\n",
            "Epoch 23/50\n",
            "373/373 [==============================] - 1s 2ms/step - loss: 0.4519 - val_loss: 0.4386\n",
            "Epoch 24/50\n",
            "373/373 [==============================] - 1s 3ms/step - loss: 0.4519 - val_loss: 0.4413\n",
            "Epoch 25/50\n",
            "373/373 [==============================] - 1s 2ms/step - loss: 0.4524 - val_loss: 0.4396\n",
            "Epoch 26/50\n",
            "373/373 [==============================] - 1s 2ms/step - loss: 0.4511 - val_loss: 0.4378\n",
            "Epoch 27/50\n",
            "373/373 [==============================] - 1s 2ms/step - loss: 0.4517 - val_loss: 0.4365\n",
            "Epoch 28/50\n",
            "373/373 [==============================] - 1s 2ms/step - loss: 0.4513 - val_loss: 0.4378\n",
            "Epoch 29/50\n",
            "373/373 [==============================] - 1s 2ms/step - loss: 0.4515 - val_loss: 0.4414\n",
            "Epoch 30/50\n",
            "373/373 [==============================] - 1s 3ms/step - loss: 0.4512 - val_loss: 0.4388\n",
            "Epoch 31/50\n",
            "373/373 [==============================] - 1s 3ms/step - loss: 0.4514 - val_loss: 0.4391\n",
            "Epoch 32/50\n",
            "373/373 [==============================] - 1s 2ms/step - loss: 0.4514 - val_loss: 0.4391\n",
            "Epoch 33/50\n",
            "373/373 [==============================] - 1s 3ms/step - loss: 0.4509 - val_loss: 0.4410\n",
            "Epoch 34/50\n",
            "373/373 [==============================] - 1s 3ms/step - loss: 0.4513 - val_loss: 0.4378\n",
            "Epoch 35/50\n",
            "373/373 [==============================] - 1s 2ms/step - loss: 0.4512 - val_loss: 0.4410\n",
            "Epoch 36/50\n",
            "373/373 [==============================] - 1s 2ms/step - loss: 0.4507 - val_loss: 0.4411\n",
            "Epoch 37/50\n",
            "373/373 [==============================] - 1s 2ms/step - loss: 0.4508 - val_loss: 0.4437\n",
            "Epoch 38/50\n",
            "373/373 [==============================] - 1s 2ms/step - loss: 0.4507 - val_loss: 0.4385\n",
            "Epoch 39/50\n",
            "373/373 [==============================] - 1s 2ms/step - loss: 0.4509 - val_loss: 0.4370\n",
            "Epoch 40/50\n",
            "373/373 [==============================] - 1s 2ms/step - loss: 0.4509 - val_loss: 0.4375\n",
            "Epoch 41/50\n",
            "373/373 [==============================] - 1s 3ms/step - loss: 0.4504 - val_loss: 0.4422\n",
            "Epoch 42/50\n",
            "373/373 [==============================] - 1s 2ms/step - loss: 0.4510 - val_loss: 0.4390\n",
            "Epoch 43/50\n",
            "373/373 [==============================] - 1s 2ms/step - loss: 0.4505 - val_loss: 0.4434\n",
            "Epoch 44/50\n",
            "373/373 [==============================] - 1s 3ms/step - loss: 0.4506 - val_loss: 0.4422\n",
            "Epoch 45/50\n",
            "373/373 [==============================] - 1s 2ms/step - loss: 0.4501 - val_loss: 0.4425\n",
            "Epoch 46/50\n",
            "373/373 [==============================] - 1s 2ms/step - loss: 0.4499 - val_loss: 0.4430\n",
            "Epoch 47/50\n",
            "373/373 [==============================] - 1s 2ms/step - loss: 0.4508 - val_loss: 0.4465\n",
            "Epoch 48/50\n",
            "373/373 [==============================] - 1s 2ms/step - loss: 0.4506 - val_loss: 0.4421\n",
            "Epoch 49/50\n",
            "373/373 [==============================] - 1s 2ms/step - loss: 0.4505 - val_loss: 0.4403\n",
            "Epoch 50/50\n",
            "373/373 [==============================] - 1s 3ms/step - loss: 0.4503 - val_loss: 0.4466\n"
          ]
        }
      ]
    },
    {
      "cell_type": "code",
      "source": [
        "#Plot lost history\n",
        "def plot_loss(history):\n",
        "    plt.plot(history.history['loss'], label='loss')\n",
        "    plt.plot(history.history['val_loss'], label='val_loss')\n",
        "    plt.ylim([0,1])\n",
        "    plt.xlabel('Epoch')\n",
        "    plt.ylabel('Error (Loss)')\n",
        "    plt.legend()\n",
        "    plt.grid(True)\n",
        "\n",
        "plot_loss(history)"
      ],
      "metadata": {
        "colab": {
          "base_uri": "https://localhost:8080/",
          "height": 289
        },
        "id": "1NntdRLAd2fA",
        "outputId": "882bb081-3c52-4fbb-eb92-7bac6e18039d"
      },
      "execution_count": 246,
      "outputs": [
        {
          "output_type": "display_data",
          "data": {
            "text/plain": [
              "<Figure size 432x288 with 1 Axes>"
            ],
            "image/png": "[encoded data removed]"
          },
          "metadata": {}
        }
      ]
    },
    {
      "cell_type": "markdown",
      "source": [
        "# **Testing Model**"
      ],
      "metadata": {
        "id": "pLV2nsBrI8P3"
      }
    },
    {
      "cell_type": "code",
      "source": [
        "test_predictions = model.predict(X_test).flatten()"
      ],
      "metadata": {
        "id": "TcV29jP5I7-n"
      },
      "execution_count": 135,
      "outputs": []
    },
    {
      "cell_type": "code",
      "source": [
        "a = plt.axes(aspect='equal')\n",
        "plt.scatter(y_test, test_predictions)\n",
        "plt.xlabel('True Values [trip_duration]')\n",
        "plt.ylabel('Predictions [trip_duration]')\n",
        "lims = [0, 50]\n",
        "plt.xlim(lims)\n",
        "plt.ylim(lims)\n",
        "_ = plt.plot(lims, lims)"
      ],
      "metadata": {
        "colab": {
          "base_uri": "https://localhost:8080/",
          "height": 289
        },
        "id": "xAn29jo6I_0g",
        "outputId": "97636ae4-95e4-4be4-bc1e-1b5a24129b51"
      },
      "execution_count": 136,
      "outputs": [
        {
          "output_type": "display_data",
          "data": {
            "text/plain": [
              "<Figure size 432x288 with 1 Axes>"
            ],
            "image/png": "[encoded data removed]"
          },
          "metadata": {}
        }
      ]
    },
    {
      "cell_type": "code",
      "source": [
        "error = test_predictions - y_test\n",
        "plt.hist(error, bins=25)\n",
        "plt.xlabel('Prediction Error [trip_duration]')\n",
        "_ = plt.ylabel('Count')"
      ],
      "metadata": {
        "colab": {
          "base_uri": "https://localhost:8080/",
          "height": 814
        },
        "id": "co-IPAA8Iy9v",
        "outputId": "56384617-9908-4a29-e07d-06d0276a38d4"
      },
      "execution_count": 137,
      "outputs": [
        {
          "output_type": "stream",
          "name": "stdout",
          "text": [
            "Error in callback <function install_repl_displayhook.<locals>.post_execute at 0x7ff6ddad1710> (for post_execute):\n"
          ]
        },
        {
          "output_type": "error",
          "ename": "KeyboardInterrupt",
          "evalue": "ignored",
          "traceback": [
            "\u001b[0;31m---------------------------------------------------------------------------\u001b[0m",
            "\u001b[0;31mKeyboardInterrupt\u001b[0m                         Traceback (most recent call last)",
            "\u001b[0;32m/usr/local/lib/python3.7/dist-packages/matplotlib/pyplot.py\u001b[0m in \u001b[0;36mpost_execute\u001b[0;34m()\u001b[0m\n\u001b[1;32m    107\u001b[0m             \u001b[0;32mdef\u001b[0m \u001b[0mpost_execute\u001b[0m\u001b[0;34m(\u001b[0m\u001b[0;34m)\u001b[0m\u001b[0;34m:\u001b[0m\u001b[0;34m\u001b[0m\u001b[0;34m\u001b[0m\u001b[0m\n\u001b[1;32m    108\u001b[0m                 \u001b[0;32mif\u001b[0m \u001b[0mmatplotlib\u001b[0m\u001b[0;34m.\u001b[0m\u001b[0mis_interactive\u001b[0m\u001b[0;34m(\u001b[0m\u001b[0;34m)\u001b[0m\u001b[0;34m:\u001b[0m\u001b[0;34m\u001b[0m\u001b[0;34m\u001b[0m\u001b[0m\n\u001b[0;32m--> 109\u001b[0;31m                     \u001b[0mdraw_all\u001b[0m\u001b[0;34m(\u001b[0m\u001b[0;34m)\u001b[0m\u001b[0;34m\u001b[0m\u001b[0;34m\u001b[0m\u001b[0m\n\u001b[0m\u001b[1;32m    110\u001b[0m \u001b[0;34m\u001b[0m\u001b[0m\n\u001b[1;32m    111\u001b[0m             \u001b[0;31m# IPython >= 2\u001b[0m\u001b[0;34m\u001b[0m\u001b[0;34m\u001b[0m\u001b[0;34m\u001b[0m\u001b[0m\n",
            "\u001b[0;32m/usr/local/lib/python3.7/dist-packages/matplotlib/_pylab_helpers.py\u001b[0m in \u001b[0;36mdraw_all\u001b[0;34m(cls, force)\u001b[0m\n\u001b[1;32m    125\u001b[0m         \u001b[0;32mfor\u001b[0m \u001b[0mf_mgr\u001b[0m \u001b[0;32min\u001b[0m \u001b[0mcls\u001b[0m\u001b[0;34m.\u001b[0m\u001b[0mget_all_fig_managers\u001b[0m\u001b[0;34m(\u001b[0m\u001b[0;34m)\u001b[0m\u001b[0;34m:\u001b[0m\u001b[0;34m\u001b[0m\u001b[0;34m\u001b[0m\u001b[0m\n\u001b[1;32m    126\u001b[0m             \u001b[0;32mif\u001b[0m \u001b[0mforce\u001b[0m \u001b[0;32mor\u001b[0m \u001b[0mf_mgr\u001b[0m\u001b[0;34m.\u001b[0m\u001b[0mcanvas\u001b[0m\u001b[0;34m.\u001b[0m\u001b[0mfigure\u001b[0m\u001b[0;34m.\u001b[0m\u001b[0mstale\u001b[0m\u001b[0;34m:\u001b[0m\u001b[0;34m\u001b[0m\u001b[0;34m\u001b[0m\u001b[0m\n\u001b[0;32m--> 127\u001b[0;31m                 \u001b[0mf_mgr\u001b[0m\u001b[0;34m.\u001b[0m\u001b[0mcanvas\u001b[0m\u001b[0;34m.\u001b[0m\u001b[0mdraw_idle\u001b[0m\u001b[0;34m(\u001b[0m\u001b[0;34m)\u001b[0m\u001b[0;34m\u001b[0m\u001b[0;34m\u001b[0m\u001b[0m\n\u001b[0m\u001b[1;32m    128\u001b[0m \u001b[0;34m\u001b[0m\u001b[0m\n\u001b[1;32m    129\u001b[0m \u001b[0matexit\u001b[0m\u001b[0;34m.\u001b[0m\u001b[0mregister\u001b[0m\u001b[0;34m(\u001b[0m\u001b[0mGcf\u001b[0m\u001b[0;34m.\u001b[0m\u001b[0mdestroy_all\u001b[0m\u001b[0;34m)\u001b[0m\u001b[0;34m\u001b[0m\u001b[0;34m\u001b[0m\u001b[0m\n",
            "\u001b[0;32m/usr/local/lib/python3.7/dist-packages/matplotlib/backend_bases.py\u001b[0m in \u001b[0;36mdraw_idle\u001b[0;34m(self, *args, **kwargs)\u001b[0m\n\u001b[1;32m   1945\u001b[0m         \u001b[0;32mif\u001b[0m \u001b[0;32mnot\u001b[0m \u001b[0mself\u001b[0m\u001b[0;34m.\u001b[0m\u001b[0m_is_idle_drawing\u001b[0m\u001b[0;34m:\u001b[0m\u001b[0;34m\u001b[0m\u001b[0;34m\u001b[0m\u001b[0m\n\u001b[1;32m   1946\u001b[0m             \u001b[0;32mwith\u001b[0m \u001b[0mself\u001b[0m\u001b[0;34m.\u001b[0m\u001b[0m_idle_draw_cntx\u001b[0m\u001b[0;34m(\u001b[0m\u001b[0;34m)\u001b[0m\u001b[0;34m:\u001b[0m\u001b[0;34m\u001b[0m\u001b[0;34m\u001b[0m\u001b[0m\n\u001b[0;32m-> 1947\u001b[0;31m                 \u001b[0mself\u001b[0m\u001b[0;34m.\u001b[0m\u001b[0mdraw\u001b[0m\u001b[0;34m(\u001b[0m\u001b[0;34m*\u001b[0m\u001b[0margs\u001b[0m\u001b[0;34m,\u001b[0m \u001b[0;34m**\u001b[0m\u001b[0mkwargs\u001b[0m\u001b[0;34m)\u001b[0m\u001b[0;34m\u001b[0m\u001b[0;34m\u001b[0m\u001b[0m\n\u001b[0m\u001b[1;32m   1948\u001b[0m \u001b[0;34m\u001b[0m\u001b[0m\n\u001b[1;32m   1949\u001b[0m     \u001b[0;34m@\u001b[0m\u001b[0mcbook\u001b[0m\u001b[0;34m.\u001b[0m\u001b[0mdeprecated\u001b[0m\u001b[0;34m(\u001b[0m\u001b[0;34m\"3.2\"\u001b[0m\u001b[0;34m)\u001b[0m\u001b[0;34m\u001b[0m\u001b[0;34m\u001b[0m\u001b[0m\n",
            "\u001b[0;32m/usr/local/lib/python3.7/dist-packages/matplotlib/backends/backend_agg.py\u001b[0m in \u001b[0;36mdraw\u001b[0;34m(self)\u001b[0m\n\u001b[1;32m    391\u001b[0m              (self.toolbar._wait_cursor_for_draw_cm() if self.toolbar\n\u001b[1;32m    392\u001b[0m               else nullcontext()):\n\u001b[0;32m--> 393\u001b[0;31m             \u001b[0mself\u001b[0m\u001b[0;34m.\u001b[0m\u001b[0mfigure\u001b[0m\u001b[0;34m.\u001b[0m\u001b[0mdraw\u001b[0m\u001b[0;34m(\u001b[0m\u001b[0mself\u001b[0m\u001b[0;34m.\u001b[0m\u001b[0mrenderer\u001b[0m\u001b[0;34m)\u001b[0m\u001b[0;34m\u001b[0m\u001b[0;34m\u001b[0m\u001b[0m\n\u001b[0m\u001b[1;32m    394\u001b[0m             \u001b[0;31m# A GUI class may be need to update a window using this draw, so\u001b[0m\u001b[0;34m\u001b[0m\u001b[0;34m\u001b[0m\u001b[0;34m\u001b[0m\u001b[0m\n\u001b[1;32m    395\u001b[0m             \u001b[0;31m# don't forget to call the superclass.\u001b[0m\u001b[0;34m\u001b[0m\u001b[0;34m\u001b[0m\u001b[0;34m\u001b[0m\u001b[0m\n",
            "\u001b[0;32m/usr/local/lib/python3.7/dist-packages/matplotlib/artist.py\u001b[0m in \u001b[0;36mdraw_wrapper\u001b[0;34m(artist, renderer, *args, **kwargs)\u001b[0m\n\u001b[1;32m     36\u001b[0m                 \u001b[0mrenderer\u001b[0m\u001b[0;34m.\u001b[0m\u001b[0mstart_filter\u001b[0m\u001b[0;34m(\u001b[0m\u001b[0;34m)\u001b[0m\u001b[0;34m\u001b[0m\u001b[0;34m\u001b[0m\u001b[0m\n\u001b[1;32m     37\u001b[0m \u001b[0;34m\u001b[0m\u001b[0m\n\u001b[0;32m---> 38\u001b[0;31m             \u001b[0;32mreturn\u001b[0m \u001b[0mdraw\u001b[0m\u001b[0;34m(\u001b[0m\u001b[0martist\u001b[0m\u001b[0;34m,\u001b[0m \u001b[0mrenderer\u001b[0m\u001b[0;34m,\u001b[0m \u001b[0;34m*\u001b[0m\u001b[0margs\u001b[0m\u001b[0;34m,\u001b[0m \u001b[0;34m**\u001b[0m\u001b[0mkwargs\u001b[0m\u001b[0;34m)\u001b[0m\u001b[0;34m\u001b[0m\u001b[0;34m\u001b[0m\u001b[0m\n\u001b[0m\u001b[1;32m     39\u001b[0m         \u001b[0;32mfinally\u001b[0m\u001b[0;34m:\u001b[0m\u001b[0;34m\u001b[0m\u001b[0;34m\u001b[0m\u001b[0m\n\u001b[1;32m     40\u001b[0m             \u001b[0;32mif\u001b[0m \u001b[0martist\u001b[0m\u001b[0;34m.\u001b[0m\u001b[0mget_agg_filter\u001b[0m\u001b[0;34m(\u001b[0m\u001b[0;34m)\u001b[0m \u001b[0;32mis\u001b[0m \u001b[0;32mnot\u001b[0m \u001b[0;32mNone\u001b[0m\u001b[0;34m:\u001b[0m\u001b[0;34m\u001b[0m\u001b[0;34m\u001b[0m\u001b[0m\n",
            "\u001b[0;32m/usr/local/lib/python3.7/dist-packages/matplotlib/figure.py\u001b[0m in \u001b[0;36mdraw\u001b[0;34m(self, renderer)\u001b[0m\n\u001b[1;32m   1734\u001b[0m             \u001b[0mself\u001b[0m\u001b[0;34m.\u001b[0m\u001b[0mpatch\u001b[0m\u001b[0;34m.\u001b[0m\u001b[0mdraw\u001b[0m\u001b[0;34m(\u001b[0m\u001b[0mrenderer\u001b[0m\u001b[0;34m)\u001b[0m\u001b[0;34m\u001b[0m\u001b[0;34m\u001b[0m\u001b[0m\n\u001b[1;32m   1735\u001b[0m             mimage._draw_list_compositing_images(\n\u001b[0;32m-> 1736\u001b[0;31m                 renderer, self, artists, self.suppressComposite)\n\u001b[0m\u001b[1;32m   1737\u001b[0m \u001b[0;34m\u001b[0m\u001b[0m\n\u001b[1;32m   1738\u001b[0m             \u001b[0mrenderer\u001b[0m\u001b[0;34m.\u001b[0m\u001b[0mclose_group\u001b[0m\u001b[0;34m(\u001b[0m\u001b[0;34m'figure'\u001b[0m\u001b[0;34m)\u001b[0m\u001b[0;34m\u001b[0m\u001b[0;34m\u001b[0m\u001b[0m\n",
            "\u001b[0;32m/usr/local/lib/python3.7/dist-packages/matplotlib/image.py\u001b[0m in \u001b[0;36m_draw_list_compositing_images\u001b[0;34m(renderer, parent, artists, suppress_composite)\u001b[0m\n\u001b[1;32m    135\u001b[0m     \u001b[0;32mif\u001b[0m \u001b[0mnot_composite\u001b[0m \u001b[0;32mor\u001b[0m \u001b[0;32mnot\u001b[0m \u001b[0mhas_images\u001b[0m\u001b[0;34m:\u001b[0m\u001b[0;34m\u001b[0m\u001b[0;34m\u001b[0m\u001b[0m\n\u001b[1;32m    136\u001b[0m         \u001b[0;32mfor\u001b[0m \u001b[0ma\u001b[0m \u001b[0;32min\u001b[0m \u001b[0martists\u001b[0m\u001b[0;34m:\u001b[0m\u001b[0;34m\u001b[0m\u001b[0;34m\u001b[0m\u001b[0m\n\u001b[0;32m--> 137\u001b[0;31m             \u001b[0ma\u001b[0m\u001b[0;34m.\u001b[0m\u001b[0mdraw\u001b[0m\u001b[0;34m(\u001b[0m\u001b[0mrenderer\u001b[0m\u001b[0;34m)\u001b[0m\u001b[0;34m\u001b[0m\u001b[0;34m\u001b[0m\u001b[0m\n\u001b[0m\u001b[1;32m    138\u001b[0m     \u001b[0;32melse\u001b[0m\u001b[0;34m:\u001b[0m\u001b[0;34m\u001b[0m\u001b[0;34m\u001b[0m\u001b[0m\n\u001b[1;32m    139\u001b[0m         \u001b[0;31m# Composite any adjacent images together\u001b[0m\u001b[0;34m\u001b[0m\u001b[0;34m\u001b[0m\u001b[0;34m\u001b[0m\u001b[0m\n",
            "\u001b[0;32m/usr/local/lib/python3.7/dist-packages/matplotlib/artist.py\u001b[0m in \u001b[0;36mdraw_wrapper\u001b[0;34m(artist, renderer, *args, **kwargs)\u001b[0m\n\u001b[1;32m     36\u001b[0m                 \u001b[0mrenderer\u001b[0m\u001b[0;34m.\u001b[0m\u001b[0mstart_filter\u001b[0m\u001b[0;34m(\u001b[0m\u001b[0;34m)\u001b[0m\u001b[0;34m\u001b[0m\u001b[0;34m\u001b[0m\u001b[0m\n\u001b[1;32m     37\u001b[0m \u001b[0;34m\u001b[0m\u001b[0m\n\u001b[0;32m---> 38\u001b[0;31m             \u001b[0;32mreturn\u001b[0m \u001b[0mdraw\u001b[0m\u001b[0;34m(\u001b[0m\u001b[0martist\u001b[0m\u001b[0;34m,\u001b[0m \u001b[0mrenderer\u001b[0m\u001b[0;34m,\u001b[0m \u001b[0;34m*\u001b[0m\u001b[0margs\u001b[0m\u001b[0;34m,\u001b[0m \u001b[0;34m**\u001b[0m\u001b[0mkwargs\u001b[0m\u001b[0;34m)\u001b[0m\u001b[0;34m\u001b[0m\u001b[0;34m\u001b[0m\u001b[0m\n\u001b[0m\u001b[1;32m     39\u001b[0m         \u001b[0;32mfinally\u001b[0m\u001b[0;34m:\u001b[0m\u001b[0;34m\u001b[0m\u001b[0;34m\u001b[0m\u001b[0m\n\u001b[1;32m     40\u001b[0m             \u001b[0;32mif\u001b[0m \u001b[0martist\u001b[0m\u001b[0;34m.\u001b[0m\u001b[0mget_agg_filter\u001b[0m\u001b[0;34m(\u001b[0m\u001b[0;34m)\u001b[0m \u001b[0;32mis\u001b[0m \u001b[0;32mnot\u001b[0m \u001b[0;32mNone\u001b[0m\u001b[0;34m:\u001b[0m\u001b[0;34m\u001b[0m\u001b[0;34m\u001b[0m\u001b[0m\n",
            "\u001b[0;32m/usr/local/lib/python3.7/dist-packages/matplotlib/axes/_base.py\u001b[0m in \u001b[0;36mdraw\u001b[0;34m(self, renderer, inframe)\u001b[0m\n\u001b[1;32m   2628\u001b[0m             \u001b[0mrenderer\u001b[0m\u001b[0;34m.\u001b[0m\u001b[0mstop_rasterizing\u001b[0m\u001b[0;34m(\u001b[0m\u001b[0;34m)\u001b[0m\u001b[0;34m\u001b[0m\u001b[0;34m\u001b[0m\u001b[0m\n\u001b[1;32m   2629\u001b[0m \u001b[0;34m\u001b[0m\u001b[0m\n\u001b[0;32m-> 2630\u001b[0;31m         \u001b[0mmimage\u001b[0m\u001b[0;34m.\u001b[0m\u001b[0m_draw_list_compositing_images\u001b[0m\u001b[0;34m(\u001b[0m\u001b[0mrenderer\u001b[0m\u001b[0;34m,\u001b[0m \u001b[0mself\u001b[0m\u001b[0;34m,\u001b[0m \u001b[0martists\u001b[0m\u001b[0;34m)\u001b[0m\u001b[0;34m\u001b[0m\u001b[0;34m\u001b[0m\u001b[0m\n\u001b[0m\u001b[1;32m   2631\u001b[0m \u001b[0;34m\u001b[0m\u001b[0m\n\u001b[1;32m   2632\u001b[0m         \u001b[0mrenderer\u001b[0m\u001b[0;34m.\u001b[0m\u001b[0mclose_group\u001b[0m\u001b[0;34m(\u001b[0m\u001b[0;34m'axes'\u001b[0m\u001b[0;34m)\u001b[0m\u001b[0;34m\u001b[0m\u001b[0;34m\u001b[0m\u001b[0m\n",
            "\u001b[0;32m/usr/local/lib/python3.7/dist-packages/matplotlib/image.py\u001b[0m in \u001b[0;36m_draw_list_compositing_images\u001b[0;34m(renderer, parent, artists, suppress_composite)\u001b[0m\n\u001b[1;32m    135\u001b[0m     \u001b[0;32mif\u001b[0m \u001b[0mnot_composite\u001b[0m \u001b[0;32mor\u001b[0m \u001b[0;32mnot\u001b[0m \u001b[0mhas_images\u001b[0m\u001b[0;34m:\u001b[0m\u001b[0;34m\u001b[0m\u001b[0;34m\u001b[0m\u001b[0m\n\u001b[1;32m    136\u001b[0m         \u001b[0;32mfor\u001b[0m \u001b[0ma\u001b[0m \u001b[0;32min\u001b[0m \u001b[0martists\u001b[0m\u001b[0;34m:\u001b[0m\u001b[0;34m\u001b[0m\u001b[0;34m\u001b[0m\u001b[0m\n\u001b[0;32m--> 137\u001b[0;31m             \u001b[0ma\u001b[0m\u001b[0;34m.\u001b[0m\u001b[0mdraw\u001b[0m\u001b[0;34m(\u001b[0m\u001b[0mrenderer\u001b[0m\u001b[0;34m)\u001b[0m\u001b[0;34m\u001b[0m\u001b[0;34m\u001b[0m\u001b[0m\n\u001b[0m\u001b[1;32m    138\u001b[0m     \u001b[0;32melse\u001b[0m\u001b[0;34m:\u001b[0m\u001b[0;34m\u001b[0m\u001b[0;34m\u001b[0m\u001b[0m\n\u001b[1;32m    139\u001b[0m         \u001b[0;31m# Composite any adjacent images together\u001b[0m\u001b[0;34m\u001b[0m\u001b[0;34m\u001b[0m\u001b[0;34m\u001b[0m\u001b[0m\n",
            "\u001b[0;32m/usr/local/lib/python3.7/dist-packages/matplotlib/artist.py\u001b[0m in \u001b[0;36mdraw_wrapper\u001b[0;34m(artist, renderer, *args, **kwargs)\u001b[0m\n\u001b[1;32m     36\u001b[0m                 \u001b[0mrenderer\u001b[0m\u001b[0;34m.\u001b[0m\u001b[0mstart_filter\u001b[0m\u001b[0;34m(\u001b[0m\u001b[0;34m)\u001b[0m\u001b[0;34m\u001b[0m\u001b[0;34m\u001b[0m\u001b[0m\n\u001b[1;32m     37\u001b[0m \u001b[0;34m\u001b[0m\u001b[0m\n\u001b[0;32m---> 38\u001b[0;31m             \u001b[0;32mreturn\u001b[0m \u001b[0mdraw\u001b[0m\u001b[0;34m(\u001b[0m\u001b[0martist\u001b[0m\u001b[0;34m,\u001b[0m \u001b[0mrenderer\u001b[0m\u001b[0;34m,\u001b[0m \u001b[0;34m*\u001b[0m\u001b[0margs\u001b[0m\u001b[0;34m,\u001b[0m \u001b[0;34m**\u001b[0m\u001b[0mkwargs\u001b[0m\u001b[0;34m)\u001b[0m\u001b[0;34m\u001b[0m\u001b[0;34m\u001b[0m\u001b[0m\n\u001b[0m\u001b[1;32m     39\u001b[0m         \u001b[0;32mfinally\u001b[0m\u001b[0;34m:\u001b[0m\u001b[0;34m\u001b[0m\u001b[0;34m\u001b[0m\u001b[0m\n\u001b[1;32m     40\u001b[0m             \u001b[0;32mif\u001b[0m \u001b[0martist\u001b[0m\u001b[0;34m.\u001b[0m\u001b[0mget_agg_filter\u001b[0m\u001b[0;34m(\u001b[0m\u001b[0;34m)\u001b[0m \u001b[0;32mis\u001b[0m \u001b[0;32mnot\u001b[0m \u001b[0;32mNone\u001b[0m\u001b[0;34m:\u001b[0m\u001b[0;34m\u001b[0m\u001b[0;34m\u001b[0m\u001b[0m\n",
            "\u001b[0;32m/usr/local/lib/python3.7/dist-packages/matplotlib/patches.py\u001b[0m in \u001b[0;36mdraw\u001b[0;34m(self, renderer)\u001b[0m\n\u001b[1;32m    600\u001b[0m                       \u001b[0;31m# do not draw the hatches if the facecolor is fully\u001b[0m\u001b[0;34m\u001b[0m\u001b[0;34m\u001b[0m\u001b[0;34m\u001b[0m\u001b[0m\n\u001b[1;32m    601\u001b[0m                       \u001b[0;31m# transparent, but do if it is None.\u001b[0m\u001b[0;34m\u001b[0m\u001b[0;34m\u001b[0m\u001b[0;34m\u001b[0m\u001b[0m\n\u001b[0;32m--> 602\u001b[0;31m                       self._facecolor if self._facecolor[3] else None)\n\u001b[0m\u001b[1;32m    603\u001b[0m \u001b[0;34m\u001b[0m\u001b[0m\n\u001b[1;32m    604\u001b[0m     \u001b[0;32mdef\u001b[0m \u001b[0mget_path\u001b[0m\u001b[0;34m(\u001b[0m\u001b[0mself\u001b[0m\u001b[0;34m)\u001b[0m\u001b[0;34m:\u001b[0m\u001b[0;34m\u001b[0m\u001b[0;34m\u001b[0m\u001b[0m\n",
            "\u001b[0;32m/usr/lib/python3.7/contextlib.py\u001b[0m in \u001b[0;36m__exit__\u001b[0;34m(self, type, value, traceback)\u001b[0m\n\u001b[1;32m    117\u001b[0m         \u001b[0;32mif\u001b[0m \u001b[0mtype\u001b[0m \u001b[0;32mis\u001b[0m \u001b[0;32mNone\u001b[0m\u001b[0;34m:\u001b[0m\u001b[0;34m\u001b[0m\u001b[0;34m\u001b[0m\u001b[0m\n\u001b[1;32m    118\u001b[0m             \u001b[0;32mtry\u001b[0m\u001b[0;34m:\u001b[0m\u001b[0;34m\u001b[0m\u001b[0;34m\u001b[0m\u001b[0m\n\u001b[0;32m--> 119\u001b[0;31m                 \u001b[0mnext\u001b[0m\u001b[0;34m(\u001b[0m\u001b[0mself\u001b[0m\u001b[0;34m.\u001b[0m\u001b[0mgen\u001b[0m\u001b[0;34m)\u001b[0m\u001b[0;34m\u001b[0m\u001b[0;34m\u001b[0m\u001b[0m\n\u001b[0m\u001b[1;32m    120\u001b[0m             \u001b[0;32mexcept\u001b[0m \u001b[0mStopIteration\u001b[0m\u001b[0;34m:\u001b[0m\u001b[0;34m\u001b[0m\u001b[0;34m\u001b[0m\u001b[0m\n\u001b[1;32m    121\u001b[0m                 \u001b[0;32mreturn\u001b[0m \u001b[0;32mFalse\u001b[0m\u001b[0;34m\u001b[0m\u001b[0;34m\u001b[0m\u001b[0m\n",
            "\u001b[0;32m/usr/local/lib/python3.7/dist-packages/matplotlib/patches.py\u001b[0m in \u001b[0;36m_bind_draw_path_function\u001b[0;34m(self, renderer)\u001b[0m\n\u001b[1;32m    581\u001b[0m         \u001b[0mgc\u001b[0m\u001b[0;34m.\u001b[0m\u001b[0mrestore\u001b[0m\u001b[0;34m(\u001b[0m\u001b[0;34m)\u001b[0m\u001b[0;34m\u001b[0m\u001b[0;34m\u001b[0m\u001b[0m\n\u001b[1;32m    582\u001b[0m         \u001b[0mrenderer\u001b[0m\u001b[0;34m.\u001b[0m\u001b[0mclose_group\u001b[0m\u001b[0;34m(\u001b[0m\u001b[0;34m'patch'\u001b[0m\u001b[0;34m)\u001b[0m\u001b[0;34m\u001b[0m\u001b[0;34m\u001b[0m\u001b[0m\n\u001b[0;32m--> 583\u001b[0;31m         \u001b[0mself\u001b[0m\u001b[0;34m.\u001b[0m\u001b[0mstale\u001b[0m \u001b[0;34m=\u001b[0m \u001b[0;32mFalse\u001b[0m\u001b[0;34m\u001b[0m\u001b[0;34m\u001b[0m\u001b[0m\n\u001b[0m\u001b[1;32m    584\u001b[0m \u001b[0;34m\u001b[0m\u001b[0m\n\u001b[1;32m    585\u001b[0m     \u001b[0;34m@\u001b[0m\u001b[0martist\u001b[0m\u001b[0;34m.\u001b[0m\u001b[0mallow_rasterization\u001b[0m\u001b[0;34m\u001b[0m\u001b[0;34m\u001b[0m\u001b[0m\n",
            "\u001b[0;32m/usr/local/lib/python3.7/dist-packages/matplotlib/artist.py\u001b[0m in \u001b[0;36mstale\u001b[0;34m(self, val)\u001b[0m\n\u001b[1;32m    217\u001b[0m     \u001b[0;34m@\u001b[0m\u001b[0mstale\u001b[0m\u001b[0;34m.\u001b[0m\u001b[0msetter\u001b[0m\u001b[0;34m\u001b[0m\u001b[0;34m\u001b[0m\u001b[0m\n\u001b[1;32m    218\u001b[0m     \u001b[0;32mdef\u001b[0m \u001b[0mstale\u001b[0m\u001b[0;34m(\u001b[0m\u001b[0mself\u001b[0m\u001b[0;34m,\u001b[0m \u001b[0mval\u001b[0m\u001b[0;34m)\u001b[0m\u001b[0;34m:\u001b[0m\u001b[0;34m\u001b[0m\u001b[0;34m\u001b[0m\u001b[0m\n\u001b[0;32m--> 219\u001b[0;31m         \u001b[0mself\u001b[0m\u001b[0;34m.\u001b[0m\u001b[0m_stale\u001b[0m \u001b[0;34m=\u001b[0m \u001b[0mval\u001b[0m\u001b[0;34m\u001b[0m\u001b[0;34m\u001b[0m\u001b[0m\n\u001b[0m\u001b[1;32m    220\u001b[0m \u001b[0;34m\u001b[0m\u001b[0m\n\u001b[1;32m    221\u001b[0m         \u001b[0;31m# if the artist is animated it does not take normal part in the\u001b[0m\u001b[0;34m\u001b[0m\u001b[0;34m\u001b[0m\u001b[0;34m\u001b[0m\u001b[0m\n",
            "\u001b[0;31mKeyboardInterrupt\u001b[0m: "
          ]
        },
        {
          "output_type": "stream",
          "name": "stdout",
          "text": [
            "Error in callback <function flush_figures at 0x7ff6ddadb200> (for post_execute):\n"
          ]
        },
        {
          "output_type": "error",
          "ename": "KeyboardInterrupt",
          "evalue": "ignored",
          "traceback": [
            "\u001b[0;31m---------------------------------------------------------------------------\u001b[0m",
            "\u001b[0;31mKeyboardInterrupt\u001b[0m                         Traceback (most recent call last)",
            "\u001b[0;32m/usr/local/lib/python3.7/dist-packages/ipykernel/pylab/backend_inline.py\u001b[0m in \u001b[0;36mflush_figures\u001b[0;34m()\u001b[0m\n\u001b[1;32m    115\u001b[0m         \u001b[0;31m# ignore the tracking, just draw and close all figures\u001b[0m\u001b[0;34m\u001b[0m\u001b[0;34m\u001b[0m\u001b[0;34m\u001b[0m\u001b[0m\n\u001b[1;32m    116\u001b[0m         \u001b[0;32mtry\u001b[0m\u001b[0;34m:\u001b[0m\u001b[0;34m\u001b[0m\u001b[0;34m\u001b[0m\u001b[0m\n\u001b[0;32m--> 117\u001b[0;31m             \u001b[0;32mreturn\u001b[0m \u001b[0mshow\u001b[0m\u001b[0;34m(\u001b[0m\u001b[0;32mTrue\u001b[0m\u001b[0;34m)\u001b[0m\u001b[0;34m\u001b[0m\u001b[0;34m\u001b[0m\u001b[0m\n\u001b[0m\u001b[1;32m    118\u001b[0m         \u001b[0;32mexcept\u001b[0m \u001b[0mException\u001b[0m \u001b[0;32mas\u001b[0m \u001b[0me\u001b[0m\u001b[0;34m:\u001b[0m\u001b[0;34m\u001b[0m\u001b[0;34m\u001b[0m\u001b[0m\n\u001b[1;32m    119\u001b[0m             \u001b[0;31m# safely show traceback if in IPython, else raise\u001b[0m\u001b[0;34m\u001b[0m\u001b[0;34m\u001b[0m\u001b[0;34m\u001b[0m\u001b[0m\n",
            "\u001b[0;32m/usr/local/lib/python3.7/dist-packages/ipykernel/pylab/backend_inline.py\u001b[0m in \u001b[0;36mshow\u001b[0;34m(close, block)\u001b[0m\n\u001b[1;32m     37\u001b[0m             display(\n\u001b[1;32m     38\u001b[0m                 \u001b[0mfigure_manager\u001b[0m\u001b[0;34m.\u001b[0m\u001b[0mcanvas\u001b[0m\u001b[0;34m.\u001b[0m\u001b[0mfigure\u001b[0m\u001b[0;34m,\u001b[0m\u001b[0;34m\u001b[0m\u001b[0;34m\u001b[0m\u001b[0m\n\u001b[0;32m---> 39\u001b[0;31m                 \u001b[0mmetadata\u001b[0m\u001b[0;34m=\u001b[0m\u001b[0m_fetch_figure_metadata\u001b[0m\u001b[0;34m(\u001b[0m\u001b[0mfigure_manager\u001b[0m\u001b[0;34m.\u001b[0m\u001b[0mcanvas\u001b[0m\u001b[0;34m.\u001b[0m\u001b[0mfigure\u001b[0m\u001b[0;34m)\u001b[0m\u001b[0;34m\u001b[0m\u001b[0;34m\u001b[0m\u001b[0m\n\u001b[0m\u001b[1;32m     40\u001b[0m             )\n\u001b[1;32m     41\u001b[0m     \u001b[0;32mfinally\u001b[0m\u001b[0;34m:\u001b[0m\u001b[0;34m\u001b[0m\u001b[0;34m\u001b[0m\u001b[0m\n",
            "\u001b[0;32m/usr/local/lib/python3.7/dist-packages/IPython/core/display.py\u001b[0m in \u001b[0;36mdisplay\u001b[0;34m(*objs, **kwargs)\u001b[0m\n\u001b[1;32m    304\u001b[0m             \u001b[0mpublish_display_data\u001b[0m\u001b[0;34m(\u001b[0m\u001b[0mdata\u001b[0m\u001b[0;34m=\u001b[0m\u001b[0mobj\u001b[0m\u001b[0;34m,\u001b[0m \u001b[0mmetadata\u001b[0m\u001b[0;34m=\u001b[0m\u001b[0mmetadata\u001b[0m\u001b[0;34m,\u001b[0m \u001b[0;34m**\u001b[0m\u001b[0mkwargs\u001b[0m\u001b[0;34m)\u001b[0m\u001b[0;34m\u001b[0m\u001b[0;34m\u001b[0m\u001b[0m\n\u001b[1;32m    305\u001b[0m         \u001b[0;32melse\u001b[0m\u001b[0;34m:\u001b[0m\u001b[0;34m\u001b[0m\u001b[0;34m\u001b[0m\u001b[0m\n\u001b[0;32m--> 306\u001b[0;31m             \u001b[0mformat_dict\u001b[0m\u001b[0;34m,\u001b[0m \u001b[0mmd_dict\u001b[0m \u001b[0;34m=\u001b[0m \u001b[0mformat\u001b[0m\u001b[0;34m(\u001b[0m\u001b[0mobj\u001b[0m\u001b[0;34m,\u001b[0m \u001b[0minclude\u001b[0m\u001b[0;34m=\u001b[0m\u001b[0minclude\u001b[0m\u001b[0;34m,\u001b[0m \u001b[0mexclude\u001b[0m\u001b[0;34m=\u001b[0m\u001b[0mexclude\u001b[0m\u001b[0;34m)\u001b[0m\u001b[0;34m\u001b[0m\u001b[0;34m\u001b[0m\u001b[0m\n\u001b[0m\u001b[1;32m    307\u001b[0m             \u001b[0;32mif\u001b[0m \u001b[0;32mnot\u001b[0m \u001b[0mformat_dict\u001b[0m\u001b[0;34m:\u001b[0m\u001b[0;34m\u001b[0m\u001b[0;34m\u001b[0m\u001b[0m\n\u001b[1;32m    308\u001b[0m                 \u001b[0;31m# nothing to display (e.g. _ipython_display_ took over)\u001b[0m\u001b[0;34m\u001b[0m\u001b[0;34m\u001b[0m\u001b[0;34m\u001b[0m\u001b[0m\n",
            "\u001b[0;32m/usr/local/lib/python3.7/dist-packages/IPython/core/formatters.py\u001b[0m in \u001b[0;36mformat\u001b[0;34m(self, obj, include, exclude)\u001b[0m\n\u001b[1;32m    171\u001b[0m             \u001b[0mmd\u001b[0m \u001b[0;34m=\u001b[0m \u001b[0;32mNone\u001b[0m\u001b[0;34m\u001b[0m\u001b[0;34m\u001b[0m\u001b[0m\n\u001b[1;32m    172\u001b[0m             \u001b[0;32mtry\u001b[0m\u001b[0;34m:\u001b[0m\u001b[0;34m\u001b[0m\u001b[0;34m\u001b[0m\u001b[0m\n\u001b[0;32m--> 173\u001b[0;31m                 \u001b[0mdata\u001b[0m \u001b[0;34m=\u001b[0m \u001b[0mformatter\u001b[0m\u001b[0;34m(\u001b[0m\u001b[0mobj\u001b[0m\u001b[0;34m)\u001b[0m\u001b[0;34m\u001b[0m\u001b[0;34m\u001b[0m\u001b[0m\n\u001b[0m\u001b[1;32m    174\u001b[0m             \u001b[0;32mexcept\u001b[0m\u001b[0;34m:\u001b[0m\u001b[0;34m\u001b[0m\u001b[0;34m\u001b[0m\u001b[0m\n\u001b[1;32m    175\u001b[0m                 \u001b[0;31m# FIXME: log the exception\u001b[0m\u001b[0;34m\u001b[0m\u001b[0;34m\u001b[0m\u001b[0;34m\u001b[0m\u001b[0m\n",
            "\u001b[0;32m<decorator-gen-2>\u001b[0m in \u001b[0;36m__call__\u001b[0;34m(self, obj)\u001b[0m\n",
            "\u001b[0;32m/usr/local/lib/python3.7/dist-packages/IPython/core/formatters.py\u001b[0m in \u001b[0;36mcatch_format_error\u001b[0;34m(method, self, *args, **kwargs)\u001b[0m\n\u001b[1;32m    215\u001b[0m     \u001b[0;34m\"\"\"show traceback on failed format call\"\"\"\u001b[0m\u001b[0;34m\u001b[0m\u001b[0;34m\u001b[0m\u001b[0m\n\u001b[1;32m    216\u001b[0m     \u001b[0;32mtry\u001b[0m\u001b[0;34m:\u001b[0m\u001b[0;34m\u001b[0m\u001b[0;34m\u001b[0m\u001b[0m\n\u001b[0;32m--> 217\u001b[0;31m         \u001b[0mr\u001b[0m \u001b[0;34m=\u001b[0m \u001b[0mmethod\u001b[0m\u001b[0;34m(\u001b[0m\u001b[0mself\u001b[0m\u001b[0;34m,\u001b[0m \u001b[0;34m*\u001b[0m\u001b[0margs\u001b[0m\u001b[0;34m,\u001b[0m \u001b[0;34m**\u001b[0m\u001b[0mkwargs\u001b[0m\u001b[0;34m)\u001b[0m\u001b[0;34m\u001b[0m\u001b[0;34m\u001b[0m\u001b[0m\n\u001b[0m\u001b[1;32m    218\u001b[0m     \u001b[0;32mexcept\u001b[0m \u001b[0mNotImplementedError\u001b[0m\u001b[0;34m:\u001b[0m\u001b[0;34m\u001b[0m\u001b[0;34m\u001b[0m\u001b[0m\n\u001b[1;32m    219\u001b[0m         \u001b[0;31m# don't warn on NotImplementedErrors\u001b[0m\u001b[0;34m\u001b[0m\u001b[0;34m\u001b[0m\u001b[0;34m\u001b[0m\u001b[0m\n",
            "\u001b[0;32m/usr/local/lib/python3.7/dist-packages/IPython/core/formatters.py\u001b[0m in \u001b[0;36m__call__\u001b[0;34m(self, obj)\u001b[0m\n\u001b[1;32m    332\u001b[0m                 \u001b[0;32mpass\u001b[0m\u001b[0;34m\u001b[0m\u001b[0;34m\u001b[0m\u001b[0m\n\u001b[1;32m    333\u001b[0m             \u001b[0;32melse\u001b[0m\u001b[0;34m:\u001b[0m\u001b[0;34m\u001b[0m\u001b[0;34m\u001b[0m\u001b[0m\n\u001b[0;32m--> 334\u001b[0;31m                 \u001b[0;32mreturn\u001b[0m \u001b[0mprinter\u001b[0m\u001b[0;34m(\u001b[0m\u001b[0mobj\u001b[0m\u001b[0;34m)\u001b[0m\u001b[0;34m\u001b[0m\u001b[0;34m\u001b[0m\u001b[0m\n\u001b[0m\u001b[1;32m    335\u001b[0m             \u001b[0;31m# Finally look for special method names\u001b[0m\u001b[0;34m\u001b[0m\u001b[0;34m\u001b[0m\u001b[0;34m\u001b[0m\u001b[0m\n\u001b[1;32m    336\u001b[0m             \u001b[0mmethod\u001b[0m \u001b[0;34m=\u001b[0m \u001b[0mget_real_method\u001b[0m\u001b[0;34m(\u001b[0m\u001b[0mobj\u001b[0m\u001b[0;34m,\u001b[0m \u001b[0mself\u001b[0m\u001b[0;34m.\u001b[0m\u001b[0mprint_method\u001b[0m\u001b[0;34m)\u001b[0m\u001b[0;34m\u001b[0m\u001b[0;34m\u001b[0m\u001b[0m\n",
            "\u001b[0;32m/usr/local/lib/python3.7/dist-packages/IPython/core/pylabtools.py\u001b[0m in \u001b[0;36m<lambda>\u001b[0;34m(fig)\u001b[0m\n\u001b[1;32m    239\u001b[0m \u001b[0;34m\u001b[0m\u001b[0m\n\u001b[1;32m    240\u001b[0m     \u001b[0;32mif\u001b[0m \u001b[0;34m'png'\u001b[0m \u001b[0;32min\u001b[0m \u001b[0mformats\u001b[0m\u001b[0;34m:\u001b[0m\u001b[0;34m\u001b[0m\u001b[0;34m\u001b[0m\u001b[0m\n\u001b[0;32m--> 241\u001b[0;31m         \u001b[0mpng_formatter\u001b[0m\u001b[0;34m.\u001b[0m\u001b[0mfor_type\u001b[0m\u001b[0;34m(\u001b[0m\u001b[0mFigure\u001b[0m\u001b[0;34m,\u001b[0m \u001b[0;32mlambda\u001b[0m \u001b[0mfig\u001b[0m\u001b[0;34m:\u001b[0m \u001b[0mprint_figure\u001b[0m\u001b[0;34m(\u001b[0m\u001b[0mfig\u001b[0m\u001b[0;34m,\u001b[0m \u001b[0;34m'png'\u001b[0m\u001b[0;34m,\u001b[0m \u001b[0;34m**\u001b[0m\u001b[0mkwargs\u001b[0m\u001b[0;34m)\u001b[0m\u001b[0;34m)\u001b[0m\u001b[0;34m\u001b[0m\u001b[0;34m\u001b[0m\u001b[0m\n\u001b[0m\u001b[1;32m    242\u001b[0m     \u001b[0;32mif\u001b[0m \u001b[0;34m'retina'\u001b[0m \u001b[0;32min\u001b[0m \u001b[0mformats\u001b[0m \u001b[0;32mor\u001b[0m \u001b[0;34m'png2x'\u001b[0m \u001b[0;32min\u001b[0m \u001b[0mformats\u001b[0m\u001b[0;34m:\u001b[0m\u001b[0;34m\u001b[0m\u001b[0;34m\u001b[0m\u001b[0m\n\u001b[1;32m    243\u001b[0m         \u001b[0mpng_formatter\u001b[0m\u001b[0;34m.\u001b[0m\u001b[0mfor_type\u001b[0m\u001b[0;34m(\u001b[0m\u001b[0mFigure\u001b[0m\u001b[0;34m,\u001b[0m \u001b[0;32mlambda\u001b[0m \u001b[0mfig\u001b[0m\u001b[0;34m:\u001b[0m \u001b[0mretina_figure\u001b[0m\u001b[0;34m(\u001b[0m\u001b[0mfig\u001b[0m\u001b[0;34m,\u001b[0m \u001b[0;34m**\u001b[0m\u001b[0mkwargs\u001b[0m\u001b[0;34m)\u001b[0m\u001b[0;34m)\u001b[0m\u001b[0;34m\u001b[0m\u001b[0;34m\u001b[0m\u001b[0m\n",
            "\u001b[0;32m/usr/local/lib/python3.7/dist-packages/IPython/core/pylabtools.py\u001b[0m in \u001b[0;36mprint_figure\u001b[0;34m(fig, fmt, bbox_inches, **kwargs)\u001b[0m\n\u001b[1;32m    123\u001b[0m \u001b[0;34m\u001b[0m\u001b[0m\n\u001b[1;32m    124\u001b[0m     \u001b[0mbytes_io\u001b[0m \u001b[0;34m=\u001b[0m \u001b[0mBytesIO\u001b[0m\u001b[0;34m(\u001b[0m\u001b[0;34m)\u001b[0m\u001b[0;34m\u001b[0m\u001b[0;34m\u001b[0m\u001b[0m\n\u001b[0;32m--> 125\u001b[0;31m     \u001b[0mfig\u001b[0m\u001b[0;34m.\u001b[0m\u001b[0mcanvas\u001b[0m\u001b[0;34m.\u001b[0m\u001b[0mprint_figure\u001b[0m\u001b[0;34m(\u001b[0m\u001b[0mbytes_io\u001b[0m\u001b[0;34m,\u001b[0m \u001b[0;34m**\u001b[0m\u001b[0mkw\u001b[0m\u001b[0;34m)\u001b[0m\u001b[0;34m\u001b[0m\u001b[0;34m\u001b[0m\u001b[0m\n\u001b[0m\u001b[1;32m    126\u001b[0m     \u001b[0mdata\u001b[0m \u001b[0;34m=\u001b[0m \u001b[0mbytes_io\u001b[0m\u001b[0;34m.\u001b[0m\u001b[0mgetvalue\u001b[0m\u001b[0;34m(\u001b[0m\u001b[0;34m)\u001b[0m\u001b[0;34m\u001b[0m\u001b[0;34m\u001b[0m\u001b[0m\n\u001b[1;32m    127\u001b[0m     \u001b[0;32mif\u001b[0m \u001b[0mfmt\u001b[0m \u001b[0;34m==\u001b[0m \u001b[0;34m'svg'\u001b[0m\u001b[0;34m:\u001b[0m\u001b[0;34m\u001b[0m\u001b[0;34m\u001b[0m\u001b[0m\n",
            "\u001b[0;32m/usr/local/lib/python3.7/dist-packages/matplotlib/backend_bases.py\u001b[0m in \u001b[0;36mprint_figure\u001b[0;34m(self, filename, dpi, facecolor, edgecolor, orientation, format, bbox_inches, **kwargs)\u001b[0m\n\u001b[1;32m   2070\u001b[0m         \u001b[0;31m# but this should be fine.\u001b[0m\u001b[0;34m\u001b[0m\u001b[0;34m\u001b[0m\u001b[0;34m\u001b[0m\u001b[0m\n\u001b[1;32m   2071\u001b[0m         \u001b[0;32mwith\u001b[0m \u001b[0mcbook\u001b[0m\u001b[0;34m.\u001b[0m\u001b[0m_setattr_cm\u001b[0m\u001b[0;34m(\u001b[0m\u001b[0mself\u001b[0m\u001b[0;34m,\u001b[0m \u001b[0mmanager\u001b[0m\u001b[0;34m=\u001b[0m\u001b[0;32mNone\u001b[0m\u001b[0;34m)\u001b[0m\u001b[0;34m,\u001b[0m\u001b[0;31m \u001b[0m\u001b[0;31m\\\u001b[0m\u001b[0;34m\u001b[0m\u001b[0;34m\u001b[0m\u001b[0m\n\u001b[0;32m-> 2072\u001b[0;31m                 \u001b[0mcbook\u001b[0m\u001b[0;34m.\u001b[0m\u001b[0m_setattr_cm\u001b[0m\u001b[0;34m(\u001b[0m\u001b[0mself\u001b[0m\u001b[0;34m.\u001b[0m\u001b[0mfigure\u001b[0m\u001b[0;34m,\u001b[0m \u001b[0mdpi\u001b[0m\u001b[0;34m=\u001b[0m\u001b[0mdpi\u001b[0m\u001b[0;34m)\u001b[0m\u001b[0;34m,\u001b[0m\u001b[0;31m \u001b[0m\u001b[0;31m\\\u001b[0m\u001b[0;34m\u001b[0m\u001b[0;34m\u001b[0m\u001b[0m\n\u001b[0m\u001b[1;32m   2073\u001b[0m                 \u001b[0mcbook\u001b[0m\u001b[0;34m.\u001b[0m\u001b[0m_setattr_cm\u001b[0m\u001b[0;34m(\u001b[0m\u001b[0mcanvas\u001b[0m\u001b[0;34m,\u001b[0m \u001b[0m_is_saving\u001b[0m\u001b[0;34m=\u001b[0m\u001b[0;32mTrue\u001b[0m\u001b[0;34m)\u001b[0m\u001b[0;34m:\u001b[0m\u001b[0;34m\u001b[0m\u001b[0;34m\u001b[0m\u001b[0m\n\u001b[1;32m   2074\u001b[0m \u001b[0;34m\u001b[0m\u001b[0m\n",
            "\u001b[0;32m/usr/lib/python3.7/contextlib.py\u001b[0m in \u001b[0;36m__enter__\u001b[0;34m(self)\u001b[0m\n\u001b[1;32m    110\u001b[0m         \u001b[0;32mdel\u001b[0m \u001b[0mself\u001b[0m\u001b[0;34m.\u001b[0m\u001b[0margs\u001b[0m\u001b[0;34m,\u001b[0m \u001b[0mself\u001b[0m\u001b[0;34m.\u001b[0m\u001b[0mkwds\u001b[0m\u001b[0;34m,\u001b[0m \u001b[0mself\u001b[0m\u001b[0;34m.\u001b[0m\u001b[0mfunc\u001b[0m\u001b[0;34m\u001b[0m\u001b[0;34m\u001b[0m\u001b[0m\n\u001b[1;32m    111\u001b[0m         \u001b[0;32mtry\u001b[0m\u001b[0;34m:\u001b[0m\u001b[0;34m\u001b[0m\u001b[0;34m\u001b[0m\u001b[0m\n\u001b[0;32m--> 112\u001b[0;31m             \u001b[0;32mreturn\u001b[0m \u001b[0mnext\u001b[0m\u001b[0;34m(\u001b[0m\u001b[0mself\u001b[0m\u001b[0;34m.\u001b[0m\u001b[0mgen\u001b[0m\u001b[0;34m)\u001b[0m\u001b[0;34m\u001b[0m\u001b[0;34m\u001b[0m\u001b[0m\n\u001b[0m\u001b[1;32m    113\u001b[0m         \u001b[0;32mexcept\u001b[0m \u001b[0mStopIteration\u001b[0m\u001b[0;34m:\u001b[0m\u001b[0;34m\u001b[0m\u001b[0;34m\u001b[0m\u001b[0m\n\u001b[1;32m    114\u001b[0m             \u001b[0;32mraise\u001b[0m \u001b[0mRuntimeError\u001b[0m\u001b[0;34m(\u001b[0m\u001b[0;34m\"generator didn't yield\"\u001b[0m\u001b[0;34m)\u001b[0m \u001b[0;32mfrom\u001b[0m \u001b[0;32mNone\u001b[0m\u001b[0;34m\u001b[0m\u001b[0;34m\u001b[0m\u001b[0m\n",
            "\u001b[0;32m/usr/local/lib/python3.7/dist-packages/matplotlib/cbook/__init__.py\u001b[0m in \u001b[0;36m_setattr_cm\u001b[0;34m(obj, **kwargs)\u001b[0m\n\u001b[1;32m   1962\u001b[0m     \u001b[0;32mtry\u001b[0m\u001b[0;34m:\u001b[0m\u001b[0;34m\u001b[0m\u001b[0;34m\u001b[0m\u001b[0m\n\u001b[1;32m   1963\u001b[0m         \u001b[0;32mfor\u001b[0m \u001b[0mattr\u001b[0m\u001b[0;34m,\u001b[0m \u001b[0mval\u001b[0m \u001b[0;32min\u001b[0m \u001b[0mkwargs\u001b[0m\u001b[0;34m.\u001b[0m\u001b[0mitems\u001b[0m\u001b[0;34m(\u001b[0m\u001b[0;34m)\u001b[0m\u001b[0;34m:\u001b[0m\u001b[0;34m\u001b[0m\u001b[0;34m\u001b[0m\u001b[0m\n\u001b[0;32m-> 1964\u001b[0;31m             \u001b[0msetattr\u001b[0m\u001b[0;34m(\u001b[0m\u001b[0mobj\u001b[0m\u001b[0;34m,\u001b[0m \u001b[0mattr\u001b[0m\u001b[0;34m,\u001b[0m \u001b[0mval\u001b[0m\u001b[0;34m)\u001b[0m\u001b[0;34m\u001b[0m\u001b[0;34m\u001b[0m\u001b[0m\n\u001b[0m\u001b[1;32m   1965\u001b[0m         \u001b[0;32myield\u001b[0m\u001b[0;34m\u001b[0m\u001b[0;34m\u001b[0m\u001b[0m\n\u001b[1;32m   1966\u001b[0m     \u001b[0;32mfinally\u001b[0m\u001b[0;34m:\u001b[0m\u001b[0;34m\u001b[0m\u001b[0;34m\u001b[0m\u001b[0m\n",
            "\u001b[0;32m/usr/local/lib/python3.7/dist-packages/matplotlib/figure.py\u001b[0m in \u001b[0;36m_set_dpi\u001b[0;34m(self, dpi, forward)\u001b[0m\n\u001b[1;32m    474\u001b[0m         \"\"\"\n\u001b[1;32m    475\u001b[0m         \u001b[0mself\u001b[0m\u001b[0;34m.\u001b[0m\u001b[0m_dpi\u001b[0m \u001b[0;34m=\u001b[0m \u001b[0mdpi\u001b[0m\u001b[0;34m\u001b[0m\u001b[0;34m\u001b[0m\u001b[0m\n\u001b[0;32m--> 476\u001b[0;31m         \u001b[0mself\u001b[0m\u001b[0;34m.\u001b[0m\u001b[0mdpi_scale_trans\u001b[0m\u001b[0;34m.\u001b[0m\u001b[0mclear\u001b[0m\u001b[0;34m(\u001b[0m\u001b[0;34m)\u001b[0m\u001b[0;34m.\u001b[0m\u001b[0mscale\u001b[0m\u001b[0;34m(\u001b[0m\u001b[0mdpi\u001b[0m\u001b[0;34m)\u001b[0m\u001b[0;34m\u001b[0m\u001b[0;34m\u001b[0m\u001b[0m\n\u001b[0m\u001b[1;32m    477\u001b[0m         \u001b[0mw\u001b[0m\u001b[0;34m,\u001b[0m \u001b[0mh\u001b[0m \u001b[0;34m=\u001b[0m \u001b[0mself\u001b[0m\u001b[0;34m.\u001b[0m\u001b[0mget_size_inches\u001b[0m\u001b[0;34m(\u001b[0m\u001b[0;34m)\u001b[0m\u001b[0;34m\u001b[0m\u001b[0;34m\u001b[0m\u001b[0m\n\u001b[1;32m    478\u001b[0m         \u001b[0mself\u001b[0m\u001b[0;34m.\u001b[0m\u001b[0mset_size_inches\u001b[0m\u001b[0;34m(\u001b[0m\u001b[0mw\u001b[0m\u001b[0;34m,\u001b[0m \u001b[0mh\u001b[0m\u001b[0;34m,\u001b[0m \u001b[0mforward\u001b[0m\u001b[0;34m=\u001b[0m\u001b[0mforward\u001b[0m\u001b[0;34m)\u001b[0m\u001b[0;34m\u001b[0m\u001b[0;34m\u001b[0m\u001b[0m\n",
            "\u001b[0;32m/usr/local/lib/python3.7/dist-packages/matplotlib/transforms.py\u001b[0m in \u001b[0;36mclear\u001b[0;34m(self)\u001b[0m\n\u001b[1;32m   1919\u001b[0m         \u001b[0;31m# A bit faster than np.identity(3).\u001b[0m\u001b[0;34m\u001b[0m\u001b[0;34m\u001b[0m\u001b[0;34m\u001b[0m\u001b[0m\n\u001b[1;32m   1920\u001b[0m         \u001b[0mself\u001b[0m\u001b[0;34m.\u001b[0m\u001b[0m_mtx\u001b[0m \u001b[0;34m=\u001b[0m \u001b[0mIdentityTransform\u001b[0m\u001b[0;34m.\u001b[0m\u001b[0m_mtx\u001b[0m\u001b[0;34m.\u001b[0m\u001b[0mcopy\u001b[0m\u001b[0;34m(\u001b[0m\u001b[0;34m)\u001b[0m\u001b[0;34m\u001b[0m\u001b[0;34m\u001b[0m\u001b[0m\n\u001b[0;32m-> 1921\u001b[0;31m         \u001b[0mself\u001b[0m\u001b[0;34m.\u001b[0m\u001b[0minvalidate\u001b[0m\u001b[0;34m(\u001b[0m\u001b[0;34m)\u001b[0m\u001b[0;34m\u001b[0m\u001b[0;34m\u001b[0m\u001b[0m\n\u001b[0m\u001b[1;32m   1922\u001b[0m         \u001b[0;32mreturn\u001b[0m \u001b[0mself\u001b[0m\u001b[0;34m\u001b[0m\u001b[0;34m\u001b[0m\u001b[0m\n\u001b[1;32m   1923\u001b[0m \u001b[0;34m\u001b[0m\u001b[0m\n",
            "\u001b[0;32m/usr/local/lib/python3.7/dist-packages/matplotlib/transforms.py\u001b[0m in \u001b[0;36minvalidate\u001b[0;34m(self)\u001b[0m\n\u001b[1;32m    132\u001b[0m         \u001b[0;32mif\u001b[0m \u001b[0mself\u001b[0m\u001b[0;34m.\u001b[0m\u001b[0mis_affine\u001b[0m\u001b[0;34m:\u001b[0m\u001b[0;34m\u001b[0m\u001b[0;34m\u001b[0m\u001b[0m\n\u001b[1;32m    133\u001b[0m             \u001b[0mvalue\u001b[0m \u001b[0;34m=\u001b[0m \u001b[0mself\u001b[0m\u001b[0;34m.\u001b[0m\u001b[0mINVALID_AFFINE\u001b[0m\u001b[0;34m\u001b[0m\u001b[0;34m\u001b[0m\u001b[0m\n\u001b[0;32m--> 134\u001b[0;31m         \u001b[0;32mreturn\u001b[0m \u001b[0mself\u001b[0m\u001b[0;34m.\u001b[0m\u001b[0m_invalidate_internal\u001b[0m\u001b[0;34m(\u001b[0m\u001b[0mvalue\u001b[0m\u001b[0;34m,\u001b[0m \u001b[0minvalidating_node\u001b[0m\u001b[0;34m=\u001b[0m\u001b[0mself\u001b[0m\u001b[0;34m)\u001b[0m\u001b[0;34m\u001b[0m\u001b[0;34m\u001b[0m\u001b[0m\n\u001b[0m\u001b[1;32m    135\u001b[0m \u001b[0;34m\u001b[0m\u001b[0m\n\u001b[1;32m    136\u001b[0m     \u001b[0;32mdef\u001b[0m \u001b[0m_invalidate_internal\u001b[0m\u001b[0;34m(\u001b[0m\u001b[0mself\u001b[0m\u001b[0;34m,\u001b[0m \u001b[0mvalue\u001b[0m\u001b[0;34m,\u001b[0m \u001b[0minvalidating_node\u001b[0m\u001b[0;34m)\u001b[0m\u001b[0;34m:\u001b[0m\u001b[0;34m\u001b[0m\u001b[0;34m\u001b[0m\u001b[0m\n",
            "\u001b[0;32m/usr/local/lib/python3.7/dist-packages/matplotlib/transforms.py\u001b[0m in \u001b[0;36m_invalidate_internal\u001b[0;34m(self, value, invalidating_node)\u001b[0m\n\u001b[1;32m    159\u001b[0m                 \u001b[0;32mif\u001b[0m \u001b[0mparent\u001b[0m \u001b[0;32mis\u001b[0m \u001b[0;32mnot\u001b[0m \u001b[0;32mNone\u001b[0m\u001b[0;34m:\u001b[0m\u001b[0;34m\u001b[0m\u001b[0;34m\u001b[0m\u001b[0m\n\u001b[1;32m    160\u001b[0m                     parent._invalidate_internal(\n\u001b[0;32m--> 161\u001b[0;31m                         value=value, invalidating_node=self)\n\u001b[0m\u001b[1;32m    162\u001b[0m \u001b[0;34m\u001b[0m\u001b[0m\n\u001b[1;32m    163\u001b[0m     \u001b[0;32mdef\u001b[0m \u001b[0mset_children\u001b[0m\u001b[0;34m(\u001b[0m\u001b[0mself\u001b[0m\u001b[0;34m,\u001b[0m \u001b[0;34m*\u001b[0m\u001b[0mchildren\u001b[0m\u001b[0;34m)\u001b[0m\u001b[0;34m:\u001b[0m\u001b[0;34m\u001b[0m\u001b[0;34m\u001b[0m\u001b[0m\n",
            "\u001b[0;32m/usr/local/lib/python3.7/dist-packages/matplotlib/transforms.py\u001b[0m in \u001b[0;36m_invalidate_internal\u001b[0;34m(self, value, invalidating_node)\u001b[0m\n\u001b[1;32m    159\u001b[0m                 \u001b[0;32mif\u001b[0m \u001b[0mparent\u001b[0m \u001b[0;32mis\u001b[0m \u001b[0;32mnot\u001b[0m \u001b[0;32mNone\u001b[0m\u001b[0;34m:\u001b[0m\u001b[0;34m\u001b[0m\u001b[0;34m\u001b[0m\u001b[0m\n\u001b[1;32m    160\u001b[0m                     parent._invalidate_internal(\n\u001b[0;32m--> 161\u001b[0;31m                         value=value, invalidating_node=self)\n\u001b[0m\u001b[1;32m    162\u001b[0m \u001b[0;34m\u001b[0m\u001b[0m\n\u001b[1;32m    163\u001b[0m     \u001b[0;32mdef\u001b[0m \u001b[0mset_children\u001b[0m\u001b[0;34m(\u001b[0m\u001b[0mself\u001b[0m\u001b[0;34m,\u001b[0m \u001b[0;34m*\u001b[0m\u001b[0mchildren\u001b[0m\u001b[0;34m)\u001b[0m\u001b[0;34m:\u001b[0m\u001b[0;34m\u001b[0m\u001b[0;34m\u001b[0m\u001b[0m\n",
            "\u001b[0;32m/usr/local/lib/python3.7/dist-packages/matplotlib/transforms.py\u001b[0m in \u001b[0;36m_invalidate_internal\u001b[0;34m(self, value, invalidating_node)\u001b[0m\n\u001b[1;32m    159\u001b[0m                 \u001b[0;32mif\u001b[0m \u001b[0mparent\u001b[0m \u001b[0;32mis\u001b[0m \u001b[0;32mnot\u001b[0m \u001b[0;32mNone\u001b[0m\u001b[0;34m:\u001b[0m\u001b[0;34m\u001b[0m\u001b[0;34m\u001b[0m\u001b[0m\n\u001b[1;32m    160\u001b[0m                     parent._invalidate_internal(\n\u001b[0;32m--> 161\u001b[0;31m                         value=value, invalidating_node=self)\n\u001b[0m\u001b[1;32m    162\u001b[0m \u001b[0;34m\u001b[0m\u001b[0m\n\u001b[1;32m    163\u001b[0m     \u001b[0;32mdef\u001b[0m \u001b[0mset_children\u001b[0m\u001b[0;34m(\u001b[0m\u001b[0mself\u001b[0m\u001b[0;34m,\u001b[0m \u001b[0;34m*\u001b[0m\u001b[0mchildren\u001b[0m\u001b[0;34m)\u001b[0m\u001b[0;34m:\u001b[0m\u001b[0;34m\u001b[0m\u001b[0;34m\u001b[0m\u001b[0m\n",
            "\u001b[0;32m/usr/local/lib/python3.7/dist-packages/matplotlib/transforms.py\u001b[0m in \u001b[0;36m_invalidate_internal\u001b[0;34m(self, value, invalidating_node)\u001b[0m\n\u001b[1;32m    159\u001b[0m                 \u001b[0;32mif\u001b[0m \u001b[0mparent\u001b[0m \u001b[0;32mis\u001b[0m \u001b[0;32mnot\u001b[0m \u001b[0;32mNone\u001b[0m\u001b[0;34m:\u001b[0m\u001b[0;34m\u001b[0m\u001b[0;34m\u001b[0m\u001b[0m\n\u001b[1;32m    160\u001b[0m                     parent._invalidate_internal(\n\u001b[0;32m--> 161\u001b[0;31m                         value=value, invalidating_node=self)\n\u001b[0m\u001b[1;32m    162\u001b[0m \u001b[0;34m\u001b[0m\u001b[0m\n\u001b[1;32m    163\u001b[0m     \u001b[0;32mdef\u001b[0m \u001b[0mset_children\u001b[0m\u001b[0;34m(\u001b[0m\u001b[0mself\u001b[0m\u001b[0;34m,\u001b[0m \u001b[0;34m*\u001b[0m\u001b[0mchildren\u001b[0m\u001b[0;34m)\u001b[0m\u001b[0;34m:\u001b[0m\u001b[0;34m\u001b[0m\u001b[0;34m\u001b[0m\u001b[0m\n",
            "\u001b[0;32m/usr/local/lib/python3.7/dist-packages/matplotlib/transforms.py\u001b[0m in \u001b[0;36m_invalidate_internal\u001b[0;34m(self, value, invalidating_node)\u001b[0m\n\u001b[1;32m    159\u001b[0m                 \u001b[0;32mif\u001b[0m \u001b[0mparent\u001b[0m \u001b[0;32mis\u001b[0m \u001b[0;32mnot\u001b[0m \u001b[0;32mNone\u001b[0m\u001b[0;34m:\u001b[0m\u001b[0;34m\u001b[0m\u001b[0;34m\u001b[0m\u001b[0m\n\u001b[1;32m    160\u001b[0m                     parent._invalidate_internal(\n\u001b[0;32m--> 161\u001b[0;31m                         value=value, invalidating_node=self)\n\u001b[0m\u001b[1;32m    162\u001b[0m \u001b[0;34m\u001b[0m\u001b[0m\n\u001b[1;32m    163\u001b[0m     \u001b[0;32mdef\u001b[0m \u001b[0mset_children\u001b[0m\u001b[0;34m(\u001b[0m\u001b[0mself\u001b[0m\u001b[0;34m,\u001b[0m \u001b[0;34m*\u001b[0m\u001b[0mchildren\u001b[0m\u001b[0;34m)\u001b[0m\u001b[0;34m:\u001b[0m\u001b[0;34m\u001b[0m\u001b[0;34m\u001b[0m\u001b[0m\n",
            "\u001b[0;32m/usr/local/lib/python3.7/dist-packages/matplotlib/transforms.py\u001b[0m in \u001b[0;36m_invalidate_internal\u001b[0;34m(self, value, invalidating_node)\u001b[0m\n\u001b[1;32m   2331\u001b[0m \u001b[0;34m\u001b[0m\u001b[0m\n\u001b[1;32m   2332\u001b[0m         Transform._invalidate_internal(self, value=value,\n\u001b[0;32m-> 2333\u001b[0;31m                                        invalidating_node=invalidating_node)\n\u001b[0m\u001b[1;32m   2334\u001b[0m \u001b[0;34m\u001b[0m\u001b[0m\n\u001b[1;32m   2335\u001b[0m     \u001b[0;32mdef\u001b[0m \u001b[0m__eq__\u001b[0m\u001b[0;34m(\u001b[0m\u001b[0mself\u001b[0m\u001b[0;34m,\u001b[0m \u001b[0mother\u001b[0m\u001b[0;34m)\u001b[0m\u001b[0;34m:\u001b[0m\u001b[0;34m\u001b[0m\u001b[0;34m\u001b[0m\u001b[0m\n",
            "\u001b[0;32m/usr/local/lib/python3.7/dist-packages/matplotlib/transforms.py\u001b[0m in \u001b[0;36m_invalidate_internal\u001b[0;34m(self, value, invalidating_node)\u001b[0m\n\u001b[1;32m    156\u001b[0m             \u001b[0;32mfor\u001b[0m \u001b[0mparent\u001b[0m \u001b[0;32min\u001b[0m \u001b[0mlist\u001b[0m\u001b[0;34m(\u001b[0m\u001b[0mself\u001b[0m\u001b[0;34m.\u001b[0m\u001b[0m_parents\u001b[0m\u001b[0;34m.\u001b[0m\u001b[0mvalues\u001b[0m\u001b[0;34m(\u001b[0m\u001b[0;34m)\u001b[0m\u001b[0;34m)\u001b[0m\u001b[0;34m:\u001b[0m\u001b[0;34m\u001b[0m\u001b[0;34m\u001b[0m\u001b[0m\n\u001b[1;32m    157\u001b[0m                 \u001b[0;31m# Dereference the weak reference\u001b[0m\u001b[0;34m\u001b[0m\u001b[0;34m\u001b[0m\u001b[0;34m\u001b[0m\u001b[0m\n\u001b[0;32m--> 158\u001b[0;31m                 \u001b[0mparent\u001b[0m \u001b[0;34m=\u001b[0m \u001b[0mparent\u001b[0m\u001b[0;34m(\u001b[0m\u001b[0;34m)\u001b[0m\u001b[0;34m\u001b[0m\u001b[0;34m\u001b[0m\u001b[0m\n\u001b[0m\u001b[1;32m    159\u001b[0m                 \u001b[0;32mif\u001b[0m \u001b[0mparent\u001b[0m \u001b[0;32mis\u001b[0m \u001b[0;32mnot\u001b[0m \u001b[0;32mNone\u001b[0m\u001b[0;34m:\u001b[0m\u001b[0;34m\u001b[0m\u001b[0;34m\u001b[0m\u001b[0m\n\u001b[1;32m    160\u001b[0m                     parent._invalidate_internal(\n",
            "\u001b[0;31mKeyboardInterrupt\u001b[0m: "
          ]
        }
      ]
    },
    {
      "cell_type": "code",
      "source": [
        "plt.figure()\n",
        "plt.plot(test_predictions, label='predicted')\n",
        "plt.plot(y_test, label='actual')\n",
        "plt.ylabel('output y')\n",
        "plt.legend()\n",
        "plt.show()"
      ],
      "metadata": {
        "colab": {
          "base_uri": "https://localhost:8080/",
          "height": 469
        },
        "id": "eIPoViltJD1w",
        "outputId": "397cac79-5d5c-4d4f-fe79-b4e14b1bad7e"
      },
      "execution_count": 138,
      "outputs": [
        {
          "output_type": "error",
          "ename": "KeyboardInterrupt",
          "evalue": "ignored",
          "traceback": [
            "\u001b[0;31m---------------------------------------------------------------------------\u001b[0m",
            "\u001b[0;31mKeyboardInterrupt\u001b[0m                         Traceback (most recent call last)",
            "\u001b[0;32m/usr/local/lib/python3.7/dist-packages/zmq/backend/cython/checkrc.pxd\u001b[0m in \u001b[0;36mzmq.backend.cython.checkrc._check_rc\u001b[0;34m()\u001b[0m\n",
            "\u001b[0;31mKeyboardInterrupt\u001b[0m: "
          ]
        },
        {
          "output_type": "stream",
          "name": "stderr",
          "text": [
            "Exception ignored in: 'zmq.backend.cython.message.Frame.__dealloc__'\n",
            "Traceback (most recent call last):\n",
            "  File \"zmq/backend/cython/checkrc.pxd\", line 13, in zmq.backend.cython.checkrc._check_rc\n",
            "KeyboardInterrupt\n"
          ]
        },
        {
          "output_type": "display_data",
          "data": {
            "text/plain": [
              "<Figure size 432x288 with 1 Axes>"
            ],
            "image/png": "[encoded data removed]"
          },
          "metadata": {}
        }
      ]
    }
  ]
}