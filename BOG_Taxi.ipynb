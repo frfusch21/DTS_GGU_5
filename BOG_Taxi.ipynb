{
  "nbformat": 4,
  "nbformat_minor": 0,
  "metadata": {
    "colab": {
      "name": "BOG Taxi.ipynb",
      "provenance": [],
      "collapsed_sections": [
        "Pa_5zmxht5zQ",
        "E7LKilgewzxD",
        "j6yv7P0SliBA"
      ],
      "mount_file_id": "14k5tQOllt4nUJAza2La-g4z1sw-rEu05",
      "authorship_tag": "ABX9TyMNrcRO2PY218whkzDCPW48",
      "include_colab_link": true
    },
    "kernelspec": {
      "name": "python3",
      "display_name": "Python 3"
    },
    "language_info": {
      "name": "python"
    }
  },
  "cells": [
    {
      "cell_type": "markdown",
      "metadata": {
        "id": "view-in-github",
        "colab_type": "text"
      },
      "source": [
        "<a href=\"https://colab.research.google.com/github/frfusch21/DTS_GGU_5/blob/Hartantya-AT/BOG_Taxi.ipynb\" target=\"_parent\"><img src=\"https://colab.research.google.com/assets/colab-badge.svg\" alt=\"Open In Colab\"/></a>"
      ]
    },
    {
      "cell_type": "markdown",
      "source": [
        "# **Improt Data**"
      ],
      "metadata": {
        "id": "Pa_5zmxht5zQ"
      }
    },
    {
      "cell_type": "code",
      "execution_count": null,
      "metadata": {
        "id": "h0bcA5KZacwh",
        "colab": {
          "base_uri": "https://localhost:8080/"
        },
        "outputId": "030d523e-db5d-410b-97e6-d4f48e2f076d"
      },
      "outputs": [
        {
          "output_type": "execute_result",
          "data": {
            "text/plain": [
              "   id vendor_id      pickup_datetime     dropoff_datetime  pickup_longitude  \\\n",
              "0   1   BogotÃ¡  2016-09-18 01:54:11  2016-09-18 02:17:49        -74.170353   \n",
              "1   2   BogotÃ¡  2016-09-18 03:31:05  2016-09-18 03:44:06        -74.123542   \n",
              "2   3   BogotÃ¡  2016-08-07 03:35:36  2016-09-18 04:30:31        -74.178643   \n",
              "3   4   BogotÃ¡  2016-09-18 04:31:13  2016-09-18 04:32:19        -74.163398   \n",
              "4   5   BogotÃ¡  2016-09-13 12:07:04  2016-09-18 05:00:44        -74.137539   \n",
              "\n",
              "   pickup_latitude  dropoff_longitude  dropoff_latitude store_and_fwd_flag  \\\n",
              "0         4.622699         -74.119259          4.572322                  N   \n",
              "1         4.604075         -74.116125          4.572578                  N   \n",
              "2         4.646176         -74.178711          4.646367                  N   \n",
              "3         4.641949         -74.165813          4.640649                  N   \n",
              "4         4.596347         -74.125364          4.576745                  N   \n",
              "\n",
              "   trip_duration  dist_meters  wait_sec  \n",
              "0           1419        11935       293  \n",
              "1            782         7101       139  \n",
              "2        3632095         2655      2534  \n",
              "3             66          318        52  \n",
              "4         449620         3228       211  "
            ],
            "text/html": [
              "\n",
              "  <div id=\"df-7bd05dd1-6e1e-42d4-9487-fd5b209e105d\">\n",
              "    <div class=\"colab-df-container\">\n",
              "      <div>\n",
              "<style scoped>\n",
              "    .dataframe tbody tr th:only-of-type {\n",
              "        vertical-align: middle;\n",
              "    }\n",
              "\n",
              "    .dataframe tbody tr th {\n",
              "        vertical-align: top;\n",
              "    }\n",
              "\n",
              "    .dataframe thead th {\n",
              "        text-align: right;\n",
              "    }\n",
              "</style>\n",
              "<table border=\"1\" class=\"dataframe\">\n",
              "  <thead>\n",
              "    <tr style=\"text-align: right;\">\n",
              "      <th></th>\n",
              "      <th>id</th>\n",
              "      <th>vendor_id</th>\n",
              "      <th>pickup_datetime</th>\n",
              "      <th>dropoff_datetime</th>\n",
              "      <th>pickup_longitude</th>\n",
              "      <th>pickup_latitude</th>\n",
              "      <th>dropoff_longitude</th>\n",
              "      <th>dropoff_latitude</th>\n",
              "      <th>store_and_fwd_flag</th>\n",
              "      <th>trip_duration</th>\n",
              "      <th>dist_meters</th>\n",
              "      <th>wait_sec</th>\n",
              "    </tr>\n",
              "  </thead>\n",
              "  <tbody>\n",
              "    <tr>\n",
              "      <th>0</th>\n",
              "      <td>1</td>\n",
              "      <td>BogotÃ¡</td>\n",
              "      <td>2016-09-18 01:54:11</td>\n",
              "      <td>2016-09-18 02:17:49</td>\n",
              "      <td>-74.170353</td>\n",
              "      <td>4.622699</td>\n",
              "      <td>-74.119259</td>\n",
              "      <td>4.572322</td>\n",
              "      <td>N</td>\n",
              "      <td>1419</td>\n",
              "      <td>11935</td>\n",
              "      <td>293</td>\n",
              "    </tr>\n",
              "    <tr>\n",
              "      <th>1</th>\n",
              "      <td>2</td>\n",
              "      <td>BogotÃ¡</td>\n",
              "      <td>2016-09-18 03:31:05</td>\n",
              "      <td>2016-09-18 03:44:06</td>\n",
              "      <td>-74.123542</td>\n",
              "      <td>4.604075</td>\n",
              "      <td>-74.116125</td>\n",
              "      <td>4.572578</td>\n",
              "      <td>N</td>\n",
              "      <td>782</td>\n",
              "      <td>7101</td>\n",
              "      <td>139</td>\n",
              "    </tr>\n",
              "    <tr>\n",
              "      <th>2</th>\n",
              "      <td>3</td>\n",
              "      <td>BogotÃ¡</td>\n",
              "      <td>2016-08-07 03:35:36</td>\n",
              "      <td>2016-09-18 04:30:31</td>\n",
              "      <td>-74.178643</td>\n",
              "      <td>4.646176</td>\n",
              "      <td>-74.178711</td>\n",
              "      <td>4.646367</td>\n",
              "      <td>N</td>\n",
              "      <td>3632095</td>\n",
              "      <td>2655</td>\n",
              "      <td>2534</td>\n",
              "    </tr>\n",
              "    <tr>\n",
              "      <th>3</th>\n",
              "      <td>4</td>\n",
              "      <td>BogotÃ¡</td>\n",
              "      <td>2016-09-18 04:31:13</td>\n",
              "      <td>2016-09-18 04:32:19</td>\n",
              "      <td>-74.163398</td>\n",
              "      <td>4.641949</td>\n",
              "      <td>-74.165813</td>\n",
              "      <td>4.640649</td>\n",
              "      <td>N</td>\n",
              "      <td>66</td>\n",
              "      <td>318</td>\n",
              "      <td>52</td>\n",
              "    </tr>\n",
              "    <tr>\n",
              "      <th>4</th>\n",
              "      <td>5</td>\n",
              "      <td>BogotÃ¡</td>\n",
              "      <td>2016-09-13 12:07:04</td>\n",
              "      <td>2016-09-18 05:00:44</td>\n",
              "      <td>-74.137539</td>\n",
              "      <td>4.596347</td>\n",
              "      <td>-74.125364</td>\n",
              "      <td>4.576745</td>\n",
              "      <td>N</td>\n",
              "      <td>449620</td>\n",
              "      <td>3228</td>\n",
              "      <td>211</td>\n",
              "    </tr>\n",
              "  </tbody>\n",
              "</table>\n",
              "</div>\n",
              "      <button class=\"colab-df-convert\" onclick=\"convertToInteractive('df-7bd05dd1-6e1e-42d4-9487-fd5b209e105d')\"\n",
              "              title=\"Convert this dataframe to an interactive table.\"\n",
              "              style=\"display:none;\">\n",
              "        \n",
              "  <svg xmlns=\"http://www.w3.org/2000/svg\" height=\"24px\"viewBox=\"0 0 24 24\"\n",
              "       width=\"24px\">\n",
              "    <path d=\"M0 0h24v24H0V0z\" fill=\"none\"/>\n",
              "    <path d=\"M18.56 5.44l.94 2.06.94-2.06 2.06-.94-2.06-.94-.94-2.06-.94 2.06-2.06.94zm-11 1L8.5 8.5l.94-2.06 2.06-.94-2.06-.94L8.5 2.5l-.94 2.06-2.06.94zm10 10l.94 2.06.94-2.06 2.06-.94-2.06-.94-.94-2.06-.94 2.06-2.06.94z\"/><path d=\"M17.41 7.96l-1.37-1.37c-.4-.4-.92-.59-1.43-.59-.52 0-1.04.2-1.43.59L10.3 9.45l-7.72 7.72c-.78.78-.78 2.05 0 2.83L4 21.41c.39.39.9.59 1.41.59.51 0 1.02-.2 1.41-.59l7.78-7.78 2.81-2.81c.8-.78.8-2.07 0-2.86zM5.41 20L4 18.59l7.72-7.72 1.47 1.35L5.41 20z\"/>\n",
              "  </svg>\n",
              "      </button>\n",
              "      \n",
              "  <style>\n",
              "    .colab-df-container {\n",
              "      display:flex;\n",
              "      flex-wrap:wrap;\n",
              "      gap: 12px;\n",
              "    }\n",
              "\n",
              "    .colab-df-convert {\n",
              "      background-color: #E8F0FE;\n",
              "      border: none;\n",
              "      border-radius: 50%;\n",
              "      cursor: pointer;\n",
              "      display: none;\n",
              "      fill: #1967D2;\n",
              "      height: 32px;\n",
              "      padding: 0 0 0 0;\n",
              "      width: 32px;\n",
              "    }\n",
              "\n",
              "    .colab-df-convert:hover {\n",
              "      background-color: #E2EBFA;\n",
              "      box-shadow: 0px 1px 2px rgba(60, 64, 67, 0.3), 0px 1px 3px 1px rgba(60, 64, 67, 0.15);\n",
              "      fill: #174EA6;\n",
              "    }\n",
              "\n",
              "    [theme=dark] .colab-df-convert {\n",
              "      background-color: #3B4455;\n",
              "      fill: #D2E3FC;\n",
              "    }\n",
              "\n",
              "    [theme=dark] .colab-df-convert:hover {\n",
              "      background-color: #434B5C;\n",
              "      box-shadow: 0px 1px 3px 1px rgba(0, 0, 0, 0.15);\n",
              "      filter: drop-shadow(0px 1px 2px rgba(0, 0, 0, 0.3));\n",
              "      fill: #FFFFFF;\n",
              "    }\n",
              "  </style>\n",
              "\n",
              "      <script>\n",
              "        const buttonEl =\n",
              "          document.querySelector('#df-7bd05dd1-6e1e-42d4-9487-fd5b209e105d button.colab-df-convert');\n",
              "        buttonEl.style.display =\n",
              "          google.colab.kernel.accessAllowed ? 'block' : 'none';\n",
              "\n",
              "        async function convertToInteractive(key) {\n",
              "          const element = document.querySelector('#df-7bd05dd1-6e1e-42d4-9487-fd5b209e105d');\n",
              "          const dataTable =\n",
              "            await google.colab.kernel.invokeFunction('convertToInteractive',\n",
              "                                                     [key], {});\n",
              "          if (!dataTable) return;\n",
              "\n",
              "          const docLinkHtml = 'Like what you see? Visit the ' +\n",
              "            '<a target=\"_blank\" href=https://colab.research.google.com/notebooks/data_table.ipynb>data table notebook</a>'\n",
              "            + ' to learn more about interactive tables.';\n",
              "          element.innerHTML = '';\n",
              "          dataTable['output_type'] = 'display_data';\n",
              "          await google.colab.output.renderOutput(dataTable, element);\n",
              "          const docLink = document.createElement('div');\n",
              "          docLink.innerHTML = docLinkHtml;\n",
              "          element.appendChild(docLink);\n",
              "        }\n",
              "      </script>\n",
              "    </div>\n",
              "  </div>\n",
              "  "
            ]
          },
          "metadata": {},
          "execution_count": 126
        }
      ],
      "source": [
        "import pandas as pd\n",
        "import numpy as np\n",
        "\n",
        "bog = pd.read_csv('/content/drive/MyDrive/Belajar/bog_clean.csv', header=0, sep=',', encoding=\"Latin1\")\n",
        "bog.head()"
      ]
    },
    {
      "cell_type": "code",
      "source": [
        "bog.shape"
      ],
      "metadata": {
        "colab": {
          "base_uri": "https://localhost:8080/"
        },
        "id": "gOOwaHN5t2fa",
        "outputId": "55dba467-7fc1-415f-87d9-7df604850d65"
      },
      "execution_count": null,
      "outputs": [
        {
          "output_type": "execute_result",
          "data": {
            "text/plain": [
              "(3063, 12)"
            ]
          },
          "metadata": {},
          "execution_count": 127
        }
      ]
    },
    {
      "cell_type": "code",
      "source": [
        "bog.info()"
      ],
      "metadata": {
        "colab": {
          "base_uri": "https://localhost:8080/"
        },
        "id": "oWPUvyffbfRF",
        "outputId": "cd9dcec6-f42a-4b07-8913-b8531d7f81c5"
      },
      "execution_count": null,
      "outputs": [
        {
          "output_type": "stream",
          "name": "stdout",
          "text": [
            "<class 'pandas.core.frame.DataFrame'>\n",
            "RangeIndex: 3063 entries, 0 to 3062\n",
            "Data columns (total 12 columns):\n",
            " #   Column              Non-Null Count  Dtype  \n",
            "---  ------              --------------  -----  \n",
            " 0   id                  3063 non-null   int64  \n",
            " 1   vendor_id           3063 non-null   object \n",
            " 2   pickup_datetime     3063 non-null   object \n",
            " 3   dropoff_datetime    3063 non-null   object \n",
            " 4   pickup_longitude    3063 non-null   float64\n",
            " 5   pickup_latitude     3063 non-null   float64\n",
            " 6   dropoff_longitude   3063 non-null   float64\n",
            " 7   dropoff_latitude    3063 non-null   float64\n",
            " 8   store_and_fwd_flag  3063 non-null   object \n",
            " 9   trip_duration       3063 non-null   int64  \n",
            " 10  dist_meters         3063 non-null   int64  \n",
            " 11  wait_sec            3063 non-null   int64  \n",
            "dtypes: float64(4), int64(4), object(4)\n",
            "memory usage: 287.3+ KB\n"
          ]
        }
      ]
    },
    {
      "cell_type": "code",
      "source": [
        "bog.describe()"
      ],
      "metadata": {
        "colab": {
          "base_uri": "https://localhost:8080/"
        },
        "id": "UpW4hjITblDe",
        "outputId": "5b22ede1-0b0d-4713-d54d-25daf65a36cd"
      },
      "execution_count": null,
      "outputs": [
        {
          "output_type": "execute_result",
          "data": {
            "text/plain": [
              "                id  pickup_longitude  pickup_latitude  dropoff_longitude  \\\n",
              "count  3063.000000       3063.000000      3063.000000        3063.000000   \n",
              "mean   1532.000000        -74.098884         4.670920         -74.100136   \n",
              "std     884.356263          0.138975         0.091885           0.139508   \n",
              "min       1.000000        -76.534419         3.391712         -76.542536   \n",
              "25%     766.500000        -74.123948         4.629166         -74.122538   \n",
              "50%    1532.000000        -74.085985         4.683676         -74.089411   \n",
              "75%    2297.500000        -74.055464         4.717402         -74.058683   \n",
              "max    3063.000000        -73.829723         5.029401         -73.615700   \n",
              "\n",
              "       dropoff_latitude  trip_duration   dist_meters      wait_sec  \n",
              "count       3063.000000   3.063000e+03  3.063000e+03  3.063000e+03  \n",
              "mean           4.669038   9.295603e+04 -1.392301e+06  9.652921e+05  \n",
              "std            0.092942   5.899404e+05  5.486590e+07  3.757377e+07  \n",
              "min            3.391941   2.000000e+00 -2.147484e+09  0.000000e+00  \n",
              "25%            4.625974   5.385000e+02  1.672000e+03  9.100000e+01  \n",
              "50%            4.677560   1.442000e+03  5.375000e+03  3.000000e+02  \n",
              "75%            4.719314   3.813000e+03  1.085600e+04  8.445000e+02  \n",
              "max            5.029189   1.227617e+07  3.478510e+05  1.471920e+09  "
            ],
            "text/html": [
              "\n",
              "  <div id=\"df-f35189d0-b6ab-4243-bb94-bcfb231875be\">\n",
              "    <div class=\"colab-df-container\">\n",
              "      <div>\n",
              "<style scoped>\n",
              "    .dataframe tbody tr th:only-of-type {\n",
              "        vertical-align: middle;\n",
              "    }\n",
              "\n",
              "    .dataframe tbody tr th {\n",
              "        vertical-align: top;\n",
              "    }\n",
              "\n",
              "    .dataframe thead th {\n",
              "        text-align: right;\n",
              "    }\n",
              "</style>\n",
              "<table border=\"1\" class=\"dataframe\">\n",
              "  <thead>\n",
              "    <tr style=\"text-align: right;\">\n",
              "      <th></th>\n",
              "      <th>id</th>\n",
              "      <th>pickup_longitude</th>\n",
              "      <th>pickup_latitude</th>\n",
              "      <th>dropoff_longitude</th>\n",
              "      <th>dropoff_latitude</th>\n",
              "      <th>trip_duration</th>\n",
              "      <th>dist_meters</th>\n",
              "      <th>wait_sec</th>\n",
              "    </tr>\n",
              "  </thead>\n",
              "  <tbody>\n",
              "    <tr>\n",
              "      <th>count</th>\n",
              "      <td>3063.000000</td>\n",
              "      <td>3063.000000</td>\n",
              "      <td>3063.000000</td>\n",
              "      <td>3063.000000</td>\n",
              "      <td>3063.000000</td>\n",
              "      <td>3.063000e+03</td>\n",
              "      <td>3.063000e+03</td>\n",
              "      <td>3.063000e+03</td>\n",
              "    </tr>\n",
              "    <tr>\n",
              "      <th>mean</th>\n",
              "      <td>1532.000000</td>\n",
              "      <td>-74.098884</td>\n",
              "      <td>4.670920</td>\n",
              "      <td>-74.100136</td>\n",
              "      <td>4.669038</td>\n",
              "      <td>9.295603e+04</td>\n",
              "      <td>-1.392301e+06</td>\n",
              "      <td>9.652921e+05</td>\n",
              "    </tr>\n",
              "    <tr>\n",
              "      <th>std</th>\n",
              "      <td>884.356263</td>\n",
              "      <td>0.138975</td>\n",
              "      <td>0.091885</td>\n",
              "      <td>0.139508</td>\n",
              "      <td>0.092942</td>\n",
              "      <td>5.899404e+05</td>\n",
              "      <td>5.486590e+07</td>\n",
              "      <td>3.757377e+07</td>\n",
              "    </tr>\n",
              "    <tr>\n",
              "      <th>min</th>\n",
              "      <td>1.000000</td>\n",
              "      <td>-76.534419</td>\n",
              "      <td>3.391712</td>\n",
              "      <td>-76.542536</td>\n",
              "      <td>3.391941</td>\n",
              "      <td>2.000000e+00</td>\n",
              "      <td>-2.147484e+09</td>\n",
              "      <td>0.000000e+00</td>\n",
              "    </tr>\n",
              "    <tr>\n",
              "      <th>25%</th>\n",
              "      <td>766.500000</td>\n",
              "      <td>-74.123948</td>\n",
              "      <td>4.629166</td>\n",
              "      <td>-74.122538</td>\n",
              "      <td>4.625974</td>\n",
              "      <td>5.385000e+02</td>\n",
              "      <td>1.672000e+03</td>\n",
              "      <td>9.100000e+01</td>\n",
              "    </tr>\n",
              "    <tr>\n",
              "      <th>50%</th>\n",
              "      <td>1532.000000</td>\n",
              "      <td>-74.085985</td>\n",
              "      <td>4.683676</td>\n",
              "      <td>-74.089411</td>\n",
              "      <td>4.677560</td>\n",
              "      <td>1.442000e+03</td>\n",
              "      <td>5.375000e+03</td>\n",
              "      <td>3.000000e+02</td>\n",
              "    </tr>\n",
              "    <tr>\n",
              "      <th>75%</th>\n",
              "      <td>2297.500000</td>\n",
              "      <td>-74.055464</td>\n",
              "      <td>4.717402</td>\n",
              "      <td>-74.058683</td>\n",
              "      <td>4.719314</td>\n",
              "      <td>3.813000e+03</td>\n",
              "      <td>1.085600e+04</td>\n",
              "      <td>8.445000e+02</td>\n",
              "    </tr>\n",
              "    <tr>\n",
              "      <th>max</th>\n",
              "      <td>3063.000000</td>\n",
              "      <td>-73.829723</td>\n",
              "      <td>5.029401</td>\n",
              "      <td>-73.615700</td>\n",
              "      <td>5.029189</td>\n",
              "      <td>1.227617e+07</td>\n",
              "      <td>3.478510e+05</td>\n",
              "      <td>1.471920e+09</td>\n",
              "    </tr>\n",
              "  </tbody>\n",
              "</table>\n",
              "</div>\n",
              "      <button class=\"colab-df-convert\" onclick=\"convertToInteractive('df-f35189d0-b6ab-4243-bb94-bcfb231875be')\"\n",
              "              title=\"Convert this dataframe to an interactive table.\"\n",
              "              style=\"display:none;\">\n",
              "        \n",
              "  <svg xmlns=\"http://www.w3.org/2000/svg\" height=\"24px\"viewBox=\"0 0 24 24\"\n",
              "       width=\"24px\">\n",
              "    <path d=\"M0 0h24v24H0V0z\" fill=\"none\"/>\n",
              "    <path d=\"M18.56 5.44l.94 2.06.94-2.06 2.06-.94-2.06-.94-.94-2.06-.94 2.06-2.06.94zm-11 1L8.5 8.5l.94-2.06 2.06-.94-2.06-.94L8.5 2.5l-.94 2.06-2.06.94zm10 10l.94 2.06.94-2.06 2.06-.94-2.06-.94-.94-2.06-.94 2.06-2.06.94z\"/><path d=\"M17.41 7.96l-1.37-1.37c-.4-.4-.92-.59-1.43-.59-.52 0-1.04.2-1.43.59L10.3 9.45l-7.72 7.72c-.78.78-.78 2.05 0 2.83L4 21.41c.39.39.9.59 1.41.59.51 0 1.02-.2 1.41-.59l7.78-7.78 2.81-2.81c.8-.78.8-2.07 0-2.86zM5.41 20L4 18.59l7.72-7.72 1.47 1.35L5.41 20z\"/>\n",
              "  </svg>\n",
              "      </button>\n",
              "      \n",
              "  <style>\n",
              "    .colab-df-container {\n",
              "      display:flex;\n",
              "      flex-wrap:wrap;\n",
              "      gap: 12px;\n",
              "    }\n",
              "\n",
              "    .colab-df-convert {\n",
              "      background-color: #E8F0FE;\n",
              "      border: none;\n",
              "      border-radius: 50%;\n",
              "      cursor: pointer;\n",
              "      display: none;\n",
              "      fill: #1967D2;\n",
              "      height: 32px;\n",
              "      padding: 0 0 0 0;\n",
              "      width: 32px;\n",
              "    }\n",
              "\n",
              "    .colab-df-convert:hover {\n",
              "      background-color: #E2EBFA;\n",
              "      box-shadow: 0px 1px 2px rgba(60, 64, 67, 0.3), 0px 1px 3px 1px rgba(60, 64, 67, 0.15);\n",
              "      fill: #174EA6;\n",
              "    }\n",
              "\n",
              "    [theme=dark] .colab-df-convert {\n",
              "      background-color: #3B4455;\n",
              "      fill: #D2E3FC;\n",
              "    }\n",
              "\n",
              "    [theme=dark] .colab-df-convert:hover {\n",
              "      background-color: #434B5C;\n",
              "      box-shadow: 0px 1px 3px 1px rgba(0, 0, 0, 0.15);\n",
              "      filter: drop-shadow(0px 1px 2px rgba(0, 0, 0, 0.3));\n",
              "      fill: #FFFFFF;\n",
              "    }\n",
              "  </style>\n",
              "\n",
              "      <script>\n",
              "        const buttonEl =\n",
              "          document.querySelector('#df-f35189d0-b6ab-4243-bb94-bcfb231875be button.colab-df-convert');\n",
              "        buttonEl.style.display =\n",
              "          google.colab.kernel.accessAllowed ? 'block' : 'none';\n",
              "\n",
              "        async function convertToInteractive(key) {\n",
              "          const element = document.querySelector('#df-f35189d0-b6ab-4243-bb94-bcfb231875be');\n",
              "          const dataTable =\n",
              "            await google.colab.kernel.invokeFunction('convertToInteractive',\n",
              "                                                     [key], {});\n",
              "          if (!dataTable) return;\n",
              "\n",
              "          const docLinkHtml = 'Like what you see? Visit the ' +\n",
              "            '<a target=\"_blank\" href=https://colab.research.google.com/notebooks/data_table.ipynb>data table notebook</a>'\n",
              "            + ' to learn more about interactive tables.';\n",
              "          element.innerHTML = '';\n",
              "          dataTable['output_type'] = 'display_data';\n",
              "          await google.colab.output.renderOutput(dataTable, element);\n",
              "          const docLink = document.createElement('div');\n",
              "          docLink.innerHTML = docLinkHtml;\n",
              "          element.appendChild(docLink);\n",
              "        }\n",
              "      </script>\n",
              "    </div>\n",
              "  </div>\n",
              "  "
            ]
          },
          "metadata": {},
          "execution_count": 129
        }
      ]
    },
    {
      "cell_type": "code",
      "source": [
        "bog['vendor_id'].unique()"
      ],
      "metadata": {
        "colab": {
          "base_uri": "https://localhost:8080/"
        },
        "id": "BfrQllyAdvXB",
        "outputId": "207dcfab-f07f-4f7e-f8c1-83657b257f70"
      },
      "execution_count": null,
      "outputs": [
        {
          "output_type": "execute_result",
          "data": {
            "text/plain": [
              "array(['BogotÃ¡', 'BogotÃ¡ UberX', 'Bogota UberBlack', 'BogotÃ¡ UberVan',\n",
              "       'BogotÃ¡ UberAngel'], dtype=object)"
            ]
          },
          "metadata": {},
          "execution_count": 130
        }
      ]
    },
    {
      "cell_type": "code",
      "source": [
        "bog['store_and_fwd_flag'].unique()"
      ],
      "metadata": {
        "colab": {
          "base_uri": "https://localhost:8080/"
        },
        "id": "tSqcmdl9oWb4",
        "outputId": "7cf065e6-394d-4827-8eb8-168377b5342f"
      },
      "execution_count": null,
      "outputs": [
        {
          "output_type": "execute_result",
          "data": {
            "text/plain": [
              "array(['N'], dtype=object)"
            ]
          },
          "metadata": {},
          "execution_count": 131
        }
      ]
    },
    {
      "cell_type": "markdown",
      "source": [
        "# **Visualisasi Data**"
      ],
      "metadata": {
        "id": "E7LKilgewzxD"
      }
    },
    {
      "cell_type": "code",
      "source": [
        "import seaborn as sns\n",
        "import matplotlib.pyplot as plt\n",
        "from numpy.random import randn\n",
        "from numpy.random import seed\n",
        "from scipy.stats import pearsonr\n",
        "from scipy.stats import kendalltau"
      ],
      "metadata": {
        "id": "BdSBhgIspjA1"
      },
      "execution_count": null,
      "outputs": []
    },
    {
      "cell_type": "code",
      "source": [
        "bog.head()"
      ],
      "metadata": {
        "colab": {
          "base_uri": "https://localhost:8080/"
        },
        "id": "PFJ53CrIX_id",
        "outputId": "c2c2ded7-ddc1-435e-898f-81df997efdc3"
      },
      "execution_count": null,
      "outputs": [
        {
          "output_type": "execute_result",
          "data": {
            "text/plain": [
              "   id vendor_id      pickup_datetime     dropoff_datetime  pickup_longitude  \\\n",
              "0   1   BogotÃ¡  2016-09-18 01:54:11  2016-09-18 02:17:49        -74.170353   \n",
              "1   2   BogotÃ¡  2016-09-18 03:31:05  2016-09-18 03:44:06        -74.123542   \n",
              "2   3   BogotÃ¡  2016-08-07 03:35:36  2016-09-18 04:30:31        -74.178643   \n",
              "3   4   BogotÃ¡  2016-09-18 04:31:13  2016-09-18 04:32:19        -74.163398   \n",
              "4   5   BogotÃ¡  2016-09-13 12:07:04  2016-09-18 05:00:44        -74.137539   \n",
              "\n",
              "   pickup_latitude  dropoff_longitude  dropoff_latitude store_and_fwd_flag  \\\n",
              "0         4.622699         -74.119259          4.572322                  N   \n",
              "1         4.604075         -74.116125          4.572578                  N   \n",
              "2         4.646176         -74.178711          4.646367                  N   \n",
              "3         4.641949         -74.165813          4.640649                  N   \n",
              "4         4.596347         -74.125364          4.576745                  N   \n",
              "\n",
              "   trip_duration  dist_meters  wait_sec  \n",
              "0           1419        11935       293  \n",
              "1            782         7101       139  \n",
              "2        3632095         2655      2534  \n",
              "3             66          318        52  \n",
              "4         449620         3228       211  "
            ],
            "text/html": [
              "\n",
              "  <div id=\"df-f281fa20-5f70-4388-a0c6-6f5d6cb892a7\">\n",
              "    <div class=\"colab-df-container\">\n",
              "      <div>\n",
              "<style scoped>\n",
              "    .dataframe tbody tr th:only-of-type {\n",
              "        vertical-align: middle;\n",
              "    }\n",
              "\n",
              "    .dataframe tbody tr th {\n",
              "        vertical-align: top;\n",
              "    }\n",
              "\n",
              "    .dataframe thead th {\n",
              "        text-align: right;\n",
              "    }\n",
              "</style>\n",
              "<table border=\"1\" class=\"dataframe\">\n",
              "  <thead>\n",
              "    <tr style=\"text-align: right;\">\n",
              "      <th></th>\n",
              "      <th>id</th>\n",
              "      <th>vendor_id</th>\n",
              "      <th>pickup_datetime</th>\n",
              "      <th>dropoff_datetime</th>\n",
              "      <th>pickup_longitude</th>\n",
              "      <th>pickup_latitude</th>\n",
              "      <th>dropoff_longitude</th>\n",
              "      <th>dropoff_latitude</th>\n",
              "      <th>store_and_fwd_flag</th>\n",
              "      <th>trip_duration</th>\n",
              "      <th>dist_meters</th>\n",
              "      <th>wait_sec</th>\n",
              "    </tr>\n",
              "  </thead>\n",
              "  <tbody>\n",
              "    <tr>\n",
              "      <th>0</th>\n",
              "      <td>1</td>\n",
              "      <td>BogotÃ¡</td>\n",
              "      <td>2016-09-18 01:54:11</td>\n",
              "      <td>2016-09-18 02:17:49</td>\n",
              "      <td>-74.170353</td>\n",
              "      <td>4.622699</td>\n",
              "      <td>-74.119259</td>\n",
              "      <td>4.572322</td>\n",
              "      <td>N</td>\n",
              "      <td>1419</td>\n",
              "      <td>11935</td>\n",
              "      <td>293</td>\n",
              "    </tr>\n",
              "    <tr>\n",
              "      <th>1</th>\n",
              "      <td>2</td>\n",
              "      <td>BogotÃ¡</td>\n",
              "      <td>2016-09-18 03:31:05</td>\n",
              "      <td>2016-09-18 03:44:06</td>\n",
              "      <td>-74.123542</td>\n",
              "      <td>4.604075</td>\n",
              "      <td>-74.116125</td>\n",
              "      <td>4.572578</td>\n",
              "      <td>N</td>\n",
              "      <td>782</td>\n",
              "      <td>7101</td>\n",
              "      <td>139</td>\n",
              "    </tr>\n",
              "    <tr>\n",
              "      <th>2</th>\n",
              "      <td>3</td>\n",
              "      <td>BogotÃ¡</td>\n",
              "      <td>2016-08-07 03:35:36</td>\n",
              "      <td>2016-09-18 04:30:31</td>\n",
              "      <td>-74.178643</td>\n",
              "      <td>4.646176</td>\n",
              "      <td>-74.178711</td>\n",
              "      <td>4.646367</td>\n",
              "      <td>N</td>\n",
              "      <td>3632095</td>\n",
              "      <td>2655</td>\n",
              "      <td>2534</td>\n",
              "    </tr>\n",
              "    <tr>\n",
              "      <th>3</th>\n",
              "      <td>4</td>\n",
              "      <td>BogotÃ¡</td>\n",
              "      <td>2016-09-18 04:31:13</td>\n",
              "      <td>2016-09-18 04:32:19</td>\n",
              "      <td>-74.163398</td>\n",
              "      <td>4.641949</td>\n",
              "      <td>-74.165813</td>\n",
              "      <td>4.640649</td>\n",
              "      <td>N</td>\n",
              "      <td>66</td>\n",
              "      <td>318</td>\n",
              "      <td>52</td>\n",
              "    </tr>\n",
              "    <tr>\n",
              "      <th>4</th>\n",
              "      <td>5</td>\n",
              "      <td>BogotÃ¡</td>\n",
              "      <td>2016-09-13 12:07:04</td>\n",
              "      <td>2016-09-18 05:00:44</td>\n",
              "      <td>-74.137539</td>\n",
              "      <td>4.596347</td>\n",
              "      <td>-74.125364</td>\n",
              "      <td>4.576745</td>\n",
              "      <td>N</td>\n",
              "      <td>449620</td>\n",
              "      <td>3228</td>\n",
              "      <td>211</td>\n",
              "    </tr>\n",
              "  </tbody>\n",
              "</table>\n",
              "</div>\n",
              "      <button class=\"colab-df-convert\" onclick=\"convertToInteractive('df-f281fa20-5f70-4388-a0c6-6f5d6cb892a7')\"\n",
              "              title=\"Convert this dataframe to an interactive table.\"\n",
              "              style=\"display:none;\">\n",
              "        \n",
              "  <svg xmlns=\"http://www.w3.org/2000/svg\" height=\"24px\"viewBox=\"0 0 24 24\"\n",
              "       width=\"24px\">\n",
              "    <path d=\"M0 0h24v24H0V0z\" fill=\"none\"/>\n",
              "    <path d=\"M18.56 5.44l.94 2.06.94-2.06 2.06-.94-2.06-.94-.94-2.06-.94 2.06-2.06.94zm-11 1L8.5 8.5l.94-2.06 2.06-.94-2.06-.94L8.5 2.5l-.94 2.06-2.06.94zm10 10l.94 2.06.94-2.06 2.06-.94-2.06-.94-.94-2.06-.94 2.06-2.06.94z\"/><path d=\"M17.41 7.96l-1.37-1.37c-.4-.4-.92-.59-1.43-.59-.52 0-1.04.2-1.43.59L10.3 9.45l-7.72 7.72c-.78.78-.78 2.05 0 2.83L4 21.41c.39.39.9.59 1.41.59.51 0 1.02-.2 1.41-.59l7.78-7.78 2.81-2.81c.8-.78.8-2.07 0-2.86zM5.41 20L4 18.59l7.72-7.72 1.47 1.35L5.41 20z\"/>\n",
              "  </svg>\n",
              "      </button>\n",
              "      \n",
              "  <style>\n",
              "    .colab-df-container {\n",
              "      display:flex;\n",
              "      flex-wrap:wrap;\n",
              "      gap: 12px;\n",
              "    }\n",
              "\n",
              "    .colab-df-convert {\n",
              "      background-color: #E8F0FE;\n",
              "      border: none;\n",
              "      border-radius: 50%;\n",
              "      cursor: pointer;\n",
              "      display: none;\n",
              "      fill: #1967D2;\n",
              "      height: 32px;\n",
              "      padding: 0 0 0 0;\n",
              "      width: 32px;\n",
              "    }\n",
              "\n",
              "    .colab-df-convert:hover {\n",
              "      background-color: #E2EBFA;\n",
              "      box-shadow: 0px 1px 2px rgba(60, 64, 67, 0.3), 0px 1px 3px 1px rgba(60, 64, 67, 0.15);\n",
              "      fill: #174EA6;\n",
              "    }\n",
              "\n",
              "    [theme=dark] .colab-df-convert {\n",
              "      background-color: #3B4455;\n",
              "      fill: #D2E3FC;\n",
              "    }\n",
              "\n",
              "    [theme=dark] .colab-df-convert:hover {\n",
              "      background-color: #434B5C;\n",
              "      box-shadow: 0px 1px 3px 1px rgba(0, 0, 0, 0.15);\n",
              "      filter: drop-shadow(0px 1px 2px rgba(0, 0, 0, 0.3));\n",
              "      fill: #FFFFFF;\n",
              "    }\n",
              "  </style>\n",
              "\n",
              "      <script>\n",
              "        const buttonEl =\n",
              "          document.querySelector('#df-f281fa20-5f70-4388-a0c6-6f5d6cb892a7 button.colab-df-convert');\n",
              "        buttonEl.style.display =\n",
              "          google.colab.kernel.accessAllowed ? 'block' : 'none';\n",
              "\n",
              "        async function convertToInteractive(key) {\n",
              "          const element = document.querySelector('#df-f281fa20-5f70-4388-a0c6-6f5d6cb892a7');\n",
              "          const dataTable =\n",
              "            await google.colab.kernel.invokeFunction('convertToInteractive',\n",
              "                                                     [key], {});\n",
              "          if (!dataTable) return;\n",
              "\n",
              "          const docLinkHtml = 'Like what you see? Visit the ' +\n",
              "            '<a target=\"_blank\" href=https://colab.research.google.com/notebooks/data_table.ipynb>data table notebook</a>'\n",
              "            + ' to learn more about interactive tables.';\n",
              "          element.innerHTML = '';\n",
              "          dataTable['output_type'] = 'display_data';\n",
              "          await google.colab.output.renderOutput(dataTable, element);\n",
              "          const docLink = document.createElement('div');\n",
              "          docLink.innerHTML = docLinkHtml;\n",
              "          element.appendChild(docLink);\n",
              "        }\n",
              "      </script>\n",
              "    </div>\n",
              "  </div>\n",
              "  "
            ]
          },
          "metadata": {},
          "execution_count": 133
        }
      ]
    },
    {
      "cell_type": "code",
      "source": [
        "bog['trip_duration'].describe()"
      ],
      "metadata": {
        "colab": {
          "base_uri": "https://localhost:8080/"
        },
        "id": "LvTzW0-NYEHQ",
        "outputId": "dcc17b8a-ea50-460a-c851-2854b07ec018"
      },
      "execution_count": null,
      "outputs": [
        {
          "output_type": "execute_result",
          "data": {
            "text/plain": [
              "count    3.063000e+03\n",
              "mean     9.295603e+04\n",
              "std      5.899404e+05\n",
              "min      2.000000e+00\n",
              "25%      5.385000e+02\n",
              "50%      1.442000e+03\n",
              "75%      3.813000e+03\n",
              "max      1.227617e+07\n",
              "Name: trip_duration, dtype: float64"
            ]
          },
          "metadata": {},
          "execution_count": 134
        }
      ]
    },
    {
      "cell_type": "code",
      "source": [
        "bog['dist_meters'].describe()"
      ],
      "metadata": {
        "colab": {
          "base_uri": "https://localhost:8080/"
        },
        "id": "Pm9MfOgljE4Q",
        "outputId": "891f894a-ab36-4f3b-b0e2-bb8445f9c592"
      },
      "execution_count": null,
      "outputs": [
        {
          "output_type": "execute_result",
          "data": {
            "text/plain": [
              "count    3.063000e+03\n",
              "mean    -1.392301e+06\n",
              "std      5.486590e+07\n",
              "min     -2.147484e+09\n",
              "25%      1.672000e+03\n",
              "50%      5.375000e+03\n",
              "75%      1.085600e+04\n",
              "max      3.478510e+05\n",
              "Name: dist_meters, dtype: float64"
            ]
          },
          "metadata": {},
          "execution_count": 135
        }
      ]
    },
    {
      "cell_type": "code",
      "source": [
        "import warnings\n",
        "\n",
        "warnings.filterwarnings('ignore')\n",
        "plt.figure(figsize=(16,5))\n",
        "plt.subplot(1,2,1)\n",
        "sns.distplot(bog['trip_duration'])\n",
        "plt.subplot(1,2,2)\n",
        "sns.distplot(bog['dist_meters'])\n",
        "plt.show()"
      ],
      "metadata": {
        "colab": {
          "base_uri": "https://localhost:8080/"
        },
        "id": "FDDOL_PkjbM-",
        "outputId": "9862cc8a-ab8e-4ef1-cd3f-6a0f127c59cd"
      },
      "execution_count": null,
      "outputs": [
        {
          "output_type": "display_data",
          "data": {
            "text/plain": [
              "<Figure size 1152x360 with 2 Axes>"
            ],
            "image/png": "[encoded data removed]"
          },
          "metadata": {
            "needs_background": "light"
          }
        }
      ]
    },
    {
      "cell_type": "code",
      "source": [
        "bog['dist_meters'] = bog['dist_meters']/1000"
      ],
      "metadata": {
        "id": "qxiipNOEjHY5"
      },
      "execution_count": null,
      "outputs": []
    },
    {
      "cell_type": "code",
      "source": [
        "bog = bog[(bog['dist_meters'] <= 50) & (bog['dist_meters'] >= 0)]  \n",
        "bog.shape"
      ],
      "metadata": {
        "colab": {
          "base_uri": "https://localhost:8080/"
        },
        "id": "Vh9iISefsWu7",
        "outputId": "8cbf9965-4a5b-415f-b4f3-a48180163391"
      },
      "execution_count": null,
      "outputs": [
        {
          "output_type": "execute_result",
          "data": {
            "text/plain": [
              "(3013, 12)"
            ]
          },
          "metadata": {},
          "execution_count": 138
        }
      ]
    },
    {
      "cell_type": "code",
      "source": [
        "bog['trip_duration'] =  bog['trip_duration']/60"
      ],
      "metadata": {
        "id": "m9B5bjOVib4u"
      },
      "execution_count": null,
      "outputs": []
    },
    {
      "cell_type": "code",
      "source": [
        "bog = bog[(bog['trip_duration'] >= 2) & (bog['trip_duration'] <=100. )] # sebelumnya 0.5 dan 350\n",
        "bog.shape"
      ],
      "metadata": {
        "colab": {
          "base_uri": "https://localhost:8080/"
        },
        "id": "kBMlQyhZrcoV",
        "outputId": "dacac9ad-747f-4ba1-9599-ef16198b8775"
      },
      "execution_count": null,
      "outputs": [
        {
          "output_type": "execute_result",
          "data": {
            "text/plain": [
              "(2159, 12)"
            ]
          },
          "metadata": {},
          "execution_count": 140
        }
      ]
    },
    {
      "cell_type": "code",
      "source": [
        "import warnings\n",
        "\n",
        "warnings.filterwarnings('ignore')\n",
        "plt.figure(figsize=(16,5))\n",
        "plt.subplot(1,2,1)\n",
        "sns.distplot(bog['trip_duration'])\n",
        "plt.subplot(1,2,2)\n",
        "sns.distplot(bog['dist_meters'])\n",
        "plt.show()"
      ],
      "metadata": {
        "colab": {
          "base_uri": "https://localhost:8080/"
        },
        "id": "GTe9GaBKXDxL",
        "outputId": "6795f142-7153-4666-8af5-9d6dce0e21be"
      },
      "execution_count": null,
      "outputs": [
        {
          "output_type": "display_data",
          "data": {
            "text/plain": [
              "<Figure size 1152x360 with 2 Axes>"
            ],
            "image/png": "[encoded data removed]"
          },
          "metadata": {
            "needs_background": "light"
          }
        }
      ]
    },
    {
      "cell_type": "code",
      "source": [
        "plt.figure(figsize=(16,5))\n",
        "plt.subplot(1,2,1)\n",
        "sns.boxplot(bog['trip_duration'])\n",
        "plt.subplot(1,2,2)\n",
        "sns.boxplot(bog['dist_meters'])\n",
        "plt.show()"
      ],
      "metadata": {
        "colab": {
          "base_uri": "https://localhost:8080/"
        },
        "id": "QgQY68UiZWwB",
        "outputId": "b6e19577-563a-4030-a6db-98f2c7276e6c"
      },
      "execution_count": null,
      "outputs": [
        {
          "output_type": "display_data",
          "data": {
            "text/plain": [
              "<Figure size 1152x360 with 2 Axes>"
            ],
            "image/png": "[encoded data removed]"
          },
          "metadata": {
            "needs_background": "light"
          }
        }
      ]
    },
    {
      "cell_type": "code",
      "source": [
        "percentile25 = bog['trip_duration'].quantile(0.25)\n",
        "percentile75 = bog['trip_duration'].quantile(0.75)\n",
        "iqr = percentile75-percentile25\n",
        "print(percentile25)\n",
        "print(percentile75)\n",
        "print(iqr)\n",
        "\n",
        "bog.shape"
      ],
      "metadata": {
        "colab": {
          "base_uri": "https://localhost:8080/"
        },
        "id": "NZBWSaMUeyTf",
        "outputId": "9affaf0d-0025-481c-d737-8f1dbf77f5f3"
      },
      "execution_count": null,
      "outputs": [
        {
          "output_type": "stream",
          "name": "stdout",
          "text": [
            "11.091666666666667\n",
            "38.983333333333334\n",
            "27.891666666666666\n"
          ]
        },
        {
          "output_type": "execute_result",
          "data": {
            "text/plain": [
              "(2159, 12)"
            ]
          },
          "metadata": {},
          "execution_count": 143
        }
      ]
    },
    {
      "cell_type": "code",
      "source": [
        "#IQR = Q3 - Q1\n",
        "\n",
        "upper_limit = percentile75 + 1.5 * iqr\n",
        "lower_limit = percentile25 - 1.5 * iqr\n",
        "\n",
        "print(upper_limit)\n",
        "print(lower_limit)"
      ],
      "metadata": {
        "colab": {
          "base_uri": "https://localhost:8080/"
        },
        "id": "iT3xIluMe4nJ",
        "outputId": "c1870288-8265-4930-e0bd-054abccab174"
      },
      "execution_count": null,
      "outputs": [
        {
          "output_type": "stream",
          "name": "stdout",
          "text": [
            "80.82083333333333\n",
            "-30.74583333333333\n"
          ]
        }
      ]
    },
    {
      "cell_type": "code",
      "source": [
        "bog[bog['trip_duration'] > upper_limit]\n",
        "bog[bog['trip_duration'] < lower_limit]"
      ],
      "metadata": {
        "colab": {
          "base_uri": "https://localhost:8080/"
        },
        "id": "z-KV0aDFfiAZ",
        "outputId": "98f7260d-2886-4415-cec8-fdfbb1aec4cd"
      },
      "execution_count": null,
      "outputs": [
        {
          "output_type": "execute_result",
          "data": {
            "text/plain": [
              "Empty DataFrame\n",
              "Columns: [id, vendor_id, pickup_datetime, dropoff_datetime, pickup_longitude, pickup_latitude, dropoff_longitude, dropoff_latitude, store_and_fwd_flag, trip_duration, dist_meters, wait_sec]\n",
              "Index: []"
            ],
            "text/html": [
              "\n",
              "  <div id=\"df-3f07b7cc-bbca-48ff-9c47-4bd12c90ad71\">\n",
              "    <div class=\"colab-df-container\">\n",
              "      <div>\n",
              "<style scoped>\n",
              "    .dataframe tbody tr th:only-of-type {\n",
              "        vertical-align: middle;\n",
              "    }\n",
              "\n",
              "    .dataframe tbody tr th {\n",
              "        vertical-align: top;\n",
              "    }\n",
              "\n",
              "    .dataframe thead th {\n",
              "        text-align: right;\n",
              "    }\n",
              "</style>\n",
              "<table border=\"1\" class=\"dataframe\">\n",
              "  <thead>\n",
              "    <tr style=\"text-align: right;\">\n",
              "      <th></th>\n",
              "      <th>id</th>\n",
              "      <th>vendor_id</th>\n",
              "      <th>pickup_datetime</th>\n",
              "      <th>dropoff_datetime</th>\n",
              "      <th>pickup_longitude</th>\n",
              "      <th>pickup_latitude</th>\n",
              "      <th>dropoff_longitude</th>\n",
              "      <th>dropoff_latitude</th>\n",
              "      <th>store_and_fwd_flag</th>\n",
              "      <th>trip_duration</th>\n",
              "      <th>dist_meters</th>\n",
              "      <th>wait_sec</th>\n",
              "    </tr>\n",
              "  </thead>\n",
              "  <tbody>\n",
              "  </tbody>\n",
              "</table>\n",
              "</div>\n",
              "      <button class=\"colab-df-convert\" onclick=\"convertToInteractive('df-3f07b7cc-bbca-48ff-9c47-4bd12c90ad71')\"\n",
              "              title=\"Convert this dataframe to an interactive table.\"\n",
              "              style=\"display:none;\">\n",
              "        \n",
              "  <svg xmlns=\"http://www.w3.org/2000/svg\" height=\"24px\"viewBox=\"0 0 24 24\"\n",
              "       width=\"24px\">\n",
              "    <path d=\"M0 0h24v24H0V0z\" fill=\"none\"/>\n",
              "    <path d=\"M18.56 5.44l.94 2.06.94-2.06 2.06-.94-2.06-.94-.94-2.06-.94 2.06-2.06.94zm-11 1L8.5 8.5l.94-2.06 2.06-.94-2.06-.94L8.5 2.5l-.94 2.06-2.06.94zm10 10l.94 2.06.94-2.06 2.06-.94-2.06-.94-.94-2.06-.94 2.06-2.06.94z\"/><path d=\"M17.41 7.96l-1.37-1.37c-.4-.4-.92-.59-1.43-.59-.52 0-1.04.2-1.43.59L10.3 9.45l-7.72 7.72c-.78.78-.78 2.05 0 2.83L4 21.41c.39.39.9.59 1.41.59.51 0 1.02-.2 1.41-.59l7.78-7.78 2.81-2.81c.8-.78.8-2.07 0-2.86zM5.41 20L4 18.59l7.72-7.72 1.47 1.35L5.41 20z\"/>\n",
              "  </svg>\n",
              "      </button>\n",
              "      \n",
              "  <style>\n",
              "    .colab-df-container {\n",
              "      display:flex;\n",
              "      flex-wrap:wrap;\n",
              "      gap: 12px;\n",
              "    }\n",
              "\n",
              "    .colab-df-convert {\n",
              "      background-color: #E8F0FE;\n",
              "      border: none;\n",
              "      border-radius: 50%;\n",
              "      cursor: pointer;\n",
              "      display: none;\n",
              "      fill: #1967D2;\n",
              "      height: 32px;\n",
              "      padding: 0 0 0 0;\n",
              "      width: 32px;\n",
              "    }\n",
              "\n",
              "    .colab-df-convert:hover {\n",
              "      background-color: #E2EBFA;\n",
              "      box-shadow: 0px 1px 2px rgba(60, 64, 67, 0.3), 0px 1px 3px 1px rgba(60, 64, 67, 0.15);\n",
              "      fill: #174EA6;\n",
              "    }\n",
              "\n",
              "    [theme=dark] .colab-df-convert {\n",
              "      background-color: #3B4455;\n",
              "      fill: #D2E3FC;\n",
              "    }\n",
              "\n",
              "    [theme=dark] .colab-df-convert:hover {\n",
              "      background-color: #434B5C;\n",
              "      box-shadow: 0px 1px 3px 1px rgba(0, 0, 0, 0.15);\n",
              "      filter: drop-shadow(0px 1px 2px rgba(0, 0, 0, 0.3));\n",
              "      fill: #FFFFFF;\n",
              "    }\n",
              "  </style>\n",
              "\n",
              "      <script>\n",
              "        const buttonEl =\n",
              "          document.querySelector('#df-3f07b7cc-bbca-48ff-9c47-4bd12c90ad71 button.colab-df-convert');\n",
              "        buttonEl.style.display =\n",
              "          google.colab.kernel.accessAllowed ? 'block' : 'none';\n",
              "\n",
              "        async function convertToInteractive(key) {\n",
              "          const element = document.querySelector('#df-3f07b7cc-bbca-48ff-9c47-4bd12c90ad71');\n",
              "          const dataTable =\n",
              "            await google.colab.kernel.invokeFunction('convertToInteractive',\n",
              "                                                     [key], {});\n",
              "          if (!dataTable) return;\n",
              "\n",
              "          const docLinkHtml = 'Like what you see? Visit the ' +\n",
              "            '<a target=\"_blank\" href=https://colab.research.google.com/notebooks/data_table.ipynb>data table notebook</a>'\n",
              "            + ' to learn more about interactive tables.';\n",
              "          element.innerHTML = '';\n",
              "          dataTable['output_type'] = 'display_data';\n",
              "          await google.colab.output.renderOutput(dataTable, element);\n",
              "          const docLink = document.createElement('div');\n",
              "          docLink.innerHTML = docLinkHtml;\n",
              "          element.appendChild(docLink);\n",
              "        }\n",
              "      </script>\n",
              "    </div>\n",
              "  </div>\n",
              "  "
            ]
          },
          "metadata": {},
          "execution_count": 145
        }
      ]
    },
    {
      "cell_type": "code",
      "source": [
        "new_df = bog[bog['trip_duration'] < upper_limit]\n",
        "new_df = bog[bog['trip_duration'] > lower_limit]\n",
        "new_df.shape"
      ],
      "metadata": {
        "colab": {
          "base_uri": "https://localhost:8080/"
        },
        "id": "OcwzjEdwf8Gf",
        "outputId": "0bd707ed-bf00-444e-9edf-79ceb4358db7"
      },
      "execution_count": null,
      "outputs": [
        {
          "output_type": "execute_result",
          "data": {
            "text/plain": [
              "(2159, 12)"
            ]
          },
          "metadata": {},
          "execution_count": 146
        }
      ]
    },
    {
      "cell_type": "code",
      "source": [
        "plt.figure(figsize=(16,8))\n",
        "plt.subplot(2,2,1)\n",
        "sns.distplot(bog['trip_duration'])\n",
        "plt.subplot(2,2,2)\n",
        "sns.boxplot(bog['trip_duration'])\n",
        "plt.subplot(2,2,3)\n",
        "sns.distplot(new_df['trip_duration'])\n",
        "plt.subplot(2,2,4)\n",
        "sns.boxplot(new_df['trip_duration'])\n",
        "plt.show()"
      ],
      "metadata": {
        "colab": {
          "base_uri": "https://localhost:8080/"
        },
        "id": "CZ3whQXDhQ4M",
        "outputId": "e936a7dd-2318-4c07-be8b-11a3eca97300"
      },
      "execution_count": null,
      "outputs": [
        {
          "output_type": "display_data",
          "data": {
            "text/plain": [
              "<Figure size 1152x576 with 4 Axes>"
            ],
            "image/png": "[encoded data removed]"
          },
          "metadata": {
            "needs_background": "light"
          }
        }
      ]
    },
    {
      "cell_type": "code",
      "source": [
        "plt.hist(np.log1p(bog['trip_duration'].values + 1), bins=200)\n",
        "plt.show()"
      ],
      "metadata": {
        "colab": {
          "base_uri": "https://localhost:8080/"
        },
        "id": "n0lkNfHepJbh",
        "outputId": "b1e3f534-9342-4a44-9e17-bcf9c2b42ae6"
      },
      "execution_count": null,
      "outputs": [
        {
          "output_type": "display_data",
          "data": {
            "text/plain": [
              "<Figure size 432x288 with 1 Axes>"
            ],
            "image/png": "[encoded data removed]"
          },
          "metadata": {
            "needs_background": "light"
          }
        }
      ]
    },
    {
      "cell_type": "code",
      "source": [
        "sns.regplot(x=bog[\"trip_duration\"], y=bog[\"dist_meters\"])"
      ],
      "metadata": {
        "colab": {
          "base_uri": "https://localhost:8080/"
        },
        "id": "kOTNbouzoorp",
        "outputId": "a542a43e-93a7-4af2-fc7a-00cbb3007f47"
      },
      "execution_count": null,
      "outputs": [
        {
          "output_type": "execute_result",
          "data": {
            "text/plain": [
              "<matplotlib.axes._subplots.AxesSubplot at 0x7fec4fe3c990>"
            ]
          },
          "metadata": {},
          "execution_count": 149
        },
        {
          "output_type": "display_data",
          "data": {
            "text/plain": [
              "<Figure size 432x288 with 1 Axes>"
            ],
            "image/png": "[encoded data removed]"
          },
          "metadata": {
            "needs_background": "light"
          }
        }
      ]
    },
    {
      "cell_type": "code",
      "source": [
        "bog_detail = bog[(bog['dist_meters'] <= 25) & (bog['dist_meters'] >= 0)]  \n",
        "bog_detail = bog[(bog['trip_duration'] >= 0.5) & (bog['trip_duration'] <=175. )]\n",
        "sns.regplot(x=bog_detail[\"trip_duration\"], y=bog_detail[\"dist_meters\"])"
      ],
      "metadata": {
        "colab": {
          "base_uri": "https://localhost:8080/"
        },
        "id": "aYsX3j4SzOBK",
        "outputId": "39a01686-0a07-4d3d-e168-055a75fa6a5c"
      },
      "execution_count": null,
      "outputs": [
        {
          "output_type": "execute_result",
          "data": {
            "text/plain": [
              "<matplotlib.axes._subplots.AxesSubplot at 0x7fec4f1a2190>"
            ]
          },
          "metadata": {},
          "execution_count": 150
        },
        {
          "output_type": "display_data",
          "data": {
            "text/plain": [
              "<Figure size 432x288 with 1 Axes>"
            ],
            "image/png": "[encoded data removed]"
          },
          "metadata": {
            "needs_background": "light"
          }
        }
      ]
    },
    {
      "cell_type": "code",
      "source": [
        "bog_more_detail = bog[(bog['dist_meters'] <= 20) & (bog['dist_meters'] >= 0)]  \n",
        "bog_more_detail = bog[(bog['trip_duration'] >= 2) & (bog['trip_duration'] <=80. )]\n",
        "sns.regplot(x=bog_more_detail[\"trip_duration\"], y=bog_more_detail[\"dist_meters\"])"
      ],
      "metadata": {
        "colab": {
          "base_uri": "https://localhost:8080/"
        },
        "id": "ss9CafN6za4M",
        "outputId": "91de587f-f411-4b76-e42e-182e5b10c859"
      },
      "execution_count": null,
      "outputs": [
        {
          "output_type": "execute_result",
          "data": {
            "text/plain": [
              "<matplotlib.axes._subplots.AxesSubplot at 0x7fec4f0d2710>"
            ]
          },
          "metadata": {},
          "execution_count": 151
        },
        {
          "output_type": "display_data",
          "data": {
            "text/plain": [
              "<Figure size 432x288 with 1 Axes>"
            ],
            "image/png": "[encoded data removed]"
          },
          "metadata": {
            "needs_background": "light"
          }
        }
      ]
    },
    {
      "cell_type": "code",
      "source": [
        "vendor_freq = bog.groupby(['vendor_id'])['id'].count().reset_index()\n",
        "vendor_freq"
      ],
      "metadata": {
        "colab": {
          "base_uri": "https://localhost:8080/"
        },
        "id": "rjhrHsKcz8zZ",
        "outputId": "a8b7ccc5-1d97-49fc-8faa-1f3c8ed00e6a"
      },
      "execution_count": null,
      "outputs": [
        {
          "output_type": "execute_result",
          "data": {
            "text/plain": [
              "           vendor_id    id\n",
              "0   Bogota UberBlack   165\n",
              "1            BogotÃ¡  1826\n",
              "2  BogotÃ¡ UberAngel     5\n",
              "3    BogotÃ¡ UberVan    33\n",
              "4      BogotÃ¡ UberX   130"
            ],
            "text/html": [
              "\n",
              "  <div id=\"df-cc626d53-a069-4498-938d-5bcd40c6f184\">\n",
              "    <div class=\"colab-df-container\">\n",
              "      <div>\n",
              "<style scoped>\n",
              "    .dataframe tbody tr th:only-of-type {\n",
              "        vertical-align: middle;\n",
              "    }\n",
              "\n",
              "    .dataframe tbody tr th {\n",
              "        vertical-align: top;\n",
              "    }\n",
              "\n",
              "    .dataframe thead th {\n",
              "        text-align: right;\n",
              "    }\n",
              "</style>\n",
              "<table border=\"1\" class=\"dataframe\">\n",
              "  <thead>\n",
              "    <tr style=\"text-align: right;\">\n",
              "      <th></th>\n",
              "      <th>vendor_id</th>\n",
              "      <th>id</th>\n",
              "    </tr>\n",
              "  </thead>\n",
              "  <tbody>\n",
              "    <tr>\n",
              "      <th>0</th>\n",
              "      <td>Bogota UberBlack</td>\n",
              "      <td>165</td>\n",
              "    </tr>\n",
              "    <tr>\n",
              "      <th>1</th>\n",
              "      <td>BogotÃ¡</td>\n",
              "      <td>1826</td>\n",
              "    </tr>\n",
              "    <tr>\n",
              "      <th>2</th>\n",
              "      <td>BogotÃ¡ UberAngel</td>\n",
              "      <td>5</td>\n",
              "    </tr>\n",
              "    <tr>\n",
              "      <th>3</th>\n",
              "      <td>BogotÃ¡ UberVan</td>\n",
              "      <td>33</td>\n",
              "    </tr>\n",
              "    <tr>\n",
              "      <th>4</th>\n",
              "      <td>BogotÃ¡ UberX</td>\n",
              "      <td>130</td>\n",
              "    </tr>\n",
              "  </tbody>\n",
              "</table>\n",
              "</div>\n",
              "      <button class=\"colab-df-convert\" onclick=\"convertToInteractive('df-cc626d53-a069-4498-938d-5bcd40c6f184')\"\n",
              "              title=\"Convert this dataframe to an interactive table.\"\n",
              "              style=\"display:none;\">\n",
              "        \n",
              "  <svg xmlns=\"http://www.w3.org/2000/svg\" height=\"24px\"viewBox=\"0 0 24 24\"\n",
              "       width=\"24px\">\n",
              "    <path d=\"M0 0h24v24H0V0z\" fill=\"none\"/>\n",
              "    <path d=\"M18.56 5.44l.94 2.06.94-2.06 2.06-.94-2.06-.94-.94-2.06-.94 2.06-2.06.94zm-11 1L8.5 8.5l.94-2.06 2.06-.94-2.06-.94L8.5 2.5l-.94 2.06-2.06.94zm10 10l.94 2.06.94-2.06 2.06-.94-2.06-.94-.94-2.06-.94 2.06-2.06.94z\"/><path d=\"M17.41 7.96l-1.37-1.37c-.4-.4-.92-.59-1.43-.59-.52 0-1.04.2-1.43.59L10.3 9.45l-7.72 7.72c-.78.78-.78 2.05 0 2.83L4 21.41c.39.39.9.59 1.41.59.51 0 1.02-.2 1.41-.59l7.78-7.78 2.81-2.81c.8-.78.8-2.07 0-2.86zM5.41 20L4 18.59l7.72-7.72 1.47 1.35L5.41 20z\"/>\n",
              "  </svg>\n",
              "      </button>\n",
              "      \n",
              "  <style>\n",
              "    .colab-df-container {\n",
              "      display:flex;\n",
              "      flex-wrap:wrap;\n",
              "      gap: 12px;\n",
              "    }\n",
              "\n",
              "    .colab-df-convert {\n",
              "      background-color: #E8F0FE;\n",
              "      border: none;\n",
              "      border-radius: 50%;\n",
              "      cursor: pointer;\n",
              "      display: none;\n",
              "      fill: #1967D2;\n",
              "      height: 32px;\n",
              "      padding: 0 0 0 0;\n",
              "      width: 32px;\n",
              "    }\n",
              "\n",
              "    .colab-df-convert:hover {\n",
              "      background-color: #E2EBFA;\n",
              "      box-shadow: 0px 1px 2px rgba(60, 64, 67, 0.3), 0px 1px 3px 1px rgba(60, 64, 67, 0.15);\n",
              "      fill: #174EA6;\n",
              "    }\n",
              "\n",
              "    [theme=dark] .colab-df-convert {\n",
              "      background-color: #3B4455;\n",
              "      fill: #D2E3FC;\n",
              "    }\n",
              "\n",
              "    [theme=dark] .colab-df-convert:hover {\n",
              "      background-color: #434B5C;\n",
              "      box-shadow: 0px 1px 3px 1px rgba(0, 0, 0, 0.15);\n",
              "      filter: drop-shadow(0px 1px 2px rgba(0, 0, 0, 0.3));\n",
              "      fill: #FFFFFF;\n",
              "    }\n",
              "  </style>\n",
              "\n",
              "      <script>\n",
              "        const buttonEl =\n",
              "          document.querySelector('#df-cc626d53-a069-4498-938d-5bcd40c6f184 button.colab-df-convert');\n",
              "        buttonEl.style.display =\n",
              "          google.colab.kernel.accessAllowed ? 'block' : 'none';\n",
              "\n",
              "        async function convertToInteractive(key) {\n",
              "          const element = document.querySelector('#df-cc626d53-a069-4498-938d-5bcd40c6f184');\n",
              "          const dataTable =\n",
              "            await google.colab.kernel.invokeFunction('convertToInteractive',\n",
              "                                                     [key], {});\n",
              "          if (!dataTable) return;\n",
              "\n",
              "          const docLinkHtml = 'Like what you see? Visit the ' +\n",
              "            '<a target=\"_blank\" href=https://colab.research.google.com/notebooks/data_table.ipynb>data table notebook</a>'\n",
              "            + ' to learn more about interactive tables.';\n",
              "          element.innerHTML = '';\n",
              "          dataTable['output_type'] = 'display_data';\n",
              "          await google.colab.output.renderOutput(dataTable, element);\n",
              "          const docLink = document.createElement('div');\n",
              "          docLink.innerHTML = docLinkHtml;\n",
              "          element.appendChild(docLink);\n",
              "        }\n",
              "      </script>\n",
              "    </div>\n",
              "  </div>\n",
              "  "
            ]
          },
          "metadata": {},
          "execution_count": 152
        }
      ]
    },
    {
      "cell_type": "markdown",
      "source": [
        "## **Calculate Correlation**"
      ],
      "metadata": {
        "id": "j6yv7P0SliBA"
      }
    },
    {
      "cell_type": "code",
      "source": [
        "# prepare data\n",
        "data1 = bog['trip_duration']\n",
        "data2 = bog['dist_meters']\n",
        "data3 = bog['wait_sec']\n",
        "# calculate Pearson's correlation\n",
        "corr, _ = pearsonr(data1, data2)\n",
        "print('Pearsons correlation: %.3f' % corr)\n",
        "corr, _ = pearsonr(data1, data3)\n",
        "print('Pearsons correlation: %.3f' % corr)\n",
        "corr, _ = pearsonr(data3, data2)\n",
        "print('Pearsons correlation: %.3f' % corr)"
      ],
      "metadata": {
        "colab": {
          "base_uri": "https://localhost:8080/"
        },
        "id": "xJ9wqwBQTK5A",
        "outputId": "84ed384c-2382-4728-f6c1-591488ebb923"
      },
      "execution_count": null,
      "outputs": [
        {
          "output_type": "stream",
          "name": "stdout",
          "text": [
            "Pearsons correlation: 0.645\n",
            "Pearsons correlation: 0.012\n",
            "Pearsons correlation: 0.018\n"
          ]
        }
      ]
    },
    {
      "cell_type": "code",
      "source": [
        "# prepare data\n",
        "data1 = bog['trip_duration']\n",
        "data2 = bog['dist_meters']\n",
        "data3 = bog['wait_sec']\n",
        "data4 = bog['vendor_id']\n",
        "# calculate Pearson's correlation\n",
        "corr, _ = kendalltau(data4, data1)\n",
        "print('Kendall Rank correlation: %.5f' % corr)\n",
        "corr, _ = kendalltau(data4, data2)\n",
        "print('Kendall Rank correlation: %.5f' % corr)\n",
        "corr, _ = kendalltau(data4, data3)\n",
        "print('Kendall Rank correlation: %.5f' % corr)"
      ],
      "metadata": {
        "colab": {
          "base_uri": "https://localhost:8080/"
        },
        "id": "HXh0Jpm_UhYv",
        "outputId": "a6287dad-eb1c-4f18-99e5-f5dfc9c10f07"
      },
      "execution_count": null,
      "outputs": [
        {
          "output_type": "stream",
          "name": "stdout",
          "text": [
            "Kendall Rank correlation: -0.01311\n",
            "Kendall Rank correlation: 0.01038\n",
            "Kendall Rank correlation: -0.03194\n"
          ]
        }
      ]
    },
    {
      "cell_type": "code",
      "source": [
        "np.percentile(bog['dropoff_latitude'], np.arange(0,101))"
      ],
      "metadata": {
        "colab": {
          "base_uri": "https://localhost:8080/"
        },
        "id": "kSbM9wh2uHrI",
        "outputId": "e757e100-6d4c-40d0-9346-f38f71d63051"
      },
      "execution_count": null,
      "outputs": [
        {
          "output_type": "execute_result",
          "data": {
            "text/plain": [
              "array([3.40577538, 4.54686842, 4.56533068, 4.57221142, 4.57660424,\n",
              "       4.5794522 , 4.58203344, 4.58536687, 4.58801339, 4.59026086,\n",
              "       4.59382391, 4.59565341, 4.59876314, 4.60136412, 4.60415234,\n",
              "       4.60590348, 4.60816223, 4.61061997, 4.61279108, 4.61539699,\n",
              "       4.61729797, 4.62084689, 4.62355191, 4.6255977 , 4.62752621,\n",
              "       4.63008479, 4.63221413, 4.63407553, 4.63555957, 4.6374405 ,\n",
              "       4.63968762, 4.64120205, 4.64277767, 4.64447583, 4.64650084,\n",
              "       4.64867909, 4.64940192, 4.65094998, 4.65264425, 4.65466126,\n",
              "       4.65645759, 4.6586686 , 4.66271715, 4.66519036, 4.66749887,\n",
              "       4.66914554, 4.67141128, 4.67289005, 4.67544201, 4.67772198,\n",
              "       4.67930532, 4.68136746, 4.6827594 , 4.68458844, 4.68606681,\n",
              "       4.68774496, 4.68988251, 4.69144487, 4.69342947, 4.69458188,\n",
              "       4.69604444, 4.69712978, 4.69839293, 4.69933968, 4.70048302,\n",
              "       4.70256335, 4.70427204, 4.70474573, 4.70633903, 4.70889539,\n",
              "       4.71042604, 4.71133642, 4.713536  , 4.71588493, 4.71868509,\n",
              "       4.72011099, 4.72253238, 4.72396286, 4.72595038, 4.72774602,\n",
              "       4.73033866, 4.73354768, 4.73663938, 4.73899575, 4.74233326,\n",
              "       4.74444049, 4.74766473, 4.75042337, 4.75201761, 4.75207009,\n",
              "       4.75210345, 4.75214173, 4.75242395, 4.75489505, 4.75892469,\n",
              "       4.76063943, 4.76128838, 4.76203811, 4.76342642, 4.76656867,\n",
              "       5.02467425])"
            ]
          },
          "metadata": {},
          "execution_count": 155
        }
      ]
    },
    {
      "cell_type": "code",
      "source": [
        "np.percentile(bog['pickup_latitude'], np.arange(0,101))"
      ],
      "metadata": {
        "colab": {
          "base_uri": "https://localhost:8080/"
        },
        "id": "Ry1mBzbuuG_A",
        "outputId": "985cabb2-31b6-4f69-b3ab-6388465923d3"
      },
      "execution_count": null,
      "outputs": [
        {
          "output_type": "execute_result",
          "data": {
            "text/plain": [
              "array([3.39423064, 4.54717707, 4.56559357, 4.57468666, 4.57792287,\n",
              "       4.58034931, 4.58318939, 4.58727089, 4.59019762, 4.59350663,\n",
              "       4.59513213, 4.59864382, 4.6028466 , 4.60480971, 4.60705664,\n",
              "       4.60913092, 4.61224363, 4.61462414, 4.61558771, 4.61769393,\n",
              "       4.62064637, 4.6238485 , 4.62610185, 4.62810851, 4.62959719,\n",
              "       4.63170194, 4.63336238, 4.63636553, 4.63807783, 4.64122751,\n",
              "       4.64372978, 4.64560048, 4.64796329, 4.64903921, 4.64927174,\n",
              "       4.64936942, 4.64942299, 4.65009898, 4.65216721, 4.65480606,\n",
              "       4.65839587, 4.66126834, 4.66539137, 4.66811222, 4.67078661,\n",
              "       4.6739923 , 4.67729292, 4.67979332, 4.68343707, 4.68633398,\n",
              "       4.68885778, 4.69018557, 4.69223746, 4.69330398, 4.69360722,\n",
              "       4.693809  , 4.69430052, 4.69518181, 4.69708138, 4.69832074,\n",
              "       4.70004377, 4.70104002, 4.70362165, 4.70469918, 4.7048857 ,\n",
              "       4.70631176, 4.70655873, 4.70663946, 4.70667405, 4.70672112,\n",
              "       4.7067699 , 4.70695526, 4.70954847, 4.71184413, 4.7141706 ,\n",
              "       4.71651209, 4.71907536, 4.7209896 , 4.72241974, 4.7228361 ,\n",
              "       4.72374717, 4.72672632, 4.72997611, 4.73322439, 4.73768118,\n",
              "       4.7405359 , 4.74581107, 4.74938946, 4.75196898, 4.75204992,\n",
              "       4.75209179, 4.75214768, 4.75234766, 4.75481781, 4.75829038,\n",
              "       4.76019937, 4.76091547, 4.76150313, 4.76225059, 4.76455953,\n",
              "       5.02394013])"
            ]
          },
          "metadata": {},
          "execution_count": 156
        }
      ]
    }
  ]
}